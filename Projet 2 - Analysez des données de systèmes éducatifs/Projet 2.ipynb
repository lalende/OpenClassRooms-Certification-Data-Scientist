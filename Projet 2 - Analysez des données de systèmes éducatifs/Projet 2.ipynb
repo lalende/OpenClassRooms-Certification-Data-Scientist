{
 "cells": [
  {
   "cell_type": "markdown",
   "id": "3a12d46a-9bc1-4a58-bfbd-3d555f23f909",
   "metadata": {
    "jp-MarkdownHeadingCollapsed": true
   },
   "source": [
    "# Import des librairies"
   ]
  },
  {
   "cell_type": "code",
   "execution_count": 200,
   "id": "0759e8c9-a16c-4914-811c-c6a14cb21e0a",
   "metadata": {},
   "outputs": [],
   "source": [
    "import numpy as np\n",
    "import pandas as pd\n",
    "import missingno as msno"
   ]
  },
  {
   "cell_type": "markdown",
   "id": "675fc1f8-a07c-4b98-a8b0-eb3609ff4814",
   "metadata": {
    "jp-MarkdownHeadingCollapsed": true
   },
   "source": [
    "# Etape 1 : Menez une analyse générale des données\n"
   ]
  },
  {
   "cell_type": "markdown",
   "id": "911ecc98-b70d-4aff-8867-45f63574538d",
   "metadata": {},
   "source": [
    "## Import des datasets"
   ]
  },
  {
   "cell_type": "markdown",
   "id": "1c808d83-82d0-4979-95c7-8ec69cf6fabe",
   "metadata": {},
   "source": [
    "### EdStatsCountry"
   ]
  },
  {
   "cell_type": "code",
   "execution_count": 6,
   "id": "973ce3af-1e04-42fc-a552-69c1e3607666",
   "metadata": {},
   "outputs": [],
   "source": [
    "country_df = pd.read_csv(\"./Datasets/EdStatsCountry.csv\")"
   ]
  },
  {
   "cell_type": "markdown",
   "id": "be705428-272e-4a7b-b61b-9cab84cf81bd",
   "metadata": {},
   "source": [
    "### EdStatsCountry-Series"
   ]
  },
  {
   "cell_type": "code",
   "execution_count": 8,
   "id": "73042e79-85b2-4a7a-bb19-d9ce8892ed07",
   "metadata": {},
   "outputs": [],
   "source": [
    "country_series_df = pd.read_csv(\"./Datasets/EdStatsCountry-Series.csv\")"
   ]
  },
  {
   "cell_type": "markdown",
   "id": "03796924-9682-4544-94c8-ed8023114e56",
   "metadata": {},
   "source": [
    "### EdStatsData"
   ]
  },
  {
   "cell_type": "code",
   "execution_count": 10,
   "id": "c8b80d2d-80b5-4597-b8d5-f904b10e67e2",
   "metadata": {},
   "outputs": [],
   "source": [
    "data_df = pd.read_csv(\"./Datasets/EdStatsData.csv\")"
   ]
  },
  {
   "cell_type": "markdown",
   "id": "178c8813-dc27-4bd4-a375-fc992b6e898c",
   "metadata": {},
   "source": [
    "### EdStatsFootNote"
   ]
  },
  {
   "cell_type": "code",
   "execution_count": 12,
   "id": "f7c3932c-ad7a-4b71-92dc-c3cfe27c358a",
   "metadata": {},
   "outputs": [],
   "source": [
    "footnote_df = pd.read_csv(\"./Datasets/EdStatsFootNote.csv\")"
   ]
  },
  {
   "cell_type": "markdown",
   "id": "6fc7475b-f757-4de1-bf87-ffc0b0e2ffca",
   "metadata": {},
   "source": [
    "### EdStatsSeries"
   ]
  },
  {
   "cell_type": "code",
   "execution_count": 14,
   "id": "2da9a353-244e-462c-bb91-74c56d7c6265",
   "metadata": {},
   "outputs": [],
   "source": [
    "series_df = pd.read_csv(\"./Datasets/EdStatsSeries.csv\")"
   ]
  },
  {
   "cell_type": "markdown",
   "id": "e3dfe8f7-40fe-48e5-aec3-d939f32cef5e",
   "metadata": {
    "jp-MarkdownHeadingCollapsed": true
   },
   "source": [
    "## Analyse du dataset EdStatsCountry"
   ]
  },
  {
   "cell_type": "markdown",
   "id": "2fb732e8-8f64-4103-ace5-31ef0c43715d",
   "metadata": {
    "jp-MarkdownHeadingCollapsed": true
   },
   "source": [
    "### Affichons les premières lignes du dataset"
   ]
  },
  {
   "cell_type": "code",
   "execution_count": 17,
   "id": "4c42a9bb-dc7e-4c71-a4a4-7e82f0e22511",
   "metadata": {},
   "outputs": [
    {
     "data": {
      "text/html": [
       "<div>\n",
       "<style scoped>\n",
       "    .dataframe tbody tr th:only-of-type {\n",
       "        vertical-align: middle;\n",
       "    }\n",
       "\n",
       "    .dataframe tbody tr th {\n",
       "        vertical-align: top;\n",
       "    }\n",
       "\n",
       "    .dataframe thead th {\n",
       "        text-align: right;\n",
       "    }\n",
       "</style>\n",
       "<table border=\"1\" class=\"dataframe\">\n",
       "  <thead>\n",
       "    <tr style=\"text-align: right;\">\n",
       "      <th></th>\n",
       "      <th>Country Code</th>\n",
       "      <th>Short Name</th>\n",
       "      <th>Table Name</th>\n",
       "      <th>Long Name</th>\n",
       "      <th>2-alpha code</th>\n",
       "      <th>Currency Unit</th>\n",
       "      <th>Special Notes</th>\n",
       "      <th>Region</th>\n",
       "      <th>Income Group</th>\n",
       "      <th>WB-2 code</th>\n",
       "      <th>...</th>\n",
       "      <th>IMF data dissemination standard</th>\n",
       "      <th>Latest population census</th>\n",
       "      <th>Latest household survey</th>\n",
       "      <th>Source of most recent Income and expenditure data</th>\n",
       "      <th>Vital registration complete</th>\n",
       "      <th>Latest agricultural census</th>\n",
       "      <th>Latest industrial data</th>\n",
       "      <th>Latest trade data</th>\n",
       "      <th>Latest water withdrawal data</th>\n",
       "      <th>Unnamed: 31</th>\n",
       "    </tr>\n",
       "  </thead>\n",
       "  <tbody>\n",
       "    <tr>\n",
       "      <th>0</th>\n",
       "      <td>ABW</td>\n",
       "      <td>Aruba</td>\n",
       "      <td>Aruba</td>\n",
       "      <td>Aruba</td>\n",
       "      <td>AW</td>\n",
       "      <td>Aruban florin</td>\n",
       "      <td>SNA data for 2000-2011 are updated from offici...</td>\n",
       "      <td>Latin America &amp; Caribbean</td>\n",
       "      <td>High income: nonOECD</td>\n",
       "      <td>AW</td>\n",
       "      <td>...</td>\n",
       "      <td>NaN</td>\n",
       "      <td>2010</td>\n",
       "      <td>NaN</td>\n",
       "      <td>NaN</td>\n",
       "      <td>Yes</td>\n",
       "      <td>NaN</td>\n",
       "      <td>NaN</td>\n",
       "      <td>2012.0</td>\n",
       "      <td>NaN</td>\n",
       "      <td>NaN</td>\n",
       "    </tr>\n",
       "    <tr>\n",
       "      <th>1</th>\n",
       "      <td>AFG</td>\n",
       "      <td>Afghanistan</td>\n",
       "      <td>Afghanistan</td>\n",
       "      <td>Islamic State of Afghanistan</td>\n",
       "      <td>AF</td>\n",
       "      <td>Afghan afghani</td>\n",
       "      <td>Fiscal year end: March 20; reporting period fo...</td>\n",
       "      <td>South Asia</td>\n",
       "      <td>Low income</td>\n",
       "      <td>AF</td>\n",
       "      <td>...</td>\n",
       "      <td>General Data Dissemination System (GDDS)</td>\n",
       "      <td>1979</td>\n",
       "      <td>Multiple Indicator Cluster Survey (MICS), 2010/11</td>\n",
       "      <td>Integrated household survey (IHS), 2008</td>\n",
       "      <td>NaN</td>\n",
       "      <td>2013/14</td>\n",
       "      <td>NaN</td>\n",
       "      <td>2012.0</td>\n",
       "      <td>2000</td>\n",
       "      <td>NaN</td>\n",
       "    </tr>\n",
       "    <tr>\n",
       "      <th>2</th>\n",
       "      <td>AGO</td>\n",
       "      <td>Angola</td>\n",
       "      <td>Angola</td>\n",
       "      <td>People's Republic of Angola</td>\n",
       "      <td>AO</td>\n",
       "      <td>Angolan kwanza</td>\n",
       "      <td>April 2013 database update: Based on IMF data,...</td>\n",
       "      <td>Sub-Saharan Africa</td>\n",
       "      <td>Upper middle income</td>\n",
       "      <td>AO</td>\n",
       "      <td>...</td>\n",
       "      <td>General Data Dissemination System (GDDS)</td>\n",
       "      <td>1970</td>\n",
       "      <td>Malaria Indicator Survey (MIS), 2011</td>\n",
       "      <td>Integrated household survey (IHS), 2008</td>\n",
       "      <td>NaN</td>\n",
       "      <td>2015</td>\n",
       "      <td>NaN</td>\n",
       "      <td>NaN</td>\n",
       "      <td>2005</td>\n",
       "      <td>NaN</td>\n",
       "    </tr>\n",
       "    <tr>\n",
       "      <th>3</th>\n",
       "      <td>ALB</td>\n",
       "      <td>Albania</td>\n",
       "      <td>Albania</td>\n",
       "      <td>Republic of Albania</td>\n",
       "      <td>AL</td>\n",
       "      <td>Albanian lek</td>\n",
       "      <td>NaN</td>\n",
       "      <td>Europe &amp; Central Asia</td>\n",
       "      <td>Upper middle income</td>\n",
       "      <td>AL</td>\n",
       "      <td>...</td>\n",
       "      <td>General Data Dissemination System (GDDS)</td>\n",
       "      <td>2011</td>\n",
       "      <td>Demographic and Health Survey (DHS), 2008/09</td>\n",
       "      <td>Living Standards Measurement Study Survey (LSM...</td>\n",
       "      <td>Yes</td>\n",
       "      <td>2012</td>\n",
       "      <td>2010.0</td>\n",
       "      <td>2012.0</td>\n",
       "      <td>2006</td>\n",
       "      <td>NaN</td>\n",
       "    </tr>\n",
       "    <tr>\n",
       "      <th>4</th>\n",
       "      <td>AND</td>\n",
       "      <td>Andorra</td>\n",
       "      <td>Andorra</td>\n",
       "      <td>Principality of Andorra</td>\n",
       "      <td>AD</td>\n",
       "      <td>Euro</td>\n",
       "      <td>NaN</td>\n",
       "      <td>Europe &amp; Central Asia</td>\n",
       "      <td>High income: nonOECD</td>\n",
       "      <td>AD</td>\n",
       "      <td>...</td>\n",
       "      <td>NaN</td>\n",
       "      <td>2011. Population figures compiled from adminis...</td>\n",
       "      <td>NaN</td>\n",
       "      <td>NaN</td>\n",
       "      <td>Yes</td>\n",
       "      <td>NaN</td>\n",
       "      <td>NaN</td>\n",
       "      <td>2006.0</td>\n",
       "      <td>NaN</td>\n",
       "      <td>NaN</td>\n",
       "    </tr>\n",
       "  </tbody>\n",
       "</table>\n",
       "<p>5 rows × 32 columns</p>\n",
       "</div>"
      ],
      "text/plain": [
       "  Country Code   Short Name   Table Name                     Long Name  \\\n",
       "0          ABW        Aruba        Aruba                         Aruba   \n",
       "1          AFG  Afghanistan  Afghanistan  Islamic State of Afghanistan   \n",
       "2          AGO       Angola       Angola   People's Republic of Angola   \n",
       "3          ALB      Albania      Albania           Republic of Albania   \n",
       "4          AND      Andorra      Andorra       Principality of Andorra   \n",
       "\n",
       "  2-alpha code   Currency Unit  \\\n",
       "0           AW   Aruban florin   \n",
       "1           AF  Afghan afghani   \n",
       "2           AO  Angolan kwanza   \n",
       "3           AL    Albanian lek   \n",
       "4           AD            Euro   \n",
       "\n",
       "                                       Special Notes  \\\n",
       "0  SNA data for 2000-2011 are updated from offici...   \n",
       "1  Fiscal year end: March 20; reporting period fo...   \n",
       "2  April 2013 database update: Based on IMF data,...   \n",
       "3                                                NaN   \n",
       "4                                                NaN   \n",
       "\n",
       "                      Region          Income Group WB-2 code  ...  \\\n",
       "0  Latin America & Caribbean  High income: nonOECD        AW  ...   \n",
       "1                 South Asia            Low income        AF  ...   \n",
       "2         Sub-Saharan Africa   Upper middle income        AO  ...   \n",
       "3      Europe & Central Asia   Upper middle income        AL  ...   \n",
       "4      Europe & Central Asia  High income: nonOECD        AD  ...   \n",
       "\n",
       "            IMF data dissemination standard  \\\n",
       "0                                       NaN   \n",
       "1  General Data Dissemination System (GDDS)   \n",
       "2  General Data Dissemination System (GDDS)   \n",
       "3  General Data Dissemination System (GDDS)   \n",
       "4                                       NaN   \n",
       "\n",
       "                            Latest population census  \\\n",
       "0                                               2010   \n",
       "1                                               1979   \n",
       "2                                               1970   \n",
       "3                                               2011   \n",
       "4  2011. Population figures compiled from adminis...   \n",
       "\n",
       "                             Latest household survey  \\\n",
       "0                                                NaN   \n",
       "1  Multiple Indicator Cluster Survey (MICS), 2010/11   \n",
       "2               Malaria Indicator Survey (MIS), 2011   \n",
       "3       Demographic and Health Survey (DHS), 2008/09   \n",
       "4                                                NaN   \n",
       "\n",
       "   Source of most recent Income and expenditure data  \\\n",
       "0                                                NaN   \n",
       "1            Integrated household survey (IHS), 2008   \n",
       "2            Integrated household survey (IHS), 2008   \n",
       "3  Living Standards Measurement Study Survey (LSM...   \n",
       "4                                                NaN   \n",
       "\n",
       "  Vital registration complete Latest agricultural census  \\\n",
       "0                         Yes                        NaN   \n",
       "1                         NaN                    2013/14   \n",
       "2                         NaN                       2015   \n",
       "3                         Yes                       2012   \n",
       "4                         Yes                        NaN   \n",
       "\n",
       "  Latest industrial data Latest trade data Latest water withdrawal data  \\\n",
       "0                    NaN            2012.0                          NaN   \n",
       "1                    NaN            2012.0                         2000   \n",
       "2                    NaN               NaN                         2005   \n",
       "3                 2010.0            2012.0                         2006   \n",
       "4                    NaN            2006.0                          NaN   \n",
       "\n",
       "  Unnamed: 31  \n",
       "0         NaN  \n",
       "1         NaN  \n",
       "2         NaN  \n",
       "3         NaN  \n",
       "4         NaN  \n",
       "\n",
       "[5 rows x 32 columns]"
      ]
     },
     "execution_count": 17,
     "metadata": {},
     "output_type": "execute_result"
    }
   ],
   "source": [
    "country_df.head()"
   ]
  },
  {
   "cell_type": "markdown",
   "id": "b0b00b35-4c76-4ba4-a78b-7002787d94f9",
   "metadata": {
    "jp-MarkdownHeadingCollapsed": true
   },
   "source": [
    "### Analyse de la forme du dataset, nombre de lignes et de colonnes"
   ]
  },
  {
   "cell_type": "code",
   "execution_count": 19,
   "id": "e4c7a507-1cdf-48be-bf6e-4c169fe9c092",
   "metadata": {},
   "outputs": [
    {
     "name": "stdout",
     "output_type": "stream",
     "text": [
      "Il y a 241 lignes dans ce dataset\n",
      "Il y a 32 colonnes dans ce dataset\n"
     ]
    }
   ],
   "source": [
    "nombre_lignes = country_df.shape[0]\n",
    "print(f\"Il y a {nombre_lignes} lignes dans ce dataset\")\n",
    "nombre_colonnes = country_df.shape[1]\n",
    "print(f\"Il y a {nombre_colonnes} colonnes dans ce dataset\")"
   ]
  },
  {
   "cell_type": "markdown",
   "id": "c66d4bbe-69f7-4a3f-bd5b-837726a59850",
   "metadata": {
    "jp-MarkdownHeadingCollapsed": true
   },
   "source": [
    "### Affiche des informations générales sur le dataset"
   ]
  },
  {
   "cell_type": "code",
   "execution_count": 21,
   "id": "2f4f3c0e-385b-4c24-9bc7-9756921305bc",
   "metadata": {},
   "outputs": [
    {
     "name": "stdout",
     "output_type": "stream",
     "text": [
      "<class 'pandas.core.frame.DataFrame'>\n",
      "RangeIndex: 241 entries, 0 to 240\n",
      "Data columns (total 32 columns):\n",
      " #   Column                                             Non-Null Count  Dtype  \n",
      "---  ------                                             --------------  -----  \n",
      " 0   Country Code                                       241 non-null    object \n",
      " 1   Short Name                                         241 non-null    object \n",
      " 2   Table Name                                         241 non-null    object \n",
      " 3   Long Name                                          241 non-null    object \n",
      " 4   2-alpha code                                       238 non-null    object \n",
      " 5   Currency Unit                                      215 non-null    object \n",
      " 6   Special Notes                                      145 non-null    object \n",
      " 7   Region                                             214 non-null    object \n",
      " 8   Income Group                                       214 non-null    object \n",
      " 9   WB-2 code                                          240 non-null    object \n",
      " 10  National accounts base year                        205 non-null    object \n",
      " 11  National accounts reference year                   32 non-null     float64\n",
      " 12  SNA price valuation                                197 non-null    object \n",
      " 13  Lending category                                   144 non-null    object \n",
      " 14  Other groups                                       58 non-null     object \n",
      " 15  System of National Accounts                        215 non-null    object \n",
      " 16  Alternative conversion factor                      47 non-null     object \n",
      " 17  PPP survey year                                    145 non-null    object \n",
      " 18  Balance of Payments Manual in use                  181 non-null    object \n",
      " 19  External debt Reporting status                     124 non-null    object \n",
      " 20  System of trade                                    200 non-null    object \n",
      " 21  Government Accounting concept                      161 non-null    object \n",
      " 22  IMF data dissemination standard                    181 non-null    object \n",
      " 23  Latest population census                           213 non-null    object \n",
      " 24  Latest household survey                            141 non-null    object \n",
      " 25  Source of most recent Income and expenditure data  160 non-null    object \n",
      " 26  Vital registration complete                        111 non-null    object \n",
      " 27  Latest agricultural census                         142 non-null    object \n",
      " 28  Latest industrial data                             107 non-null    float64\n",
      " 29  Latest trade data                                  185 non-null    float64\n",
      " 30  Latest water withdrawal data                       179 non-null    object \n",
      " 31  Unnamed: 31                                        0 non-null      float64\n",
      "dtypes: float64(4), object(28)\n",
      "memory usage: 60.4+ KB\n"
     ]
    }
   ],
   "source": [
    "country_df.info()"
   ]
  },
  {
   "cell_type": "markdown",
   "id": "4a30466f-256a-4514-a112-4c6eddcbb68b",
   "metadata": {
    "jp-MarkdownHeadingCollapsed": true
   },
   "source": [
    "### Analyse du type des données présentes dans le dataset"
   ]
  },
  {
   "cell_type": "code",
   "execution_count": 23,
   "id": "a02e7e5f-b3b2-4e32-a17d-6b0bfb2f1b06",
   "metadata": {},
   "outputs": [
    {
     "data": {
      "text/plain": [
       "Country Code                                          object\n",
       "Short Name                                            object\n",
       "Table Name                                            object\n",
       "Long Name                                             object\n",
       "2-alpha code                                          object\n",
       "Currency Unit                                         object\n",
       "Special Notes                                         object\n",
       "Region                                                object\n",
       "Income Group                                          object\n",
       "WB-2 code                                             object\n",
       "National accounts base year                           object\n",
       "National accounts reference year                     float64\n",
       "SNA price valuation                                   object\n",
       "Lending category                                      object\n",
       "Other groups                                          object\n",
       "System of National Accounts                           object\n",
       "Alternative conversion factor                         object\n",
       "PPP survey year                                       object\n",
       "Balance of Payments Manual in use                     object\n",
       "External debt Reporting status                        object\n",
       "System of trade                                       object\n",
       "Government Accounting concept                         object\n",
       "IMF data dissemination standard                       object\n",
       "Latest population census                              object\n",
       "Latest household survey                               object\n",
       "Source of most recent Income and expenditure data     object\n",
       "Vital registration complete                           object\n",
       "Latest agricultural census                            object\n",
       "Latest industrial data                               float64\n",
       "Latest trade data                                    float64\n",
       "Latest water withdrawal data                          object\n",
       "Unnamed: 31                                          float64\n",
       "dtype: object"
      ]
     },
     "execution_count": 23,
     "metadata": {},
     "output_type": "execute_result"
    }
   ],
   "source": [
    "country_df.dtypes"
   ]
  },
  {
   "cell_type": "markdown",
   "id": "1ca37112-de47-4ed9-af73-7942220b2125",
   "metadata": {
    "jp-MarkdownHeadingCollapsed": true
   },
   "source": [
    "### Vérifions si des valeurs sont manquantes dans le dataset"
   ]
  },
  {
   "cell_type": "code",
   "execution_count": 25,
   "id": "f09ee1b5-dbb7-47b5-bda6-d546de30482b",
   "metadata": {},
   "outputs": [
    {
     "data": {
      "text/plain": [
       "Country Code                                           0\n",
       "Short Name                                             0\n",
       "Table Name                                             0\n",
       "Long Name                                              0\n",
       "2-alpha code                                           3\n",
       "Currency Unit                                         26\n",
       "Special Notes                                         96\n",
       "Region                                                27\n",
       "Income Group                                          27\n",
       "WB-2 code                                              1\n",
       "National accounts base year                           36\n",
       "National accounts reference year                     209\n",
       "SNA price valuation                                   44\n",
       "Lending category                                      97\n",
       "Other groups                                         183\n",
       "System of National Accounts                           26\n",
       "Alternative conversion factor                        194\n",
       "PPP survey year                                       96\n",
       "Balance of Payments Manual in use                     60\n",
       "External debt Reporting status                       117\n",
       "System of trade                                       41\n",
       "Government Accounting concept                         80\n",
       "IMF data dissemination standard                       60\n",
       "Latest population census                              28\n",
       "Latest household survey                              100\n",
       "Source of most recent Income and expenditure data     81\n",
       "Vital registration complete                          130\n",
       "Latest agricultural census                            99\n",
       "Latest industrial data                               134\n",
       "Latest trade data                                     56\n",
       "Latest water withdrawal data                          62\n",
       "Unnamed: 31                                          241\n",
       "dtype: int64"
      ]
     },
     "execution_count": 25,
     "metadata": {},
     "output_type": "execute_result"
    }
   ],
   "source": [
    "country_df.isnull().sum()"
   ]
  },
  {
   "cell_type": "markdown",
   "id": "9a71126f-c9ef-4d78-9a53-fcb31c44d0b5",
   "metadata": {
    "jp-MarkdownHeadingCollapsed": true
   },
   "source": [
    "### Vérifions si des valeurs sont dupliquées dans le dataset"
   ]
  },
  {
   "cell_type": "code",
   "execution_count": 27,
   "id": "3bf5c6dc-4f2c-4a0e-93cd-7180e03fa481",
   "metadata": {},
   "outputs": [
    {
     "name": "stdout",
     "output_type": "stream",
     "text": [
      "Il y a 0 valeurs dupliquées dans ce dataset\n"
     ]
    }
   ],
   "source": [
    "country_df_duplicate = country_df[country_df.duplicated()]\n",
    "print(f\"Il y a {country_df_duplicate.shape[0]} valeurs dupliquées dans ce dataset\")"
   ]
  },
  {
   "cell_type": "markdown",
   "id": "1997fdbd-3268-4747-a9a6-a1d9efd3513b",
   "metadata": {
    "jp-MarkdownHeadingCollapsed": true
   },
   "source": [
    "## Analyse du dataset EdStatsCountry-Series"
   ]
  },
  {
   "cell_type": "markdown",
   "id": "3f5dcc63-43a5-4073-96aa-47162dfd4dbb",
   "metadata": {
    "jp-MarkdownHeadingCollapsed": true
   },
   "source": [
    "### Affichons les premières lignes du dataset"
   ]
  },
  {
   "cell_type": "code",
   "execution_count": 30,
   "id": "d6d6de06-6648-42a5-8e61-00b0a3d3c044",
   "metadata": {},
   "outputs": [
    {
     "data": {
      "text/html": [
       "<div>\n",
       "<style scoped>\n",
       "    .dataframe tbody tr th:only-of-type {\n",
       "        vertical-align: middle;\n",
       "    }\n",
       "\n",
       "    .dataframe tbody tr th {\n",
       "        vertical-align: top;\n",
       "    }\n",
       "\n",
       "    .dataframe thead th {\n",
       "        text-align: right;\n",
       "    }\n",
       "</style>\n",
       "<table border=\"1\" class=\"dataframe\">\n",
       "  <thead>\n",
       "    <tr style=\"text-align: right;\">\n",
       "      <th></th>\n",
       "      <th>CountryCode</th>\n",
       "      <th>SeriesCode</th>\n",
       "      <th>DESCRIPTION</th>\n",
       "      <th>Unnamed: 3</th>\n",
       "    </tr>\n",
       "  </thead>\n",
       "  <tbody>\n",
       "    <tr>\n",
       "      <th>0</th>\n",
       "      <td>ABW</td>\n",
       "      <td>SP.POP.TOTL</td>\n",
       "      <td>Data sources : United Nations World Population...</td>\n",
       "      <td>NaN</td>\n",
       "    </tr>\n",
       "    <tr>\n",
       "      <th>1</th>\n",
       "      <td>ABW</td>\n",
       "      <td>SP.POP.GROW</td>\n",
       "      <td>Data sources: United Nations World Population ...</td>\n",
       "      <td>NaN</td>\n",
       "    </tr>\n",
       "    <tr>\n",
       "      <th>2</th>\n",
       "      <td>AFG</td>\n",
       "      <td>SP.POP.GROW</td>\n",
       "      <td>Data sources: United Nations World Population ...</td>\n",
       "      <td>NaN</td>\n",
       "    </tr>\n",
       "    <tr>\n",
       "      <th>3</th>\n",
       "      <td>AFG</td>\n",
       "      <td>NY.GDP.PCAP.PP.CD</td>\n",
       "      <td>Estimates are based on regression.</td>\n",
       "      <td>NaN</td>\n",
       "    </tr>\n",
       "    <tr>\n",
       "      <th>4</th>\n",
       "      <td>AFG</td>\n",
       "      <td>SP.POP.TOTL</td>\n",
       "      <td>Data sources : United Nations World Population...</td>\n",
       "      <td>NaN</td>\n",
       "    </tr>\n",
       "  </tbody>\n",
       "</table>\n",
       "</div>"
      ],
      "text/plain": [
       "  CountryCode         SeriesCode  \\\n",
       "0         ABW        SP.POP.TOTL   \n",
       "1         ABW        SP.POP.GROW   \n",
       "2         AFG        SP.POP.GROW   \n",
       "3         AFG  NY.GDP.PCAP.PP.CD   \n",
       "4         AFG        SP.POP.TOTL   \n",
       "\n",
       "                                         DESCRIPTION  Unnamed: 3  \n",
       "0  Data sources : United Nations World Population...         NaN  \n",
       "1  Data sources: United Nations World Population ...         NaN  \n",
       "2  Data sources: United Nations World Population ...         NaN  \n",
       "3                 Estimates are based on regression.         NaN  \n",
       "4  Data sources : United Nations World Population...         NaN  "
      ]
     },
     "execution_count": 30,
     "metadata": {},
     "output_type": "execute_result"
    }
   ],
   "source": [
    "country_series_df.head()"
   ]
  },
  {
   "cell_type": "markdown",
   "id": "fcdf2764-f14b-49fc-ba9b-78b28aca775e",
   "metadata": {
    "jp-MarkdownHeadingCollapsed": true
   },
   "source": [
    "### Analyse de la forme du dataset, nombre de lignes et de colonnes"
   ]
  },
  {
   "cell_type": "code",
   "execution_count": 32,
   "id": "ba15b027-40e8-4b51-860d-8d366f13be8f",
   "metadata": {},
   "outputs": [
    {
     "name": "stdout",
     "output_type": "stream",
     "text": [
      "Il y a 613 lignes dans ce dataset\n",
      "Il y a 4 colonnes dans ce dataset\n"
     ]
    }
   ],
   "source": [
    "nombre_lignes = country_series_df.shape[0]\n",
    "print(f\"Il y a {nombre_lignes} lignes dans ce dataset\")\n",
    "nombre_colonnes = country_series_df.shape[1]\n",
    "print(f\"Il y a {nombre_colonnes} colonnes dans ce dataset\")"
   ]
  },
  {
   "cell_type": "markdown",
   "id": "bd384f1c-9070-4d6b-aecb-815bbfd365de",
   "metadata": {
    "jp-MarkdownHeadingCollapsed": true
   },
   "source": [
    "### Affiche des informations générales sur le dataset"
   ]
  },
  {
   "cell_type": "code",
   "execution_count": 34,
   "id": "4f0d92da-5bb7-4a84-b593-dfacc594063d",
   "metadata": {},
   "outputs": [
    {
     "name": "stdout",
     "output_type": "stream",
     "text": [
      "<class 'pandas.core.frame.DataFrame'>\n",
      "RangeIndex: 613 entries, 0 to 612\n",
      "Data columns (total 4 columns):\n",
      " #   Column       Non-Null Count  Dtype  \n",
      "---  ------       --------------  -----  \n",
      " 0   CountryCode  613 non-null    object \n",
      " 1   SeriesCode   613 non-null    object \n",
      " 2   DESCRIPTION  613 non-null    object \n",
      " 3   Unnamed: 3   0 non-null      float64\n",
      "dtypes: float64(1), object(3)\n",
      "memory usage: 19.3+ KB\n"
     ]
    }
   ],
   "source": [
    "country_series_df.info()"
   ]
  },
  {
   "cell_type": "markdown",
   "id": "01cbbfc8-2bfc-4793-ae65-d18d99c7359b",
   "metadata": {
    "jp-MarkdownHeadingCollapsed": true
   },
   "source": [
    "### Analyse du type des données présentes dans le dataset"
   ]
  },
  {
   "cell_type": "code",
   "execution_count": 36,
   "id": "bc0030ac-2a19-45ae-9e05-fc2852c21fd1",
   "metadata": {},
   "outputs": [
    {
     "data": {
      "text/plain": [
       "CountryCode     object\n",
       "SeriesCode      object\n",
       "DESCRIPTION     object\n",
       "Unnamed: 3     float64\n",
       "dtype: object"
      ]
     },
     "execution_count": 36,
     "metadata": {},
     "output_type": "execute_result"
    }
   ],
   "source": [
    "country_series_df.dtypes"
   ]
  },
  {
   "cell_type": "markdown",
   "id": "0b3017a0-59e0-4fb2-a801-7d53b18dd266",
   "metadata": {
    "jp-MarkdownHeadingCollapsed": true
   },
   "source": [
    "### Vérifions si des valeurs sont manquantes dans le dataset"
   ]
  },
  {
   "cell_type": "code",
   "execution_count": 38,
   "id": "00fa4fb7-fd4c-4076-982b-f9abb393dd8c",
   "metadata": {},
   "outputs": [
    {
     "data": {
      "text/plain": [
       "CountryCode      0\n",
       "SeriesCode       0\n",
       "DESCRIPTION      0\n",
       "Unnamed: 3     613\n",
       "dtype: int64"
      ]
     },
     "execution_count": 38,
     "metadata": {},
     "output_type": "execute_result"
    }
   ],
   "source": [
    "country_series_df.isnull().sum()"
   ]
  },
  {
   "cell_type": "markdown",
   "id": "18aec464-f27b-415b-8bcd-49951a5b1554",
   "metadata": {
    "jp-MarkdownHeadingCollapsed": true
   },
   "source": [
    "### Vérifions si des valeurs sont dupliquées dans le dataset"
   ]
  },
  {
   "cell_type": "code",
   "execution_count": 40,
   "id": "db6dda27-bd19-443b-a9c2-d79bac0a2b4d",
   "metadata": {},
   "outputs": [
    {
     "name": "stdout",
     "output_type": "stream",
     "text": [
      "Il y a 0 valeurs dupliquées dans ce dataset\n"
     ]
    }
   ],
   "source": [
    "country_series_df_duplicate = country_series_df[country_series_df.duplicated()]\n",
    "print(f\"Il y a {country_series_df_duplicate.shape[0]} valeurs dupliquées dans ce dataset\")"
   ]
  },
  {
   "cell_type": "markdown",
   "id": "33b25ee3-9e94-456e-afcd-29bce091de8a",
   "metadata": {
    "jp-MarkdownHeadingCollapsed": true
   },
   "source": [
    "## Analyse du dataset EdStatsData"
   ]
  },
  {
   "cell_type": "markdown",
   "id": "ca2cbd1a-bf93-4194-90b2-1159b5bdbb06",
   "metadata": {
    "jp-MarkdownHeadingCollapsed": true
   },
   "source": [
    "### Affichons les premières lignes du dataset"
   ]
  },
  {
   "cell_type": "code",
   "execution_count": 43,
   "id": "42a265bb-284c-4e98-84a0-2b377f4eb0cf",
   "metadata": {},
   "outputs": [
    {
     "data": {
      "text/html": [
       "<div>\n",
       "<style scoped>\n",
       "    .dataframe tbody tr th:only-of-type {\n",
       "        vertical-align: middle;\n",
       "    }\n",
       "\n",
       "    .dataframe tbody tr th {\n",
       "        vertical-align: top;\n",
       "    }\n",
       "\n",
       "    .dataframe thead th {\n",
       "        text-align: right;\n",
       "    }\n",
       "</style>\n",
       "<table border=\"1\" class=\"dataframe\">\n",
       "  <thead>\n",
       "    <tr style=\"text-align: right;\">\n",
       "      <th></th>\n",
       "      <th>Country Name</th>\n",
       "      <th>Country Code</th>\n",
       "      <th>Indicator Name</th>\n",
       "      <th>Indicator Code</th>\n",
       "      <th>1970</th>\n",
       "      <th>1971</th>\n",
       "      <th>1972</th>\n",
       "      <th>1973</th>\n",
       "      <th>1974</th>\n",
       "      <th>1975</th>\n",
       "      <th>...</th>\n",
       "      <th>2060</th>\n",
       "      <th>2065</th>\n",
       "      <th>2070</th>\n",
       "      <th>2075</th>\n",
       "      <th>2080</th>\n",
       "      <th>2085</th>\n",
       "      <th>2090</th>\n",
       "      <th>2095</th>\n",
       "      <th>2100</th>\n",
       "      <th>Unnamed: 69</th>\n",
       "    </tr>\n",
       "  </thead>\n",
       "  <tbody>\n",
       "    <tr>\n",
       "      <th>0</th>\n",
       "      <td>Arab World</td>\n",
       "      <td>ARB</td>\n",
       "      <td>Adjusted net enrolment rate, lower secondary, ...</td>\n",
       "      <td>UIS.NERA.2</td>\n",
       "      <td>NaN</td>\n",
       "      <td>NaN</td>\n",
       "      <td>NaN</td>\n",
       "      <td>NaN</td>\n",
       "      <td>NaN</td>\n",
       "      <td>NaN</td>\n",
       "      <td>...</td>\n",
       "      <td>NaN</td>\n",
       "      <td>NaN</td>\n",
       "      <td>NaN</td>\n",
       "      <td>NaN</td>\n",
       "      <td>NaN</td>\n",
       "      <td>NaN</td>\n",
       "      <td>NaN</td>\n",
       "      <td>NaN</td>\n",
       "      <td>NaN</td>\n",
       "      <td>NaN</td>\n",
       "    </tr>\n",
       "    <tr>\n",
       "      <th>1</th>\n",
       "      <td>Arab World</td>\n",
       "      <td>ARB</td>\n",
       "      <td>Adjusted net enrolment rate, lower secondary, ...</td>\n",
       "      <td>UIS.NERA.2.F</td>\n",
       "      <td>NaN</td>\n",
       "      <td>NaN</td>\n",
       "      <td>NaN</td>\n",
       "      <td>NaN</td>\n",
       "      <td>NaN</td>\n",
       "      <td>NaN</td>\n",
       "      <td>...</td>\n",
       "      <td>NaN</td>\n",
       "      <td>NaN</td>\n",
       "      <td>NaN</td>\n",
       "      <td>NaN</td>\n",
       "      <td>NaN</td>\n",
       "      <td>NaN</td>\n",
       "      <td>NaN</td>\n",
       "      <td>NaN</td>\n",
       "      <td>NaN</td>\n",
       "      <td>NaN</td>\n",
       "    </tr>\n",
       "    <tr>\n",
       "      <th>2</th>\n",
       "      <td>Arab World</td>\n",
       "      <td>ARB</td>\n",
       "      <td>Adjusted net enrolment rate, lower secondary, ...</td>\n",
       "      <td>UIS.NERA.2.GPI</td>\n",
       "      <td>NaN</td>\n",
       "      <td>NaN</td>\n",
       "      <td>NaN</td>\n",
       "      <td>NaN</td>\n",
       "      <td>NaN</td>\n",
       "      <td>NaN</td>\n",
       "      <td>...</td>\n",
       "      <td>NaN</td>\n",
       "      <td>NaN</td>\n",
       "      <td>NaN</td>\n",
       "      <td>NaN</td>\n",
       "      <td>NaN</td>\n",
       "      <td>NaN</td>\n",
       "      <td>NaN</td>\n",
       "      <td>NaN</td>\n",
       "      <td>NaN</td>\n",
       "      <td>NaN</td>\n",
       "    </tr>\n",
       "    <tr>\n",
       "      <th>3</th>\n",
       "      <td>Arab World</td>\n",
       "      <td>ARB</td>\n",
       "      <td>Adjusted net enrolment rate, lower secondary, ...</td>\n",
       "      <td>UIS.NERA.2.M</td>\n",
       "      <td>NaN</td>\n",
       "      <td>NaN</td>\n",
       "      <td>NaN</td>\n",
       "      <td>NaN</td>\n",
       "      <td>NaN</td>\n",
       "      <td>NaN</td>\n",
       "      <td>...</td>\n",
       "      <td>NaN</td>\n",
       "      <td>NaN</td>\n",
       "      <td>NaN</td>\n",
       "      <td>NaN</td>\n",
       "      <td>NaN</td>\n",
       "      <td>NaN</td>\n",
       "      <td>NaN</td>\n",
       "      <td>NaN</td>\n",
       "      <td>NaN</td>\n",
       "      <td>NaN</td>\n",
       "    </tr>\n",
       "    <tr>\n",
       "      <th>4</th>\n",
       "      <td>Arab World</td>\n",
       "      <td>ARB</td>\n",
       "      <td>Adjusted net enrolment rate, primary, both sex...</td>\n",
       "      <td>SE.PRM.TENR</td>\n",
       "      <td>54.822121</td>\n",
       "      <td>54.894138</td>\n",
       "      <td>56.209438</td>\n",
       "      <td>57.267109</td>\n",
       "      <td>57.991138</td>\n",
       "      <td>59.36554</td>\n",
       "      <td>...</td>\n",
       "      <td>NaN</td>\n",
       "      <td>NaN</td>\n",
       "      <td>NaN</td>\n",
       "      <td>NaN</td>\n",
       "      <td>NaN</td>\n",
       "      <td>NaN</td>\n",
       "      <td>NaN</td>\n",
       "      <td>NaN</td>\n",
       "      <td>NaN</td>\n",
       "      <td>NaN</td>\n",
       "    </tr>\n",
       "  </tbody>\n",
       "</table>\n",
       "<p>5 rows × 70 columns</p>\n",
       "</div>"
      ],
      "text/plain": [
       "  Country Name Country Code  \\\n",
       "0   Arab World          ARB   \n",
       "1   Arab World          ARB   \n",
       "2   Arab World          ARB   \n",
       "3   Arab World          ARB   \n",
       "4   Arab World          ARB   \n",
       "\n",
       "                                      Indicator Name  Indicator Code  \\\n",
       "0  Adjusted net enrolment rate, lower secondary, ...      UIS.NERA.2   \n",
       "1  Adjusted net enrolment rate, lower secondary, ...    UIS.NERA.2.F   \n",
       "2  Adjusted net enrolment rate, lower secondary, ...  UIS.NERA.2.GPI   \n",
       "3  Adjusted net enrolment rate, lower secondary, ...    UIS.NERA.2.M   \n",
       "4  Adjusted net enrolment rate, primary, both sex...     SE.PRM.TENR   \n",
       "\n",
       "        1970       1971       1972       1973       1974      1975  ...  2060  \\\n",
       "0        NaN        NaN        NaN        NaN        NaN       NaN  ...   NaN   \n",
       "1        NaN        NaN        NaN        NaN        NaN       NaN  ...   NaN   \n",
       "2        NaN        NaN        NaN        NaN        NaN       NaN  ...   NaN   \n",
       "3        NaN        NaN        NaN        NaN        NaN       NaN  ...   NaN   \n",
       "4  54.822121  54.894138  56.209438  57.267109  57.991138  59.36554  ...   NaN   \n",
       "\n",
       "   2065  2070  2075  2080  2085  2090  2095  2100  Unnamed: 69  \n",
       "0   NaN   NaN   NaN   NaN   NaN   NaN   NaN   NaN          NaN  \n",
       "1   NaN   NaN   NaN   NaN   NaN   NaN   NaN   NaN          NaN  \n",
       "2   NaN   NaN   NaN   NaN   NaN   NaN   NaN   NaN          NaN  \n",
       "3   NaN   NaN   NaN   NaN   NaN   NaN   NaN   NaN          NaN  \n",
       "4   NaN   NaN   NaN   NaN   NaN   NaN   NaN   NaN          NaN  \n",
       "\n",
       "[5 rows x 70 columns]"
      ]
     },
     "execution_count": 43,
     "metadata": {},
     "output_type": "execute_result"
    }
   ],
   "source": [
    "data_df.head()"
   ]
  },
  {
   "cell_type": "markdown",
   "id": "43e0365b-bbba-42f8-9dba-c6da11114899",
   "metadata": {
    "jp-MarkdownHeadingCollapsed": true
   },
   "source": [
    "### Analyse de la forme du dataset, nombre de lignes et de colonnes"
   ]
  },
  {
   "cell_type": "code",
   "execution_count": 45,
   "id": "18d5faee-5515-44ae-ab76-5f2fb83d04e7",
   "metadata": {},
   "outputs": [
    {
     "name": "stdout",
     "output_type": "stream",
     "text": [
      "Il y a 886930 lignes dans ce dataset\n",
      "Il y a 70 colonnes dans ce dataset\n"
     ]
    }
   ],
   "source": [
    "nombre_lignes = data_df.shape[0]\n",
    "print(f\"Il y a {nombre_lignes} lignes dans ce dataset\")\n",
    "nombre_colonnes = data_df.shape[1]\n",
    "print(f\"Il y a {nombre_colonnes} colonnes dans ce dataset\")"
   ]
  },
  {
   "cell_type": "markdown",
   "id": "6b082331-40da-47fc-9862-1ba3fb404f26",
   "metadata": {
    "jp-MarkdownHeadingCollapsed": true
   },
   "source": [
    "### Affiche des informations générales sur le dataset"
   ]
  },
  {
   "cell_type": "code",
   "execution_count": 47,
   "id": "35b3f3c9-42ba-42da-b674-4cf2fa2e211c",
   "metadata": {
    "scrolled": true
   },
   "outputs": [
    {
     "name": "stdout",
     "output_type": "stream",
     "text": [
      "<class 'pandas.core.frame.DataFrame'>\n",
      "RangeIndex: 886930 entries, 0 to 886929\n",
      "Data columns (total 70 columns):\n",
      " #   Column          Non-Null Count   Dtype  \n",
      "---  ------          --------------   -----  \n",
      " 0   Country Name    886930 non-null  object \n",
      " 1   Country Code    886930 non-null  object \n",
      " 2   Indicator Name  886930 non-null  object \n",
      " 3   Indicator Code  886930 non-null  object \n",
      " 4   1970            72288 non-null   float64\n",
      " 5   1971            35537 non-null   float64\n",
      " 6   1972            35619 non-null   float64\n",
      " 7   1973            35545 non-null   float64\n",
      " 8   1974            35730 non-null   float64\n",
      " 9   1975            87306 non-null   float64\n",
      " 10  1976            37483 non-null   float64\n",
      " 11  1977            37574 non-null   float64\n",
      " 12  1978            37576 non-null   float64\n",
      " 13  1979            36809 non-null   float64\n",
      " 14  1980            89122 non-null   float64\n",
      " 15  1981            38777 non-null   float64\n",
      " 16  1982            37511 non-null   float64\n",
      " 17  1983            38460 non-null   float64\n",
      " 18  1984            38606 non-null   float64\n",
      " 19  1985            90296 non-null   float64\n",
      " 20  1986            39372 non-null   float64\n",
      " 21  1987            38641 non-null   float64\n",
      " 22  1988            38552 non-null   float64\n",
      " 23  1989            37540 non-null   float64\n",
      " 24  1990            124405 non-null  float64\n",
      " 25  1991            74437 non-null   float64\n",
      " 26  1992            75543 non-null   float64\n",
      " 27  1993            75793 non-null   float64\n",
      " 28  1994            77462 non-null   float64\n",
      " 29  1995            131361 non-null  float64\n",
      " 30  1996            76807 non-null   float64\n",
      " 31  1997            73453 non-null   float64\n",
      " 32  1998            84914 non-null   float64\n",
      " 33  1999            118839 non-null  float64\n",
      " 34  2000            176676 non-null  float64\n",
      " 35  2001            123509 non-null  float64\n",
      " 36  2002            124205 non-null  float64\n",
      " 37  2003            130363 non-null  float64\n",
      " 38  2004            128814 non-null  float64\n",
      " 39  2005            184108 non-null  float64\n",
      " 40  2006            140312 non-null  float64\n",
      " 41  2007            137272 non-null  float64\n",
      " 42  2008            134387 non-null  float64\n",
      " 43  2009            142108 non-null  float64\n",
      " 44  2010            242442 non-null  float64\n",
      " 45  2011            146012 non-null  float64\n",
      " 46  2012            147264 non-null  float64\n",
      " 47  2013            137509 non-null  float64\n",
      " 48  2014            113789 non-null  float64\n",
      " 49  2015            131058 non-null  float64\n",
      " 50  2016            16460 non-null   float64\n",
      " 51  2017            143 non-null     float64\n",
      " 52  2020            51436 non-null   float64\n",
      " 53  2025            51436 non-null   float64\n",
      " 54  2030            51436 non-null   float64\n",
      " 55  2035            51436 non-null   float64\n",
      " 56  2040            51436 non-null   float64\n",
      " 57  2045            51436 non-null   float64\n",
      " 58  2050            51436 non-null   float64\n",
      " 59  2055            51436 non-null   float64\n",
      " 60  2060            51436 non-null   float64\n",
      " 61  2065            51436 non-null   float64\n",
      " 62  2070            51436 non-null   float64\n",
      " 63  2075            51436 non-null   float64\n",
      " 64  2080            51436 non-null   float64\n",
      " 65  2085            51436 non-null   float64\n",
      " 66  2090            51436 non-null   float64\n",
      " 67  2095            51436 non-null   float64\n",
      " 68  2100            51436 non-null   float64\n",
      " 69  Unnamed: 69     0 non-null       float64\n",
      "dtypes: float64(66), object(4)\n",
      "memory usage: 473.7+ MB\n"
     ]
    }
   ],
   "source": [
    "data_df.info()"
   ]
  },
  {
   "cell_type": "markdown",
   "id": "154f5cef-6a9c-425b-8bc5-98a8b281162f",
   "metadata": {
    "jp-MarkdownHeadingCollapsed": true
   },
   "source": [
    "### Analyse du type des données présentes dans le dataset"
   ]
  },
  {
   "cell_type": "code",
   "execution_count": 49,
   "id": "371e6cd8-718f-48da-a157-f28d0295fc22",
   "metadata": {},
   "outputs": [
    {
     "data": {
      "text/plain": [
       "Country Name       object\n",
       "Country Code       object\n",
       "Indicator Name     object\n",
       "Indicator Code     object\n",
       "1970              float64\n",
       "                   ...   \n",
       "2085              float64\n",
       "2090              float64\n",
       "2095              float64\n",
       "2100              float64\n",
       "Unnamed: 69       float64\n",
       "Length: 70, dtype: object"
      ]
     },
     "execution_count": 49,
     "metadata": {},
     "output_type": "execute_result"
    }
   ],
   "source": [
    "data_df.dtypes"
   ]
  },
  {
   "cell_type": "markdown",
   "id": "49206107-89cf-4ccf-ba85-663e9dd783e3",
   "metadata": {
    "jp-MarkdownHeadingCollapsed": true
   },
   "source": [
    "### Vérifions si des valeurs sont manquantes dans le dataset"
   ]
  },
  {
   "cell_type": "code",
   "execution_count": 51,
   "id": "db57233f-3ea1-4c9d-8eca-ebbada3cf263",
   "metadata": {},
   "outputs": [
    {
     "data": {
      "text/plain": [
       "Country Name           0\n",
       "Country Code           0\n",
       "Indicator Name         0\n",
       "Indicator Code         0\n",
       "1970              814642\n",
       "                   ...  \n",
       "2085              835494\n",
       "2090              835494\n",
       "2095              835494\n",
       "2100              835494\n",
       "Unnamed: 69       886930\n",
       "Length: 70, dtype: int64"
      ]
     },
     "execution_count": 51,
     "metadata": {},
     "output_type": "execute_result"
    }
   ],
   "source": [
    "data_df.isnull().sum()"
   ]
  },
  {
   "cell_type": "markdown",
   "id": "4c99c3ea-2e3f-43ca-90f9-95d2a45f6f28",
   "metadata": {
    "jp-MarkdownHeadingCollapsed": true
   },
   "source": [
    "### Vérifions si des valeurs sont dupliquées dans le dataset"
   ]
  },
  {
   "cell_type": "code",
   "execution_count": 53,
   "id": "825c8121-b50d-4426-84c0-56a113caf27c",
   "metadata": {},
   "outputs": [
    {
     "name": "stdout",
     "output_type": "stream",
     "text": [
      "Il y a 0 valeurs dupliquées dans ce dataset\n"
     ]
    }
   ],
   "source": [
    "data_df_duplicate = data_df[data_df.duplicated()]\n",
    "print(f\"Il y a {data_df_duplicate.shape[0]} valeurs dupliquées dans ce dataset\")"
   ]
  },
  {
   "cell_type": "markdown",
   "id": "c5f1eabb-94f4-4852-934b-6404ca23a3a4",
   "metadata": {
    "jp-MarkdownHeadingCollapsed": true
   },
   "source": [
    "## Analyse du dataset EdStatsFootNote"
   ]
  },
  {
   "cell_type": "markdown",
   "id": "68d3386c-0cb1-4de1-980f-0d13eb03f188",
   "metadata": {
    "jp-MarkdownHeadingCollapsed": true
   },
   "source": [
    "### Affichons les premières lignes du dataset"
   ]
  },
  {
   "cell_type": "code",
   "execution_count": 56,
   "id": "255a443c-5f27-4eb9-b8b8-840fe893a317",
   "metadata": {},
   "outputs": [
    {
     "data": {
      "text/html": [
       "<div>\n",
       "<style scoped>\n",
       "    .dataframe tbody tr th:only-of-type {\n",
       "        vertical-align: middle;\n",
       "    }\n",
       "\n",
       "    .dataframe tbody tr th {\n",
       "        vertical-align: top;\n",
       "    }\n",
       "\n",
       "    .dataframe thead th {\n",
       "        text-align: right;\n",
       "    }\n",
       "</style>\n",
       "<table border=\"1\" class=\"dataframe\">\n",
       "  <thead>\n",
       "    <tr style=\"text-align: right;\">\n",
       "      <th></th>\n",
       "      <th>CountryCode</th>\n",
       "      <th>SeriesCode</th>\n",
       "      <th>Year</th>\n",
       "      <th>DESCRIPTION</th>\n",
       "      <th>Unnamed: 4</th>\n",
       "    </tr>\n",
       "  </thead>\n",
       "  <tbody>\n",
       "    <tr>\n",
       "      <th>0</th>\n",
       "      <td>ABW</td>\n",
       "      <td>SE.PRE.ENRL.FE</td>\n",
       "      <td>YR2001</td>\n",
       "      <td>Country estimation.</td>\n",
       "      <td>NaN</td>\n",
       "    </tr>\n",
       "    <tr>\n",
       "      <th>1</th>\n",
       "      <td>ABW</td>\n",
       "      <td>SE.TER.TCHR.FE</td>\n",
       "      <td>YR2005</td>\n",
       "      <td>Country estimation.</td>\n",
       "      <td>NaN</td>\n",
       "    </tr>\n",
       "    <tr>\n",
       "      <th>2</th>\n",
       "      <td>ABW</td>\n",
       "      <td>SE.PRE.TCHR.FE</td>\n",
       "      <td>YR2000</td>\n",
       "      <td>Country estimation.</td>\n",
       "      <td>NaN</td>\n",
       "    </tr>\n",
       "    <tr>\n",
       "      <th>3</th>\n",
       "      <td>ABW</td>\n",
       "      <td>SE.SEC.ENRL.GC</td>\n",
       "      <td>YR2004</td>\n",
       "      <td>Country estimation.</td>\n",
       "      <td>NaN</td>\n",
       "    </tr>\n",
       "    <tr>\n",
       "      <th>4</th>\n",
       "      <td>ABW</td>\n",
       "      <td>SE.PRE.TCHR</td>\n",
       "      <td>YR2006</td>\n",
       "      <td>Country estimation.</td>\n",
       "      <td>NaN</td>\n",
       "    </tr>\n",
       "  </tbody>\n",
       "</table>\n",
       "</div>"
      ],
      "text/plain": [
       "  CountryCode      SeriesCode    Year          DESCRIPTION  Unnamed: 4\n",
       "0         ABW  SE.PRE.ENRL.FE  YR2001  Country estimation.         NaN\n",
       "1         ABW  SE.TER.TCHR.FE  YR2005  Country estimation.         NaN\n",
       "2         ABW  SE.PRE.TCHR.FE  YR2000  Country estimation.         NaN\n",
       "3         ABW  SE.SEC.ENRL.GC  YR2004  Country estimation.         NaN\n",
       "4         ABW     SE.PRE.TCHR  YR2006  Country estimation.         NaN"
      ]
     },
     "execution_count": 56,
     "metadata": {},
     "output_type": "execute_result"
    }
   ],
   "source": [
    "footnote_df.head()"
   ]
  },
  {
   "cell_type": "markdown",
   "id": "4fa857d4-cb27-46fd-8d31-633f2333f156",
   "metadata": {
    "jp-MarkdownHeadingCollapsed": true
   },
   "source": [
    "### Analyse de la forme du dataset, nombre de lignes et de colonnes"
   ]
  },
  {
   "cell_type": "code",
   "execution_count": 58,
   "id": "f2df3a00-006a-4412-86b8-cd5b0ff281b2",
   "metadata": {},
   "outputs": [
    {
     "name": "stdout",
     "output_type": "stream",
     "text": [
      "Il y a 643638 lignes dans ce dataset\n",
      "Il y a 5 colonnes dans ce dataset\n"
     ]
    }
   ],
   "source": [
    "nombre_lignes = footnote_df.shape[0]\n",
    "print(f\"Il y a {nombre_lignes} lignes dans ce dataset\")\n",
    "nombre_colonnes = footnote_df.shape[1]\n",
    "print(f\"Il y a {nombre_colonnes} colonnes dans ce dataset\")"
   ]
  },
  {
   "cell_type": "markdown",
   "id": "d8d6ae08-afc7-4aa2-b7a7-a066c71691f4",
   "metadata": {
    "jp-MarkdownHeadingCollapsed": true
   },
   "source": [
    "### Affiche des informations générales sur le dataset"
   ]
  },
  {
   "cell_type": "code",
   "execution_count": 60,
   "id": "7aa2754b-cbf5-489c-bcbd-77edf9d84b95",
   "metadata": {},
   "outputs": [
    {
     "name": "stdout",
     "output_type": "stream",
     "text": [
      "<class 'pandas.core.frame.DataFrame'>\n",
      "RangeIndex: 643638 entries, 0 to 643637\n",
      "Data columns (total 5 columns):\n",
      " #   Column       Non-Null Count   Dtype  \n",
      "---  ------       --------------   -----  \n",
      " 0   CountryCode  643638 non-null  object \n",
      " 1   SeriesCode   643638 non-null  object \n",
      " 2   Year         643638 non-null  object \n",
      " 3   DESCRIPTION  643638 non-null  object \n",
      " 4   Unnamed: 4   0 non-null       float64\n",
      "dtypes: float64(1), object(4)\n",
      "memory usage: 24.6+ MB\n"
     ]
    }
   ],
   "source": [
    "footnote_df.info()"
   ]
  },
  {
   "cell_type": "markdown",
   "id": "00ac7b7f-a5d5-48d4-a3f2-524a4f3273d9",
   "metadata": {
    "jp-MarkdownHeadingCollapsed": true
   },
   "source": [
    "### Analyse du type des données présentes dans le dataset"
   ]
  },
  {
   "cell_type": "code",
   "execution_count": 62,
   "id": "80509dfd-f3d8-4d8e-8454-593cc57b8f02",
   "metadata": {},
   "outputs": [
    {
     "data": {
      "text/plain": [
       "CountryCode     object\n",
       "SeriesCode      object\n",
       "Year            object\n",
       "DESCRIPTION     object\n",
       "Unnamed: 4     float64\n",
       "dtype: object"
      ]
     },
     "execution_count": 62,
     "metadata": {},
     "output_type": "execute_result"
    }
   ],
   "source": [
    "footnote_df.dtypes"
   ]
  },
  {
   "cell_type": "markdown",
   "id": "ae3e0b3d-2c39-40b5-811f-64ee8af898b6",
   "metadata": {
    "jp-MarkdownHeadingCollapsed": true
   },
   "source": [
    "### Vérifions si des valeurs sont manquantes dans le dataset"
   ]
  },
  {
   "cell_type": "code",
   "execution_count": 64,
   "id": "ad593d89-6b4c-4a3d-ae78-1b28c5ffe87b",
   "metadata": {},
   "outputs": [
    {
     "data": {
      "text/plain": [
       "CountryCode         0\n",
       "SeriesCode          0\n",
       "Year                0\n",
       "DESCRIPTION         0\n",
       "Unnamed: 4     643638\n",
       "dtype: int64"
      ]
     },
     "execution_count": 64,
     "metadata": {},
     "output_type": "execute_result"
    }
   ],
   "source": [
    "footnote_df.isnull().sum()"
   ]
  },
  {
   "cell_type": "markdown",
   "id": "aaea2654-ccb8-4188-acbb-5994dc878af3",
   "metadata": {
    "jp-MarkdownHeadingCollapsed": true
   },
   "source": [
    "### Vérifions si des valeurs sont dupliquées dans le dataset"
   ]
  },
  {
   "cell_type": "code",
   "execution_count": 66,
   "id": "58a47caa-cb23-4a5c-9491-9f595b7b4a37",
   "metadata": {},
   "outputs": [
    {
     "name": "stdout",
     "output_type": "stream",
     "text": [
      "Il y a 0 valeurs dupliquées dans ce dataset\n"
     ]
    }
   ],
   "source": [
    "footnote_df_duplicate = footnote_df[footnote_df.duplicated()]\n",
    "print(f\"Il y a {footnote_df_duplicate.shape[0]} valeurs dupliquées dans ce dataset\")"
   ]
  },
  {
   "cell_type": "markdown",
   "id": "ee0de6c9-8378-434f-a2b1-27041465e125",
   "metadata": {
    "jp-MarkdownHeadingCollapsed": true
   },
   "source": [
    "## Analyse du dataset EdStatsSeries"
   ]
  },
  {
   "cell_type": "markdown",
   "id": "36480db8-95b7-4b5a-84be-9a87e3d701a4",
   "metadata": {
    "jp-MarkdownHeadingCollapsed": true
   },
   "source": [
    "### Affichons les premières lignes du dataset"
   ]
  },
  {
   "cell_type": "code",
   "execution_count": 69,
   "id": "0b670914-9fe5-4f75-b9f7-df410acb137b",
   "metadata": {},
   "outputs": [
    {
     "data": {
      "text/html": [
       "<div>\n",
       "<style scoped>\n",
       "    .dataframe tbody tr th:only-of-type {\n",
       "        vertical-align: middle;\n",
       "    }\n",
       "\n",
       "    .dataframe tbody tr th {\n",
       "        vertical-align: top;\n",
       "    }\n",
       "\n",
       "    .dataframe thead th {\n",
       "        text-align: right;\n",
       "    }\n",
       "</style>\n",
       "<table border=\"1\" class=\"dataframe\">\n",
       "  <thead>\n",
       "    <tr style=\"text-align: right;\">\n",
       "      <th></th>\n",
       "      <th>Series Code</th>\n",
       "      <th>Topic</th>\n",
       "      <th>Indicator Name</th>\n",
       "      <th>Short definition</th>\n",
       "      <th>Long definition</th>\n",
       "      <th>Unit of measure</th>\n",
       "      <th>Periodicity</th>\n",
       "      <th>Base Period</th>\n",
       "      <th>Other notes</th>\n",
       "      <th>Aggregation method</th>\n",
       "      <th>...</th>\n",
       "      <th>Notes from original source</th>\n",
       "      <th>General comments</th>\n",
       "      <th>Source</th>\n",
       "      <th>Statistical concept and methodology</th>\n",
       "      <th>Development relevance</th>\n",
       "      <th>Related source links</th>\n",
       "      <th>Other web links</th>\n",
       "      <th>Related indicators</th>\n",
       "      <th>License Type</th>\n",
       "      <th>Unnamed: 20</th>\n",
       "    </tr>\n",
       "  </thead>\n",
       "  <tbody>\n",
       "    <tr>\n",
       "      <th>0</th>\n",
       "      <td>BAR.NOED.1519.FE.ZS</td>\n",
       "      <td>Attainment</td>\n",
       "      <td>Barro-Lee: Percentage of female population age...</td>\n",
       "      <td>Percentage of female population age 15-19 with...</td>\n",
       "      <td>Percentage of female population age 15-19 with...</td>\n",
       "      <td>NaN</td>\n",
       "      <td>NaN</td>\n",
       "      <td>NaN</td>\n",
       "      <td>NaN</td>\n",
       "      <td>NaN</td>\n",
       "      <td>...</td>\n",
       "      <td>NaN</td>\n",
       "      <td>NaN</td>\n",
       "      <td>Robert J. Barro and Jong-Wha Lee: http://www.b...</td>\n",
       "      <td>NaN</td>\n",
       "      <td>NaN</td>\n",
       "      <td>NaN</td>\n",
       "      <td>NaN</td>\n",
       "      <td>NaN</td>\n",
       "      <td>NaN</td>\n",
       "      <td>NaN</td>\n",
       "    </tr>\n",
       "    <tr>\n",
       "      <th>1</th>\n",
       "      <td>BAR.NOED.1519.ZS</td>\n",
       "      <td>Attainment</td>\n",
       "      <td>Barro-Lee: Percentage of population age 15-19 ...</td>\n",
       "      <td>Percentage of population age 15-19 with no edu...</td>\n",
       "      <td>Percentage of population age 15-19 with no edu...</td>\n",
       "      <td>NaN</td>\n",
       "      <td>NaN</td>\n",
       "      <td>NaN</td>\n",
       "      <td>NaN</td>\n",
       "      <td>NaN</td>\n",
       "      <td>...</td>\n",
       "      <td>NaN</td>\n",
       "      <td>NaN</td>\n",
       "      <td>Robert J. Barro and Jong-Wha Lee: http://www.b...</td>\n",
       "      <td>NaN</td>\n",
       "      <td>NaN</td>\n",
       "      <td>NaN</td>\n",
       "      <td>NaN</td>\n",
       "      <td>NaN</td>\n",
       "      <td>NaN</td>\n",
       "      <td>NaN</td>\n",
       "    </tr>\n",
       "    <tr>\n",
       "      <th>2</th>\n",
       "      <td>BAR.NOED.15UP.FE.ZS</td>\n",
       "      <td>Attainment</td>\n",
       "      <td>Barro-Lee: Percentage of female population age...</td>\n",
       "      <td>Percentage of female population age 15+ with n...</td>\n",
       "      <td>Percentage of female population age 15+ with n...</td>\n",
       "      <td>NaN</td>\n",
       "      <td>NaN</td>\n",
       "      <td>NaN</td>\n",
       "      <td>NaN</td>\n",
       "      <td>NaN</td>\n",
       "      <td>...</td>\n",
       "      <td>NaN</td>\n",
       "      <td>NaN</td>\n",
       "      <td>Robert J. Barro and Jong-Wha Lee: http://www.b...</td>\n",
       "      <td>NaN</td>\n",
       "      <td>NaN</td>\n",
       "      <td>NaN</td>\n",
       "      <td>NaN</td>\n",
       "      <td>NaN</td>\n",
       "      <td>NaN</td>\n",
       "      <td>NaN</td>\n",
       "    </tr>\n",
       "    <tr>\n",
       "      <th>3</th>\n",
       "      <td>BAR.NOED.15UP.ZS</td>\n",
       "      <td>Attainment</td>\n",
       "      <td>Barro-Lee: Percentage of population age 15+ wi...</td>\n",
       "      <td>Percentage of population age 15+ with no educa...</td>\n",
       "      <td>Percentage of population age 15+ with no educa...</td>\n",
       "      <td>NaN</td>\n",
       "      <td>NaN</td>\n",
       "      <td>NaN</td>\n",
       "      <td>NaN</td>\n",
       "      <td>NaN</td>\n",
       "      <td>...</td>\n",
       "      <td>NaN</td>\n",
       "      <td>NaN</td>\n",
       "      <td>Robert J. Barro and Jong-Wha Lee: http://www.b...</td>\n",
       "      <td>NaN</td>\n",
       "      <td>NaN</td>\n",
       "      <td>NaN</td>\n",
       "      <td>NaN</td>\n",
       "      <td>NaN</td>\n",
       "      <td>NaN</td>\n",
       "      <td>NaN</td>\n",
       "    </tr>\n",
       "    <tr>\n",
       "      <th>4</th>\n",
       "      <td>BAR.NOED.2024.FE.ZS</td>\n",
       "      <td>Attainment</td>\n",
       "      <td>Barro-Lee: Percentage of female population age...</td>\n",
       "      <td>Percentage of female population age 20-24 with...</td>\n",
       "      <td>Percentage of female population age 20-24 with...</td>\n",
       "      <td>NaN</td>\n",
       "      <td>NaN</td>\n",
       "      <td>NaN</td>\n",
       "      <td>NaN</td>\n",
       "      <td>NaN</td>\n",
       "      <td>...</td>\n",
       "      <td>NaN</td>\n",
       "      <td>NaN</td>\n",
       "      <td>Robert J. Barro and Jong-Wha Lee: http://www.b...</td>\n",
       "      <td>NaN</td>\n",
       "      <td>NaN</td>\n",
       "      <td>NaN</td>\n",
       "      <td>NaN</td>\n",
       "      <td>NaN</td>\n",
       "      <td>NaN</td>\n",
       "      <td>NaN</td>\n",
       "    </tr>\n",
       "  </tbody>\n",
       "</table>\n",
       "<p>5 rows × 21 columns</p>\n",
       "</div>"
      ],
      "text/plain": [
       "           Series Code       Topic  \\\n",
       "0  BAR.NOED.1519.FE.ZS  Attainment   \n",
       "1     BAR.NOED.1519.ZS  Attainment   \n",
       "2  BAR.NOED.15UP.FE.ZS  Attainment   \n",
       "3     BAR.NOED.15UP.ZS  Attainment   \n",
       "4  BAR.NOED.2024.FE.ZS  Attainment   \n",
       "\n",
       "                                      Indicator Name  \\\n",
       "0  Barro-Lee: Percentage of female population age...   \n",
       "1  Barro-Lee: Percentage of population age 15-19 ...   \n",
       "2  Barro-Lee: Percentage of female population age...   \n",
       "3  Barro-Lee: Percentage of population age 15+ wi...   \n",
       "4  Barro-Lee: Percentage of female population age...   \n",
       "\n",
       "                                    Short definition  \\\n",
       "0  Percentage of female population age 15-19 with...   \n",
       "1  Percentage of population age 15-19 with no edu...   \n",
       "2  Percentage of female population age 15+ with n...   \n",
       "3  Percentage of population age 15+ with no educa...   \n",
       "4  Percentage of female population age 20-24 with...   \n",
       "\n",
       "                                     Long definition  Unit of measure  \\\n",
       "0  Percentage of female population age 15-19 with...              NaN   \n",
       "1  Percentage of population age 15-19 with no edu...              NaN   \n",
       "2  Percentage of female population age 15+ with n...              NaN   \n",
       "3  Percentage of population age 15+ with no educa...              NaN   \n",
       "4  Percentage of female population age 20-24 with...              NaN   \n",
       "\n",
       "  Periodicity Base Period Other notes Aggregation method  ...  \\\n",
       "0         NaN         NaN         NaN                NaN  ...   \n",
       "1         NaN         NaN         NaN                NaN  ...   \n",
       "2         NaN         NaN         NaN                NaN  ...   \n",
       "3         NaN         NaN         NaN                NaN  ...   \n",
       "4         NaN         NaN         NaN                NaN  ...   \n",
       "\n",
       "  Notes from original source  General comments  \\\n",
       "0                        NaN               NaN   \n",
       "1                        NaN               NaN   \n",
       "2                        NaN               NaN   \n",
       "3                        NaN               NaN   \n",
       "4                        NaN               NaN   \n",
       "\n",
       "                                              Source  \\\n",
       "0  Robert J. Barro and Jong-Wha Lee: http://www.b...   \n",
       "1  Robert J. Barro and Jong-Wha Lee: http://www.b...   \n",
       "2  Robert J. Barro and Jong-Wha Lee: http://www.b...   \n",
       "3  Robert J. Barro and Jong-Wha Lee: http://www.b...   \n",
       "4  Robert J. Barro and Jong-Wha Lee: http://www.b...   \n",
       "\n",
       "  Statistical concept and methodology Development relevance  \\\n",
       "0                                 NaN                   NaN   \n",
       "1                                 NaN                   NaN   \n",
       "2                                 NaN                   NaN   \n",
       "3                                 NaN                   NaN   \n",
       "4                                 NaN                   NaN   \n",
       "\n",
       "  Related source links Other web links  Related indicators  License Type  \\\n",
       "0                  NaN             NaN                 NaN           NaN   \n",
       "1                  NaN             NaN                 NaN           NaN   \n",
       "2                  NaN             NaN                 NaN           NaN   \n",
       "3                  NaN             NaN                 NaN           NaN   \n",
       "4                  NaN             NaN                 NaN           NaN   \n",
       "\n",
       "   Unnamed: 20  \n",
       "0          NaN  \n",
       "1          NaN  \n",
       "2          NaN  \n",
       "3          NaN  \n",
       "4          NaN  \n",
       "\n",
       "[5 rows x 21 columns]"
      ]
     },
     "execution_count": 69,
     "metadata": {},
     "output_type": "execute_result"
    }
   ],
   "source": [
    "series_df.head()"
   ]
  },
  {
   "cell_type": "markdown",
   "id": "700131f6-b679-4e3a-bdd5-ac287ddc4664",
   "metadata": {
    "jp-MarkdownHeadingCollapsed": true
   },
   "source": [
    "### Analyse de la forme du dataset, nombre de lignes et de colonnes"
   ]
  },
  {
   "cell_type": "code",
   "execution_count": 71,
   "id": "d6c57617-4f40-4176-9194-73bf705d9d32",
   "metadata": {},
   "outputs": [
    {
     "name": "stdout",
     "output_type": "stream",
     "text": [
      "Il y a 3665 lignes dans ce dataset\n",
      "Il y a 21 colonnes dans ce dataset\n"
     ]
    }
   ],
   "source": [
    "nombre_lignes = series_df.shape[0]\n",
    "print(f\"Il y a {nombre_lignes} lignes dans ce dataset\")\n",
    "nombre_colonnes = series_df.shape[1]\n",
    "print(f\"Il y a {nombre_colonnes} colonnes dans ce dataset\")"
   ]
  },
  {
   "cell_type": "markdown",
   "id": "9ccf44a1-ceb4-4604-add3-fec7ef343948",
   "metadata": {
    "jp-MarkdownHeadingCollapsed": true
   },
   "source": [
    "### Affiche des informations générales sur le dataset"
   ]
  },
  {
   "cell_type": "code",
   "execution_count": 73,
   "id": "ad7e65e7-9478-40bf-a96b-e03b44cad5db",
   "metadata": {},
   "outputs": [
    {
     "name": "stdout",
     "output_type": "stream",
     "text": [
      "<class 'pandas.core.frame.DataFrame'>\n",
      "RangeIndex: 3665 entries, 0 to 3664\n",
      "Data columns (total 21 columns):\n",
      " #   Column                               Non-Null Count  Dtype  \n",
      "---  ------                               --------------  -----  \n",
      " 0   Series Code                          3665 non-null   object \n",
      " 1   Topic                                3665 non-null   object \n",
      " 2   Indicator Name                       3665 non-null   object \n",
      " 3   Short definition                     2156 non-null   object \n",
      " 4   Long definition                      3665 non-null   object \n",
      " 5   Unit of measure                      0 non-null      float64\n",
      " 6   Periodicity                          99 non-null     object \n",
      " 7   Base Period                          314 non-null    object \n",
      " 8   Other notes                          552 non-null    object \n",
      " 9   Aggregation method                   47 non-null     object \n",
      " 10  Limitations and exceptions           14 non-null     object \n",
      " 11  Notes from original source           0 non-null      float64\n",
      " 12  General comments                     14 non-null     object \n",
      " 13  Source                               3665 non-null   object \n",
      " 14  Statistical concept and methodology  23 non-null     object \n",
      " 15  Development relevance                3 non-null      object \n",
      " 16  Related source links                 215 non-null    object \n",
      " 17  Other web links                      0 non-null      float64\n",
      " 18  Related indicators                   0 non-null      float64\n",
      " 19  License Type                         0 non-null      float64\n",
      " 20  Unnamed: 20                          0 non-null      float64\n",
      "dtypes: float64(6), object(15)\n",
      "memory usage: 601.4+ KB\n"
     ]
    }
   ],
   "source": [
    "series_df.info()"
   ]
  },
  {
   "cell_type": "markdown",
   "id": "ea205933-377d-4830-a08d-1bc870545ec2",
   "metadata": {
    "jp-MarkdownHeadingCollapsed": true
   },
   "source": [
    "### Analyse du type des données présentes dans le dataset"
   ]
  },
  {
   "cell_type": "code",
   "execution_count": 75,
   "id": "8e85816b-1f98-4189-9c33-11048642f1ac",
   "metadata": {},
   "outputs": [
    {
     "data": {
      "text/plain": [
       "Series Code                             object\n",
       "Topic                                   object\n",
       "Indicator Name                          object\n",
       "Short definition                        object\n",
       "Long definition                         object\n",
       "Unit of measure                        float64\n",
       "Periodicity                             object\n",
       "Base Period                             object\n",
       "Other notes                             object\n",
       "Aggregation method                      object\n",
       "Limitations and exceptions              object\n",
       "Notes from original source             float64\n",
       "General comments                        object\n",
       "Source                                  object\n",
       "Statistical concept and methodology     object\n",
       "Development relevance                   object\n",
       "Related source links                    object\n",
       "Other web links                        float64\n",
       "Related indicators                     float64\n",
       "License Type                           float64\n",
       "Unnamed: 20                            float64\n",
       "dtype: object"
      ]
     },
     "execution_count": 75,
     "metadata": {},
     "output_type": "execute_result"
    }
   ],
   "source": [
    "series_df.dtypes"
   ]
  },
  {
   "cell_type": "markdown",
   "id": "a83435b8-6395-4b07-b9af-ebc7fed277f9",
   "metadata": {
    "jp-MarkdownHeadingCollapsed": true
   },
   "source": [
    "### Vérifions si des valeurs sont manquantes dans le dataset"
   ]
  },
  {
   "cell_type": "code",
   "execution_count": 77,
   "id": "da97d802-a978-42e7-b3df-457e767ab0f2",
   "metadata": {},
   "outputs": [
    {
     "data": {
      "text/plain": [
       "Series Code                               0\n",
       "Topic                                     0\n",
       "Indicator Name                            0\n",
       "Short definition                       1509\n",
       "Long definition                           0\n",
       "Unit of measure                        3665\n",
       "Periodicity                            3566\n",
       "Base Period                            3351\n",
       "Other notes                            3113\n",
       "Aggregation method                     3618\n",
       "Limitations and exceptions             3651\n",
       "Notes from original source             3665\n",
       "General comments                       3651\n",
       "Source                                    0\n",
       "Statistical concept and methodology    3642\n",
       "Development relevance                  3662\n",
       "Related source links                   3450\n",
       "Other web links                        3665\n",
       "Related indicators                     3665\n",
       "License Type                           3665\n",
       "Unnamed: 20                            3665\n",
       "dtype: int64"
      ]
     },
     "execution_count": 77,
     "metadata": {},
     "output_type": "execute_result"
    }
   ],
   "source": [
    "series_df.isnull().sum()"
   ]
  },
  {
   "cell_type": "markdown",
   "id": "ff6c8bb8-0755-40e4-a344-72e79f404a72",
   "metadata": {
    "jp-MarkdownHeadingCollapsed": true
   },
   "source": [
    "### Vérifions si des valeurs sont dupliquées dans le dataset"
   ]
  },
  {
   "cell_type": "code",
   "execution_count": 79,
   "id": "774130ea-c177-408b-adbb-71cb4b3845b8",
   "metadata": {},
   "outputs": [
    {
     "name": "stdout",
     "output_type": "stream",
     "text": [
      "Il y a 0 valeurs dupliquées dans ce dataset\n"
     ]
    }
   ],
   "source": [
    "series_df_duplicate = series_df[series_df.duplicated()]\n",
    "print(f\"Il y a {series_df_duplicate.shape[0]} valeurs dupliquées dans ce dataset\")"
   ]
  },
  {
   "cell_type": "markdown",
   "id": "cf985052-d99e-42b5-a4d3-eb95a48e5f65",
   "metadata": {},
   "source": [
    "# Etape 2 : Sélectionnez les données pertinentes"
   ]
  },
  {
   "cell_type": "markdown",
   "id": "dff50cfc-7935-4f66-9407-8a127667406e",
   "metadata": {
    "jp-MarkdownHeadingCollapsed": true
   },
   "source": [
    "## Consultation d'un expert \"métier\" pour nous aider dans notre sélection\n",
    "Celui-ci nous propose des idées d'indicateurs pertinents \n",
    "1. Niveau d'éducation de la population :\n",
    "- Taux de scolarisation dans l'enseignement secondaire et supérieur.\n",
    "- Taux de diplomation dans le secondaire et l'enseignement supérieur.\n",
    "\n",
    "2. Compétences numériques :\n",
    "- Pourcentage de la population avec des compétences de base en informatique ou en technologie numérique.\n",
    "- Programmes d’éducation technologique ou initiatives gouvernementales liées à l’apprentissage en ligne.\n",
    "\n",
    "3. Investissement en éducation :\n",
    "- Dépenses publiques consacrées à l’éducation, particulièrement dans l'enseignement supérieur.\n",
    "- Politiques nationales favorisant l'accès à l'éducation en ligne ou à distance.\n",
    "\n",
    "4. Accès aux infrastructures numériques :\n",
    "- Taux de couverture du réseau internet à haut débit (broadband penetration rate).\n",
    "- Taux de couverture mobile, en particulier la 4G ou la 5G.\n",
    "\n",
    "5. Langues parlées :\n",
    "- Distribution linguistique pour comprendre dans quelles langues les cours en ligne devraient être proposés.\n",
    "\n",
    "6. Pouvoir d'achat et développement économique :\n",
    "- Revenu moyen par habitant ou PIB par habitant, pour évaluer la capacité des familles ou des étudiants à investir dans des services éducatifs en ligne.\n",
    "\n",
    "7. Taux de chômage des jeunes :\n",
    "- Indicateur de la demande potentielle pour des formations en ligne visant à améliorer les compétences et l'employabilité.\n",
    "\n",
    "8. Démographie des étudiants :\n",
    "- Proportion de la population âgée de 15 à 24 ans (groupe cible pour des cours de niveau lycée ou universitaire)."
   ]
  },
  {
   "cell_type": "code",
   "execution_count": 82,
   "id": "7264e385-c960-4ed3-a4c9-918490d30d1f",
   "metadata": {},
   "outputs": [
    {
     "data": {
      "text/plain": [
       "Periodicity\n",
       "Annual    99\n",
       "Name: count, dtype: int64"
      ]
     },
     "execution_count": 82,
     "metadata": {},
     "output_type": "execute_result"
    }
   ],
   "source": [
    "series_df[\"Periodicity\"].value_counts()"
   ]
  },
  {
   "cell_type": "code",
   "execution_count": 83,
   "id": "6686221c-d31f-4d0c-8873-e7625297dbd7",
   "metadata": {},
   "outputs": [
    {
     "data": {
      "text/plain": [
       "Base Period\n",
       "Projections (2010 to 2100)    308\n",
       "2010                            2\n",
       "2011                            2\n",
       "14                              2\n",
       "Name: count, dtype: int64"
      ]
     },
     "execution_count": 83,
     "metadata": {},
     "output_type": "execute_result"
    }
   ],
   "source": [
    "series_df[\"Base Period\"].value_counts()"
   ]
  },
  {
   "cell_type": "markdown",
   "id": "111ac113-7b54-4108-86b2-7adf0ff44c56",
   "metadata": {},
   "source": [
    "### Filtrons notre dataframe\n",
    "Etant donné que seuls 99 indicateurs présentent une récurrence annuelle, nous nous concentrerons sur ceux-ci dans la suite de notre étude"
   ]
  },
  {
   "cell_type": "code",
   "execution_count": 85,
   "id": "fa50b67c-18a8-4d5c-8da7-e2d0d1041dd0",
   "metadata": {},
   "outputs": [],
   "source": [
    "annual_series_df = series_df.loc[series_df[\"Periodicity\"] == \"Annual\"]"
   ]
  },
  {
   "cell_type": "markdown",
   "id": "32f4f69a-4d6a-4693-83af-9c548b2d1de9",
   "metadata": {},
   "source": [
    "### Etudions succintement notre nouveau dataframe"
   ]
  },
  {
   "cell_type": "code",
   "execution_count": 87,
   "id": "2040be2a-6ebd-464a-bb2e-69daea2a3c8c",
   "metadata": {},
   "outputs": [
    {
     "name": "stdout",
     "output_type": "stream",
     "text": [
      "<class 'pandas.core.frame.DataFrame'>\n",
      "Index: 99 entries, 610 to 2594\n",
      "Data columns (total 21 columns):\n",
      " #   Column                               Non-Null Count  Dtype  \n",
      "---  ------                               --------------  -----  \n",
      " 0   Series Code                          99 non-null     object \n",
      " 1   Topic                                99 non-null     object \n",
      " 2   Indicator Name                       99 non-null     object \n",
      " 3   Short definition                     4 non-null      object \n",
      " 4   Long definition                      99 non-null     object \n",
      " 5   Unit of measure                      0 non-null      float64\n",
      " 6   Periodicity                          99 non-null     object \n",
      " 7   Base Period                          4 non-null      object \n",
      " 8   Other notes                          55 non-null     object \n",
      " 9   Aggregation method                   47 non-null     object \n",
      " 10  Limitations and exceptions           14 non-null     object \n",
      " 11  Notes from original source           0 non-null      float64\n",
      " 12  General comments                     14 non-null     object \n",
      " 13  Source                               99 non-null     object \n",
      " 14  Statistical concept and methodology  3 non-null      object \n",
      " 15  Development relevance                3 non-null      object \n",
      " 16  Related source links                 0 non-null      object \n",
      " 17  Other web links                      0 non-null      float64\n",
      " 18  Related indicators                   0 non-null      float64\n",
      " 19  License Type                         0 non-null      float64\n",
      " 20  Unnamed: 20                          0 non-null      float64\n",
      "dtypes: float64(6), object(15)\n",
      "memory usage: 17.0+ KB\n"
     ]
    }
   ],
   "source": [
    "annual_series_df.info()"
   ]
  },
  {
   "cell_type": "markdown",
   "id": "f447006b-dbda-40c0-88d0-cde62ce09213",
   "metadata": {
    "jp-MarkdownHeadingCollapsed": true
   },
   "source": [
    "#### Créons une liste pour stocker les indicateurs que nous sélectionnerons au fur et à mesure"
   ]
  },
  {
   "cell_type": "code",
   "execution_count": 89,
   "id": "cdceb711-81b0-4ec4-a44d-41f3615b2f99",
   "metadata": {},
   "outputs": [],
   "source": [
    "indicateurs = []"
   ]
  },
  {
   "cell_type": "markdown",
   "id": "8d5ebaa2-8307-4bbc-94cd-2a538df19504",
   "metadata": {
    "jp-MarkdownHeadingCollapsed": true
   },
   "source": [
    "#### Notre startup propose des contenus en ligne, intéressons nous donc à la catégorie \"Infrastructure: Communications\""
   ]
  },
  {
   "cell_type": "code",
   "execution_count": 91,
   "id": "8969d99f-5c49-426a-9a0b-f44726ee0571",
   "metadata": {},
   "outputs": [
    {
     "data": {
      "text/html": [
       "<div>\n",
       "<style scoped>\n",
       "    .dataframe tbody tr th:only-of-type {\n",
       "        vertical-align: middle;\n",
       "    }\n",
       "\n",
       "    .dataframe tbody tr th {\n",
       "        vertical-align: top;\n",
       "    }\n",
       "\n",
       "    .dataframe thead th {\n",
       "        text-align: right;\n",
       "    }\n",
       "</style>\n",
       "<table border=\"1\" class=\"dataframe\">\n",
       "  <thead>\n",
       "    <tr style=\"text-align: right;\">\n",
       "      <th></th>\n",
       "      <th>Series Code</th>\n",
       "      <th>Topic</th>\n",
       "      <th>Indicator Name</th>\n",
       "      <th>Short definition</th>\n",
       "      <th>Long definition</th>\n",
       "      <th>Unit of measure</th>\n",
       "      <th>Periodicity</th>\n",
       "      <th>Base Period</th>\n",
       "      <th>Other notes</th>\n",
       "      <th>Aggregation method</th>\n",
       "      <th>...</th>\n",
       "      <th>Notes from original source</th>\n",
       "      <th>General comments</th>\n",
       "      <th>Source</th>\n",
       "      <th>Statistical concept and methodology</th>\n",
       "      <th>Development relevance</th>\n",
       "      <th>Related source links</th>\n",
       "      <th>Other web links</th>\n",
       "      <th>Related indicators</th>\n",
       "      <th>License Type</th>\n",
       "      <th>Unnamed: 20</th>\n",
       "    </tr>\n",
       "  </thead>\n",
       "  <tbody>\n",
       "    <tr>\n",
       "      <th>610</th>\n",
       "      <td>IT.CMP.PCMP.P2</td>\n",
       "      <td>Infrastructure: Communications</td>\n",
       "      <td>Personal computers (per 100 people)</td>\n",
       "      <td>NaN</td>\n",
       "      <td>Personal computers are self-contained computer...</td>\n",
       "      <td>NaN</td>\n",
       "      <td>Annual</td>\n",
       "      <td>NaN</td>\n",
       "      <td>NaN</td>\n",
       "      <td>Weighted average</td>\n",
       "      <td>...</td>\n",
       "      <td>NaN</td>\n",
       "      <td>Restricted use: Please cite the International ...</td>\n",
       "      <td>International Telecommunication Union, World T...</td>\n",
       "      <td>NaN</td>\n",
       "      <td>NaN</td>\n",
       "      <td>NaN</td>\n",
       "      <td>NaN</td>\n",
       "      <td>NaN</td>\n",
       "      <td>NaN</td>\n",
       "      <td>NaN</td>\n",
       "    </tr>\n",
       "    <tr>\n",
       "      <th>611</th>\n",
       "      <td>IT.NET.USER.P2</td>\n",
       "      <td>Infrastructure: Communications</td>\n",
       "      <td>Internet users (per 100 people)</td>\n",
       "      <td>NaN</td>\n",
       "      <td>Internet users are individuals who have used t...</td>\n",
       "      <td>NaN</td>\n",
       "      <td>Annual</td>\n",
       "      <td>NaN</td>\n",
       "      <td>NaN</td>\n",
       "      <td>Weighted average</td>\n",
       "      <td>...</td>\n",
       "      <td>NaN</td>\n",
       "      <td>Please cite the International Telecommunicatio...</td>\n",
       "      <td>International Telecommunication Union, World T...</td>\n",
       "      <td>NaN</td>\n",
       "      <td>NaN</td>\n",
       "      <td>NaN</td>\n",
       "      <td>NaN</td>\n",
       "      <td>NaN</td>\n",
       "      <td>NaN</td>\n",
       "      <td>NaN</td>\n",
       "    </tr>\n",
       "  </tbody>\n",
       "</table>\n",
       "<p>2 rows × 21 columns</p>\n",
       "</div>"
      ],
      "text/plain": [
       "        Series Code                           Topic  \\\n",
       "610  IT.CMP.PCMP.P2  Infrastructure: Communications   \n",
       "611  IT.NET.USER.P2  Infrastructure: Communications   \n",
       "\n",
       "                          Indicator Name Short definition  \\\n",
       "610  Personal computers (per 100 people)              NaN   \n",
       "611      Internet users (per 100 people)              NaN   \n",
       "\n",
       "                                       Long definition  Unit of measure  \\\n",
       "610  Personal computers are self-contained computer...              NaN   \n",
       "611  Internet users are individuals who have used t...              NaN   \n",
       "\n",
       "    Periodicity Base Period Other notes Aggregation method  ...  \\\n",
       "610      Annual         NaN         NaN   Weighted average  ...   \n",
       "611      Annual         NaN         NaN   Weighted average  ...   \n",
       "\n",
       "    Notes from original source  \\\n",
       "610                        NaN   \n",
       "611                        NaN   \n",
       "\n",
       "                                      General comments  \\\n",
       "610  Restricted use: Please cite the International ...   \n",
       "611  Please cite the International Telecommunicatio...   \n",
       "\n",
       "                                                Source  \\\n",
       "610  International Telecommunication Union, World T...   \n",
       "611  International Telecommunication Union, World T...   \n",
       "\n",
       "    Statistical concept and methodology Development relevance  \\\n",
       "610                                 NaN                   NaN   \n",
       "611                                 NaN                   NaN   \n",
       "\n",
       "    Related source links Other web links  Related indicators  License Type  \\\n",
       "610                  NaN             NaN                 NaN           NaN   \n",
       "611                  NaN             NaN                 NaN           NaN   \n",
       "\n",
       "     Unnamed: 20  \n",
       "610          NaN  \n",
       "611          NaN  \n",
       "\n",
       "[2 rows x 21 columns]"
      ]
     },
     "execution_count": 91,
     "metadata": {},
     "output_type": "execute_result"
    }
   ],
   "source": [
    "series_df.loc[series_df[\"Topic\"]==\"Infrastructure: Communications\"]"
   ]
  },
  {
   "cell_type": "markdown",
   "id": "fc0fe835-5184-41bc-b4a4-958796634951",
   "metadata": {},
   "source": [
    "Vérifions si nous avons des données pour ces deux indicateurs sur l'ensemble des pays"
   ]
  },
  {
   "cell_type": "code",
   "execution_count": 93,
   "id": "b48ecee3-dbbf-461f-8c10-4e6e51a6c395",
   "metadata": {},
   "outputs": [
    {
     "data": {
      "text/plain": [
       "242"
      ]
     },
     "execution_count": 93,
     "metadata": {},
     "output_type": "execute_result"
    }
   ],
   "source": [
    "data_df.loc[data_df[\"Indicator Code\"] == \"IT.CMP.PCMP.P2\", :].shape[0]"
   ]
  },
  {
   "cell_type": "markdown",
   "id": "2c90f3a1-b81b-4b2a-98e6-e58bf479d5fc",
   "metadata": {},
   "source": [
    "Le premier indicateur est présent pour 242 lignes, ce qui est cohérent avec ce que présente le dataset \"EdStatsCountry\""
   ]
  },
  {
   "cell_type": "code",
   "execution_count": 95,
   "id": "fbdb30d2-4cf3-43e3-a5e3-ad748ba3287d",
   "metadata": {},
   "outputs": [],
   "source": [
    "indicateurs.append(\"IT.CMP.PCMP.P2\")"
   ]
  },
  {
   "cell_type": "code",
   "execution_count": 96,
   "id": "10bb1634-c821-4423-be38-695a3926319d",
   "metadata": {},
   "outputs": [
    {
     "data": {
      "text/plain": [
       "242"
      ]
     },
     "execution_count": 96,
     "metadata": {},
     "output_type": "execute_result"
    }
   ],
   "source": [
    "data_df.loc[data_df[\"Indicator Code\"] == \"IT.NET.USER.P2\", :].shape[0]"
   ]
  },
  {
   "cell_type": "markdown",
   "id": "54c204b8-fa60-4e79-b7e9-629ca59f144b",
   "metadata": {},
   "source": [
    "Idem pour le second indicateur\n",
    "\n",
    "Ces deux indicateurs sont donc intéressants pour notre étude :\n",
    "- Pourcentage de la population ayant un ordinateur\n",
    "- Pourcentage de la population utilisant internet"
   ]
  },
  {
   "cell_type": "code",
   "execution_count": 98,
   "id": "49ab9a99-e33d-4fdc-83ab-d17c5db5ddf5",
   "metadata": {},
   "outputs": [],
   "source": [
    "indicateurs.append(\"IT.NET.USER.P2\")"
   ]
  },
  {
   "cell_type": "markdown",
   "id": "cc6bff0c-647f-43de-bda8-141064534d59",
   "metadata": {
    "jp-MarkdownHeadingCollapsed": true
   },
   "source": [
    "#### Recherchons des données sur le taux de scolarisation"
   ]
  },
  {
   "cell_type": "markdown",
   "id": "dde59408-a9f8-4651-b4ed-553d6c04738a",
   "metadata": {
    "jp-MarkdownHeadingCollapsed": true
   },
   "source": [
    "##### Dans l'enseignement secondaire"
   ]
  },
  {
   "cell_type": "code",
   "execution_count": 101,
   "id": "8bb2a00b-359d-4880-824e-9777f04d3661",
   "metadata": {},
   "outputs": [
    {
     "data": {
      "text/html": [
       "<div>\n",
       "<style scoped>\n",
       "    .dataframe tbody tr th:only-of-type {\n",
       "        vertical-align: middle;\n",
       "    }\n",
       "\n",
       "    .dataframe tbody tr th {\n",
       "        vertical-align: top;\n",
       "    }\n",
       "\n",
       "    .dataframe thead th {\n",
       "        text-align: right;\n",
       "    }\n",
       "</style>\n",
       "<table border=\"1\" class=\"dataframe\">\n",
       "  <thead>\n",
       "    <tr style=\"text-align: right;\">\n",
       "      <th></th>\n",
       "      <th>Series Code</th>\n",
       "      <th>Topic</th>\n",
       "      <th>Indicator Name</th>\n",
       "      <th>Short definition</th>\n",
       "      <th>Long definition</th>\n",
       "      <th>Unit of measure</th>\n",
       "      <th>Periodicity</th>\n",
       "      <th>Base Period</th>\n",
       "      <th>Other notes</th>\n",
       "      <th>Aggregation method</th>\n",
       "      <th>...</th>\n",
       "      <th>Notes from original source</th>\n",
       "      <th>General comments</th>\n",
       "      <th>Source</th>\n",
       "      <th>Statistical concept and methodology</th>\n",
       "      <th>Development relevance</th>\n",
       "      <th>Related source links</th>\n",
       "      <th>Other web links</th>\n",
       "      <th>Related indicators</th>\n",
       "      <th>License Type</th>\n",
       "      <th>Unnamed: 20</th>\n",
       "    </tr>\n",
       "  </thead>\n",
       "  <tbody>\n",
       "    <tr>\n",
       "      <th>2316</th>\n",
       "      <td>SE.SEC.NENR</td>\n",
       "      <td>Secondary</td>\n",
       "      <td>Net enrolment rate, secondary, both sexes (%)</td>\n",
       "      <td>NaN</td>\n",
       "      <td>Total number of students in the theoretical ag...</td>\n",
       "      <td>NaN</td>\n",
       "      <td>NaN</td>\n",
       "      <td>NaN</td>\n",
       "      <td>NaN</td>\n",
       "      <td>NaN</td>\n",
       "      <td>...</td>\n",
       "      <td>NaN</td>\n",
       "      <td>NaN</td>\n",
       "      <td>UNESCO Institute for Statistics</td>\n",
       "      <td>NaN</td>\n",
       "      <td>NaN</td>\n",
       "      <td>NaN</td>\n",
       "      <td>NaN</td>\n",
       "      <td>NaN</td>\n",
       "      <td>NaN</td>\n",
       "      <td>NaN</td>\n",
       "    </tr>\n",
       "  </tbody>\n",
       "</table>\n",
       "<p>1 rows × 21 columns</p>\n",
       "</div>"
      ],
      "text/plain": [
       "      Series Code      Topic                                 Indicator Name  \\\n",
       "2316  SE.SEC.NENR  Secondary  Net enrolment rate, secondary, both sexes (%)   \n",
       "\n",
       "     Short definition                                    Long definition  \\\n",
       "2316              NaN  Total number of students in the theoretical ag...   \n",
       "\n",
       "      Unit of measure Periodicity Base Period Other notes Aggregation method  \\\n",
       "2316              NaN         NaN         NaN         NaN                NaN   \n",
       "\n",
       "      ... Notes from original source  General comments  \\\n",
       "2316  ...                        NaN               NaN   \n",
       "\n",
       "                               Source Statistical concept and methodology  \\\n",
       "2316  UNESCO Institute for Statistics                                 NaN   \n",
       "\n",
       "     Development relevance Related source links Other web links  \\\n",
       "2316                   NaN                  NaN             NaN   \n",
       "\n",
       "      Related indicators  License Type  Unnamed: 20  \n",
       "2316                 NaN           NaN          NaN  \n",
       "\n",
       "[1 rows x 21 columns]"
      ]
     },
     "execution_count": 101,
     "metadata": {},
     "output_type": "execute_result"
    }
   ],
   "source": [
    "series_df.loc[(series_df[\"Long definition\"].str.contains(\"Total number of students in the theoretical age group for secondary education enrolled in that level\", case=False, na=False))\n",
    "    & (series_df[\"Topic\"] == \"Secondary\")\n",
    "    & (series_df[\"Long definition\"].str.contains(\"theoretical age group\", case=False, na=False))]"
   ]
  },
  {
   "cell_type": "markdown",
   "id": "d12ed380-62f6-47a7-918f-7dc47fdb123d",
   "metadata": {},
   "source": [
    "Cet indicateur présente le nombre total d'élèves en age d'être dans le secondaire qui sont effectivement inscrit dans le secondaire"
   ]
  },
  {
   "cell_type": "code",
   "execution_count": 103,
   "id": "cce0bb30-76f2-4458-b0e2-732ae66ffe90",
   "metadata": {},
   "outputs": [
    {
     "data": {
      "text/plain": [
       "242"
      ]
     },
     "execution_count": 103,
     "metadata": {},
     "output_type": "execute_result"
    }
   ],
   "source": [
    "data_df.loc[data_df[\"Indicator Code\"] == \"SE.SEC.NENR\", :].shape[0]"
   ]
  },
  {
   "cell_type": "markdown",
   "id": "60e73d21-c832-478f-a646-a791da8821fd",
   "metadata": {},
   "source": [
    "L'indicateur est présent pour 242 lignes, ce qui est cohérent avec ce que présente le dataset \"EdStatsCountry\""
   ]
  },
  {
   "cell_type": "code",
   "execution_count": 105,
   "id": "ce80c63d-2bc7-481c-ba39-cf2c836ffd4f",
   "metadata": {},
   "outputs": [],
   "source": [
    "indicateurs.append(\"SE.SEC.NENR\")"
   ]
  },
  {
   "cell_type": "markdown",
   "id": "2256d76b-7c4a-44b8-aacd-0cc40c9c45ec",
   "metadata": {
    "jp-MarkdownHeadingCollapsed": true
   },
   "source": [
    "##### Dans l'enseignement supérieur"
   ]
  },
  {
   "cell_type": "code",
   "execution_count": 107,
   "id": "d1559505-4ce0-4ac7-bf8b-07d0ef300a3f",
   "metadata": {},
   "outputs": [
    {
     "data": {
      "text/plain": [
       "Long definition\n",
       "Total enrolment in short-cycle tertiary programmes (ISCED 5) as a percentage of total enrolments in tertiary education (ISCED 5 to 8).              1\n",
       "Total enrolment in bachelors or equivalent programmes (ISCED 6) as a percentage of total enrolments in tertiary education (ISCED 5 to 8).           1\n",
       "Total female enrolment in bachelors or equivalent programmes (ISCED 6) as a percentage of total enrolments in tertiary education (ISCED 5 to 8).    1\n",
       "Total male enrolment in bachelors or equivalent programmes (ISCED 6) as a percentage of total enrolments in tertiary education (ISCED 5 to 8).      1\n",
       "Total enrolment in masters or equivalent programmes (ISCED 7) as a percentage of total enrolments in tertiary education (ISCED 5 to 8).             1\n",
       "Total female enrolment in masters or equivalent programmes (ISCED 7) as a percentage of total enrolments in tertiary education (ISCED 5 to 8).      1\n",
       "Total male enrolment in masters or equivalent programmes (ISCED 7) as a percentage of total enrolments in tertiary education (ISCED 5 to 8).        1\n",
       "Total enrolment in doctoral or equivalent programmes (ISCED 8) as a percentage of total enrolments in tertiary education (ISCED 5 to 8).            1\n",
       "Name: count, dtype: int64"
      ]
     },
     "execution_count": 107,
     "metadata": {},
     "output_type": "execute_result"
    }
   ],
   "source": [
    "series_df.loc[(series_df[\"Long definition\"].str.contains(\"Total enrolment\", case=False, na=False))\n",
    "    & (series_df[\"Topic\"] == \"Tertiary\")][\"Long definition\"].value_counts()"
   ]
  },
  {
   "cell_type": "code",
   "execution_count": 108,
   "id": "9562d6dd-b6f6-4c67-aabd-d7c8988848bd",
   "metadata": {},
   "outputs": [
    {
     "data": {
      "text/html": [
       "<div>\n",
       "<style scoped>\n",
       "    .dataframe tbody tr th:only-of-type {\n",
       "        vertical-align: middle;\n",
       "    }\n",
       "\n",
       "    .dataframe tbody tr th {\n",
       "        vertical-align: top;\n",
       "    }\n",
       "\n",
       "    .dataframe thead th {\n",
       "        text-align: right;\n",
       "    }\n",
       "</style>\n",
       "<table border=\"1\" class=\"dataframe\">\n",
       "  <thead>\n",
       "    <tr style=\"text-align: right;\">\n",
       "      <th></th>\n",
       "      <th>Series Code</th>\n",
       "      <th>Topic</th>\n",
       "      <th>Indicator Name</th>\n",
       "      <th>Short definition</th>\n",
       "      <th>Long definition</th>\n",
       "      <th>Unit of measure</th>\n",
       "      <th>Periodicity</th>\n",
       "      <th>Base Period</th>\n",
       "      <th>Other notes</th>\n",
       "      <th>Aggregation method</th>\n",
       "      <th>...</th>\n",
       "      <th>Notes from original source</th>\n",
       "      <th>General comments</th>\n",
       "      <th>Source</th>\n",
       "      <th>Statistical concept and methodology</th>\n",
       "      <th>Development relevance</th>\n",
       "      <th>Related source links</th>\n",
       "      <th>Other web links</th>\n",
       "      <th>Related indicators</th>\n",
       "      <th>License Type</th>\n",
       "      <th>Unnamed: 20</th>\n",
       "    </tr>\n",
       "  </thead>\n",
       "  <tbody>\n",
       "    <tr>\n",
       "      <th>3536</th>\n",
       "      <td>UIS.TEP.5.B</td>\n",
       "      <td>Tertiary</td>\n",
       "      <td>Percentage of all students in tertiary educati...</td>\n",
       "      <td>NaN</td>\n",
       "      <td>Total enrolment in short-cycle tertiary progra...</td>\n",
       "      <td>NaN</td>\n",
       "      <td>NaN</td>\n",
       "      <td>NaN</td>\n",
       "      <td>NaN</td>\n",
       "      <td>NaN</td>\n",
       "      <td>...</td>\n",
       "      <td>NaN</td>\n",
       "      <td>NaN</td>\n",
       "      <td>UNESCO Institute for Statistics</td>\n",
       "      <td>NaN</td>\n",
       "      <td>NaN</td>\n",
       "      <td>NaN</td>\n",
       "      <td>NaN</td>\n",
       "      <td>NaN</td>\n",
       "      <td>NaN</td>\n",
       "      <td>NaN</td>\n",
       "    </tr>\n",
       "  </tbody>\n",
       "</table>\n",
       "<p>1 rows × 21 columns</p>\n",
       "</div>"
      ],
      "text/plain": [
       "      Series Code     Topic  \\\n",
       "3536  UIS.TEP.5.B  Tertiary   \n",
       "\n",
       "                                         Indicator Name Short definition  \\\n",
       "3536  Percentage of all students in tertiary educati...              NaN   \n",
       "\n",
       "                                        Long definition  Unit of measure  \\\n",
       "3536  Total enrolment in short-cycle tertiary progra...              NaN   \n",
       "\n",
       "     Periodicity Base Period Other notes Aggregation method  ...  \\\n",
       "3536         NaN         NaN         NaN                NaN  ...   \n",
       "\n",
       "     Notes from original source  General comments  \\\n",
       "3536                        NaN               NaN   \n",
       "\n",
       "                               Source Statistical concept and methodology  \\\n",
       "3536  UNESCO Institute for Statistics                                 NaN   \n",
       "\n",
       "     Development relevance Related source links Other web links  \\\n",
       "3536                   NaN                  NaN             NaN   \n",
       "\n",
       "      Related indicators  License Type  Unnamed: 20  \n",
       "3536                 NaN           NaN          NaN  \n",
       "\n",
       "[1 rows x 21 columns]"
      ]
     },
     "execution_count": 108,
     "metadata": {},
     "output_type": "execute_result"
    }
   ],
   "source": [
    "series_df.loc[(series_df[\"Long definition\"].str.contains(\"Total enrolment in short-cycle tertiary programmes\", case=False, na=False))\n",
    "    & (series_df[\"Topic\"] == \"Tertiary\")]"
   ]
  },
  {
   "cell_type": "code",
   "execution_count": 109,
   "id": "1a0b8b75-0a22-4df1-9782-2a8138426dd7",
   "metadata": {},
   "outputs": [
    {
     "data": {
      "text/plain": [
       "242"
      ]
     },
     "execution_count": 109,
     "metadata": {},
     "output_type": "execute_result"
    }
   ],
   "source": [
    "data_df.loc[data_df[\"Indicator Code\"] == \"UIS.TEP.5.B\", :].shape[0]"
   ]
  },
  {
   "cell_type": "markdown",
   "id": "dca184ad-0a19-43ae-baee-a842bbeffa66",
   "metadata": {},
   "source": [
    "L'indicateur est présent pour 242 lignes, ce qui est cohérent avec ce que présente le dataset \"EdStatsCountry\""
   ]
  },
  {
   "cell_type": "code",
   "execution_count": 111,
   "id": "10d29fae-4ff1-485b-9c0f-033ea67ee230",
   "metadata": {},
   "outputs": [],
   "source": [
    "indicateurs.append(\"UIS.TEP.5.B\")"
   ]
  },
  {
   "cell_type": "code",
   "execution_count": 112,
   "id": "b07ff377-5089-40ec-bdf1-5f4367548bac",
   "metadata": {},
   "outputs": [
    {
     "data": {
      "text/html": [
       "<div>\n",
       "<style scoped>\n",
       "    .dataframe tbody tr th:only-of-type {\n",
       "        vertical-align: middle;\n",
       "    }\n",
       "\n",
       "    .dataframe tbody tr th {\n",
       "        vertical-align: top;\n",
       "    }\n",
       "\n",
       "    .dataframe thead th {\n",
       "        text-align: right;\n",
       "    }\n",
       "</style>\n",
       "<table border=\"1\" class=\"dataframe\">\n",
       "  <thead>\n",
       "    <tr style=\"text-align: right;\">\n",
       "      <th></th>\n",
       "      <th>Series Code</th>\n",
       "      <th>Topic</th>\n",
       "      <th>Indicator Name</th>\n",
       "      <th>Short definition</th>\n",
       "      <th>Long definition</th>\n",
       "      <th>Unit of measure</th>\n",
       "      <th>Periodicity</th>\n",
       "      <th>Base Period</th>\n",
       "      <th>Other notes</th>\n",
       "      <th>Aggregation method</th>\n",
       "      <th>...</th>\n",
       "      <th>Notes from original source</th>\n",
       "      <th>General comments</th>\n",
       "      <th>Source</th>\n",
       "      <th>Statistical concept and methodology</th>\n",
       "      <th>Development relevance</th>\n",
       "      <th>Related source links</th>\n",
       "      <th>Other web links</th>\n",
       "      <th>Related indicators</th>\n",
       "      <th>License Type</th>\n",
       "      <th>Unnamed: 20</th>\n",
       "    </tr>\n",
       "  </thead>\n",
       "  <tbody>\n",
       "    <tr>\n",
       "      <th>3539</th>\n",
       "      <td>UIS.TEP.6</td>\n",
       "      <td>Tertiary</td>\n",
       "      <td>Percentage of all students in tertiary educati...</td>\n",
       "      <td>NaN</td>\n",
       "      <td>Total enrolment in bachelors or equivalent pro...</td>\n",
       "      <td>NaN</td>\n",
       "      <td>NaN</td>\n",
       "      <td>NaN</td>\n",
       "      <td>NaN</td>\n",
       "      <td>NaN</td>\n",
       "      <td>...</td>\n",
       "      <td>NaN</td>\n",
       "      <td>NaN</td>\n",
       "      <td>UNESCO Institute for Statistics</td>\n",
       "      <td>NaN</td>\n",
       "      <td>NaN</td>\n",
       "      <td>NaN</td>\n",
       "      <td>NaN</td>\n",
       "      <td>NaN</td>\n",
       "      <td>NaN</td>\n",
       "      <td>NaN</td>\n",
       "    </tr>\n",
       "  </tbody>\n",
       "</table>\n",
       "<p>1 rows × 21 columns</p>\n",
       "</div>"
      ],
      "text/plain": [
       "     Series Code     Topic                                     Indicator Name  \\\n",
       "3539   UIS.TEP.6  Tertiary  Percentage of all students in tertiary educati...   \n",
       "\n",
       "     Short definition                                    Long definition  \\\n",
       "3539              NaN  Total enrolment in bachelors or equivalent pro...   \n",
       "\n",
       "      Unit of measure Periodicity Base Period Other notes Aggregation method  \\\n",
       "3539              NaN         NaN         NaN         NaN                NaN   \n",
       "\n",
       "      ... Notes from original source  General comments  \\\n",
       "3539  ...                        NaN               NaN   \n",
       "\n",
       "                               Source Statistical concept and methodology  \\\n",
       "3539  UNESCO Institute for Statistics                                 NaN   \n",
       "\n",
       "     Development relevance Related source links Other web links  \\\n",
       "3539                   NaN                  NaN             NaN   \n",
       "\n",
       "      Related indicators  License Type  Unnamed: 20  \n",
       "3539                 NaN           NaN          NaN  \n",
       "\n",
       "[1 rows x 21 columns]"
      ]
     },
     "execution_count": 112,
     "metadata": {},
     "output_type": "execute_result"
    }
   ],
   "source": [
    "series_df.loc[(series_df[\"Long definition\"].str.contains(\"Total enrolment in bachelors or equivalent programmes\", case=False, na=False))\n",
    "    & (series_df[\"Topic\"] == \"Tertiary\")]"
   ]
  },
  {
   "cell_type": "code",
   "execution_count": 113,
   "id": "9394bed9-6aa7-4ab1-be30-2042cda1d0d0",
   "metadata": {},
   "outputs": [
    {
     "data": {
      "text/plain": [
       "242"
      ]
     },
     "execution_count": 113,
     "metadata": {},
     "output_type": "execute_result"
    }
   ],
   "source": [
    "data_df.loc[data_df[\"Indicator Code\"] == \"UIS.TEP.6\", :].shape[0]"
   ]
  },
  {
   "cell_type": "markdown",
   "id": "7057ea1a-d77b-4ceb-bcc2-ca19ecc3fcff",
   "metadata": {},
   "source": [
    "L'indicateur est présent pour 242 lignes, ce qui est cohérent avec ce que présente le dataset \"EdStatsCountry\""
   ]
  },
  {
   "cell_type": "code",
   "execution_count": 115,
   "id": "161246d2-fd7f-4c61-bb07-bdf44270ddc6",
   "metadata": {},
   "outputs": [],
   "source": [
    "indicateurs.append(\"UIS.TEP.6\")"
   ]
  },
  {
   "cell_type": "code",
   "execution_count": 116,
   "id": "c142decb-77a9-4fce-b6de-2b87d5f63601",
   "metadata": {},
   "outputs": [
    {
     "data": {
      "text/html": [
       "<div>\n",
       "<style scoped>\n",
       "    .dataframe tbody tr th:only-of-type {\n",
       "        vertical-align: middle;\n",
       "    }\n",
       "\n",
       "    .dataframe tbody tr th {\n",
       "        vertical-align: top;\n",
       "    }\n",
       "\n",
       "    .dataframe thead th {\n",
       "        text-align: right;\n",
       "    }\n",
       "</style>\n",
       "<table border=\"1\" class=\"dataframe\">\n",
       "  <thead>\n",
       "    <tr style=\"text-align: right;\">\n",
       "      <th></th>\n",
       "      <th>Series Code</th>\n",
       "      <th>Topic</th>\n",
       "      <th>Indicator Name</th>\n",
       "      <th>Short definition</th>\n",
       "      <th>Long definition</th>\n",
       "      <th>Unit of measure</th>\n",
       "      <th>Periodicity</th>\n",
       "      <th>Base Period</th>\n",
       "      <th>Other notes</th>\n",
       "      <th>Aggregation method</th>\n",
       "      <th>...</th>\n",
       "      <th>Notes from original source</th>\n",
       "      <th>General comments</th>\n",
       "      <th>Source</th>\n",
       "      <th>Statistical concept and methodology</th>\n",
       "      <th>Development relevance</th>\n",
       "      <th>Related source links</th>\n",
       "      <th>Other web links</th>\n",
       "      <th>Related indicators</th>\n",
       "      <th>License Type</th>\n",
       "      <th>Unnamed: 20</th>\n",
       "    </tr>\n",
       "  </thead>\n",
       "  <tbody>\n",
       "    <tr>\n",
       "      <th>3542</th>\n",
       "      <td>UIS.TEP.7</td>\n",
       "      <td>Tertiary</td>\n",
       "      <td>Percentage of all students in tertiary educati...</td>\n",
       "      <td>NaN</td>\n",
       "      <td>Total enrolment in masters or equivalent progr...</td>\n",
       "      <td>NaN</td>\n",
       "      <td>NaN</td>\n",
       "      <td>NaN</td>\n",
       "      <td>NaN</td>\n",
       "      <td>NaN</td>\n",
       "      <td>...</td>\n",
       "      <td>NaN</td>\n",
       "      <td>NaN</td>\n",
       "      <td>UNESCO Institute for Statistics</td>\n",
       "      <td>NaN</td>\n",
       "      <td>NaN</td>\n",
       "      <td>NaN</td>\n",
       "      <td>NaN</td>\n",
       "      <td>NaN</td>\n",
       "      <td>NaN</td>\n",
       "      <td>NaN</td>\n",
       "    </tr>\n",
       "  </tbody>\n",
       "</table>\n",
       "<p>1 rows × 21 columns</p>\n",
       "</div>"
      ],
      "text/plain": [
       "     Series Code     Topic                                     Indicator Name  \\\n",
       "3542   UIS.TEP.7  Tertiary  Percentage of all students in tertiary educati...   \n",
       "\n",
       "     Short definition                                    Long definition  \\\n",
       "3542              NaN  Total enrolment in masters or equivalent progr...   \n",
       "\n",
       "      Unit of measure Periodicity Base Period Other notes Aggregation method  \\\n",
       "3542              NaN         NaN         NaN         NaN                NaN   \n",
       "\n",
       "      ... Notes from original source  General comments  \\\n",
       "3542  ...                        NaN               NaN   \n",
       "\n",
       "                               Source Statistical concept and methodology  \\\n",
       "3542  UNESCO Institute for Statistics                                 NaN   \n",
       "\n",
       "     Development relevance Related source links Other web links  \\\n",
       "3542                   NaN                  NaN             NaN   \n",
       "\n",
       "      Related indicators  License Type  Unnamed: 20  \n",
       "3542                 NaN           NaN          NaN  \n",
       "\n",
       "[1 rows x 21 columns]"
      ]
     },
     "execution_count": 116,
     "metadata": {},
     "output_type": "execute_result"
    }
   ],
   "source": [
    "series_df.loc[(series_df[\"Long definition\"].str.contains(\"Total enrolment in masters or equivalent programmes\", case=False, na=False))\n",
    "    & (series_df[\"Topic\"] == \"Tertiary\")]"
   ]
  },
  {
   "cell_type": "code",
   "execution_count": 117,
   "id": "2ae4f390-e9fa-4ed3-bae8-4be254a6c494",
   "metadata": {},
   "outputs": [
    {
     "data": {
      "text/plain": [
       "242"
      ]
     },
     "execution_count": 117,
     "metadata": {},
     "output_type": "execute_result"
    }
   ],
   "source": [
    "data_df.loc[data_df[\"Indicator Code\"] == \"UIS.TEP.7\", :].shape[0]"
   ]
  },
  {
   "cell_type": "markdown",
   "id": "a989cffd-e5f9-4bd9-bae2-3de6503a932c",
   "metadata": {},
   "source": [
    "L'indicateur est présent pour 242 lignes, ce qui est cohérent avec ce que présente le dataset \"EdStatsCountry\""
   ]
  },
  {
   "cell_type": "code",
   "execution_count": 119,
   "id": "6e2cd1d0-a650-4d8f-be74-e2749d3b8693",
   "metadata": {},
   "outputs": [],
   "source": [
    "indicateurs.append(\"UIS.TEP.7\")"
   ]
  },
  {
   "cell_type": "code",
   "execution_count": 120,
   "id": "5b8a870b-6afe-4a1a-a250-ad148cd54ea8",
   "metadata": {},
   "outputs": [
    {
     "data": {
      "text/html": [
       "<div>\n",
       "<style scoped>\n",
       "    .dataframe tbody tr th:only-of-type {\n",
       "        vertical-align: middle;\n",
       "    }\n",
       "\n",
       "    .dataframe tbody tr th {\n",
       "        vertical-align: top;\n",
       "    }\n",
       "\n",
       "    .dataframe thead th {\n",
       "        text-align: right;\n",
       "    }\n",
       "</style>\n",
       "<table border=\"1\" class=\"dataframe\">\n",
       "  <thead>\n",
       "    <tr style=\"text-align: right;\">\n",
       "      <th></th>\n",
       "      <th>Series Code</th>\n",
       "      <th>Topic</th>\n",
       "      <th>Indicator Name</th>\n",
       "      <th>Short definition</th>\n",
       "      <th>Long definition</th>\n",
       "      <th>Unit of measure</th>\n",
       "      <th>Periodicity</th>\n",
       "      <th>Base Period</th>\n",
       "      <th>Other notes</th>\n",
       "      <th>Aggregation method</th>\n",
       "      <th>...</th>\n",
       "      <th>Notes from original source</th>\n",
       "      <th>General comments</th>\n",
       "      <th>Source</th>\n",
       "      <th>Statistical concept and methodology</th>\n",
       "      <th>Development relevance</th>\n",
       "      <th>Related source links</th>\n",
       "      <th>Other web links</th>\n",
       "      <th>Related indicators</th>\n",
       "      <th>License Type</th>\n",
       "      <th>Unnamed: 20</th>\n",
       "    </tr>\n",
       "  </thead>\n",
       "  <tbody>\n",
       "    <tr>\n",
       "      <th>3545</th>\n",
       "      <td>UIS.TEP.8</td>\n",
       "      <td>Tertiary</td>\n",
       "      <td>Percentage of all students in tertiary educati...</td>\n",
       "      <td>NaN</td>\n",
       "      <td>Total enrolment in doctoral or equivalent prog...</td>\n",
       "      <td>NaN</td>\n",
       "      <td>NaN</td>\n",
       "      <td>NaN</td>\n",
       "      <td>NaN</td>\n",
       "      <td>NaN</td>\n",
       "      <td>...</td>\n",
       "      <td>NaN</td>\n",
       "      <td>NaN</td>\n",
       "      <td>UNESCO Institute for Statistics</td>\n",
       "      <td>NaN</td>\n",
       "      <td>NaN</td>\n",
       "      <td>NaN</td>\n",
       "      <td>NaN</td>\n",
       "      <td>NaN</td>\n",
       "      <td>NaN</td>\n",
       "      <td>NaN</td>\n",
       "    </tr>\n",
       "  </tbody>\n",
       "</table>\n",
       "<p>1 rows × 21 columns</p>\n",
       "</div>"
      ],
      "text/plain": [
       "     Series Code     Topic                                     Indicator Name  \\\n",
       "3545   UIS.TEP.8  Tertiary  Percentage of all students in tertiary educati...   \n",
       "\n",
       "     Short definition                                    Long definition  \\\n",
       "3545              NaN  Total enrolment in doctoral or equivalent prog...   \n",
       "\n",
       "      Unit of measure Periodicity Base Period Other notes Aggregation method  \\\n",
       "3545              NaN         NaN         NaN         NaN                NaN   \n",
       "\n",
       "      ... Notes from original source  General comments  \\\n",
       "3545  ...                        NaN               NaN   \n",
       "\n",
       "                               Source Statistical concept and methodology  \\\n",
       "3545  UNESCO Institute for Statistics                                 NaN   \n",
       "\n",
       "     Development relevance Related source links Other web links  \\\n",
       "3545                   NaN                  NaN             NaN   \n",
       "\n",
       "      Related indicators  License Type  Unnamed: 20  \n",
       "3545                 NaN           NaN          NaN  \n",
       "\n",
       "[1 rows x 21 columns]"
      ]
     },
     "execution_count": 120,
     "metadata": {},
     "output_type": "execute_result"
    }
   ],
   "source": [
    "series_df.loc[(series_df[\"Long definition\"].str.contains(\"Total enrolment in doctoral or equivalent programmes\", case=False, na=False))\n",
    "    & (series_df[\"Topic\"] == \"Tertiary\")]"
   ]
  },
  {
   "cell_type": "code",
   "execution_count": 121,
   "id": "f030d76a-702c-4fe2-a74f-89f3052a8014",
   "metadata": {},
   "outputs": [
    {
     "data": {
      "text/plain": [
       "242"
      ]
     },
     "execution_count": 121,
     "metadata": {},
     "output_type": "execute_result"
    }
   ],
   "source": [
    "data_df.loc[data_df[\"Indicator Code\"] == \"UIS.TEP.8\", :].shape[0]"
   ]
  },
  {
   "cell_type": "markdown",
   "id": "ee37d624-42bc-47c2-9d55-a019116944ec",
   "metadata": {},
   "source": [
    "L'indicateur est présent pour 242 lignes, ce qui est cohérent avec ce que présente le dataset \"EdStatsCountry\""
   ]
  },
  {
   "cell_type": "code",
   "execution_count": 123,
   "id": "3c2ffc98-fc92-4567-a45c-7f53cb5d9d78",
   "metadata": {},
   "outputs": [],
   "source": [
    "indicateurs.append(\"UIS.TEP.8\")"
   ]
  },
  {
   "cell_type": "markdown",
   "id": "6e1c2f88-d0f3-4386-a3f5-2d2db0ea5808",
   "metadata": {
    "jp-MarkdownHeadingCollapsed": true
   },
   "source": [
    "#### Recherchons des données sur le taux de diplomés"
   ]
  },
  {
   "cell_type": "markdown",
   "id": "ac656039-eb37-4fa4-ac3a-f76e20ae2166",
   "metadata": {
    "jp-MarkdownHeadingCollapsed": true
   },
   "source": [
    "##### Dans l'enseignement secondaire"
   ]
  },
  {
   "cell_type": "code",
   "execution_count": 126,
   "id": "9a1d57da-1fb5-4dfe-9e88-9d2e10e66bb2",
   "metadata": {},
   "outputs": [
    {
     "data": {
      "text/plain": [
       "Long definition\n",
       "Number of graduates regardless of age in all lower secondary education programmes expressed as a percentage of the population at the theoretical graduation age for lower secondary education. The ratio can exceed 100% due to over-aged and under-aged adolescents who enter lower secondary school for the first time early or late and/or repeat grades.                                                                  1\n",
       "Number of female graduates regardless of age in all lower secondary education programmes expressed as a percentage of the female population at the theoretical graduation age for lower secondary education. The ratio can exceed 100% due to over-aged and under-aged adolescents who enter lower secondary school for the first time early or late and/or repeat grades.                                                    1\n",
       "Ratio of the female gross lower secondary graduation ratio to the male gross lower secondary graduation ratio. It is calculated by dividing the female value for the indicator by the male value for the indicator. A GPI equal to 1 indicates parity between females and males. In general, a value less than 1 indicates disparity in favor of males and a value greater than 1 indicates disparity in favor of females.    1\n",
       "Number of male graduates regardless of age in all lower secondary education programmes expressed as a percentage of the male population at the theoretical graduation age for lower secondary education. The ratio can exceed 100% due to over-aged and under-aged adolescents who enter lower secondary school for the first time early or late and/or repeat grades.                                                        1\n",
       "Name: count, dtype: int64"
      ]
     },
     "execution_count": 126,
     "metadata": {},
     "output_type": "execute_result"
    }
   ],
   "source": [
    "series_df.loc[(series_df[\"Long definition\"].str.contains(\"Graduation\", case=False, na=False))\n",
    "    & (series_df[\"Topic\"] == \"Secondary\")][\"Long definition\"].value_counts()"
   ]
  },
  {
   "cell_type": "code",
   "execution_count": 127,
   "id": "a0b7f485-1c11-4a6f-b827-3b5b036584ae",
   "metadata": {},
   "outputs": [
    {
     "data": {
      "text/html": [
       "<div>\n",
       "<style scoped>\n",
       "    .dataframe tbody tr th:only-of-type {\n",
       "        vertical-align: middle;\n",
       "    }\n",
       "\n",
       "    .dataframe tbody tr th {\n",
       "        vertical-align: top;\n",
       "    }\n",
       "\n",
       "    .dataframe thead th {\n",
       "        text-align: right;\n",
       "    }\n",
       "</style>\n",
       "<table border=\"1\" class=\"dataframe\">\n",
       "  <thead>\n",
       "    <tr style=\"text-align: right;\">\n",
       "      <th></th>\n",
       "      <th>Series Code</th>\n",
       "      <th>Topic</th>\n",
       "      <th>Indicator Name</th>\n",
       "      <th>Short definition</th>\n",
       "      <th>Long definition</th>\n",
       "      <th>Unit of measure</th>\n",
       "      <th>Periodicity</th>\n",
       "      <th>Base Period</th>\n",
       "      <th>Other notes</th>\n",
       "      <th>Aggregation method</th>\n",
       "      <th>...</th>\n",
       "      <th>Notes from original source</th>\n",
       "      <th>General comments</th>\n",
       "      <th>Source</th>\n",
       "      <th>Statistical concept and methodology</th>\n",
       "      <th>Development relevance</th>\n",
       "      <th>Related source links</th>\n",
       "      <th>Other web links</th>\n",
       "      <th>Related indicators</th>\n",
       "      <th>License Type</th>\n",
       "      <th>Unnamed: 20</th>\n",
       "    </tr>\n",
       "  </thead>\n",
       "  <tbody>\n",
       "    <tr>\n",
       "      <th>3021</th>\n",
       "      <td>UIS.GGR.2</td>\n",
       "      <td>Secondary</td>\n",
       "      <td>Gross graduation ratio from lower secondary ed...</td>\n",
       "      <td>NaN</td>\n",
       "      <td>Number of graduates regardless of age in all l...</td>\n",
       "      <td>NaN</td>\n",
       "      <td>NaN</td>\n",
       "      <td>NaN</td>\n",
       "      <td>NaN</td>\n",
       "      <td>NaN</td>\n",
       "      <td>...</td>\n",
       "      <td>NaN</td>\n",
       "      <td>NaN</td>\n",
       "      <td>UNESCO Institute for Statistics</td>\n",
       "      <td>NaN</td>\n",
       "      <td>NaN</td>\n",
       "      <td>NaN</td>\n",
       "      <td>NaN</td>\n",
       "      <td>NaN</td>\n",
       "      <td>NaN</td>\n",
       "      <td>NaN</td>\n",
       "    </tr>\n",
       "  </tbody>\n",
       "</table>\n",
       "<p>1 rows × 21 columns</p>\n",
       "</div>"
      ],
      "text/plain": [
       "     Series Code      Topic  \\\n",
       "3021   UIS.GGR.2  Secondary   \n",
       "\n",
       "                                         Indicator Name Short definition  \\\n",
       "3021  Gross graduation ratio from lower secondary ed...              NaN   \n",
       "\n",
       "                                        Long definition  Unit of measure  \\\n",
       "3021  Number of graduates regardless of age in all l...              NaN   \n",
       "\n",
       "     Periodicity Base Period Other notes Aggregation method  ...  \\\n",
       "3021         NaN         NaN         NaN                NaN  ...   \n",
       "\n",
       "     Notes from original source  General comments  \\\n",
       "3021                        NaN               NaN   \n",
       "\n",
       "                               Source Statistical concept and methodology  \\\n",
       "3021  UNESCO Institute for Statistics                                 NaN   \n",
       "\n",
       "     Development relevance Related source links Other web links  \\\n",
       "3021                   NaN                  NaN             NaN   \n",
       "\n",
       "      Related indicators  License Type  Unnamed: 20  \n",
       "3021                 NaN           NaN          NaN  \n",
       "\n",
       "[1 rows x 21 columns]"
      ]
     },
     "execution_count": 127,
     "metadata": {},
     "output_type": "execute_result"
    }
   ],
   "source": [
    "series_df.loc[(series_df[\"Long definition\"].str.contains(\"Number of graduates regardless of age\", case=False, na=False))\n",
    "    & (series_df[\"Topic\"] == \"Secondary\")]"
   ]
  },
  {
   "cell_type": "code",
   "execution_count": 128,
   "id": "48f961f1-6863-4fc2-9e51-62b46445efb1",
   "metadata": {},
   "outputs": [
    {
     "data": {
      "text/plain": [
       "242"
      ]
     },
     "execution_count": 128,
     "metadata": {},
     "output_type": "execute_result"
    }
   ],
   "source": [
    "data_df.loc[data_df[\"Indicator Code\"] == \"UIS.GGR.2\", :].shape[0]"
   ]
  },
  {
   "cell_type": "markdown",
   "id": "5a5acb2d-c42a-4e61-816a-c0c6b50b9dab",
   "metadata": {},
   "source": [
    "L'indicateur est présent pour 242 lignes, ce qui est cohérent avec ce que présente le dataset \"EdStatsCountry\""
   ]
  },
  {
   "cell_type": "code",
   "execution_count": 130,
   "id": "cf26d70e-c6f6-4042-af9e-f664ff1195d6",
   "metadata": {},
   "outputs": [],
   "source": [
    "indicateurs.append(\"UIS.GGR.2\")"
   ]
  },
  {
   "cell_type": "markdown",
   "id": "2a115e00-3cc8-41a1-8385-c69de0f3b8e8",
   "metadata": {
    "jp-MarkdownHeadingCollapsed": true
   },
   "source": [
    "##### Dans l'enseignement supérieur"
   ]
  },
  {
   "cell_type": "code",
   "execution_count": 132,
   "id": "883e098e-49fd-4fcc-8927-c09ffdd33bd5",
   "metadata": {},
   "outputs": [
    {
     "data": {
      "text/plain": [
       "Long definition\n",
       "Number of female graduates from first degree programmes (at ISCED 6 and 7) expressed as a percentage of the female population of the theoretical graduation age of the most common first degree programme.                                                                                                                                                                                      1\n",
       "Number of male graduates from first degree programmes (at ISCED 6 and 7) expressed as a percentage of the male population of the theoretical graduation age of the most common first degree programme.                                                                                                                                                                                          1\n",
       "Number of graduates from first degree programmes (at ISCED 6 and 7) expressed as a percentage of the population of the theoretical graduation age of the most common first degree programme.                                                                                                                                                                                                    1\n",
       "Ratio of female gross graduation ratio to the male value for the same indicator. It is calculated by dividing the female value for the indicator by the male value for the indicator. A GPI equal to 1 indicates parity between females and males. In general, a value less than 1 indicates disparity in favor of males and a value greater than 1 indicates disparity in favor of females.    1\n",
       "Name: count, dtype: int64"
      ]
     },
     "execution_count": 132,
     "metadata": {},
     "output_type": "execute_result"
    }
   ],
   "source": [
    "series_df.loc[(series_df[\"Long definition\"].str.contains(\"Graduation\", case=False, na=False))\n",
    "    & (series_df[\"Topic\"] == \"Tertiary\")][\"Long definition\"].value_counts()"
   ]
  },
  {
   "cell_type": "code",
   "execution_count": 133,
   "id": "aafcea65-7f59-42a8-9687-768721718512",
   "metadata": {},
   "outputs": [
    {
     "data": {
      "text/html": [
       "<div>\n",
       "<style scoped>\n",
       "    .dataframe tbody tr th:only-of-type {\n",
       "        vertical-align: middle;\n",
       "    }\n",
       "\n",
       "    .dataframe tbody tr th {\n",
       "        vertical-align: top;\n",
       "    }\n",
       "\n",
       "    .dataframe thead th {\n",
       "        text-align: right;\n",
       "    }\n",
       "</style>\n",
       "<table border=\"1\" class=\"dataframe\">\n",
       "  <thead>\n",
       "    <tr style=\"text-align: right;\">\n",
       "      <th></th>\n",
       "      <th>Series Code</th>\n",
       "      <th>Topic</th>\n",
       "      <th>Indicator Name</th>\n",
       "      <th>Short definition</th>\n",
       "      <th>Long definition</th>\n",
       "      <th>Unit of measure</th>\n",
       "      <th>Periodicity</th>\n",
       "      <th>Base Period</th>\n",
       "      <th>Other notes</th>\n",
       "      <th>Aggregation method</th>\n",
       "      <th>...</th>\n",
       "      <th>Notes from original source</th>\n",
       "      <th>General comments</th>\n",
       "      <th>Source</th>\n",
       "      <th>Statistical concept and methodology</th>\n",
       "      <th>Development relevance</th>\n",
       "      <th>Related source links</th>\n",
       "      <th>Other web links</th>\n",
       "      <th>Related indicators</th>\n",
       "      <th>License Type</th>\n",
       "      <th>Unnamed: 20</th>\n",
       "    </tr>\n",
       "  </thead>\n",
       "  <tbody>\n",
       "    <tr>\n",
       "      <th>2331</th>\n",
       "      <td>SE.TER.CMPL.ZS</td>\n",
       "      <td>Tertiary</td>\n",
       "      <td>Gross graduation ratio from first degree progr...</td>\n",
       "      <td>NaN</td>\n",
       "      <td>Number of graduates from first degree programm...</td>\n",
       "      <td>NaN</td>\n",
       "      <td>NaN</td>\n",
       "      <td>NaN</td>\n",
       "      <td>NaN</td>\n",
       "      <td>NaN</td>\n",
       "      <td>...</td>\n",
       "      <td>NaN</td>\n",
       "      <td>NaN</td>\n",
       "      <td>UNESCO Institute for Statistics</td>\n",
       "      <td>NaN</td>\n",
       "      <td>NaN</td>\n",
       "      <td>NaN</td>\n",
       "      <td>NaN</td>\n",
       "      <td>NaN</td>\n",
       "      <td>NaN</td>\n",
       "      <td>NaN</td>\n",
       "    </tr>\n",
       "  </tbody>\n",
       "</table>\n",
       "<p>1 rows × 21 columns</p>\n",
       "</div>"
      ],
      "text/plain": [
       "         Series Code     Topic  \\\n",
       "2331  SE.TER.CMPL.ZS  Tertiary   \n",
       "\n",
       "                                         Indicator Name Short definition  \\\n",
       "2331  Gross graduation ratio from first degree progr...              NaN   \n",
       "\n",
       "                                        Long definition  Unit of measure  \\\n",
       "2331  Number of graduates from first degree programm...              NaN   \n",
       "\n",
       "     Periodicity Base Period Other notes Aggregation method  ...  \\\n",
       "2331         NaN         NaN         NaN                NaN  ...   \n",
       "\n",
       "     Notes from original source  General comments  \\\n",
       "2331                        NaN               NaN   \n",
       "\n",
       "                               Source Statistical concept and methodology  \\\n",
       "2331  UNESCO Institute for Statistics                                 NaN   \n",
       "\n",
       "     Development relevance Related source links Other web links  \\\n",
       "2331                   NaN                  NaN             NaN   \n",
       "\n",
       "      Related indicators  License Type  Unnamed: 20  \n",
       "2331                 NaN           NaN          NaN  \n",
       "\n",
       "[1 rows x 21 columns]"
      ]
     },
     "execution_count": 133,
     "metadata": {},
     "output_type": "execute_result"
    }
   ],
   "source": [
    "series_df.loc[(series_df[\"Long definition\"].str.contains(\"Number of graduates from first degree programmes\", case=False, na=False))\n",
    "    & (series_df[\"Topic\"] == \"Tertiary\")]"
   ]
  },
  {
   "cell_type": "code",
   "execution_count": 134,
   "id": "2573ec0f-4608-4996-b491-ff07cc995ff2",
   "metadata": {},
   "outputs": [
    {
     "data": {
      "text/plain": [
       "242"
      ]
     },
     "execution_count": 134,
     "metadata": {},
     "output_type": "execute_result"
    }
   ],
   "source": [
    "data_df.loc[data_df[\"Indicator Code\"] == \"SE.TER.CMPL.ZS\", :].shape[0]"
   ]
  },
  {
   "cell_type": "markdown",
   "id": "d7f01b0a-f387-42ae-9c3a-5475bc36a376",
   "metadata": {},
   "source": [
    "L'indicateur est présent pour 242 lignes, ce qui est cohérent avec ce que présente le dataset \"EdStatsCountry\""
   ]
  },
  {
   "cell_type": "code",
   "execution_count": 136,
   "id": "0435f356-4ac6-46c7-984d-e7016e2d2ad4",
   "metadata": {},
   "outputs": [],
   "source": [
    "indicateurs.append(\"SE.TER.CMPL.ZS\")"
   ]
  },
  {
   "cell_type": "markdown",
   "id": "0ad649b2-b76a-4216-a9bf-48e307bc17d3",
   "metadata": {
    "jp-MarkdownHeadingCollapsed": true
   },
   "source": [
    "#### Recherchons des données sur les revenus"
   ]
  },
  {
   "cell_type": "markdown",
   "id": "62795180-d277-4025-898c-8b6a1ab638b2",
   "metadata": {
    "jp-MarkdownHeadingCollapsed": true
   },
   "source": [
    "##### Revenu moyen par habitant"
   ]
  },
  {
   "cell_type": "code",
   "execution_count": 139,
   "id": "89dbeea5-9927-4969-9719-9051add2a796",
   "metadata": {},
   "outputs": [
    {
     "data": {
      "text/plain": [
       "Long definition\n",
       "Salaries after 10 years of experience refer to the scheduled annual salary of a full-time classroom teacher with the minimum training necessary to be fully qualified plus 10 years of experience. Salaries are in equivalent USD converted using PPPs for private consumption. Statutory salaries refer to scheduled salaries according to official pay scales, while actual salaries refer to the average annual salary earned by a full-time teacher. The salaries reported are gross (total sum paid by the employer) less the employer’s contribution to social security and pension, according to existing salary scales. Salaries are “before tax”, i.e. before deductions for income tax. Teachers’ salaries are one component of teachers’ total compensation. Other benefits, such as regional allowances for teaching in remote areas, family allowances, reduced rates on public transport and tax allowances on the purchase of cultural materials, may also form part of teachers’ total remuneration. There are also large differences in taxation and social-benefits systems in OECD countries. All this should be borne in mind when comparing statutory salaries across countries. Data after 2009 is not comparable to data for 2009 and before due to changes in methodology. For more information, consult the OECD's Education at a Glance website: http://www.oecd.org/edu/eag.htm                                            3\n",
       "Starting salaries refer to the average scheduled gross salary per year for a full-time teacher with the minimum training necessary to be fully qualified at the beginning of the teaching career. Salaries are in equivalent USD converted using PPPs for private consumption. Statutory salaries refer to scheduled salaries according to official pay scales, while actual salaries refer to the average annual salary earned by a full-time teacher. The salaries reported are gross (total sum paid by the employer) less the employer’s contribution to social security and pension, according to existing salary scales. Salaries are “before tax”, i.e. before deductions for income tax. Teachers’ salaries are one component of teachers’ total compensation. Other benefits, such as regional allowances for teaching in remote areas, family allowances, reduced rates on public transport and tax allowances on the purchase of cultural materials, may also form part of teachers’ total remuneration. There are also large differences in taxation and social-benefits systems in OECD countries. All this should be borne in mind when comparing statutory salaries across countries. Data after 2009 is not comparable to data for 2009 and before due to changes in methodology. For more information, consult the OECD's Education at a Glance website: http://www.oecd.org/edu/eag.htm                                             3\n",
       "Top of scale salaries reported refer to the scheduled maximum annual salary of a full-time classroom teacher with the minimum training to be fully qualified for the job. Salaries are in equivalent USD converted using PPPs for private consumption. Statutory salaries refer to scheduled salaries according to official pay scales, while actual salaries refer to the average annual salary earned by a full-time teacher. The salaries reported are gross (total sum paid by the employer) less the employer’s contribution to social security and pension, according to existing salary scales. Salaries are “before tax”, i.e. before deductions for income tax. Teachers’ salaries are one component of teachers’ total compensation. Other benefits, such as regional allowances for teaching in remote areas, family allowances, reduced rates on public transport and tax allowances on the purchase of cultural materials, may also form part of teachers’ total remuneration. There are also large differences in taxation and social-benefits systems in OECD countries. All this should be borne in mind when comparing statutory salaries across countries. Data after 2009 is not comparable to data for 2009 and before due to changes in methodology. For more information, consult the OECD's Education at a Glance website: http://www.oecd.org/edu/eag.htm                                                                     3\n",
       "Salaries after 15 years of experience refer to the scheduled annual salary of a full-time classroom teacher with the minimum training necessary to be fully qualified plus 15 years of experience. Salaries are in equivalent USD converted using PPPs for private consumption. Statutory salaries refer to scheduled salaries according to official pay scales, while actual salaries refer to the average annual salary earned by a full-time teacher. The salaries reported are gross (total sum paid by the employer) less the employer’s contribution to social security and pension, according to existing salary scales. Salaries are “before tax”, i.e. before deductions for income tax. Teachers’ salaries are one component of teachers’ total compensation. Other benefits, such as regional allowances for teaching in remote areas, family allowances, reduced rates on public transport and tax allowances on the purchase of cultural materials, may also form part of teachers’ total remuneration. There are also large differences in taxation and social-benefits systems in OECD countries. All this should be borne in mind when comparing statutory salaries across countries. Data after 2009 is not comparable to data for 2009 and before due to changes in methodology. For more information, consult the OECD's Education at a Glance website: http://www.oecd.org/edu/eag.htm                                            3\n",
       "Gini coefficient of average years of schooling. Age 15+. Quintile 5 measures the degree of inequality in years of schooling in a society. It is calculated similarly to the Gini coefficient of income or wealth. Results range from 0 to 100 with 0 indicating perfect equality and 100 indicating perfect inequality. Each poverty quintile represents one fifth of students with quintile 1 being the poorest 20 percent of students and quintile 5 being the richest 20 percent of students.                                                                                                                                                                                                                                                                                                                                                                                                                                                                                                                                                                                                                                                                                                                                                                                                                                                                                                                                                      2\n",
       "Gini coefficient of average years of schooling. Age 15+. Female measures the degree of inequality in years of schooling in a society. It is calculated similarly to the Gini coefficient of income or wealth. Results range from 0 to 100 with 0 indicating perfect equality and 100 indicating perfect inequality.                                                                                                                                                                                                                                                                                                                                                                                                                                                                                                                                                                                                                                                                                                                                                                                                                                                                                                                                                                                                                                                                                                                                   2\n",
       "Gini coefficient of average years of schooling. Age 15+. Urban measures the degree of inequality in years of schooling in a society. It is calculated similarly to the Gini coefficient of income or wealth. Results range from 0 to 100 with 0 indicating perfect equality and 100 indicating perfect inequality.                                                                                                                                                                                                                                                                                                                                                                                                                                                                                                                                                                                                                                                                                                                                                                                                                                                                                                                                                                                                                                                                                                                                    2\n",
       "Gini coefficient of average years of schooling. Age 15+ measures the degree of inequality in years of schooling in a society. It is calculated similarly to the Gini coefficient of income or wealth. Results range from 0 to 100 with 0 indicating perfect equality and 100 indicating perfect inequality.                                                                                                                                                                                                                                                                                                                                                                                                                                                                                                                                                                                                                                                                                                                                                                                                                                                                                                                                                                                                                                                                                                                                           2\n",
       "Gini coefficient of average years of schooling. Age 15+. Quintile 4 measures the degree of inequality in years of schooling in a society. It is calculated similarly to the Gini coefficient of income or wealth. Results range from 0 to 100 with 0 indicating perfect equality and 100 indicating perfect inequality. Each poverty quintile represents one fifth of students with quintile 1 being the poorest 20 percent of students and quintile 5 being the richest 20 percent of students.                                                                                                                                                                                                                                                                                                                                                                                                                                                                                                                                                                                                                                                                                                                                                                                                                                                                                                                                                      2\n",
       "Gini coefficient of average years of schooling. Age 15+. Quintile 3 measures the degree of inequality in years of schooling in a society. It is calculated similarly to the Gini coefficient of income or wealth. Results range from 0 to 100 with 0 indicating perfect equality and 100 indicating perfect inequality. Each poverty quintile represents one fifth of students with quintile 1 being the poorest 20 percent of students and quintile 5 being the richest 20 percent of students.                                                                                                                                                                                                                                                                                                                                                                                                                                                                                                                                                                                                                                                                                                                                                                                                                                                                                                                                                      2\n",
       "Gini coefficient of average years of schooling. Age 15+. Quintile 2 measures the degree of inequality in years of schooling in a society. It is calculated similarly to the Gini coefficient of income or wealth. Results range from 0 to 100 with 0 indicating perfect equality and 100 indicating perfect inequality. Each poverty quintile represents one fifth of students with quintile 1 being the poorest 20 percent of students and quintile 5 being the richest 20 percent of students.                                                                                                                                                                                                                                                                                                                                                                                                                                                                                                                                                                                                                                                                                                                                                                                                                                                                                                                                                      2\n",
       "Gini coefficient of average years of schooling. Age 15+. Quintile 1 measures the degree of inequality in years of schooling in a society. It is calculated similarly to the Gini coefficient of income or wealth. Results range from 0 to 100 with 0 indicating perfect equality and 100 indicating perfect inequality. Each poverty quintile represents one fifth of students with quintile 1 being the poorest 20 percent of students and quintile 5 being the richest 20 percent of students.                                                                                                                                                                                                                                                                                                                                                                                                                                                                                                                                                                                                                                                                                                                                                                                                                                                                                                                                                      2\n",
       "Gini coefficient of average years of schooling. Age 15+. Male measures the degree of inequality in years of schooling in a society. It is calculated similarly to the Gini coefficient of income or wealth. Results range from 0 to 100 with 0 indicating perfect equality and 100 indicating perfect inequality.                                                                                                                                                                                                                                                                                                                                                                                                                                                                                                                                                                                                                                                                                                                                                                                                                                                                                                                                                                                                                                                                                                                                     2\n",
       "Gini coefficient of average years of schooling. Age 15+. Rural measures the degree of inequality in years of schooling in a society. It is calculated similarly to the Gini coefficient of income or wealth. Results range from 0 to 100 with 0 indicating perfect equality and 100 indicating perfect inequality.                                                                                                                                                                                                                                                                                                                                                                                                                                                                                                                                                                                                                                                                                                                                                                                                                                                                                                                                                                                                                                                                                                                                    2\n",
       "Salaries after 15 years of experience refer to the scheduled annual salary of a full-time upper secondary classroom teacher (general programs only) with the minimum training necessary to be fully qualified plus 15 years of experience. Salaries are in equivalent USD converted using PPPs for private consumption. Statutory salaries refer to scheduled salaries according to official pay scales, while actual salaries refer to the average annual salary earned by a full-time teacher. The salaries reported are gross (total sum paid by the employer) less the employer’s contribution to social security and pension, according to existing salary scales. Salaries are “before tax”, i.e. before deductions for income tax. Teachers’ salaries are one component of teachers’ total compensation. Other benefits, such as regional allowances for teaching in remote areas, family allowances, reduced rates on public transport and tax allowances on the purchase of cultural materials, may also form part of teachers’ total remuneration. There are also large differences in taxation and social-benefits systems in OECD countries. All this should be borne in mind when comparing statutory salaries across countries. Data after 2009 is not comparable to data for 2009 and before due to changes in methodology. For more information, consult the OECD's Education at a Glance website: http://www.oecd.org/edu/eag.htm    1\n",
       "Salaries after 10 years of experience refer to the scheduled annual salary of a full-time upper secondary classroom teacher (general programs only) with the minimum training necessary to be fully qualified plus 10 years of experience. Salaries are in equivalent USD converted using PPPs for private consumption. Statutory salaries refer to scheduled salaries according to official pay scales, while actual salaries refer to the average annual salary earned by a full-time teacher. The salaries reported are gross (total sum paid by the employer) less the employer’s contribution to social security and pension, according to existing salary scales. Salaries are “before tax”, i.e. before deductions for income tax. Teachers’ salaries are one component of teachers’ total compensation. Other benefits, such as regional allowances for teaching in remote areas, family allowances, reduced rates on public transport and tax allowances on the purchase of cultural materials, may also form part of teachers’ total remuneration. There are also large differences in taxation and social-benefits systems in OECD countries. All this should be borne in mind when comparing statutory salaries across countries. Data after 2009 is not comparable to data for 2009 and before due to changes in methodology. For more information, consult the OECD's Education at a Glance website: http://www.oecd.org/edu/eag.htm    1\n",
       "Starting salaries refer to the average scheduled gross salary per year for a full-time upper secondary teacher (general programs only) with the minimum training necessary to be fully qualified at the beginning of the teaching career. Salaries are in equivalent USD converted using PPPs for private consumption. Statutory salaries refer to scheduled salaries according to official pay scales, while actual salaries refer to the average annual salary earned by a full-time teacher. The salaries reported are gross (total sum paid by the employer) less the employer’s contribution to social security and pension, according to existing salary scales. Salaries are “before tax”, i.e. before deductions for income tax. Teachers’ salaries are one component of teachers’ total compensation. Other benefits, such as regional allowances for teaching in remote areas, family allowances, reduced rates on public transport and tax allowances on the purchase of cultural materials, may also form part of teachers’ total remuneration. There are also large differences in taxation and social-benefits systems in OECD countries. All this should be borne in mind when comparing statutory salaries across countries. Data after 2009 is not comparable to data for 2009 and before due to changes in methodology. For more information, consult the OECD's Education at a Glance website: http://www.oecd.org/edu/eag.htm     1\n",
       "GNI (formerly GNP) is the sum of value added by all resident producers plus any product taxes (less subsidies) not included in the valuation of output plus net receipts of primary income (compensation of employees and property income) from abroad. Data are in current U.S. dollars.                                                                                                                                                                                                                                                                                                                                                                                                                                                                                                                                                                                                                                                                                                                                                                                                                                                                                                                                                                                                                                                                                                                                                             1\n",
       "GNI per capita based on purchasing power parity (PPP). PPP GNI is gross national income (GNI) converted to international dollars using purchasing power parity rates. An international dollar has the same purchasing power over GNI as a U.S. dollar has in the United States. GNI is the sum of value added by all resident producers plus any product taxes (less subsidies) not included in the valuation of output plus net receipts of primary income (compensation of employees and property income) from abroad. Data are in current international dollars based on the 2011 ICP round.                                                                                                                                                                                                                                                                                                                                                                                                                                                                                                                                                                                                                                                                                                                                                                                                                                                       1\n",
       "GNI per capita (formerly GNP per capita) is the gross national income, converted to U.S. dollars using the World Bank Atlas method, divided by the midyear population. GNI is the sum of value added by all resident producers plus any product taxes (less subsidies) not included in the valuation of output plus net receipts of primary income (compensation of employees and property income) from abroad. GNI, calculated in national currency, is usually converted to U.S. dollars at official exchange rates for comparisons across economies, although an alternative rate is used when the official exchange rate is judged to diverge by an exceptionally large margin from the rate actually applied in international transactions. To smooth fluctuations in prices and exchange rates, a special Atlas method of conversion is used by the World Bank. This applies a conversion factor that averages the exchange rate for a given year and the two preceding years, adjusted for differences in rates of inflation between the country, and through 2000, the G-5 countries (France, Germany, Japan, the United Kingdom, and the United States). From 2001, these countries include the Euro area, Japan, the United Kingdom, and the United States.                                                                                                                                                                                 1\n",
       "PPP GNI (formerly PPP GNP) is gross national income (GNI) converted to international dollars using purchasing power parity rates. An international dollar has the same purchasing power over GNI as a U.S. dollar has in the United States. Gross national income is the sum of value added by all resident producers plus any product taxes (less subsidies) not included in the valuation of output plus net receipts of primary income (compensation of employees and property income) from abroad. Data are in current international dollars. For most economies PPP figures are extrapolated from the 2011 International Comparison Program (ICP) benchmark estimates or imputed using a statistical model based on the 2011 ICP. For 47 high- and upper middle-income economies conversion factors are provided by Eurostat and the Organisation for Economic Co-operation and Development (OECD).                                                                                                                                                                                                                                                                                                                                                                                                                                                                                                                                              1\n",
       "PPP GDP is gross domestic product converted to international dollars using purchasing power parity rates. An international dollar has the same purchasing power over GDP as the U.S. dollar has in the United States. GDP is the sum of gross value added by all resident producers in the economy plus any product taxes and minus any subsidies not included in the value of the products. It is calculated without making deductions for depreciation of fabricated assets or for depletion and degradation of natural resources. Data are in current international dollars. For most economies PPP figures are extrapolated from the 2011 International Comparison Program (ICP) benchmark estimates or imputed using a statistical model based on the 2011 ICP. For 47 high- and upper middle-income economies conversion factors are provided by Eurostat and the Organisation for Economic Co-operation and Development (OECD).                                                                                                                                                                                                                                                                                                                                                                                                                                                                                                                1\n",
       "Top of scale salaries reported refer to the scheduled maximum annual salary of a full-time upper secondary classroom teacher (general programs only) with the minimum training to be fully qualified for the job. Salaries are in equivalent USD converted using PPPs for private consumption. Statutory salaries refer to scheduled salaries according to official pay scales, while actual salaries refer to the average annual salary earned by a full-time teacher. The salaries reported are gross (total sum paid by the employer) less the employer’s contribution to social security and pension, according to existing salary scales. Salaries are “before tax”, i.e. before deductions for income tax. Teachers’ salaries are one component of teachers’ total compensation. Other benefits, such as regional allowances for teaching in remote areas, family allowances, reduced rates on public transport and tax allowances on the purchase of cultural materials, may also form part of teachers’ total remuneration. There are also large differences in taxation and social-benefits systems in OECD countries. All this should be borne in mind when comparing statutory salaries across countries. Data after 2009 is not comparable to data for 2009 and before due to changes in methodology. For more information, consult the OECD's Education at a Glance website: http://www.oecd.org/edu/eag.htm                             1\n",
       "Name: count, dtype: int64"
      ]
     },
     "execution_count": 139,
     "metadata": {},
     "output_type": "execute_result"
    }
   ],
   "source": [
    "series_df.loc[(series_df[\"Long definition\"].str.contains(\"income\", case=False, na=False))][\"Long definition\"].value_counts()"
   ]
  },
  {
   "cell_type": "code",
   "execution_count": 140,
   "id": "2d2459fb-c688-403c-9072-fb0b30011e65",
   "metadata": {},
   "outputs": [
    {
     "data": {
      "text/html": [
       "<div>\n",
       "<style scoped>\n",
       "    .dataframe tbody tr th:only-of-type {\n",
       "        vertical-align: middle;\n",
       "    }\n",
       "\n",
       "    .dataframe tbody tr th {\n",
       "        vertical-align: top;\n",
       "    }\n",
       "\n",
       "    .dataframe thead th {\n",
       "        text-align: right;\n",
       "    }\n",
       "</style>\n",
       "<table border=\"1\" class=\"dataframe\">\n",
       "  <thead>\n",
       "    <tr style=\"text-align: right;\">\n",
       "      <th></th>\n",
       "      <th>Series Code</th>\n",
       "      <th>Topic</th>\n",
       "      <th>Indicator Name</th>\n",
       "      <th>Short definition</th>\n",
       "      <th>Long definition</th>\n",
       "      <th>Unit of measure</th>\n",
       "      <th>Periodicity</th>\n",
       "      <th>Base Period</th>\n",
       "      <th>Other notes</th>\n",
       "      <th>Aggregation method</th>\n",
       "      <th>...</th>\n",
       "      <th>Notes from original source</th>\n",
       "      <th>General comments</th>\n",
       "      <th>Source</th>\n",
       "      <th>Statistical concept and methodology</th>\n",
       "      <th>Development relevance</th>\n",
       "      <th>Related source links</th>\n",
       "      <th>Other web links</th>\n",
       "      <th>Related indicators</th>\n",
       "      <th>License Type</th>\n",
       "      <th>Unnamed: 20</th>\n",
       "    </tr>\n",
       "  </thead>\n",
       "  <tbody>\n",
       "    <tr>\n",
       "      <th>1682</th>\n",
       "      <td>OECD.TSAL.3.E0</td>\n",
       "      <td>Teachers</td>\n",
       "      <td>Annual statutory teacher salaries in public in...</td>\n",
       "      <td>Starting salaries refer to the average schedul...</td>\n",
       "      <td>Starting salaries refer to the average schedul...</td>\n",
       "      <td>NaN</td>\n",
       "      <td>NaN</td>\n",
       "      <td>NaN</td>\n",
       "      <td>NaN</td>\n",
       "      <td>NaN</td>\n",
       "      <td>...</td>\n",
       "      <td>NaN</td>\n",
       "      <td>NaN</td>\n",
       "      <td>Organisation for Economic Co-operation and Dev...</td>\n",
       "      <td>NaN</td>\n",
       "      <td>NaN</td>\n",
       "      <td>NaN</td>\n",
       "      <td>NaN</td>\n",
       "      <td>NaN</td>\n",
       "      <td>NaN</td>\n",
       "      <td>NaN</td>\n",
       "    </tr>\n",
       "  </tbody>\n",
       "</table>\n",
       "<p>1 rows × 21 columns</p>\n",
       "</div>"
      ],
      "text/plain": [
       "         Series Code     Topic  \\\n",
       "1682  OECD.TSAL.3.E0  Teachers   \n",
       "\n",
       "                                         Indicator Name  \\\n",
       "1682  Annual statutory teacher salaries in public in...   \n",
       "\n",
       "                                       Short definition  \\\n",
       "1682  Starting salaries refer to the average schedul...   \n",
       "\n",
       "                                        Long definition  Unit of measure  \\\n",
       "1682  Starting salaries refer to the average schedul...              NaN   \n",
       "\n",
       "     Periodicity Base Period Other notes Aggregation method  ...  \\\n",
       "1682         NaN         NaN         NaN                NaN  ...   \n",
       "\n",
       "     Notes from original source  General comments  \\\n",
       "1682                        NaN               NaN   \n",
       "\n",
       "                                                 Source  \\\n",
       "1682  Organisation for Economic Co-operation and Dev...   \n",
       "\n",
       "     Statistical concept and methodology Development relevance  \\\n",
       "1682                                 NaN                   NaN   \n",
       "\n",
       "     Related source links Other web links  Related indicators  License Type  \\\n",
       "1682                  NaN             NaN                 NaN           NaN   \n",
       "\n",
       "      Unnamed: 20  \n",
       "1682          NaN  \n",
       "\n",
       "[1 rows x 21 columns]"
      ]
     },
     "execution_count": 140,
     "metadata": {},
     "output_type": "execute_result"
    }
   ],
   "source": [
    "series_df.loc[(series_df[\"Long definition\"].str.contains(\"Starting salaries refer to the average scheduled gross salary per year for a full-time upper secondary teacher\", case=False, na=False))]"
   ]
  },
  {
   "cell_type": "code",
   "execution_count": 141,
   "id": "6567576f-30d6-4e6b-aef5-009210c8d22e",
   "metadata": {},
   "outputs": [
    {
     "data": {
      "text/plain": [
       "242"
      ]
     },
     "execution_count": 141,
     "metadata": {},
     "output_type": "execute_result"
    }
   ],
   "source": [
    "data_df.loc[data_df[\"Indicator Code\"] == \"OECD.TSAL.3.E0\", :].shape[0]"
   ]
  },
  {
   "cell_type": "markdown",
   "id": "dbe6a3b0-298c-4408-b813-c625dbda4584",
   "metadata": {},
   "source": [
    "L'indicateur est présent pour 242 lignes, ce qui est cohérent avec ce que présente le dataset \"EdStatsCountry\""
   ]
  },
  {
   "cell_type": "code",
   "execution_count": 143,
   "id": "eff7b5da-e6bd-4625-a3d4-331b68e89bfd",
   "metadata": {},
   "outputs": [],
   "source": [
    "indicateurs.append(\"OECD.TSAL.3.E0\")"
   ]
  },
  {
   "cell_type": "markdown",
   "id": "c74cabbb-769d-4bae-9764-4cc0d2c55d48",
   "metadata": {
    "jp-MarkdownHeadingCollapsed": true
   },
   "source": [
    "##### PIB par habitant"
   ]
  },
  {
   "cell_type": "code",
   "execution_count": 145,
   "id": "b71eab54-158f-4895-9dad-f3f9d2b0781d",
   "metadata": {},
   "outputs": [
    {
     "data": {
      "text/plain": [
       "Long definition\n",
       "GNI per capita (formerly GNP per capita) is the gross national income, converted to U.S. dollars using the World Bank Atlas method, divided by the midyear population. GNI is the sum of value added by all resident producers plus any product taxes (less subsidies) not included in the valuation of output plus net receipts of primary income (compensation of employees and property income) from abroad. GNI, calculated in national currency, is usually converted to U.S. dollars at official exchange rates for comparisons across economies, although an alternative rate is used when the official exchange rate is judged to diverge by an exceptionally large margin from the rate actually applied in international transactions. To smooth fluctuations in prices and exchange rates, a special Atlas method of conversion is used by the World Bank. This applies a conversion factor that averages the exchange rate for a given year and the two preceding years, adjusted for differences in rates of inflation between the country, and through 2000, the G-5 countries (France, Germany, Japan, the United Kingdom, and the United States). From 2001, these countries include the Euro area, Japan, the United Kingdom, and the United States.    1\n",
       "GNI per capita based on purchasing power parity (PPP). PPP GNI is gross national income (GNI) converted to international dollars using purchasing power parity rates. An international dollar has the same purchasing power over GNI as a U.S. dollar has in the United States. GNI is the sum of value added by all resident producers plus any product taxes (less subsidies) not included in the valuation of output plus net receipts of primary income (compensation of employees and property income) from abroad. Data are in current international dollars based on the 2011 ICP round.                                                                                                                                                                                                                                                                                                                                                                                                                                                                                                                                                                                                                                                                          1\n",
       "Name: count, dtype: int64"
      ]
     },
     "execution_count": 145,
     "metadata": {},
     "output_type": "execute_result"
    }
   ],
   "source": [
    "series_df.loc[(series_df[\"Long definition\"].str.contains(\"capita\", case=False, na=False))\n",
    "    & (series_df[\"Long definition\"].str.contains(\"income\", case=False, na=False))][\"Long definition\"].value_counts()"
   ]
  },
  {
   "cell_type": "code",
   "execution_count": 146,
   "id": "2f938ab6-44da-4eb7-ad4b-49dcc2281d4b",
   "metadata": {},
   "outputs": [
    {
     "data": {
      "text/html": [
       "<div>\n",
       "<style scoped>\n",
       "    .dataframe tbody tr th:only-of-type {\n",
       "        vertical-align: middle;\n",
       "    }\n",
       "\n",
       "    .dataframe tbody tr th {\n",
       "        vertical-align: top;\n",
       "    }\n",
       "\n",
       "    .dataframe thead th {\n",
       "        text-align: right;\n",
       "    }\n",
       "</style>\n",
       "<table border=\"1\" class=\"dataframe\">\n",
       "  <thead>\n",
       "    <tr style=\"text-align: right;\">\n",
       "      <th></th>\n",
       "      <th>Series Code</th>\n",
       "      <th>Topic</th>\n",
       "      <th>Indicator Name</th>\n",
       "      <th>Short definition</th>\n",
       "      <th>Long definition</th>\n",
       "      <th>Unit of measure</th>\n",
       "      <th>Periodicity</th>\n",
       "      <th>Base Period</th>\n",
       "      <th>Other notes</th>\n",
       "      <th>Aggregation method</th>\n",
       "      <th>...</th>\n",
       "      <th>Notes from original source</th>\n",
       "      <th>General comments</th>\n",
       "      <th>Source</th>\n",
       "      <th>Statistical concept and methodology</th>\n",
       "      <th>Development relevance</th>\n",
       "      <th>Related source links</th>\n",
       "      <th>Other web links</th>\n",
       "      <th>Related indicators</th>\n",
       "      <th>License Type</th>\n",
       "      <th>Unnamed: 20</th>\n",
       "    </tr>\n",
       "  </thead>\n",
       "  <tbody>\n",
       "    <tr>\n",
       "      <th>1668</th>\n",
       "      <td>NY.GNP.PCAP.CD</td>\n",
       "      <td>Economic Policy &amp; Debt: National accounts: Atl...</td>\n",
       "      <td>GNI per capita, Atlas method (current US$)</td>\n",
       "      <td>NaN</td>\n",
       "      <td>GNI per capita (formerly GNP per capita) is th...</td>\n",
       "      <td>NaN</td>\n",
       "      <td>Annual</td>\n",
       "      <td>NaN</td>\n",
       "      <td>NaN</td>\n",
       "      <td>Weighted average</td>\n",
       "      <td>...</td>\n",
       "      <td>NaN</td>\n",
       "      <td>NaN</td>\n",
       "      <td>World Bank national accounts data, and OECD Na...</td>\n",
       "      <td>NaN</td>\n",
       "      <td>NaN</td>\n",
       "      <td>NaN</td>\n",
       "      <td>NaN</td>\n",
       "      <td>NaN</td>\n",
       "      <td>NaN</td>\n",
       "      <td>NaN</td>\n",
       "    </tr>\n",
       "    <tr>\n",
       "      <th>1669</th>\n",
       "      <td>NY.GNP.PCAP.PP.CD</td>\n",
       "      <td>Economic Policy &amp; Debt: Purchasing power parity</td>\n",
       "      <td>GNI per capita, PPP (current international $)</td>\n",
       "      <td>NaN</td>\n",
       "      <td>GNI per capita based on purchasing power parit...</td>\n",
       "      <td>NaN</td>\n",
       "      <td>Annual</td>\n",
       "      <td>NaN</td>\n",
       "      <td>NaN</td>\n",
       "      <td>Weighted average</td>\n",
       "      <td>...</td>\n",
       "      <td>NaN</td>\n",
       "      <td>NaN</td>\n",
       "      <td>World Bank, International Comparison Program d...</td>\n",
       "      <td>NaN</td>\n",
       "      <td>NaN</td>\n",
       "      <td>NaN</td>\n",
       "      <td>NaN</td>\n",
       "      <td>NaN</td>\n",
       "      <td>NaN</td>\n",
       "      <td>NaN</td>\n",
       "    </tr>\n",
       "  </tbody>\n",
       "</table>\n",
       "<p>2 rows × 21 columns</p>\n",
       "</div>"
      ],
      "text/plain": [
       "            Series Code                                              Topic  \\\n",
       "1668     NY.GNP.PCAP.CD  Economic Policy & Debt: National accounts: Atl...   \n",
       "1669  NY.GNP.PCAP.PP.CD    Economic Policy & Debt: Purchasing power parity   \n",
       "\n",
       "                                     Indicator Name Short definition  \\\n",
       "1668     GNI per capita, Atlas method (current US$)              NaN   \n",
       "1669  GNI per capita, PPP (current international $)              NaN   \n",
       "\n",
       "                                        Long definition  Unit of measure  \\\n",
       "1668  GNI per capita (formerly GNP per capita) is th...              NaN   \n",
       "1669  GNI per capita based on purchasing power parit...              NaN   \n",
       "\n",
       "     Periodicity Base Period Other notes Aggregation method  ...  \\\n",
       "1668      Annual         NaN         NaN   Weighted average  ...   \n",
       "1669      Annual         NaN         NaN   Weighted average  ...   \n",
       "\n",
       "     Notes from original source  General comments  \\\n",
       "1668                        NaN               NaN   \n",
       "1669                        NaN               NaN   \n",
       "\n",
       "                                                 Source  \\\n",
       "1668  World Bank national accounts data, and OECD Na...   \n",
       "1669  World Bank, International Comparison Program d...   \n",
       "\n",
       "     Statistical concept and methodology Development relevance  \\\n",
       "1668                                 NaN                   NaN   \n",
       "1669                                 NaN                   NaN   \n",
       "\n",
       "     Related source links Other web links  Related indicators  License Type  \\\n",
       "1668                  NaN             NaN                 NaN           NaN   \n",
       "1669                  NaN             NaN                 NaN           NaN   \n",
       "\n",
       "      Unnamed: 20  \n",
       "1668          NaN  \n",
       "1669          NaN  \n",
       "\n",
       "[2 rows x 21 columns]"
      ]
     },
     "execution_count": 146,
     "metadata": {},
     "output_type": "execute_result"
    }
   ],
   "source": [
    "series_df.loc[(series_df[\"Long definition\"].str.contains(\"GNI per capita \", case=False, na=False))]"
   ]
  },
  {
   "cell_type": "code",
   "execution_count": 147,
   "id": "c8673eae-5656-4d1a-8af0-6cec88069acb",
   "metadata": {},
   "outputs": [
    {
     "data": {
      "text/plain": [
       "242"
      ]
     },
     "execution_count": 147,
     "metadata": {},
     "output_type": "execute_result"
    }
   ],
   "source": [
    "data_df.loc[data_df[\"Indicator Code\"] == \"NY.GNP.PCAP.CD\", :].shape[0]"
   ]
  },
  {
   "cell_type": "markdown",
   "id": "34a14030-be62-42d4-97a2-a78a59c89e0a",
   "metadata": {},
   "source": [
    "L'indicateur est présent pour 242 lignes, ce qui est cohérent avec ce que présente le dataset \"EdStatsCountry\""
   ]
  },
  {
   "cell_type": "code",
   "execution_count": 149,
   "id": "71111c5d-4aa8-4896-a6ab-a5ce2eb8cb83",
   "metadata": {},
   "outputs": [],
   "source": [
    "indicateurs.append(\"NY.GNP.PCAP.CD\")"
   ]
  },
  {
   "cell_type": "markdown",
   "id": "c20f2316-17a6-40f8-8a5d-b9f89fe55032",
   "metadata": {
    "jp-MarkdownHeadingCollapsed": true
   },
   "source": [
    "#### Recherchons des données démographiques"
   ]
  },
  {
   "cell_type": "markdown",
   "id": "a0c4cd5a-978d-4473-961e-38f7c4f35ccb",
   "metadata": {
    "jp-MarkdownHeadingCollapsed": true
   },
   "source": [
    "##### Proportion de la population agée de 15 à 24ans (niveau lycée ou universitaire)"
   ]
  },
  {
   "cell_type": "code",
   "execution_count": 152,
   "id": "28fcd3a8-8c5f-4ee3-8c8a-69ab6619b4eb",
   "metadata": {},
   "outputs": [
    {
     "data": {
      "text/plain": [
       "Long definition\n",
       "Percentage of population age 15-19 with secondary schooling. Completed Secondary                           1\n",
       "Percentage of population age 15-19 with secondary schooling. Total (Incomplete and Completed Secondary)    1\n",
       "Name: count, dtype: int64"
      ]
     },
     "execution_count": 152,
     "metadata": {},
     "output_type": "execute_result"
    }
   ],
   "source": [
    "series_df.loc[(series_df[\"Long definition\"].str.contains(\"Percentage of population\", case=False, na=False))\n",
    "    & (series_df[\"Long definition\"].str.contains(\"15-\", case=False, na=False))\n",
    "    & (series_df[\"Long definition\"].str.contains(\"secondary\", case=False, na=False))][\"Long definition\"].value_counts()"
   ]
  },
  {
   "cell_type": "code",
   "execution_count": 153,
   "id": "2a59f5d5-dd2c-4fdc-91ed-8983186b03ce",
   "metadata": {},
   "outputs": [
    {
     "data": {
      "text/html": [
       "<div>\n",
       "<style scoped>\n",
       "    .dataframe tbody tr th:only-of-type {\n",
       "        vertical-align: middle;\n",
       "    }\n",
       "\n",
       "    .dataframe tbody tr th {\n",
       "        vertical-align: top;\n",
       "    }\n",
       "\n",
       "    .dataframe thead th {\n",
       "        text-align: right;\n",
       "    }\n",
       "</style>\n",
       "<table border=\"1\" class=\"dataframe\">\n",
       "  <thead>\n",
       "    <tr style=\"text-align: right;\">\n",
       "      <th></th>\n",
       "      <th>Series Code</th>\n",
       "      <th>Topic</th>\n",
       "      <th>Indicator Name</th>\n",
       "      <th>Short definition</th>\n",
       "      <th>Long definition</th>\n",
       "      <th>Unit of measure</th>\n",
       "      <th>Periodicity</th>\n",
       "      <th>Base Period</th>\n",
       "      <th>Other notes</th>\n",
       "      <th>Aggregation method</th>\n",
       "      <th>...</th>\n",
       "      <th>Notes from original source</th>\n",
       "      <th>General comments</th>\n",
       "      <th>Source</th>\n",
       "      <th>Statistical concept and methodology</th>\n",
       "      <th>Development relevance</th>\n",
       "      <th>Related source links</th>\n",
       "      <th>Other web links</th>\n",
       "      <th>Related indicators</th>\n",
       "      <th>License Type</th>\n",
       "      <th>Unnamed: 20</th>\n",
       "    </tr>\n",
       "  </thead>\n",
       "  <tbody>\n",
       "    <tr>\n",
       "      <th>211</th>\n",
       "      <td>BAR.SEC.ICMP.1519.ZS</td>\n",
       "      <td>Attainment</td>\n",
       "      <td>Barro-Lee: Percentage of population age 15-19 ...</td>\n",
       "      <td>Percentage of population age 15-19 with second...</td>\n",
       "      <td>Percentage of population age 15-19 with second...</td>\n",
       "      <td>NaN</td>\n",
       "      <td>NaN</td>\n",
       "      <td>NaN</td>\n",
       "      <td>NaN</td>\n",
       "      <td>NaN</td>\n",
       "      <td>...</td>\n",
       "      <td>NaN</td>\n",
       "      <td>NaN</td>\n",
       "      <td>Robert J. Barro and Jong-Wha Lee: http://www.b...</td>\n",
       "      <td>NaN</td>\n",
       "      <td>NaN</td>\n",
       "      <td>NaN</td>\n",
       "      <td>NaN</td>\n",
       "      <td>NaN</td>\n",
       "      <td>NaN</td>\n",
       "      <td>NaN</td>\n",
       "    </tr>\n",
       "  </tbody>\n",
       "</table>\n",
       "<p>1 rows × 21 columns</p>\n",
       "</div>"
      ],
      "text/plain": [
       "              Series Code       Topic  \\\n",
       "211  BAR.SEC.ICMP.1519.ZS  Attainment   \n",
       "\n",
       "                                        Indicator Name  \\\n",
       "211  Barro-Lee: Percentage of population age 15-19 ...   \n",
       "\n",
       "                                      Short definition  \\\n",
       "211  Percentage of population age 15-19 with second...   \n",
       "\n",
       "                                       Long definition  Unit of measure  \\\n",
       "211  Percentage of population age 15-19 with second...              NaN   \n",
       "\n",
       "    Periodicity Base Period Other notes Aggregation method  ...  \\\n",
       "211         NaN         NaN         NaN                NaN  ...   \n",
       "\n",
       "    Notes from original source  General comments  \\\n",
       "211                        NaN               NaN   \n",
       "\n",
       "                                                Source  \\\n",
       "211  Robert J. Barro and Jong-Wha Lee: http://www.b...   \n",
       "\n",
       "    Statistical concept and methodology Development relevance  \\\n",
       "211                                 NaN                   NaN   \n",
       "\n",
       "    Related source links Other web links  Related indicators  License Type  \\\n",
       "211                  NaN             NaN                 NaN           NaN   \n",
       "\n",
       "     Unnamed: 20  \n",
       "211          NaN  \n",
       "\n",
       "[1 rows x 21 columns]"
      ]
     },
     "execution_count": 153,
     "metadata": {},
     "output_type": "execute_result"
    }
   ],
   "source": [
    "series_df.loc[(series_df[\"Long definition\"].str.contains(\"Percentage of population age 15-19 with secondary schooling. T\", case=False, na=False))]"
   ]
  },
  {
   "cell_type": "code",
   "execution_count": 154,
   "id": "f3f1469e-f43b-4655-b2cd-291ec51cc3e7",
   "metadata": {},
   "outputs": [
    {
     "data": {
      "text/plain": [
       "242"
      ]
     },
     "execution_count": 154,
     "metadata": {},
     "output_type": "execute_result"
    }
   ],
   "source": [
    "data_df.loc[data_df[\"Indicator Code\"] == \"BAR.SEC.ICMP.1519.ZS\", :].shape[0]"
   ]
  },
  {
   "cell_type": "markdown",
   "id": "08d53c51-0fb0-462e-8928-7c8571b33bf8",
   "metadata": {},
   "source": [
    "L'indicateur est présent pour 242 lignes, ce qui est cohérent avec ce que présente le dataset \"EdStatsCountry\""
   ]
  },
  {
   "cell_type": "code",
   "execution_count": 156,
   "id": "9aa40915-a282-4b6d-a0eb-515737b04c5f",
   "metadata": {},
   "outputs": [],
   "source": [
    "indicateurs.append(\"BAR.SEC.ICMP.1519.ZS\")"
   ]
  },
  {
   "cell_type": "code",
   "execution_count": 157,
   "id": "25786fb3-867d-4e9f-93e2-cdb727c3b6e0",
   "metadata": {},
   "outputs": [
    {
     "data": {
      "text/plain": [
       "Long definition\n",
       "Percentage of population age 15-19 with tertiary schooling. Completed Tertiary                           1\n",
       "Percentage of population age 15-19 with tertiary schooling. Total (Incomplete and Completed Tertiary)    1\n",
       "Name: count, dtype: int64"
      ]
     },
     "execution_count": 157,
     "metadata": {},
     "output_type": "execute_result"
    }
   ],
   "source": [
    "series_df.loc[(series_df[\"Long definition\"].str.contains(\"Percentage of population\", case=False, na=False))\n",
    "    & (series_df[\"Long definition\"].str.contains(\"15-\", case=False, na=False))\n",
    "    & (series_df[\"Long definition\"].str.contains(\"tertiary\", case=False, na=False))][\"Long definition\"].value_counts()"
   ]
  },
  {
   "cell_type": "code",
   "execution_count": 158,
   "id": "06bef79a-d8f1-452b-9308-5126b3691f51",
   "metadata": {},
   "outputs": [
    {
     "data": {
      "text/html": [
       "<div>\n",
       "<style scoped>\n",
       "    .dataframe tbody tr th:only-of-type {\n",
       "        vertical-align: middle;\n",
       "    }\n",
       "\n",
       "    .dataframe tbody tr th {\n",
       "        vertical-align: top;\n",
       "    }\n",
       "\n",
       "    .dataframe thead th {\n",
       "        text-align: right;\n",
       "    }\n",
       "</style>\n",
       "<table border=\"1\" class=\"dataframe\">\n",
       "  <thead>\n",
       "    <tr style=\"text-align: right;\">\n",
       "      <th></th>\n",
       "      <th>Series Code</th>\n",
       "      <th>Topic</th>\n",
       "      <th>Indicator Name</th>\n",
       "      <th>Short definition</th>\n",
       "      <th>Long definition</th>\n",
       "      <th>Unit of measure</th>\n",
       "      <th>Periodicity</th>\n",
       "      <th>Base Period</th>\n",
       "      <th>Other notes</th>\n",
       "      <th>Aggregation method</th>\n",
       "      <th>...</th>\n",
       "      <th>Notes from original source</th>\n",
       "      <th>General comments</th>\n",
       "      <th>Source</th>\n",
       "      <th>Statistical concept and methodology</th>\n",
       "      <th>Development relevance</th>\n",
       "      <th>Related source links</th>\n",
       "      <th>Other web links</th>\n",
       "      <th>Related indicators</th>\n",
       "      <th>License Type</th>\n",
       "      <th>Unnamed: 20</th>\n",
       "    </tr>\n",
       "  </thead>\n",
       "  <tbody>\n",
       "    <tr>\n",
       "      <th>301</th>\n",
       "      <td>BAR.TER.ICMP.1519.ZS</td>\n",
       "      <td>Attainment</td>\n",
       "      <td>Barro-Lee: Percentage of population age 15-19 ...</td>\n",
       "      <td>Percentage of population age 15-19 with tertia...</td>\n",
       "      <td>Percentage of population age 15-19 with tertia...</td>\n",
       "      <td>NaN</td>\n",
       "      <td>NaN</td>\n",
       "      <td>NaN</td>\n",
       "      <td>NaN</td>\n",
       "      <td>NaN</td>\n",
       "      <td>...</td>\n",
       "      <td>NaN</td>\n",
       "      <td>NaN</td>\n",
       "      <td>Robert J. Barro and Jong-Wha Lee: http://www.b...</td>\n",
       "      <td>NaN</td>\n",
       "      <td>NaN</td>\n",
       "      <td>NaN</td>\n",
       "      <td>NaN</td>\n",
       "      <td>NaN</td>\n",
       "      <td>NaN</td>\n",
       "      <td>NaN</td>\n",
       "    </tr>\n",
       "  </tbody>\n",
       "</table>\n",
       "<p>1 rows × 21 columns</p>\n",
       "</div>"
      ],
      "text/plain": [
       "              Series Code       Topic  \\\n",
       "301  BAR.TER.ICMP.1519.ZS  Attainment   \n",
       "\n",
       "                                        Indicator Name  \\\n",
       "301  Barro-Lee: Percentage of population age 15-19 ...   \n",
       "\n",
       "                                      Short definition  \\\n",
       "301  Percentage of population age 15-19 with tertia...   \n",
       "\n",
       "                                       Long definition  Unit of measure  \\\n",
       "301  Percentage of population age 15-19 with tertia...              NaN   \n",
       "\n",
       "    Periodicity Base Period Other notes Aggregation method  ...  \\\n",
       "301         NaN         NaN         NaN                NaN  ...   \n",
       "\n",
       "    Notes from original source  General comments  \\\n",
       "301                        NaN               NaN   \n",
       "\n",
       "                                                Source  \\\n",
       "301  Robert J. Barro and Jong-Wha Lee: http://www.b...   \n",
       "\n",
       "    Statistical concept and methodology Development relevance  \\\n",
       "301                                 NaN                   NaN   \n",
       "\n",
       "    Related source links Other web links  Related indicators  License Type  \\\n",
       "301                  NaN             NaN                 NaN           NaN   \n",
       "\n",
       "     Unnamed: 20  \n",
       "301          NaN  \n",
       "\n",
       "[1 rows x 21 columns]"
      ]
     },
     "execution_count": 158,
     "metadata": {},
     "output_type": "execute_result"
    }
   ],
   "source": [
    "series_df.loc[(series_df[\"Long definition\"].str.contains(\"Percentage of population age 15-19 with tertiary schooling. T\", case=False, na=False))]"
   ]
  },
  {
   "cell_type": "code",
   "execution_count": 159,
   "id": "c876dd01-b89f-47e1-9c86-d8791ac97dc0",
   "metadata": {},
   "outputs": [
    {
     "data": {
      "text/plain": [
       "242"
      ]
     },
     "execution_count": 159,
     "metadata": {},
     "output_type": "execute_result"
    }
   ],
   "source": [
    "data_df.loc[data_df[\"Indicator Code\"] == \"BAR.TER.ICMP.1519.ZS\", :].shape[0]"
   ]
  },
  {
   "cell_type": "markdown",
   "id": "7330a4b6-7ea0-449f-b2ff-9429e2042373",
   "metadata": {},
   "source": [
    "L'indicateur est présent pour 242 lignes, ce qui est cohérent avec ce que présente le dataset \"EdStatsCountry\""
   ]
  },
  {
   "cell_type": "code",
   "execution_count": 161,
   "id": "1f73ff26-99a8-4e84-ac65-69591f601bff",
   "metadata": {},
   "outputs": [],
   "source": [
    "indicateurs.append(\"BAR.TER.ICMP.1519.ZS\")"
   ]
  },
  {
   "cell_type": "code",
   "execution_count": 162,
   "id": "f089061e-459e-4798-b885-1e4dc067b207",
   "metadata": {},
   "outputs": [
    {
     "data": {
      "text/plain": [
       "Long definition\n",
       "Percentage of population age 20-24 with secondary schooling. Completed Secondary                           1\n",
       "Percentage of population age 20-24 with secondary schooling. Total (Incomplete and Completed Secondary)    1\n",
       "Name: count, dtype: int64"
      ]
     },
     "execution_count": 162,
     "metadata": {},
     "output_type": "execute_result"
    }
   ],
   "source": [
    "series_df.loc[(series_df[\"Long definition\"].str.contains(\"Percentage of population\", case=False, na=False))\n",
    "    & (series_df[\"Long definition\"].str.contains(\"20-\", case=False, na=False))\n",
    "    & (series_df[\"Long definition\"].str.contains(\"secondary\", case=False, na=False))][\"Long definition\"].value_counts()"
   ]
  },
  {
   "cell_type": "code",
   "execution_count": 163,
   "id": "18140c6f-d3c4-4a8d-88f6-1b65a24ebf93",
   "metadata": {},
   "outputs": [
    {
     "data": {
      "text/html": [
       "<div>\n",
       "<style scoped>\n",
       "    .dataframe tbody tr th:only-of-type {\n",
       "        vertical-align: middle;\n",
       "    }\n",
       "\n",
       "    .dataframe tbody tr th {\n",
       "        vertical-align: top;\n",
       "    }\n",
       "\n",
       "    .dataframe thead th {\n",
       "        text-align: right;\n",
       "    }\n",
       "</style>\n",
       "<table border=\"1\" class=\"dataframe\">\n",
       "  <thead>\n",
       "    <tr style=\"text-align: right;\">\n",
       "      <th></th>\n",
       "      <th>Series Code</th>\n",
       "      <th>Topic</th>\n",
       "      <th>Indicator Name</th>\n",
       "      <th>Short definition</th>\n",
       "      <th>Long definition</th>\n",
       "      <th>Unit of measure</th>\n",
       "      <th>Periodicity</th>\n",
       "      <th>Base Period</th>\n",
       "      <th>Other notes</th>\n",
       "      <th>Aggregation method</th>\n",
       "      <th>...</th>\n",
       "      <th>Notes from original source</th>\n",
       "      <th>General comments</th>\n",
       "      <th>Source</th>\n",
       "      <th>Statistical concept and methodology</th>\n",
       "      <th>Development relevance</th>\n",
       "      <th>Related source links</th>\n",
       "      <th>Other web links</th>\n",
       "      <th>Related indicators</th>\n",
       "      <th>License Type</th>\n",
       "      <th>Unnamed: 20</th>\n",
       "    </tr>\n",
       "  </thead>\n",
       "  <tbody>\n",
       "    <tr>\n",
       "      <th>215</th>\n",
       "      <td>BAR.SEC.ICMP.2024.ZS</td>\n",
       "      <td>Attainment</td>\n",
       "      <td>Barro-Lee: Percentage of population age 20-24 ...</td>\n",
       "      <td>Percentage of population age 20-24 with second...</td>\n",
       "      <td>Percentage of population age 20-24 with second...</td>\n",
       "      <td>NaN</td>\n",
       "      <td>NaN</td>\n",
       "      <td>NaN</td>\n",
       "      <td>NaN</td>\n",
       "      <td>NaN</td>\n",
       "      <td>...</td>\n",
       "      <td>NaN</td>\n",
       "      <td>NaN</td>\n",
       "      <td>Robert J. Barro and Jong-Wha Lee: http://www.b...</td>\n",
       "      <td>NaN</td>\n",
       "      <td>NaN</td>\n",
       "      <td>NaN</td>\n",
       "      <td>NaN</td>\n",
       "      <td>NaN</td>\n",
       "      <td>NaN</td>\n",
       "      <td>NaN</td>\n",
       "    </tr>\n",
       "  </tbody>\n",
       "</table>\n",
       "<p>1 rows × 21 columns</p>\n",
       "</div>"
      ],
      "text/plain": [
       "              Series Code       Topic  \\\n",
       "215  BAR.SEC.ICMP.2024.ZS  Attainment   \n",
       "\n",
       "                                        Indicator Name  \\\n",
       "215  Barro-Lee: Percentage of population age 20-24 ...   \n",
       "\n",
       "                                      Short definition  \\\n",
       "215  Percentage of population age 20-24 with second...   \n",
       "\n",
       "                                       Long definition  Unit of measure  \\\n",
       "215  Percentage of population age 20-24 with second...              NaN   \n",
       "\n",
       "    Periodicity Base Period Other notes Aggregation method  ...  \\\n",
       "215         NaN         NaN         NaN                NaN  ...   \n",
       "\n",
       "    Notes from original source  General comments  \\\n",
       "215                        NaN               NaN   \n",
       "\n",
       "                                                Source  \\\n",
       "215  Robert J. Barro and Jong-Wha Lee: http://www.b...   \n",
       "\n",
       "    Statistical concept and methodology Development relevance  \\\n",
       "215                                 NaN                   NaN   \n",
       "\n",
       "    Related source links Other web links  Related indicators  License Type  \\\n",
       "215                  NaN             NaN                 NaN           NaN   \n",
       "\n",
       "     Unnamed: 20  \n",
       "215          NaN  \n",
       "\n",
       "[1 rows x 21 columns]"
      ]
     },
     "execution_count": 163,
     "metadata": {},
     "output_type": "execute_result"
    }
   ],
   "source": [
    "series_df.loc[(series_df[\"Long definition\"].str.contains(\"Percentage of population age 20-24 with secondary schooling. T\", case=False, na=False))]"
   ]
  },
  {
   "cell_type": "code",
   "execution_count": 164,
   "id": "5fd093d3-774a-4d85-a681-803d92d50508",
   "metadata": {},
   "outputs": [
    {
     "data": {
      "text/plain": [
       "242"
      ]
     },
     "execution_count": 164,
     "metadata": {},
     "output_type": "execute_result"
    }
   ],
   "source": [
    "data_df.loc[data_df[\"Indicator Code\"] == \"BAR.SEC.ICMP.2024.ZS\", :].shape[0]"
   ]
  },
  {
   "cell_type": "markdown",
   "id": "59e7012c-23f6-473b-adef-87627d67011b",
   "metadata": {},
   "source": [
    "L'indicateur est présent pour 242 lignes, ce qui est cohérent avec ce que présente le dataset \"EdStatsCountry\""
   ]
  },
  {
   "cell_type": "code",
   "execution_count": 166,
   "id": "63013e3d-12c0-4270-a27d-53e24cc1eefb",
   "metadata": {},
   "outputs": [],
   "source": [
    "indicateurs.append(\"BAR.SEC.ICMP.2024.ZS\")"
   ]
  },
  {
   "cell_type": "code",
   "execution_count": 167,
   "id": "b350800d-a8a0-48c0-be80-b169a64b1f84",
   "metadata": {},
   "outputs": [
    {
     "data": {
      "text/plain": [
       "Long definition\n",
       "Percentage of population age 20-24 with tertiary schooling. Completed Tertiary                           1\n",
       "Percentage of population age 20-24 with tertiary schooling. Total (Incomplete and Completed Tertiary)    1\n",
       "Name: count, dtype: int64"
      ]
     },
     "execution_count": 167,
     "metadata": {},
     "output_type": "execute_result"
    }
   ],
   "source": [
    "series_df.loc[(series_df[\"Long definition\"].str.contains(\"Percentage of population\", case=False, na=False))\n",
    "    & (series_df[\"Long definition\"].str.contains(\"20-\", case=False, na=False))\n",
    "    & (series_df[\"Long definition\"].str.contains(\"tertiary\", case=False, na=False))][\"Long definition\"].value_counts()"
   ]
  },
  {
   "cell_type": "code",
   "execution_count": 168,
   "id": "cd010dbc-ab78-4d2d-a101-0a2fdc7a2959",
   "metadata": {},
   "outputs": [
    {
     "data": {
      "text/html": [
       "<div>\n",
       "<style scoped>\n",
       "    .dataframe tbody tr th:only-of-type {\n",
       "        vertical-align: middle;\n",
       "    }\n",
       "\n",
       "    .dataframe tbody tr th {\n",
       "        vertical-align: top;\n",
       "    }\n",
       "\n",
       "    .dataframe thead th {\n",
       "        text-align: right;\n",
       "    }\n",
       "</style>\n",
       "<table border=\"1\" class=\"dataframe\">\n",
       "  <thead>\n",
       "    <tr style=\"text-align: right;\">\n",
       "      <th></th>\n",
       "      <th>Series Code</th>\n",
       "      <th>Topic</th>\n",
       "      <th>Indicator Name</th>\n",
       "      <th>Short definition</th>\n",
       "      <th>Long definition</th>\n",
       "      <th>Unit of measure</th>\n",
       "      <th>Periodicity</th>\n",
       "      <th>Base Period</th>\n",
       "      <th>Other notes</th>\n",
       "      <th>Aggregation method</th>\n",
       "      <th>...</th>\n",
       "      <th>Notes from original source</th>\n",
       "      <th>General comments</th>\n",
       "      <th>Source</th>\n",
       "      <th>Statistical concept and methodology</th>\n",
       "      <th>Development relevance</th>\n",
       "      <th>Related source links</th>\n",
       "      <th>Other web links</th>\n",
       "      <th>Related indicators</th>\n",
       "      <th>License Type</th>\n",
       "      <th>Unnamed: 20</th>\n",
       "    </tr>\n",
       "  </thead>\n",
       "  <tbody>\n",
       "    <tr>\n",
       "      <th>305</th>\n",
       "      <td>BAR.TER.ICMP.2024.ZS</td>\n",
       "      <td>Attainment</td>\n",
       "      <td>Barro-Lee: Percentage of population age 20-24 ...</td>\n",
       "      <td>Percentage of population age 20-24 with tertia...</td>\n",
       "      <td>Percentage of population age 20-24 with tertia...</td>\n",
       "      <td>NaN</td>\n",
       "      <td>NaN</td>\n",
       "      <td>NaN</td>\n",
       "      <td>NaN</td>\n",
       "      <td>NaN</td>\n",
       "      <td>...</td>\n",
       "      <td>NaN</td>\n",
       "      <td>NaN</td>\n",
       "      <td>Robert J. Barro and Jong-Wha Lee: http://www.b...</td>\n",
       "      <td>NaN</td>\n",
       "      <td>NaN</td>\n",
       "      <td>NaN</td>\n",
       "      <td>NaN</td>\n",
       "      <td>NaN</td>\n",
       "      <td>NaN</td>\n",
       "      <td>NaN</td>\n",
       "    </tr>\n",
       "  </tbody>\n",
       "</table>\n",
       "<p>1 rows × 21 columns</p>\n",
       "</div>"
      ],
      "text/plain": [
       "              Series Code       Topic  \\\n",
       "305  BAR.TER.ICMP.2024.ZS  Attainment   \n",
       "\n",
       "                                        Indicator Name  \\\n",
       "305  Barro-Lee: Percentage of population age 20-24 ...   \n",
       "\n",
       "                                      Short definition  \\\n",
       "305  Percentage of population age 20-24 with tertia...   \n",
       "\n",
       "                                       Long definition  Unit of measure  \\\n",
       "305  Percentage of population age 20-24 with tertia...              NaN   \n",
       "\n",
       "    Periodicity Base Period Other notes Aggregation method  ...  \\\n",
       "305         NaN         NaN         NaN                NaN  ...   \n",
       "\n",
       "    Notes from original source  General comments  \\\n",
       "305                        NaN               NaN   \n",
       "\n",
       "                                                Source  \\\n",
       "305  Robert J. Barro and Jong-Wha Lee: http://www.b...   \n",
       "\n",
       "    Statistical concept and methodology Development relevance  \\\n",
       "305                                 NaN                   NaN   \n",
       "\n",
       "    Related source links Other web links  Related indicators  License Type  \\\n",
       "305                  NaN             NaN                 NaN           NaN   \n",
       "\n",
       "     Unnamed: 20  \n",
       "305          NaN  \n",
       "\n",
       "[1 rows x 21 columns]"
      ]
     },
     "execution_count": 168,
     "metadata": {},
     "output_type": "execute_result"
    }
   ],
   "source": [
    "series_df.loc[(series_df[\"Long definition\"].str.contains(\"Percentage of population age 20-24 with tertiary schooling. T\", case=False, na=False))]"
   ]
  },
  {
   "cell_type": "code",
   "execution_count": 169,
   "id": "b726848b-58f8-406e-b2e0-ec4ddac15de5",
   "metadata": {},
   "outputs": [
    {
     "data": {
      "text/plain": [
       "242"
      ]
     },
     "execution_count": 169,
     "metadata": {},
     "output_type": "execute_result"
    }
   ],
   "source": [
    "data_df.loc[data_df[\"Indicator Code\"] == \"BAR.TER.ICMP.2024.ZS\", :].shape[0]"
   ]
  },
  {
   "cell_type": "markdown",
   "id": "9f16772a-5a0f-4e16-8bc1-22f361e65b25",
   "metadata": {},
   "source": [
    "L'indicateur est présent pour 242 lignes, ce qui est cohérent avec ce que présente le dataset \"EdStatsCountry\""
   ]
  },
  {
   "cell_type": "code",
   "execution_count": 171,
   "id": "ad70ec7c-cfde-4143-b78a-0c54146049b5",
   "metadata": {},
   "outputs": [],
   "source": [
    "indicateurs.append(\"BAR.TER.ICMP.2024.ZS\")"
   ]
  },
  {
   "cell_type": "markdown",
   "id": "8b9fbbde-d152-447f-b4be-39d708777b92",
   "metadata": {},
   "source": [
    "## Création de notre dataframe d'études"
   ]
  },
  {
   "cell_type": "code",
   "execution_count": 190,
   "id": "091a6ce1-085a-46c7-8c36-d0443086a53b",
   "metadata": {},
   "outputs": [
    {
     "data": {
      "text/html": [
       "<div>\n",
       "<style scoped>\n",
       "    .dataframe tbody tr th:only-of-type {\n",
       "        vertical-align: middle;\n",
       "    }\n",
       "\n",
       "    .dataframe tbody tr th {\n",
       "        vertical-align: top;\n",
       "    }\n",
       "\n",
       "    .dataframe thead th {\n",
       "        text-align: right;\n",
       "    }\n",
       "</style>\n",
       "<table border=\"1\" class=\"dataframe\">\n",
       "  <thead>\n",
       "    <tr style=\"text-align: right;\">\n",
       "      <th></th>\n",
       "      <th>Country Name</th>\n",
       "      <th>Country Code</th>\n",
       "      <th>Indicator Name</th>\n",
       "      <th>Indicator Code</th>\n",
       "      <th>1970</th>\n",
       "      <th>1971</th>\n",
       "      <th>1972</th>\n",
       "      <th>1973</th>\n",
       "      <th>1974</th>\n",
       "      <th>1975</th>\n",
       "      <th>...</th>\n",
       "      <th>2060</th>\n",
       "      <th>2065</th>\n",
       "      <th>2070</th>\n",
       "      <th>2075</th>\n",
       "      <th>2080</th>\n",
       "      <th>2085</th>\n",
       "      <th>2090</th>\n",
       "      <th>2095</th>\n",
       "      <th>2100</th>\n",
       "      <th>Unnamed: 69</th>\n",
       "    </tr>\n",
       "  </thead>\n",
       "  <tbody>\n",
       "    <tr>\n",
       "      <th>0</th>\n",
       "      <td>Arab World</td>\n",
       "      <td>ARB</td>\n",
       "      <td>Personal computers (per 100 people)</td>\n",
       "      <td>IT.CMP.PCMP.P2</td>\n",
       "      <td>NaN</td>\n",
       "      <td>NaN</td>\n",
       "      <td>NaN</td>\n",
       "      <td>NaN</td>\n",
       "      <td>NaN</td>\n",
       "      <td>NaN</td>\n",
       "      <td>...</td>\n",
       "      <td>NaN</td>\n",
       "      <td>NaN</td>\n",
       "      <td>NaN</td>\n",
       "      <td>NaN</td>\n",
       "      <td>NaN</td>\n",
       "      <td>NaN</td>\n",
       "      <td>NaN</td>\n",
       "      <td>NaN</td>\n",
       "      <td>NaN</td>\n",
       "      <td>NaN</td>\n",
       "    </tr>\n",
       "    <tr>\n",
       "      <th>1</th>\n",
       "      <td>East Asia &amp; Pacific</td>\n",
       "      <td>EAS</td>\n",
       "      <td>Personal computers (per 100 people)</td>\n",
       "      <td>IT.CMP.PCMP.P2</td>\n",
       "      <td>NaN</td>\n",
       "      <td>NaN</td>\n",
       "      <td>NaN</td>\n",
       "      <td>NaN</td>\n",
       "      <td>NaN</td>\n",
       "      <td>NaN</td>\n",
       "      <td>...</td>\n",
       "      <td>NaN</td>\n",
       "      <td>NaN</td>\n",
       "      <td>NaN</td>\n",
       "      <td>NaN</td>\n",
       "      <td>NaN</td>\n",
       "      <td>NaN</td>\n",
       "      <td>NaN</td>\n",
       "      <td>NaN</td>\n",
       "      <td>NaN</td>\n",
       "      <td>NaN</td>\n",
       "    </tr>\n",
       "    <tr>\n",
       "      <th>2</th>\n",
       "      <td>East Asia &amp; Pacific (excluding high income)</td>\n",
       "      <td>EAP</td>\n",
       "      <td>Personal computers (per 100 people)</td>\n",
       "      <td>IT.CMP.PCMP.P2</td>\n",
       "      <td>NaN</td>\n",
       "      <td>NaN</td>\n",
       "      <td>NaN</td>\n",
       "      <td>NaN</td>\n",
       "      <td>NaN</td>\n",
       "      <td>NaN</td>\n",
       "      <td>...</td>\n",
       "      <td>NaN</td>\n",
       "      <td>NaN</td>\n",
       "      <td>NaN</td>\n",
       "      <td>NaN</td>\n",
       "      <td>NaN</td>\n",
       "      <td>NaN</td>\n",
       "      <td>NaN</td>\n",
       "      <td>NaN</td>\n",
       "      <td>NaN</td>\n",
       "      <td>NaN</td>\n",
       "    </tr>\n",
       "    <tr>\n",
       "      <th>3</th>\n",
       "      <td>Euro area</td>\n",
       "      <td>EMU</td>\n",
       "      <td>Personal computers (per 100 people)</td>\n",
       "      <td>IT.CMP.PCMP.P2</td>\n",
       "      <td>NaN</td>\n",
       "      <td>NaN</td>\n",
       "      <td>NaN</td>\n",
       "      <td>NaN</td>\n",
       "      <td>NaN</td>\n",
       "      <td>NaN</td>\n",
       "      <td>...</td>\n",
       "      <td>NaN</td>\n",
       "      <td>NaN</td>\n",
       "      <td>NaN</td>\n",
       "      <td>NaN</td>\n",
       "      <td>NaN</td>\n",
       "      <td>NaN</td>\n",
       "      <td>NaN</td>\n",
       "      <td>NaN</td>\n",
       "      <td>NaN</td>\n",
       "      <td>NaN</td>\n",
       "    </tr>\n",
       "    <tr>\n",
       "      <th>4</th>\n",
       "      <td>Europe &amp; Central Asia</td>\n",
       "      <td>ECS</td>\n",
       "      <td>Personal computers (per 100 people)</td>\n",
       "      <td>IT.CMP.PCMP.P2</td>\n",
       "      <td>NaN</td>\n",
       "      <td>NaN</td>\n",
       "      <td>NaN</td>\n",
       "      <td>NaN</td>\n",
       "      <td>NaN</td>\n",
       "      <td>NaN</td>\n",
       "      <td>...</td>\n",
       "      <td>NaN</td>\n",
       "      <td>NaN</td>\n",
       "      <td>NaN</td>\n",
       "      <td>NaN</td>\n",
       "      <td>NaN</td>\n",
       "      <td>NaN</td>\n",
       "      <td>NaN</td>\n",
       "      <td>NaN</td>\n",
       "      <td>NaN</td>\n",
       "      <td>NaN</td>\n",
       "    </tr>\n",
       "  </tbody>\n",
       "</table>\n",
       "<p>5 rows × 70 columns</p>\n",
       "</div>"
      ],
      "text/plain": [
       "                                  Country Name Country Code  \\\n",
       "0                                   Arab World          ARB   \n",
       "1                          East Asia & Pacific          EAS   \n",
       "2  East Asia & Pacific (excluding high income)          EAP   \n",
       "3                                    Euro area          EMU   \n",
       "4                        Europe & Central Asia          ECS   \n",
       "\n",
       "                        Indicator Name  Indicator Code  1970  1971  1972  \\\n",
       "0  Personal computers (per 100 people)  IT.CMP.PCMP.P2   NaN   NaN   NaN   \n",
       "1  Personal computers (per 100 people)  IT.CMP.PCMP.P2   NaN   NaN   NaN   \n",
       "2  Personal computers (per 100 people)  IT.CMP.PCMP.P2   NaN   NaN   NaN   \n",
       "3  Personal computers (per 100 people)  IT.CMP.PCMP.P2   NaN   NaN   NaN   \n",
       "4  Personal computers (per 100 people)  IT.CMP.PCMP.P2   NaN   NaN   NaN   \n",
       "\n",
       "   1973  1974  1975  ...  2060  2065  2070  2075  2080  2085  2090  2095  \\\n",
       "0   NaN   NaN   NaN  ...   NaN   NaN   NaN   NaN   NaN   NaN   NaN   NaN   \n",
       "1   NaN   NaN   NaN  ...   NaN   NaN   NaN   NaN   NaN   NaN   NaN   NaN   \n",
       "2   NaN   NaN   NaN  ...   NaN   NaN   NaN   NaN   NaN   NaN   NaN   NaN   \n",
       "3   NaN   NaN   NaN  ...   NaN   NaN   NaN   NaN   NaN   NaN   NaN   NaN   \n",
       "4   NaN   NaN   NaN  ...   NaN   NaN   NaN   NaN   NaN   NaN   NaN   NaN   \n",
       "\n",
       "   2100  Unnamed: 69  \n",
       "0   NaN          NaN  \n",
       "1   NaN          NaN  \n",
       "2   NaN          NaN  \n",
       "3   NaN          NaN  \n",
       "4   NaN          NaN  \n",
       "\n",
       "[5 rows x 70 columns]"
      ]
     },
     "execution_count": 190,
     "metadata": {},
     "output_type": "execute_result"
    }
   ],
   "source": [
    "for indicateur in indicateurs :\n",
    "    df = pd.concat([df, data_df.loc[data_df[\"Indicator Code\"] == indicateur, :]], ignore_index=True)\n",
    "df.head()"
   ]
  },
  {
   "cell_type": "code",
   "execution_count": 213,
   "id": "13fb1ee2-eda5-477b-9f93-3ef7bdf69afb",
   "metadata": {},
   "outputs": [],
   "source": [
    "df = df.drop([\"Unnamed: 69\", \"Country Code\", \"Indicator Code\"], axis=1)"
   ]
  },
  {
   "cell_type": "code",
   "execution_count": 215,
   "id": "0a49e011-cba9-4480-8e89-a1a07a286052",
   "metadata": {},
   "outputs": [
    {
     "data": {
      "text/plain": [
       "<Axes: >"
      ]
     },
     "execution_count": 215,
     "metadata": {},
     "output_type": "execute_result"
    },
    {
     "data": {
      "image/png": "[encoded data removed]",
      "text/plain": [
       "<Figure size 2500x2100 with 3 Axes>"
      ]
     },
     "metadata": {},
     "output_type": "display_data"
    }
   ],
   "source": [
    "msno.bar(df)"
   ]
  },
  {
   "cell_type": "code",
   "execution_count": 217,
   "id": "68831860-38f7-425d-bd18-58a52969de32",
   "metadata": {},
   "outputs": [
    {
     "data": {
      "text/plain": [
       "<Axes: >"
      ]
     },
     "execution_count": 217,
     "metadata": {},
     "output_type": "execute_result"
    },
    {
     "data": {
      "image/png": "[encoded data removed]",
      "text/plain": [
       "<Figure size 2500x2100 with 1 Axes>"
      ]
     },
     "metadata": {},
     "output_type": "display_data"
    }
   ],
   "source": [
    "msno.dendrogram(df)"
   ]
  }
 ],
 "metadata": {
  "kernelspec": {
   "display_name": "Python 3 (ipykernel)",
   "language": "python",
   "name": "python3"
  },
  "language_info": {
   "codemirror_mode": {
    "name": "ipython",
    "version": 3
   },
   "file_extension": ".py",
   "mimetype": "text/x-python",
   "name": "python",
   "nbconvert_exporter": "python",
   "pygments_lexer": "ipython3",
   "version": "3.12.4"
  }
 },
 "nbformat": 4,
 "nbformat_minor": 5
}
