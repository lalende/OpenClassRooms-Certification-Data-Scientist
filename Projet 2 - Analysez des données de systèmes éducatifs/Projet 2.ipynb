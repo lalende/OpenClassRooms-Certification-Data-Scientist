{
 "cells": [
  {
   "cell_type": "markdown",
   "id": "675fc1f8-a07c-4b98-a8b0-eb3609ff4814",
   "metadata": {},
   "source": [
    "# Etape 1 : Menez une analyse générale des données\n"
   ]
  },
  {
   "cell_type": "markdown",
   "id": "3a12d46a-9bc1-4a58-bfbd-3d555f23f909",
   "metadata": {},
   "source": [
    "## Import des librairies"
   ]
  },
  {
   "cell_type": "code",
   "execution_count": 2,
   "id": "0759e8c9-a16c-4914-811c-c6a14cb21e0a",
   "metadata": {},
   "outputs": [],
   "source": [
    "import numpy as np\n",
    "import pandas as pd"
   ]
  },
  {
   "cell_type": "markdown",
   "id": "911ecc98-b70d-4aff-8867-45f63574538d",
   "metadata": {},
   "source": [
    "## Import des datasets"
   ]
  },
  {
   "cell_type": "markdown",
   "id": "1c808d83-82d0-4979-95c7-8ec69cf6fabe",
   "metadata": {},
   "source": [
    "### EdStatsCountry"
   ]
  },
  {
   "cell_type": "code",
   "execution_count": 4,
   "id": "973ce3af-1e04-42fc-a552-69c1e3607666",
   "metadata": {},
   "outputs": [],
   "source": [
    "country_df = pd.read_csv(\"./Datasets/EdStatsCountry.csv\")"
   ]
  },
  {
   "cell_type": "markdown",
   "id": "be705428-272e-4a7b-b61b-9cab84cf81bd",
   "metadata": {},
   "source": [
    "### EdStatsCountry-Series"
   ]
  },
  {
   "cell_type": "code",
   "execution_count": 6,
   "id": "73042e79-85b2-4a7a-bb19-d9ce8892ed07",
   "metadata": {},
   "outputs": [],
   "source": [
    "country_series_df = pd.read_csv(\"./Datasets/EdStatsCountry-Series.csv\")"
   ]
  },
  {
   "cell_type": "markdown",
   "id": "03796924-9682-4544-94c8-ed8023114e56",
   "metadata": {},
   "source": [
    "### EdStatsData"
   ]
  },
  {
   "cell_type": "code",
   "execution_count": 8,
   "id": "c8b80d2d-80b5-4597-b8d5-f904b10e67e2",
   "metadata": {},
   "outputs": [],
   "source": [
    "data_df = pd.read_csv(\"./Datasets/EdStatsData.csv\")"
   ]
  },
  {
   "cell_type": "markdown",
   "id": "178c8813-dc27-4bd4-a375-fc992b6e898c",
   "metadata": {},
   "source": [
    "### EdStatsFootNote"
   ]
  },
  {
   "cell_type": "code",
   "execution_count": 9,
   "id": "f7c3932c-ad7a-4b71-92dc-c3cfe27c358a",
   "metadata": {},
   "outputs": [],
   "source": [
    "footnote_df = pd.read_csv(\"./Datasets/EdStatsFootNote.csv\")"
   ]
  },
  {
   "cell_type": "markdown",
   "id": "6fc7475b-f757-4de1-bf87-ffc0b0e2ffca",
   "metadata": {},
   "source": [
    "### EdStatsSeries"
   ]
  },
  {
   "cell_type": "code",
   "execution_count": 10,
   "id": "2da9a353-244e-462c-bb91-74c56d7c6265",
   "metadata": {},
   "outputs": [],
   "source": [
    "series_df = pd.read_csv(\"./Datasets/EdStatsSeries.csv\")"
   ]
  },
  {
   "cell_type": "code",
   "execution_count": null,
   "id": "4d91be03-19e9-4b32-abcb-8c87575b303b",
   "metadata": {},
   "outputs": [],
   "source": []
  }
 ],
 "metadata": {
  "kernelspec": {
   "display_name": "Python 3 (ipykernel)",
   "language": "python",
   "name": "python3"
  },
  "language_info": {
   "codemirror_mode": {
    "name": "ipython",
    "version": 3
   },
   "file_extension": ".py",
   "mimetype": "text/x-python",
   "name": "python",
   "nbconvert_exporter": "python",
   "pygments_lexer": "ipython3",
   "version": "3.12.4"
  }
 },
 "nbformat": 4,
 "nbformat_minor": 5
}
