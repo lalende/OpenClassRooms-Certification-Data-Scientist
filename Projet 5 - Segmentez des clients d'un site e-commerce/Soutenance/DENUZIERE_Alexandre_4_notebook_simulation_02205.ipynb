{
 "cells": [
  {
   "cell_type": "markdown",
   "id": "7b7102d3-dcf0-4c75-a48a-2ece27f255f1",
   "metadata": {},
   "source": [
    "# Introduction"
   ]
  },
  {
   "cell_type": "markdown",
   "id": "554727c2-c1d3-4322-ba3c-7f91d47bcede",
   "metadata": {},
   "source": [
    "## Prêt à mener la mission ?\n",
    "\n",
    "Vous êtes consultant pour <a href=\"https://olist.com/\">Olist</a>, une entreprise brésilienne qui propose une solution de vente sur les marketplaces en ligne.\n",
    "\n",
    "\n",
    "Votre rôle est d’accompagner Olist dans leur projet de monter une équipe Data et leur premier cas d’usage Data Science autour de la segmentation client.\n",
    "\n",
    "\n",
    "Vous venez de rejoindre Olist dans un contexte de recrutement intensif afin de monter leur équipe Data. En effet, ils font d’abord appel à des consultants comme vous en renfort sur les sujets les plus critiques en attendant d'internaliser les compétences. Avant de réaliser la segmentation client, on vous attribue une première mission pour aider Fernanda, Lead Data Analyst chez Olist. \n",
    "\n",
    "\n",
    "Après avoir étudié les éléments partagés par Fernanda vous vous mettez au travail.\n",
    "\n",
    "\n",
    "------------------------\n",
    "\n",
    "## Quelques jours plus tard\n",
    " \n",
    "\n",
    "Cette urgence résolue, vous pouvez enfin passer à votre mission principale : Olist souhaite que vous fournissiez à ses équipes d'e-commerce une **segmentation des clients** qu’elles pourront utiliser au quotidien pour leurs campagnes de communication.\n",
    "\n",
    "\n",
    "Votre objectif est de comprendre les différents types d’utilisateurs grâce à leur comportement et à leurs données personnelles.\n",
    " \n",
    "\n",
    "Vous devrez fournir à l’équipe Marketing **une description actionable** de votre segmentation et de sa logique sous-jacente pour une utilisation optimale, ainsi qu’une proposition de contrat de maintenance basée sur une analyse de la stabilité des segments au cours du temps.\n",
    "\n",
    "\n",
    "**<u>Les données</u>**\n",
    "\n",
    "Pour cette mission, Olist vous fournit une <a href=\"https://course.oc-static.com/projects/olist.db\">base de données</a> anonymisée comportant des informations sur l’historique des commandes, les produits achetés, les commentaires de satisfaction, et la localisation des clients depuis janvier 2017.\n",
    " \n",
    "\n",
    "Vous devez aider les équipes d’Olist à comprendre les différents types d'utilisateurs. Vous utiliserez donc des méthodes non supervisées pour regrouper des clients de profils similaires. Ces catégories pourront être utilisées par l’équipe Marketing pour mieux communiquer.\n",
    " \n",
    "\n",
    "Vous créez donc un notebook et démarrez votre travail d’analyse exploratoire.\n",
    "\n",
    "\n",
    "------------------------\n",
    " \n",
    "## 3 jours plus tard\n",
    " \n",
    "\n",
    "Après quelques premières analyses, vous vous rendez compte qu'Olist ne vous a pas fourni beaucoup de données ; vous enquêtez donc auprès de l'entreprise pour obtenir quelques informations complémentaires, et vérifier que vous avez bien compris la mission.\n",
    "\n",
    "\n",
    "Vous réalisez trois autres documents afin de préparer une réponse à Olist : \n",
    "\n",
    "- Un notebook avec des essais des différentes approches de modélisation \n",
    "- Un notebook de simulation pour déterminer la fréquence nécessaire de mise à jour du modèle de segmentation, afin que celui-ci reste pertinent \n",
    "- Une présentation pour un collègue afin d’obtenir ses retours sur votre approche\n",
    " \n",
    "\n",
    "C’est parti pour cette dernière ligne droite ! "
   ]
  },
  {
   "cell_type": "markdown",
   "id": "a0aa84c4-d64e-40fe-9194-e558b8a1e512",
   "metadata": {},
   "source": [
    "# Import des librairies"
   ]
  },
  {
   "cell_type": "code",
   "execution_count": 1,
   "id": "bec3a2f4-9431-449e-8182-bb569c39d26f",
   "metadata": {},
   "outputs": [],
   "source": [
    "import pandas as pd\n",
    "import numpy as np\n",
    "import matplotlib as mpl\n",
    "import matplotlib.pyplot as plt\n",
    "import matplotlib.gridspec as gridspec\n",
    "import seaborn as sns\n",
    "import missingno as msno\n",
    "from datetime import date, timedelta\n",
    "from sklearn.preprocessing import StandardScaler, FunctionTransformer\n",
    "from sklearn.cluster import KMeans\n",
    "from sklearn.compose import ColumnTransformer\n",
    "from sklearn.pipeline import Pipeline\n",
    "from sklearn.neighbors import NearestNeighbors\n",
    "from sklearn.metrics import adjusted_rand_score"
   ]
  },
  {
   "cell_type": "markdown",
   "id": "5d588897-ab7a-4c68-8d18-f779a0c1047c",
   "metadata": {},
   "source": [
    "## Chargement de seaborn"
   ]
  },
  {
   "cell_type": "code",
   "execution_count": 2,
   "id": "b2f91712-39e4-4eba-942a-fe8e8a3d97eb",
   "metadata": {},
   "outputs": [],
   "source": [
    "sns.set()"
   ]
  },
  {
   "cell_type": "markdown",
   "id": "6318bb6d-50b7-4293-9525-1f3461ddf477",
   "metadata": {},
   "source": [
    "# Lecture du dataset"
   ]
  },
  {
   "cell_type": "code",
   "execution_count": 3,
   "id": "91f2d6ff-269a-4bd5-b78a-64282a21831d",
   "metadata": {},
   "outputs": [],
   "source": [
    "# Read the dataset from the csv file made previously\n",
    "df = pd.read_csv(\"data_cleaned.csv\")"
   ]
  },
  {
   "cell_type": "code",
   "execution_count": 4,
   "id": "6c3ea2e3-6418-47b2-b522-ea43a7603ed3",
   "metadata": {},
   "outputs": [],
   "source": [
    "# Define a list with the features needed for the RFM segmentation\n",
    "rfm_features = [\"days_since_last_order\", \n",
    "                \"total_orders\", \"total_value\", \n",
    "                \"mean_review_score\", \n",
    "                \"order_purchase_timestamp\",\n",
    "               ]\n",
    "# Make a copy of the original dataframe, with only the required features\n",
    "rfm = df[rfm_features].copy()"
   ]
  },
  {
   "cell_type": "code",
   "execution_count": 5,
   "id": "59cd1993-4fb1-4717-996b-3f1aedcc05fc",
   "metadata": {},
   "outputs": [
    {
     "data": {
      "text/html": [
       "<div>\n",
       "<style scoped>\n",
       "    .dataframe tbody tr th:only-of-type {\n",
       "        vertical-align: middle;\n",
       "    }\n",
       "\n",
       "    .dataframe tbody tr th {\n",
       "        vertical-align: top;\n",
       "    }\n",
       "\n",
       "    .dataframe thead th {\n",
       "        text-align: right;\n",
       "    }\n",
       "</style>\n",
       "<table border=\"1\" class=\"dataframe\">\n",
       "  <thead>\n",
       "    <tr style=\"text-align: right;\">\n",
       "      <th></th>\n",
       "      <th>days_since_last_order</th>\n",
       "      <th>total_orders</th>\n",
       "      <th>total_value</th>\n",
       "      <th>mean_review_score</th>\n",
       "      <th>order_purchase_timestamp</th>\n",
       "    </tr>\n",
       "  </thead>\n",
       "  <tbody>\n",
       "    <tr>\n",
       "      <th>0</th>\n",
       "      <td>111</td>\n",
       "      <td>1</td>\n",
       "      <td>141.90</td>\n",
       "      <td>5.0</td>\n",
       "      <td>2018-05-10 10:56:27</td>\n",
       "    </tr>\n",
       "    <tr>\n",
       "      <th>1</th>\n",
       "      <td>114</td>\n",
       "      <td>1</td>\n",
       "      <td>27.19</td>\n",
       "      <td>4.0</td>\n",
       "      <td>2018-05-07 11:11:27</td>\n",
       "    </tr>\n",
       "    <tr>\n",
       "      <th>2</th>\n",
       "      <td>536</td>\n",
       "      <td>1</td>\n",
       "      <td>86.22</td>\n",
       "      <td>3.0</td>\n",
       "      <td>2017-03-10 21:05:03</td>\n",
       "    </tr>\n",
       "    <tr>\n",
       "      <th>3</th>\n",
       "      <td>320</td>\n",
       "      <td>1</td>\n",
       "      <td>43.62</td>\n",
       "      <td>4.0</td>\n",
       "      <td>2017-10-12 20:29:41</td>\n",
       "    </tr>\n",
       "    <tr>\n",
       "      <th>4</th>\n",
       "      <td>287</td>\n",
       "      <td>1</td>\n",
       "      <td>196.89</td>\n",
       "      <td>5.0</td>\n",
       "      <td>2017-11-14 19:45:42</td>\n",
       "    </tr>\n",
       "  </tbody>\n",
       "</table>\n",
       "</div>"
      ],
      "text/plain": [
       "   days_since_last_order  total_orders  total_value  mean_review_score  \\\n",
       "0                    111             1       141.90                5.0   \n",
       "1                    114             1        27.19                4.0   \n",
       "2                    536             1        86.22                3.0   \n",
       "3                    320             1        43.62                4.0   \n",
       "4                    287             1       196.89                5.0   \n",
       "\n",
       "  order_purchase_timestamp  \n",
       "0      2018-05-10 10:56:27  \n",
       "1      2018-05-07 11:11:27  \n",
       "2      2017-03-10 21:05:03  \n",
       "3      2017-10-12 20:29:41  \n",
       "4      2017-11-14 19:45:42  "
      ]
     },
     "execution_count": 5,
     "metadata": {},
     "output_type": "execute_result"
    }
   ],
   "source": [
    "# Print the head of the dataframe\n",
    "rfm.head()"
   ]
  },
  {
   "cell_type": "markdown",
   "id": "21a2675f-233d-467e-979d-fe8b3e017f52",
   "metadata": {},
   "source": [
    "Rappel de l'étendue des dates de notre dataset"
   ]
  },
  {
   "cell_type": "code",
   "execution_count": 6,
   "id": "60790045-0280-4933-97bc-058fb43e402e",
   "metadata": {},
   "outputs": [
    {
     "name": "stdout",
     "output_type": "stream",
     "text": [
      "Date de commande la plus ancienne : 2016-09-15 12:16:38\n",
      "Date de commande la plus récente : 2018-08-29 15:00:37\n"
     ]
    }
   ],
   "source": [
    "# Print the oldest date in the dataframe\n",
    "print(f\"Date de commande la plus ancienne : {rfm[\"order_purchase_timestamp\"].min()}\")\n",
    "# Print the newest date in the dataframe\n",
    "print(f\"Date de commande la plus récente : {rfm[\"order_purchase_timestamp\"].max()}\")"
   ]
  },
  {
   "cell_type": "markdown",
   "id": "e419e3f1-67fa-47c7-917b-baa0cbcf557a",
   "metadata": {},
   "source": [
    "# Séparation des données en périodes temporelles"
   ]
  },
  {
   "cell_type": "markdown",
   "id": "0d5ae762-648c-4ec9-87cd-9f8fb4f9fc3d",
   "metadata": {},
   "source": [
    "Afin d'évaluer la stabilité de notre clustering, nous allons découper notre jeu de données en période de temps équivalentes, puis appliquer le clustering à chacune des périodes et enfin comparer les différentes périodes à l'aide de l'ARI."
   ]
  },
  {
   "cell_type": "markdown",
   "id": "be6d57fa-07da-4d04-a747-a2bd6e64719a",
   "metadata": {},
   "source": [
    "Tout d'abord séparons nos données. Pour cela, nous allons procéder à un découpage par tranche de 1 mois, en ne prenant en compte que les mois complets. Aussi nous collecterons les données dans plusieurs dataframes entre le mois d'Octobre 2016 et le mois de Juillet 2018, soit 22 mois."
   ]
  },
  {
   "cell_type": "markdown",
   "id": "69cdb5a4-01ea-4389-a82e-77be37c761a9",
   "metadata": {},
   "source": [
    "Tout d'abord nous allons définir la date d'achat en index, puis trier l'index par ordre croissant."
   ]
  },
  {
   "cell_type": "code",
   "execution_count": 7,
   "id": "19c2a679-74e2-46e5-b33c-ba8ac11e4b13",
   "metadata": {},
   "outputs": [],
   "source": [
    "# Set the index of the dataframe with the order_purchase_timestamp feature\n",
    "rfm = rfm.set_index(\"order_purchase_timestamp\").sort_index()"
   ]
  },
  {
   "cell_type": "markdown",
   "id": "667f80ba-fab1-4355-a70a-c34b4cce4f98",
   "metadata": {},
   "source": [
    "Puis nous opérons nos sélections de phase dans différents dataframes"
   ]
  },
  {
   "cell_type": "code",
   "execution_count": 8,
   "id": "9b4f9836-1f64-49f5-9171-c224b2265f5b",
   "metadata": {},
   "outputs": [],
   "source": [
    "# Define the number of month to study\n",
    "number_of_month = 22\n",
    "# Define the starting year\n",
    "year = 2016\n",
    "# Define the starting month\n",
    "month = 9\n",
    "# Create a list to store customers by period\n",
    "rfm_phases_list = []\n",
    "\n",
    "for i in range(0, number_of_month, 1):\n",
    "    # Increment the month\n",
    "    month += 1\n",
    "    # If we are on the 12th month, we make a special calculation\n",
    "    if month == 12:\n",
    "        day = (date(year+1, 1, 1) - date(year, month, 1)).days\n",
    "    # If the month is more than 12, we change of year, and make an appropriate calculation\n",
    "    elif month > 12:\n",
    "        month = 1\n",
    "        year += 1\n",
    "        day = (date(year, month, 1) - date(year-1, 12, 1)).days\n",
    "    # Else, calculate the date of the start and end of the month\n",
    "    else:\n",
    "        day = (date(year, month+1, 1) - date(year, month, 1)).days\n",
    "\n",
    "    # Store dates in variables\n",
    "    start_date = date(year, month, 1)\n",
    "    end_date = date(year, month, day)\n",
    "\n",
    "    # Select customers based on the start and end date\n",
    "    rfm_phase = rfm.loc[start_date.strftime(\"%Y-%m-%d\"):end_date.strftime(\"%Y-%m-%d\")]\n",
    "    # Store everything in the list\n",
    "    rfm_phases_list.append(rfm_phase)"
   ]
  },
  {
   "cell_type": "markdown",
   "id": "f1ccc276-0144-4062-8d77-fcd70e08a1b0",
   "metadata": {},
   "source": [
    "Vérifions la taille de nos échantillons"
   ]
  },
  {
   "cell_type": "code",
   "execution_count": 9,
   "id": "39d028ee-2925-46e1-adc0-f274289bb63d",
   "metadata": {},
   "outputs": [
    {
     "name": "stdout",
     "output_type": "stream",
     "text": [
      "L'échantillon n°1 contient 262 individus\n",
      "L'échantillon n°2 contient 0 individus\n",
      "L'échantillon n°3 contient 1 individus\n",
      "L'échantillon n°4 contient 656 individus\n",
      "L'échantillon n°5 contient 1575 individus\n",
      "L'échantillon n°6 contient 2434 individus\n",
      "L'échantillon n°7 contient 2190 individus\n",
      "L'échantillon n°8 contient 3335 individus\n",
      "L'échantillon n°9 contient 2945 individus\n",
      "L'échantillon n°10 contient 3616 individus\n",
      "L'échantillon n°11 contient 3917 individus\n",
      "L'échantillon n°12 contient 3901 individus\n",
      "L'échantillon n°13 contient 4177 individus\n",
      "L'échantillon n°14 contient 6811 individus\n",
      "L'échantillon n°15 contient 5268 individus\n",
      "L'échantillon n°16 contient 6599 individus\n",
      "L'échantillon n°17 contient 5993 individus\n",
      "L'échantillon n°18 contient 6620 individus\n",
      "L'échantillon n°19 contient 6355 individus\n",
      "L'échantillon n°20 contient 6379 individus\n",
      "L'échantillon n°21 contient 5760 individus\n",
      "L'échantillon n°22 contient 5644 individus\n"
     ]
    }
   ],
   "source": [
    "# For each element in the list, print the number of individuals\n",
    "for i in range(len(rfm_phases_list)):\n",
    "    print(f\"L'échantillon n°{i+1} contient {rfm_phases_list[i].shape[0]} individus\")"
   ]
  },
  {
   "cell_type": "markdown",
   "id": "c4011fda-0339-4039-96da-cee72cf1633d",
   "metadata": {},
   "source": [
    "La taille des échantillons varie énormément, notamment pour les 5 premiers mois qui comportent très peu, voir aucun, échantillons.\n",
    "\n",
    "Afin de fiabiliser notre étude, nous n'allons sélectionner que les échantillons entre 8 et 22."
   ]
  },
  {
   "cell_type": "code",
   "execution_count": 10,
   "id": "c24c5a9b-d4b4-471c-bc93-3d41dce25e31",
   "metadata": {},
   "outputs": [],
   "source": [
    "# Delete the first elements of the list not containing enough customers\n",
    "del rfm_phases_list[0:7]"
   ]
  },
  {
   "cell_type": "markdown",
   "id": "d94eea86-5eae-41ab-9140-cd0f8cff6b02",
   "metadata": {},
   "source": [
    "A présent que nous avons définis nos dataframes selon les différentes périodes, la variable order_purchase_timestamp ne nous est plus nécessaire.\n",
    "\n",
    "Supprimons la."
   ]
  },
  {
   "cell_type": "code",
   "execution_count": 11,
   "id": "7b28dd2b-5a47-4cc4-9234-8bb08b5bd05d",
   "metadata": {},
   "outputs": [],
   "source": [
    "# For each dataframe, reset index and suppress the order_purchase_timestamp feature\n",
    "for i in range(len(rfm_phases_list)):\n",
    "    rfm_phases_list[i] = rfm_phases_list[i].reset_index()\n",
    "    rfm_phases_list[i] = rfm_phases_list[i].drop(\"order_purchase_timestamp\", axis=1)"
   ]
  },
  {
   "cell_type": "markdown",
   "id": "69324126-e57b-4a76-a573-5f7e866f60d3",
   "metadata": {},
   "source": [
    "# Préparation du modèle"
   ]
  },
  {
   "cell_type": "markdown",
   "id": "30ce77bf-f6b5-4ac2-b4b9-dd5634572a0a",
   "metadata": {},
   "source": [
    "Pour l'entrainement de notre modèle, nous allons définir un pipeline avec les transformations et normalisations effectuées sur nos variables puis notre modèle.\n",
    "\n",
    "Tout d'abord définissons un premier pipeline pour la normalisation."
   ]
  },
  {
   "cell_type": "code",
   "execution_count": 12,
   "id": "3a1811e1-6d26-4af0-9b3b-8fe56795ec5c",
   "metadata": {},
   "outputs": [],
   "source": [
    "# Select feature where we will apply a log transformation\n",
    "to_log_features = [\"total_orders\", \"total_value\",]\n",
    "# Create a pipeline to apply the log transformation and StandardScaler\n",
    "to_log_transformer = Pipeline(\n",
    "    steps = [(\"log\", FunctionTransformer(np.log1p, validate=False)),\n",
    "            (\"scaler\", StandardScaler())]\n",
    ")\n",
    "\n",
    "# Select other features\n",
    "other_features = [\"days_since_last_order\", \"mean_review_score\"]\n",
    "# Create a pipeline to apply the StandardScaler\n",
    "other_transformer = Pipeline(\n",
    "    steps = [(\"scaler\", StandardScaler())]\n",
    ")"
   ]
  },
  {
   "cell_type": "markdown",
   "id": "0d72769d-a199-45a2-a6e8-d02fcc11eec8",
   "metadata": {},
   "source": [
    "Nous définissons ensuite un préprocesseur qui appliquera les différentes transformations"
   ]
  },
  {
   "cell_type": "code",
   "execution_count": 13,
   "id": "3d920d0b-7e25-4aa5-a9b0-2b1ed93e0a78",
   "metadata": {},
   "outputs": [],
   "source": [
    "# Create a ColumnTransformer that will use both the log pipeline and the standard pipeline\n",
    "preprocessor = ColumnTransformer(\n",
    "    transformers = [\n",
    "        (\"to_log\", to_log_transformer, to_log_features),\n",
    "        (\"others\", other_transformer, other_features)\n",
    "    ]\n",
    ")"
   ]
  },
  {
   "cell_type": "markdown",
   "id": "92f6d723-8c32-43ba-be84-681cdcee3f72",
   "metadata": {},
   "source": [
    "Enfin nous définissons le pipeline avec le préprocesseur et le modèle"
   ]
  },
  {
   "cell_type": "code",
   "execution_count": 14,
   "id": "4aa0b3a6-f40e-4cb7-a333-6a0b2a5c68f9",
   "metadata": {},
   "outputs": [],
   "source": [
    "# Define a pipeline with the preprocessor and the KMeans model\n",
    "kmeans = Pipeline(\n",
    "    steps = [\n",
    "        (\"preprocessor\", preprocessor),\n",
    "        (\"kmeans\", KMeans(n_clusters=5, random_state=8))\n",
    "    ]\n",
    ")"
   ]
  },
  {
   "cell_type": "markdown",
   "id": "a756a75c-14b5-4df5-b9d8-441dbe5d7d35",
   "metadata": {},
   "source": [
    "# Calcul de l'Adjusted Rand Score"
   ]
  },
  {
   "cell_type": "markdown",
   "id": "527f2763-f99a-412b-b7bf-46bf8b68b912",
   "metadata": {},
   "source": [
    "Nous allons à présent comparer les score ARI de nos modèles selon les différentes périodes.\n",
    "\n",
    "Pour cela, nous allons tout d'abord entrainer un kmeans pour la première période de notre jeu de données. Puis nous entrainerons de nouveau modèles pour chacune des autres périodes et compareront les prédictions des différents modèles à l'aide de l'ARI score."
   ]
  },
  {
   "cell_type": "markdown",
   "id": "ed8c6a54-60c1-409c-800c-62f0e4a27ed4",
   "metadata": {},
   "source": [
    "A présent, nous allons pour chacun des autres dataframes entrainer un nouveau modèle, puis nous effectuerons les prédictions à l'aide du nouveau modèle et du modèle de la phase 1.\n",
    "\n",
    "Les prédictions des deux modèles serviront à calculer le score ARI."
   ]
  },
  {
   "cell_type": "code",
   "execution_count": 15,
   "id": "1394e9a1-e53c-4755-91b9-664c457f3fbe",
   "metadata": {},
   "outputs": [],
   "source": [
    "# Create a list to store ari scores\n",
    "ari_scores = []\n",
    "# Train the KMeans with the data of initial phase\n",
    "initial_kmeans = kmeans.fit(rfm_phases_list[0])\n",
    "for i in range(len(rfm_phases_list)):\n",
    "    # Make the predictions with the initial model\n",
    "    initial_pred = initial_kmeans.predict(rfm_phases_list[i])\n",
    "    # Train the KMeans and make the predictions with the new model\n",
    "    new_pred = kmeans.fit_predict(rfm_phases_list[i])\n",
    "\n",
    "    # Calculate the ARI score and store it in the list\n",
    "    ari_scores.append(adjusted_rand_score(\n",
    "        new_pred,\n",
    "        initial_pred,\n",
    "    ))\n",
    "\n",
    "ari_scores = pd.DataFrame(ari_scores, columns=[\"Score\"])"
   ]
  },
  {
   "cell_type": "markdown",
   "id": "cd1e31f5-281a-4e27-b47d-a9f22d64a803",
   "metadata": {},
   "source": [
    "Affichons les scores sous la forme d'une courbe"
   ]
  },
  {
   "cell_type": "code",
   "execution_count": 16,
   "id": "27623109-ad28-45d8-b6c0-a6c0da64f7ec",
   "metadata": {},
   "outputs": [
    {
     "data": {
      "image/png": "[encoded data removed]",
      "text/plain": [
       "<Figure size 1200x800 with 1 Axes>"
      ]
     },
     "metadata": {},
     "output_type": "display_data"
    }
   ],
   "source": [
    "# Plot ARI Score\n",
    "fig = plt.figure(figsize=(12,8))\n",
    "sns.lineplot(data=ari_scores)\n",
    "plt.xlabel(\"Période (en mois)\")\n",
    "plt.ylabel(\"Score ARI\")\n",
    "plt.title(\"Stabilité temporelle de la segmentation par K-Means\",\n",
    "          fontsize=18,\n",
    "          color=\"b\")\n",
    "plt.show()"
   ]
  },
  {
   "cell_type": "markdown",
   "id": "55a7fb0c-d94a-4b13-9dca-9225034e7d42",
   "metadata": {},
   "source": [
    "On remarque une nette diminution de l'ARI après 3 mois, aussi il sera conseillé de réentrainer le modèle passé ce délais."
   ]
  }
 ],
 "metadata": {
  "kernelspec": {
   "display_name": "Python 3 (ipykernel)",
   "language": "python",
   "name": "python3"
  },
  "language_info": {
   "codemirror_mode": {
    "name": "ipython",
    "version": 3
   },
   "file_extension": ".py",
   "mimetype": "text/x-python",
   "name": "python",
   "nbconvert_exporter": "python",
   "pygments_lexer": "ipython3",
   "version": "3.12.3"
  }
 },
 "nbformat": 4,
 "nbformat_minor": 5
}
