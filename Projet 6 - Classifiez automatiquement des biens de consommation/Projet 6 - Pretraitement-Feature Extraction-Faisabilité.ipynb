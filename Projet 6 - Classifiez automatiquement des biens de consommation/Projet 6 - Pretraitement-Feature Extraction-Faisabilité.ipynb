{
 "cells": [
  {
   "cell_type": "markdown",
   "id": "3b5463a7-0f44-455b-88c8-634591c9b906",
   "metadata": {
    "jp-MarkdownHeadingCollapsed": true
   },
   "source": [
    "# Introduction"
   ]
  },
  {
   "cell_type": "markdown",
   "id": "e5b04983-478b-4c22-a5f5-9adc7c940a6c",
   "metadata": {},
   "source": [
    "------------------------------\n",
    "## Mission - Etudiez la faisabilité d'un moteur de classification d'articles\n",
    "------------------------------\n",
    "\n",
    "Vous êtes Data Scientist au sein de l’entreprise \"Place de marché”, qui souhaite lancer une marketplace e-commerce.\n",
    "\n",
    "Sur cette place de marché anglophone, des vendeurs proposent des articles à des acheteurs en postant une photo et une description.\n",
    "\n",
    "Pour l'instant, l'attribution de la catégorie d'un article est effectuée manuellement par les vendeurs, et est donc peu fiable. De plus, le volume des articles est pour l’instant très petit.\n",
    "\n",
    "Pour rendre l’expérience utilisateur des vendeurs (faciliter la mise en ligne de nouveaux articles) et des acheteurs (faciliter la recherche de produits) la plus fluide possible, et dans l'optique d'un passage à l'échelle,  **il devient nécessaire d'automatiser cette tâche d‘attribution de la catégorie.**\n",
    "\n",
    "**Linda**, Lead Data Scientist, vous demande donc d'étudier la faisabilité d'un **moteur de classification** des articles en différentes catégories, à partir du texte (en anglais) et de l’image.\n",
    "\n",
    "Voici le mail qu’elle vous a envoyé.\n",
    "\n",
    "*Bonjour,*\n",
    "\n",
    "*Merci pour ton aide sur ce projet !*\n",
    "\n",
    "*Ta mission sera de réaliser **une étude de faisabilité d'un moteur de classification automatique** d’articles, en utilisant leur image et leur description sur le jeu de données d'articles disponible dans la première pièce jointe de ce mail.*\n",
    "\n",
    "*Pourrais-tu **analyser** les **descriptions textuelles** et les **images des produits**, au travers des étapes suivantes :*\n",
    "\n",
    "* *Un **prétraitement** des données texte et image*\n",
    "* *Une **extraction** de features*\n",
    "* *Une **réduction** en 2 dimensions, afin de projeter les produits sur un graphique 2D, sous la forme de points dont la couleur correspondra à la catégorie réelle*\n",
    "* *Une **analyse** du **graphique** afin de conclure, à l’aide des descriptions ou des images, sur la **faisabilité de regrouper automatiquement** des produits de même catégorie*\n",
    "* *Une réalisation d’une **mesure pour confirmer ton analyse visuelle**, en calculant la similarité entre les catégories réelles et les catégories issues d’une segmentation en clusters*\n",
    " \n",
    "*Pourrais-tu nous démontrer ainsi la faisabilité de regrouper automatiquement des produits de même catégorie ?*\n",
    "\n",
    "*Afin d’extraire les **features image**, il sera nécessaire de mettre en œuvre :*\n",
    "* *un algorithme de type SIFT / ORB / SURF ;*\n",
    "* *un algorithme de type CNN Transfer Learning.*\n",
    "\n",
    "*Afin d’extraire les **features texte**, il sera nécessaire de mettre en œuvre :*\n",
    "* *deux approches de type bag-of-words, comptage simple de mots et Tf-idf ;*\n",
    "* *une approche de type word/sentence embedding classique avec Word2Vec (ou Glove ou FastText) ;*\n",
    "* *une approche de type word/sentence embedding avec BERT ;*\n",
    "* *une approche de type word/sentence embedding avec USE (Universal Sentence Encoder).*\n",
    " \n",
    "*Pour t’aider, en deuxième pièce jointe, tu trouveras un **exemple** de Notebook mettant en œuvre les approches d’extraction de features d’images sur un autre dataset.*\n",
    "\n",
    "*Merci encore,*\n",
    "\n",
    "*Linda*\n",
    "\n",
    "*PS : J’ai bien vérifié qu’il n’y avait aucune contrainte de propriété intellectuelle sur les données et les images.*"
   ]
  },
  {
   "cell_type": "markdown",
   "id": "b5ae8d8d-6ae8-4125-af46-abb44461c489",
   "metadata": {},
   "source": [
    "# Imports"
   ]
  },
  {
   "cell_type": "code",
   "execution_count": 1,
   "id": "ff82b593-d7f9-4ffd-974e-0a6d1656e6fe",
   "metadata": {},
   "outputs": [],
   "source": [
    "import pandas as pd\n",
    "import numpy as np\n",
    "import nltk\n",
    "from nltk.stem import WordNetLemmatizer, PorterStemmer\n",
    "from nltk.tokenize import RegexpTokenizer\n",
    "from nltk.corpus import words, stopwords\n",
    "\n",
    "import seaborn as sns\n",
    "import matplotlib.pyplot as plt\n",
    "from PIL import Image"
   ]
  },
  {
   "cell_type": "code",
   "execution_count": 2,
   "id": "7e29b31c-0549-4db0-a03b-15b11d747d69",
   "metadata": {},
   "outputs": [
    {
     "name": "stderr",
     "output_type": "stream",
     "text": [
      "[nltk_data] Downloading package stopwords to\n",
      "[nltk_data]     /home/lalende/nltk_data...\n",
      "[nltk_data]   Package stopwords is already up-to-date!\n",
      "[nltk_data] Downloading package wordnet to /home/lalende/nltk_data...\n",
      "[nltk_data]   Package wordnet is already up-to-date!\n"
     ]
    },
    {
     "data": {
      "text/plain": [
       "True"
      ]
     },
     "execution_count": 2,
     "metadata": {},
     "output_type": "execute_result"
    }
   ],
   "source": [
    "# nltk\n",
    "nltk.download('stopwords')\n",
    "nltk.download('wordnet')"
   ]
  },
  {
   "cell_type": "code",
   "execution_count": 3,
   "id": "02566739-157d-485f-a94c-986cf4aedd55",
   "metadata": {},
   "outputs": [],
   "source": [
    "# Initialize sns\n",
    "sns.set()"
   ]
  },
  {
   "cell_type": "markdown",
   "id": "d7206f41-9f87-479b-b8d4-1ac191263efe",
   "metadata": {},
   "source": [
    "# Lecture du dataset"
   ]
  },
  {
   "cell_type": "code",
   "execution_count": 4,
   "id": "82579efc-ae41-4f51-b82f-8ea9e2f5cc05",
   "metadata": {},
   "outputs": [],
   "source": [
    "# Read the dataset from the csv file \n",
    "df = pd.read_csv(\"./data/Flipkart/flipkart_com-ecommerce_sample_1050.csv\")"
   ]
  },
  {
   "cell_type": "markdown",
   "id": "f3235b22-3dcb-417a-a54f-2e2682ce61dc",
   "metadata": {},
   "source": [
    "## Caractéristiques du jeu de données"
   ]
  },
  {
   "cell_type": "code",
   "execution_count": 5,
   "id": "fbb14624-3aeb-4f85-8652-aaa927d85cf0",
   "metadata": {},
   "outputs": [
    {
     "name": "stdout",
     "output_type": "stream",
     "text": [
      "<class 'pandas.core.frame.DataFrame'>\n",
      "RangeIndex: 1050 entries, 0 to 1049\n",
      "Data columns (total 15 columns):\n",
      " #   Column                   Non-Null Count  Dtype  \n",
      "---  ------                   --------------  -----  \n",
      " 0   uniq_id                  1050 non-null   object \n",
      " 1   crawl_timestamp          1050 non-null   object \n",
      " 2   product_url              1050 non-null   object \n",
      " 3   product_name             1050 non-null   object \n",
      " 4   product_category_tree    1050 non-null   object \n",
      " 5   pid                      1050 non-null   object \n",
      " 6   retail_price             1049 non-null   float64\n",
      " 7   discounted_price         1049 non-null   float64\n",
      " 8   image                    1050 non-null   object \n",
      " 9   is_FK_Advantage_product  1050 non-null   bool   \n",
      " 10  description              1050 non-null   object \n",
      " 11  product_rating           1050 non-null   object \n",
      " 12  overall_rating           1050 non-null   object \n",
      " 13  brand                    712 non-null    object \n",
      " 14  product_specifications   1049 non-null   object \n",
      "dtypes: bool(1), float64(2), object(12)\n",
      "memory usage: 116.0+ KB\n"
     ]
    }
   ],
   "source": [
    "# Print dataframe infos\n",
    "df.info()"
   ]
  },
  {
   "cell_type": "code",
   "execution_count": 6,
   "id": "52be6270-b45e-449c-b75c-a1b61b95caf0",
   "metadata": {},
   "outputs": [
    {
     "data": {
      "text/html": [
       "<div>\n",
       "<style scoped>\n",
       "    .dataframe tbody tr th:only-of-type {\n",
       "        vertical-align: middle;\n",
       "    }\n",
       "\n",
       "    .dataframe tbody tr th {\n",
       "        vertical-align: top;\n",
       "    }\n",
       "\n",
       "    .dataframe thead th {\n",
       "        text-align: right;\n",
       "    }\n",
       "</style>\n",
       "<table border=\"1\" class=\"dataframe\">\n",
       "  <thead>\n",
       "    <tr style=\"text-align: right;\">\n",
       "      <th></th>\n",
       "      <th>uniq_id</th>\n",
       "      <th>crawl_timestamp</th>\n",
       "      <th>product_url</th>\n",
       "      <th>product_name</th>\n",
       "      <th>product_category_tree</th>\n",
       "      <th>pid</th>\n",
       "      <th>retail_price</th>\n",
       "      <th>discounted_price</th>\n",
       "      <th>image</th>\n",
       "      <th>is_FK_Advantage_product</th>\n",
       "      <th>description</th>\n",
       "      <th>product_rating</th>\n",
       "      <th>overall_rating</th>\n",
       "      <th>brand</th>\n",
       "      <th>product_specifications</th>\n",
       "    </tr>\n",
       "  </thead>\n",
       "  <tbody>\n",
       "    <tr>\n",
       "      <th>0</th>\n",
       "      <td>55b85ea15a1536d46b7190ad6fff8ce7</td>\n",
       "      <td>2016-04-30 03:22:56 +0000</td>\n",
       "      <td>http://www.flipkart.com/elegance-polyester-mul...</td>\n",
       "      <td>Elegance Polyester Multicolor Abstract Eyelet ...</td>\n",
       "      <td>[\"Home Furnishing &gt;&gt; Curtains &amp; Accessories &gt;&gt;...</td>\n",
       "      <td>CRNEG7BKMFFYHQ8Z</td>\n",
       "      <td>1899.0</td>\n",
       "      <td>899.0</td>\n",
       "      <td>55b85ea15a1536d46b7190ad6fff8ce7.jpg</td>\n",
       "      <td>False</td>\n",
       "      <td>Key Features of Elegance Polyester Multicolor ...</td>\n",
       "      <td>No rating available</td>\n",
       "      <td>No rating available</td>\n",
       "      <td>Elegance</td>\n",
       "      <td>{\"product_specification\"=&gt;[{\"key\"=&gt;\"Brand\", \"v...</td>\n",
       "    </tr>\n",
       "    <tr>\n",
       "      <th>1</th>\n",
       "      <td>7b72c92c2f6c40268628ec5f14c6d590</td>\n",
       "      <td>2016-04-30 03:22:56 +0000</td>\n",
       "      <td>http://www.flipkart.com/sathiyas-cotton-bath-t...</td>\n",
       "      <td>Sathiyas Cotton Bath Towel</td>\n",
       "      <td>[\"Baby Care &gt;&gt; Baby Bath &amp; Skin &gt;&gt; Baby Bath T...</td>\n",
       "      <td>BTWEGFZHGBXPHZUH</td>\n",
       "      <td>600.0</td>\n",
       "      <td>449.0</td>\n",
       "      <td>7b72c92c2f6c40268628ec5f14c6d590.jpg</td>\n",
       "      <td>False</td>\n",
       "      <td>Specifications of Sathiyas Cotton Bath Towel (...</td>\n",
       "      <td>No rating available</td>\n",
       "      <td>No rating available</td>\n",
       "      <td>Sathiyas</td>\n",
       "      <td>{\"product_specification\"=&gt;[{\"key\"=&gt;\"Machine Wa...</td>\n",
       "    </tr>\n",
       "    <tr>\n",
       "      <th>2</th>\n",
       "      <td>64d5d4a258243731dc7bbb1eef49ad74</td>\n",
       "      <td>2016-04-30 03:22:56 +0000</td>\n",
       "      <td>http://www.flipkart.com/eurospa-cotton-terry-f...</td>\n",
       "      <td>Eurospa Cotton Terry Face Towel Set</td>\n",
       "      <td>[\"Baby Care &gt;&gt; Baby Bath &amp; Skin &gt;&gt; Baby Bath T...</td>\n",
       "      <td>BTWEG6SHXTDB2A2Y</td>\n",
       "      <td>NaN</td>\n",
       "      <td>NaN</td>\n",
       "      <td>64d5d4a258243731dc7bbb1eef49ad74.jpg</td>\n",
       "      <td>False</td>\n",
       "      <td>Key Features of Eurospa Cotton Terry Face Towe...</td>\n",
       "      <td>No rating available</td>\n",
       "      <td>No rating available</td>\n",
       "      <td>Eurospa</td>\n",
       "      <td>{\"product_specification\"=&gt;[{\"key\"=&gt;\"Material\",...</td>\n",
       "    </tr>\n",
       "    <tr>\n",
       "      <th>3</th>\n",
       "      <td>d4684dcdc759dd9cdf41504698d737d8</td>\n",
       "      <td>2016-06-20 08:49:52 +0000</td>\n",
       "      <td>http://www.flipkart.com/santosh-royal-fashion-...</td>\n",
       "      <td>SANTOSH ROYAL FASHION Cotton Printed King size...</td>\n",
       "      <td>[\"Home Furnishing &gt;&gt; Bed Linen &gt;&gt; Bedsheets &gt;&gt;...</td>\n",
       "      <td>BDSEJT9UQWHDUBH4</td>\n",
       "      <td>2699.0</td>\n",
       "      <td>1299.0</td>\n",
       "      <td>d4684dcdc759dd9cdf41504698d737d8.jpg</td>\n",
       "      <td>False</td>\n",
       "      <td>Key Features of SANTOSH ROYAL FASHION Cotton P...</td>\n",
       "      <td>No rating available</td>\n",
       "      <td>No rating available</td>\n",
       "      <td>SANTOSH ROYAL FASHION</td>\n",
       "      <td>{\"product_specification\"=&gt;[{\"key\"=&gt;\"Brand\", \"v...</td>\n",
       "    </tr>\n",
       "    <tr>\n",
       "      <th>4</th>\n",
       "      <td>6325b6870c54cd47be6ebfbffa620ec7</td>\n",
       "      <td>2016-06-20 08:49:52 +0000</td>\n",
       "      <td>http://www.flipkart.com/jaipur-print-cotton-fl...</td>\n",
       "      <td>Jaipur Print Cotton Floral King sized Double B...</td>\n",
       "      <td>[\"Home Furnishing &gt;&gt; Bed Linen &gt;&gt; Bedsheets &gt;&gt;...</td>\n",
       "      <td>BDSEJTHNGWVGWWQU</td>\n",
       "      <td>2599.0</td>\n",
       "      <td>698.0</td>\n",
       "      <td>6325b6870c54cd47be6ebfbffa620ec7.jpg</td>\n",
       "      <td>False</td>\n",
       "      <td>Key Features of Jaipur Print Cotton Floral Kin...</td>\n",
       "      <td>No rating available</td>\n",
       "      <td>No rating available</td>\n",
       "      <td>Jaipur Print</td>\n",
       "      <td>{\"product_specification\"=&gt;[{\"key\"=&gt;\"Machine Wa...</td>\n",
       "    </tr>\n",
       "  </tbody>\n",
       "</table>\n",
       "</div>"
      ],
      "text/plain": [
       "                            uniq_id            crawl_timestamp  \\\n",
       "0  55b85ea15a1536d46b7190ad6fff8ce7  2016-04-30 03:22:56 +0000   \n",
       "1  7b72c92c2f6c40268628ec5f14c6d590  2016-04-30 03:22:56 +0000   \n",
       "2  64d5d4a258243731dc7bbb1eef49ad74  2016-04-30 03:22:56 +0000   \n",
       "3  d4684dcdc759dd9cdf41504698d737d8  2016-06-20 08:49:52 +0000   \n",
       "4  6325b6870c54cd47be6ebfbffa620ec7  2016-06-20 08:49:52 +0000   \n",
       "\n",
       "                                         product_url  \\\n",
       "0  http://www.flipkart.com/elegance-polyester-mul...   \n",
       "1  http://www.flipkart.com/sathiyas-cotton-bath-t...   \n",
       "2  http://www.flipkart.com/eurospa-cotton-terry-f...   \n",
       "3  http://www.flipkart.com/santosh-royal-fashion-...   \n",
       "4  http://www.flipkart.com/jaipur-print-cotton-fl...   \n",
       "\n",
       "                                        product_name  \\\n",
       "0  Elegance Polyester Multicolor Abstract Eyelet ...   \n",
       "1                         Sathiyas Cotton Bath Towel   \n",
       "2                Eurospa Cotton Terry Face Towel Set   \n",
       "3  SANTOSH ROYAL FASHION Cotton Printed King size...   \n",
       "4  Jaipur Print Cotton Floral King sized Double B...   \n",
       "\n",
       "                               product_category_tree               pid  \\\n",
       "0  [\"Home Furnishing >> Curtains & Accessories >>...  CRNEG7BKMFFYHQ8Z   \n",
       "1  [\"Baby Care >> Baby Bath & Skin >> Baby Bath T...  BTWEGFZHGBXPHZUH   \n",
       "2  [\"Baby Care >> Baby Bath & Skin >> Baby Bath T...  BTWEG6SHXTDB2A2Y   \n",
       "3  [\"Home Furnishing >> Bed Linen >> Bedsheets >>...  BDSEJT9UQWHDUBH4   \n",
       "4  [\"Home Furnishing >> Bed Linen >> Bedsheets >>...  BDSEJTHNGWVGWWQU   \n",
       "\n",
       "   retail_price  discounted_price                                 image  \\\n",
       "0        1899.0             899.0  55b85ea15a1536d46b7190ad6fff8ce7.jpg   \n",
       "1         600.0             449.0  7b72c92c2f6c40268628ec5f14c6d590.jpg   \n",
       "2           NaN               NaN  64d5d4a258243731dc7bbb1eef49ad74.jpg   \n",
       "3        2699.0            1299.0  d4684dcdc759dd9cdf41504698d737d8.jpg   \n",
       "4        2599.0             698.0  6325b6870c54cd47be6ebfbffa620ec7.jpg   \n",
       "\n",
       "   is_FK_Advantage_product                                        description  \\\n",
       "0                    False  Key Features of Elegance Polyester Multicolor ...   \n",
       "1                    False  Specifications of Sathiyas Cotton Bath Towel (...   \n",
       "2                    False  Key Features of Eurospa Cotton Terry Face Towe...   \n",
       "3                    False  Key Features of SANTOSH ROYAL FASHION Cotton P...   \n",
       "4                    False  Key Features of Jaipur Print Cotton Floral Kin...   \n",
       "\n",
       "        product_rating       overall_rating                  brand  \\\n",
       "0  No rating available  No rating available               Elegance   \n",
       "1  No rating available  No rating available               Sathiyas   \n",
       "2  No rating available  No rating available                Eurospa   \n",
       "3  No rating available  No rating available  SANTOSH ROYAL FASHION   \n",
       "4  No rating available  No rating available           Jaipur Print   \n",
       "\n",
       "                              product_specifications  \n",
       "0  {\"product_specification\"=>[{\"key\"=>\"Brand\", \"v...  \n",
       "1  {\"product_specification\"=>[{\"key\"=>\"Machine Wa...  \n",
       "2  {\"product_specification\"=>[{\"key\"=>\"Material\",...  \n",
       "3  {\"product_specification\"=>[{\"key\"=>\"Brand\", \"v...  \n",
       "4  {\"product_specification\"=>[{\"key\"=>\"Machine Wa...  "
      ]
     },
     "execution_count": 6,
     "metadata": {},
     "output_type": "execute_result"
    }
   ],
   "source": [
    "# Print the first rows of the dataframe\n",
    "df.head()"
   ]
  },
  {
   "cell_type": "code",
   "execution_count": 7,
   "id": "eb0e54dc-9f20-4f4c-bd91-9bee7ac5f9d6",
   "metadata": {},
   "outputs": [
    {
     "data": {
      "text/plain": [
       "uniq_id                    1050\n",
       "crawl_timestamp             149\n",
       "product_url                1050\n",
       "product_name               1050\n",
       "product_category_tree       642\n",
       "pid                        1050\n",
       "retail_price                354\n",
       "discounted_price            424\n",
       "image                      1050\n",
       "is_FK_Advantage_product       2\n",
       "description                1050\n",
       "product_rating               27\n",
       "overall_rating               27\n",
       "brand                       490\n",
       "product_specifications      984\n",
       "dtype: int64"
      ]
     },
     "execution_count": 7,
     "metadata": {},
     "output_type": "execute_result"
    }
   ],
   "source": [
    "# Print the number of unique values by column\n",
    "df.nunique()"
   ]
  },
  {
   "cell_type": "markdown",
   "id": "410fc372-fd6f-40cf-9c63-9dbf64f357c9",
   "metadata": {},
   "source": [
    "## Sélection des données de travail"
   ]
  },
  {
   "cell_type": "markdown",
   "id": "6e57c2a1-cc9c-4aca-b412-eba39607b2da",
   "metadata": {},
   "source": [
    "Pour notre travail, nous allons utiliser les descriptions textuelles et les images des produits pour déterminer la catégorie des produits.\n",
    "\n",
    "Nous avons vérifier à l'étape précédente qu'il n'y avait pas de doublons sur les colonnes image et description. En effet, pour 1050 uniq_id de produits, nous avons bien 1050 images et 1050 descriptions.\n",
    "\n",
    "Nous conserverons donc toutes les descriptions, images. Etant donné que nous souhaitons déterminer la catégorie de produit, nous conserverons également product_category_tree."
   ]
  },
  {
   "cell_type": "code",
   "execution_count": 8,
   "id": "9773ee0c-4e86-4630-8293-b4e12c373a9d",
   "metadata": {},
   "outputs": [
    {
     "data": {
      "text/html": [
       "<div>\n",
       "<style scoped>\n",
       "    .dataframe tbody tr th:only-of-type {\n",
       "        vertical-align: middle;\n",
       "    }\n",
       "\n",
       "    .dataframe tbody tr th {\n",
       "        vertical-align: top;\n",
       "    }\n",
       "\n",
       "    .dataframe thead th {\n",
       "        text-align: right;\n",
       "    }\n",
       "</style>\n",
       "<table border=\"1\" class=\"dataframe\">\n",
       "  <thead>\n",
       "    <tr style=\"text-align: right;\">\n",
       "      <th></th>\n",
       "      <th>product_category_tree</th>\n",
       "      <th>image</th>\n",
       "      <th>description</th>\n",
       "    </tr>\n",
       "  </thead>\n",
       "  <tbody>\n",
       "    <tr>\n",
       "      <th>0</th>\n",
       "      <td>[\"Home Furnishing &gt;&gt; Curtains &amp; Accessories &gt;&gt;...</td>\n",
       "      <td>55b85ea15a1536d46b7190ad6fff8ce7.jpg</td>\n",
       "      <td>Key Features of Elegance Polyester Multicolor ...</td>\n",
       "    </tr>\n",
       "    <tr>\n",
       "      <th>1</th>\n",
       "      <td>[\"Baby Care &gt;&gt; Baby Bath &amp; Skin &gt;&gt; Baby Bath T...</td>\n",
       "      <td>7b72c92c2f6c40268628ec5f14c6d590.jpg</td>\n",
       "      <td>Specifications of Sathiyas Cotton Bath Towel (...</td>\n",
       "    </tr>\n",
       "    <tr>\n",
       "      <th>2</th>\n",
       "      <td>[\"Baby Care &gt;&gt; Baby Bath &amp; Skin &gt;&gt; Baby Bath T...</td>\n",
       "      <td>64d5d4a258243731dc7bbb1eef49ad74.jpg</td>\n",
       "      <td>Key Features of Eurospa Cotton Terry Face Towe...</td>\n",
       "    </tr>\n",
       "    <tr>\n",
       "      <th>3</th>\n",
       "      <td>[\"Home Furnishing &gt;&gt; Bed Linen &gt;&gt; Bedsheets &gt;&gt;...</td>\n",
       "      <td>d4684dcdc759dd9cdf41504698d737d8.jpg</td>\n",
       "      <td>Key Features of SANTOSH ROYAL FASHION Cotton P...</td>\n",
       "    </tr>\n",
       "    <tr>\n",
       "      <th>4</th>\n",
       "      <td>[\"Home Furnishing &gt;&gt; Bed Linen &gt;&gt; Bedsheets &gt;&gt;...</td>\n",
       "      <td>6325b6870c54cd47be6ebfbffa620ec7.jpg</td>\n",
       "      <td>Key Features of Jaipur Print Cotton Floral Kin...</td>\n",
       "    </tr>\n",
       "  </tbody>\n",
       "</table>\n",
       "</div>"
      ],
      "text/plain": [
       "                               product_category_tree  \\\n",
       "0  [\"Home Furnishing >> Curtains & Accessories >>...   \n",
       "1  [\"Baby Care >> Baby Bath & Skin >> Baby Bath T...   \n",
       "2  [\"Baby Care >> Baby Bath & Skin >> Baby Bath T...   \n",
       "3  [\"Home Furnishing >> Bed Linen >> Bedsheets >>...   \n",
       "4  [\"Home Furnishing >> Bed Linen >> Bedsheets >>...   \n",
       "\n",
       "                                  image  \\\n",
       "0  55b85ea15a1536d46b7190ad6fff8ce7.jpg   \n",
       "1  7b72c92c2f6c40268628ec5f14c6d590.jpg   \n",
       "2  64d5d4a258243731dc7bbb1eef49ad74.jpg   \n",
       "3  d4684dcdc759dd9cdf41504698d737d8.jpg   \n",
       "4  6325b6870c54cd47be6ebfbffa620ec7.jpg   \n",
       "\n",
       "                                         description  \n",
       "0  Key Features of Elegance Polyester Multicolor ...  \n",
       "1  Specifications of Sathiyas Cotton Bath Towel (...  \n",
       "2  Key Features of Eurospa Cotton Terry Face Towe...  \n",
       "3  Key Features of SANTOSH ROYAL FASHION Cotton P...  \n",
       "4  Key Features of Jaipur Print Cotton Floral Kin...  "
      ]
     },
     "execution_count": 8,
     "metadata": {},
     "output_type": "execute_result"
    }
   ],
   "source": [
    "# Define a list of columns to keep\n",
    "selected_columns = [\"product_category_tree\", \"image\", \"description\"]\n",
    "# Filter the dataframe with the selected columns\n",
    "df = df[selected_columns]\n",
    "df.head()"
   ]
  },
  {
   "cell_type": "markdown",
   "id": "4dcc8b48-6867-476a-a206-f639c71dc758",
   "metadata": {},
   "source": [
    "# Analyse exploratoire"
   ]
  },
  {
   "cell_type": "markdown",
   "id": "49428043-5462-433f-9c87-90d9fd3ea0c0",
   "metadata": {},
   "source": [
    "## Taille des documents"
   ]
  },
  {
   "cell_type": "markdown",
   "id": "104eaa55-2c60-4ebe-9629-b46d60943f1d",
   "metadata": {},
   "source": [
    "Calculons la longueur des textes"
   ]
  },
  {
   "cell_type": "code",
   "execution_count": 9,
   "id": "102a8127-4769-42ed-bdcd-d53d2047cbe6",
   "metadata": {},
   "outputs": [],
   "source": [
    "# Calculate the length of each text\n",
    "len_of_texts = df[\"description\"].apply(lambda i : len(i))"
   ]
  },
  {
   "cell_type": "code",
   "execution_count": 10,
   "id": "59896ce5-86b6-42e5-9998-a3717a5f0428",
   "metadata": {},
   "outputs": [
    {
     "data": {
      "text/plain": [
       "<Axes: xlabel='description'>"
      ]
     },
     "execution_count": 10,
     "metadata": {},
     "output_type": "execute_result"
    },
    {
     "data": {
      "image/png": "[encoded data removed]",
      "text/plain": [
       "<Figure size 640x480 with 1 Axes>"
      ]
     },
     "metadata": {},
     "output_type": "display_data"
    }
   ],
   "source": [
    "# Plot the length in a boxplot\n",
    "sns.boxplot(len_of_texts, orient=\"h\")"
   ]
  },
  {
   "cell_type": "code",
   "execution_count": 11,
   "id": "59ffa511-69a7-495b-86c8-32283d946977",
   "metadata": {},
   "outputs": [
    {
     "data": {
      "text/plain": [
       "<seaborn.axisgrid.FacetGrid at 0x7c632fd65070>"
      ]
     },
     "execution_count": 11,
     "metadata": {},
     "output_type": "execute_result"
    },
    {
     "data": {
      "image/png": "[encoded data removed]",
      "text/plain": [
       "<Figure size 500x500 with 1 Axes>"
      ]
     },
     "metadata": {},
     "output_type": "display_data"
    }
   ],
   "source": [
    "# Plot the distribution of the lengths\n",
    "sns.displot(len_of_texts)"
   ]
  },
  {
   "cell_type": "markdown",
   "id": "43b925fd-a8ee-4a9f-b301-3a580dc73624",
   "metadata": {},
   "source": [
    "## Exploration des descriptions"
   ]
  },
  {
   "cell_type": "code",
   "execution_count": 12,
   "id": "2d5bbc49-8e0b-4bd7-8e6b-f4399650ae99",
   "metadata": {},
   "outputs": [
    {
     "data": {
      "text/html": [
       "<div>\n",
       "<style scoped>\n",
       "    .dataframe tbody tr th:only-of-type {\n",
       "        vertical-align: middle;\n",
       "    }\n",
       "\n",
       "    .dataframe tbody tr th {\n",
       "        vertical-align: top;\n",
       "    }\n",
       "\n",
       "    .dataframe thead th {\n",
       "        text-align: right;\n",
       "    }\n",
       "</style>\n",
       "<table border=\"1\" class=\"dataframe\">\n",
       "  <thead>\n",
       "    <tr style=\"text-align: right;\">\n",
       "      <th></th>\n",
       "      <th>product_category_tree</th>\n",
       "      <th>image</th>\n",
       "      <th>description</th>\n",
       "    </tr>\n",
       "  </thead>\n",
       "  <tbody>\n",
       "    <tr>\n",
       "      <th>773</th>\n",
       "      <td>[\"Baby Care &gt;&gt; Baby Bedding &gt;&gt; Baby Blankets &gt;...</td>\n",
       "      <td>109e235d4838002246599f987d935c21.jpg</td>\n",
       "      <td>Buy Ireeya Abstract Single Coral Blanket Blue ...</td>\n",
       "    </tr>\n",
       "    <tr>\n",
       "      <th>411</th>\n",
       "      <td>[\"Beauty and Personal Care &gt;&gt; Fragrances &gt;&gt; De...</td>\n",
       "      <td>5c7b493625b5fc6689cae49d25e1ae17.jpg</td>\n",
       "      <td>Flipkart.com: Buy Aero Care Blue 4 Lady Combo ...</td>\n",
       "    </tr>\n",
       "    <tr>\n",
       "      <th>253</th>\n",
       "      <td>[\"Kitchen &amp; Dining &gt;&gt; Cookware &gt;&gt; Pots &amp; Pans ...</td>\n",
       "      <td>fb733e04ff2d72c59d8513eb574e81a2.jpg</td>\n",
       "      <td>Buy Metallino Hard Anodised WGlass Lid Kadhai ...</td>\n",
       "    </tr>\n",
       "    <tr>\n",
       "      <th>718</th>\n",
       "      <td>[\"Home Furnishing &gt;&gt; Bed Linen &gt;&gt; Blankets, Qu...</td>\n",
       "      <td>b33d82c619bf88c3e3bb8f53beab0c4b.jpg</td>\n",
       "      <td>Buy Home Originals Abstract Double Quilts &amp; Co...</td>\n",
       "    </tr>\n",
       "    <tr>\n",
       "      <th>841</th>\n",
       "      <td>[\"Computers &gt;&gt; Laptop Accessories &gt;&gt; USB Gadge...</td>\n",
       "      <td>01089dc3618a0ab7304d784ef400b83d.jpg</td>\n",
       "      <td>Buy KLIQVIK SIX PORT USB HUB FOR I PHONE 4 MOB...</td>\n",
       "    </tr>\n",
       "  </tbody>\n",
       "</table>\n",
       "</div>"
      ],
      "text/plain": [
       "                                 product_category_tree  \\\n",
       "773  [\"Baby Care >> Baby Bedding >> Baby Blankets >...   \n",
       "411  [\"Beauty and Personal Care >> Fragrances >> De...   \n",
       "253  [\"Kitchen & Dining >> Cookware >> Pots & Pans ...   \n",
       "718  [\"Home Furnishing >> Bed Linen >> Blankets, Qu...   \n",
       "841  [\"Computers >> Laptop Accessories >> USB Gadge...   \n",
       "\n",
       "                                    image  \\\n",
       "773  109e235d4838002246599f987d935c21.jpg   \n",
       "411  5c7b493625b5fc6689cae49d25e1ae17.jpg   \n",
       "253  fb733e04ff2d72c59d8513eb574e81a2.jpg   \n",
       "718  b33d82c619bf88c3e3bb8f53beab0c4b.jpg   \n",
       "841  01089dc3618a0ab7304d784ef400b83d.jpg   \n",
       "\n",
       "                                           description  \n",
       "773  Buy Ireeya Abstract Single Coral Blanket Blue ...  \n",
       "411  Flipkart.com: Buy Aero Care Blue 4 Lady Combo ...  \n",
       "253  Buy Metallino Hard Anodised WGlass Lid Kadhai ...  \n",
       "718  Buy Home Originals Abstract Double Quilts & Co...  \n",
       "841  Buy KLIQVIK SIX PORT USB HUB FOR I PHONE 4 MOB...  "
      ]
     },
     "execution_count": 12,
     "metadata": {},
     "output_type": "execute_result"
    }
   ],
   "source": [
    "# Select randomly 10 products\n",
    "df_sample = df.sample(10)\n",
    "df_sample.head()"
   ]
  },
  {
   "cell_type": "code",
   "execution_count": 13,
   "id": "b327c11f-821c-452d-9711-cf5cb0c3eb10",
   "metadata": {},
   "outputs": [
    {
     "name": "stdout",
     "output_type": "stream",
     "text": [
      "Buy Ireeya Abstract Single Coral Blanket Blue at Rs. 529 at Flipkart.com. Only Genuine Products. Free Shipping. Cash On Delivery!\n",
      "\n",
      "\n",
      "Flipkart.com: Buy Aero Care Blue 4 Lady Combo Set online only for Rs. 165 from Flipkart.com. Only Genuine Products. 30 Day Replacement Guarantee. Free Shipping. Cash On Delivery!\n",
      "\n",
      "\n",
      "Buy Metallino Hard Anodised WGlass Lid Kadhai 3.5 L for Rs.1132 online. Metallino Hard Anodised WGlass Lid Kadhai 3.5 L at best prices with FREE shipping & cash on delivery. Only Genuine Products. 30 Day Replacement Guarantee.\n",
      "\n",
      "\n",
      "Buy Home Originals Abstract Double Quilts & Comforters Multicolor at Rs. 1199 at Flipkart.com. Only Genuine Products. Free Shipping. Cash On Delivery!\n",
      "\n",
      "\n",
      "Buy KLIQVIK SIX PORT USB HUB FOR I PHONE 4 MOBILES TR-256 USB USB Hub for Rs.1099 online. KLIQVIK SIX PORT USB HUB FOR I PHONE 4 MOBILES TR-256 USB USB Hub at best prices with FREE shipping & cash on delivery. Only Genuine Products. 30 Day Replacement Guarantee.\n",
      "\n",
      "\n",
      "Times SD_147 Casual Analog Watch  - For Women - Buy Times SD_147 Casual Analog Watch  - For Women  SD_147 Online at Rs.550 in India Only at Flipkart.com. - Great Discounts, Only Genuine Products, 30 Day Replacement Guarantee, Free Shipping. Cash On Delivery!\n",
      "\n",
      "\n",
      "Times 284TMS284 Party-Wedding Analog Watch  - For Women - Buy Times 284TMS284 Party-Wedding Analog Watch  - For Women  284TMS284 Online at Rs.550 in India Only at Flipkart.com. - Great Discounts, Only Genuine Products, 30 Day Replacement Guarantee, Free Shipping. Cash On Delivery!\n",
      "\n",
      "\n",
      "Buy Scalabedding Cotton Striped King sized Double Bedsheet at Rs. 2115 at Flipkart.com. Only Genuine Products. Free Shipping. Cash On Delivery!\n",
      "\n",
      "\n",
      "Buy Asus RT-AC68U Dual-band Wireless-AC1900 Gigabit Router only for Rs. 22000 from Flipkart.com. Only Genuine Products. 30 Day Replacement Guarantee. Free Shipping. Cash On Delivery!\n",
      "\n",
      "\n",
      "Buy Offspring Printed Single Wrapper Multicolor at Rs. 290 at Flipkart.com. Only Genuine Products. Free Shipping. Cash On Delivery!\n",
      "\n",
      "\n"
     ]
    }
   ],
   "source": [
    "# For each line of our sample get the description and print it\n",
    "for idx, ser in df_sample.iterrows():\n",
    "    print(ser[\"description\"])    \n",
    "    # Add an empty line for clarity\n",
    "    print(\"\\n\")"
   ]
  },
  {
   "cell_type": "markdown",
   "id": "26c5e077-518d-48f0-82a2-2c320f4dc50a",
   "metadata": {},
   "source": [
    "## Analyse des catégories"
   ]
  },
  {
   "cell_type": "code",
   "execution_count": 14,
   "id": "0473df1a-d302-4db3-91f4-3bee883e5a3b",
   "metadata": {},
   "outputs": [
    {
     "name": "stdout",
     "output_type": "stream",
     "text": [
      "[\"Baby Care >> Baby Bedding >> Baby Blankets >> Ireeya Baby Blankets\"]\n",
      "\n",
      "\n",
      "[\"Beauty and Personal Care >> Fragrances >> Deodorants >> Combos >> Aero Care Combos\"]\n",
      "\n",
      "\n",
      "[\"Kitchen & Dining >> Cookware >> Pots & Pans >> Woks & Kadhais >> Metallino Woks & Kadhais\"]\n",
      "\n",
      "\n",
      "[\"Home Furnishing >> Bed Linen >> Blankets, Quilts & Dohars\"]\n",
      "\n",
      "\n",
      "[\"Computers >> Laptop Accessories >> USB Gadgets >> KLIQVIK USB Gadgets\"]\n",
      "\n",
      "\n",
      "[\"Watches >> Wrist Watches >> Times Wrist Watches\"]\n",
      "\n",
      "\n",
      "[\"Watches >> Wrist Watches >> Times Wrist Watches\"]\n",
      "\n",
      "\n",
      "[\"Home Furnishing >> Bed Linen >> Bedsheets\"]\n",
      "\n",
      "\n",
      "[\"Computers >> Network Components >> Routers >> Asus Routers\"]\n",
      "\n",
      "\n",
      "[\"Baby Care >> Baby Bedding >> Baby Blankets >> Offspring Baby Blankets\"]\n",
      "\n",
      "\n"
     ]
    }
   ],
   "source": [
    "# For each line of our sample get the product_category_tree and print it\n",
    "for idx, ser in df_sample.iterrows():\n",
    "    print(ser[\"product_category_tree\"])    \n",
    "    # Add an empty line for clarity\n",
    "    print(\"\\n\")"
   ]
  },
  {
   "cell_type": "markdown",
   "id": "1ed22b98-62b3-460a-8937-87e08f6d0ad0",
   "metadata": {},
   "source": [
    "Nous constatons, comme son nom l'indique, que cette variable contient le chemin dans l'arborescence des produits.\n",
    "\n",
    "Nous souhaitons à présent décomposer ce chemin et analyser les données à notre disposition. "
   ]
  },
  {
   "cell_type": "markdown",
   "id": "e3e6fd0a-709c-423d-aaae-a46e14b1717a",
   "metadata": {},
   "source": [
    "Tout d'abord nous nous séparerons des caractères de début (**[\"**) et de fin (**\"]**)."
   ]
  },
  {
   "cell_type": "code",
   "execution_count": 15,
   "id": "023ec046-da58-44cb-b9e0-506e8ce8fa1e",
   "metadata": {},
   "outputs": [],
   "source": [
    "# Suppress the [\" and \"] characters\n",
    "df[\"product_category_tree\"] = df[\"product_category_tree\"].apply(lambda i : i.replace('[\"', ''))\n",
    "df[\"product_category_tree\"] = df[\"product_category_tree\"].apply(lambda i : i.replace('\"]', ''))"
   ]
  },
  {
   "cell_type": "code",
   "execution_count": 16,
   "id": "03057566-4b17-4fee-ae42-227675f61489",
   "metadata": {},
   "outputs": [
    {
     "data": {
      "text/plain": [
       "0       Home Furnishing >> Curtains & Accessories >> C...\n",
       "1       Baby Care >> Baby Bath & Skin >> Baby Bath Tow...\n",
       "2       Baby Care >> Baby Bath & Skin >> Baby Bath Tow...\n",
       "3       Home Furnishing >> Bed Linen >> Bedsheets >> S...\n",
       "4       Home Furnishing >> Bed Linen >> Bedsheets >> J...\n",
       "                              ...                        \n",
       "1045    Baby Care >> Baby & Kids Gifts >> Stickers >> ...\n",
       "1046    Baby Care >> Baby & Kids Gifts >> Stickers >> ...\n",
       "1047    Baby Care >> Baby & Kids Gifts >> Stickers >> ...\n",
       "1048    Baby Care >> Baby & Kids Gifts >> Stickers >> ...\n",
       "1049    Baby Care >> Baby & Kids Gifts >> Stickers >> ...\n",
       "Name: product_category_tree, Length: 1050, dtype: object"
      ]
     },
     "execution_count": 16,
     "metadata": {},
     "output_type": "execute_result"
    }
   ],
   "source": [
    "# Get the values of the product_category_tree in a series\n",
    "product_category_tree = df[\"product_category_tree\"]\n",
    "product_category_tree"
   ]
  },
  {
   "cell_type": "markdown",
   "id": "87fb0e0b-698b-4a79-8332-37ce90ca8025",
   "metadata": {},
   "source": [
    "Décomposons la chaine de caractères dans un dataframe à chaque apparition du signe **>>**."
   ]
  },
  {
   "cell_type": "code",
   "execution_count": 17,
   "id": "24d2912b-7d1b-4de5-b13e-99d9d4126d41",
   "metadata": {},
   "outputs": [
    {
     "data": {
      "text/plain": [
       "0       [Home Furnishing ,  Curtains & Accessories ,  ...\n",
       "1       [Baby Care ,  Baby Bath & Skin ,  Baby Bath To...\n",
       "2       [Baby Care ,  Baby Bath & Skin ,  Baby Bath To...\n",
       "3       [Home Furnishing ,  Bed Linen ,  Bedsheets ,  ...\n",
       "4       [Home Furnishing ,  Bed Linen ,  Bedsheets ,  ...\n",
       "                              ...                        \n",
       "1045    [Baby Care ,  Baby & Kids Gifts ,  Stickers , ...\n",
       "1046    [Baby Care ,  Baby & Kids Gifts ,  Stickers , ...\n",
       "1047    [Baby Care ,  Baby & Kids Gifts ,  Stickers , ...\n",
       "1048    [Baby Care ,  Baby & Kids Gifts ,  Stickers , ...\n",
       "1049    [Baby Care ,  Baby & Kids Gifts ,  Stickers , ...\n",
       "Name: product_category_tree, Length: 1050, dtype: object"
      ]
     },
     "execution_count": 17,
     "metadata": {},
     "output_type": "execute_result"
    }
   ],
   "source": [
    "# Split the product_category_tree and store it in a list\n",
    "categories_list = product_category_tree.apply(lambda i : i.split(\">>\"))\n",
    "categories_list"
   ]
  },
  {
   "cell_type": "markdown",
   "id": "cbfec819-a1a6-4750-8949-b41fce8ce28b",
   "metadata": {},
   "source": [
    "Etudions la taille des listes de catégories"
   ]
  },
  {
   "cell_type": "code",
   "execution_count": 18,
   "id": "0e33e2dc-ff4d-47bd-a66a-01277ff3531d",
   "metadata": {},
   "outputs": [
    {
     "data": {
      "text/plain": [
       "7"
      ]
     },
     "execution_count": 18,
     "metadata": {},
     "output_type": "execute_result"
    }
   ],
   "source": [
    "# Go through categories_list and get the biggest list\n",
    "max_size = 0\n",
    "for i in range(len(categories_list)):\n",
    "    # Check if the size is greater than the max_size already found\n",
    "    if len(categories_list[i]) > max_size:\n",
    "        # Set the max_size to the new max size\n",
    "        max_size = len(categories_list[i])\n",
    "# Print the max size\n",
    "max_size"
   ]
  },
  {
   "cell_type": "markdown",
   "id": "80696a3d-c72f-47ac-bc68-db699ab447f8",
   "metadata": {},
   "source": [
    "Nous avons donc au maximum 7 niveaux dans l'arborescence des catégories.\n",
    "\n",
    "Stockons cela dans un dataframe pour l'analyser."
   ]
  },
  {
   "cell_type": "code",
   "execution_count": 19,
   "id": "a3847b92-03e9-438f-91a0-49ae80c7852a",
   "metadata": {},
   "outputs": [
    {
     "data": {
      "text/html": [
       "<div>\n",
       "<style scoped>\n",
       "    .dataframe tbody tr th:only-of-type {\n",
       "        vertical-align: middle;\n",
       "    }\n",
       "\n",
       "    .dataframe tbody tr th {\n",
       "        vertical-align: top;\n",
       "    }\n",
       "\n",
       "    .dataframe thead th {\n",
       "        text-align: right;\n",
       "    }\n",
       "</style>\n",
       "<table border=\"1\" class=\"dataframe\">\n",
       "  <thead>\n",
       "    <tr style=\"text-align: right;\">\n",
       "      <th></th>\n",
       "      <th>1</th>\n",
       "      <th>2</th>\n",
       "      <th>3</th>\n",
       "      <th>4</th>\n",
       "      <th>5</th>\n",
       "      <th>6</th>\n",
       "      <th>7</th>\n",
       "    </tr>\n",
       "  </thead>\n",
       "  <tbody>\n",
       "    <tr>\n",
       "      <th>0</th>\n",
       "      <td>Home Furnishing</td>\n",
       "      <td>Curtains &amp; Accessories</td>\n",
       "      <td>Curtains</td>\n",
       "      <td>Elegance Polyester Multicolor Abstract Eyelet...</td>\n",
       "      <td>None</td>\n",
       "      <td>None</td>\n",
       "      <td>None</td>\n",
       "    </tr>\n",
       "    <tr>\n",
       "      <th>1</th>\n",
       "      <td>Baby Care</td>\n",
       "      <td>Baby Bath &amp; Skin</td>\n",
       "      <td>Baby Bath Towels</td>\n",
       "      <td>Sathiyas Baby Bath Towels</td>\n",
       "      <td>Sathiyas Cotton Bath Towel (3 Bath Towel, Red...</td>\n",
       "      <td>None</td>\n",
       "      <td>None</td>\n",
       "    </tr>\n",
       "    <tr>\n",
       "      <th>2</th>\n",
       "      <td>Baby Care</td>\n",
       "      <td>Baby Bath &amp; Skin</td>\n",
       "      <td>Baby Bath Towels</td>\n",
       "      <td>Eurospa Baby Bath Towels</td>\n",
       "      <td>Eurospa Cotton Terry Face Towel Set (20 PIECE...</td>\n",
       "      <td>None</td>\n",
       "      <td>None</td>\n",
       "    </tr>\n",
       "    <tr>\n",
       "      <th>3</th>\n",
       "      <td>Home Furnishing</td>\n",
       "      <td>Bed Linen</td>\n",
       "      <td>Bedsheets</td>\n",
       "      <td>SANTOSH ROYAL FASHION Bedsheets</td>\n",
       "      <td>SANTOSH ROYAL FASHION Cotton Printed King siz...</td>\n",
       "      <td>None</td>\n",
       "      <td>None</td>\n",
       "    </tr>\n",
       "    <tr>\n",
       "      <th>4</th>\n",
       "      <td>Home Furnishing</td>\n",
       "      <td>Bed Linen</td>\n",
       "      <td>Bedsheets</td>\n",
       "      <td>Jaipur Print Bedsheets</td>\n",
       "      <td>Jaipur Print Cotton Floral King sized Double ...</td>\n",
       "      <td>None</td>\n",
       "      <td>None</td>\n",
       "    </tr>\n",
       "    <tr>\n",
       "      <th>...</th>\n",
       "      <td>...</td>\n",
       "      <td>...</td>\n",
       "      <td>...</td>\n",
       "      <td>...</td>\n",
       "      <td>...</td>\n",
       "      <td>...</td>\n",
       "      <td>...</td>\n",
       "    </tr>\n",
       "    <tr>\n",
       "      <th>1045</th>\n",
       "      <td>Baby Care</td>\n",
       "      <td>Baby &amp; Kids Gifts</td>\n",
       "      <td>Stickers</td>\n",
       "      <td>Oren Empower Stickers</td>\n",
       "      <td>None</td>\n",
       "      <td>None</td>\n",
       "      <td>None</td>\n",
       "    </tr>\n",
       "    <tr>\n",
       "      <th>1046</th>\n",
       "      <td>Baby Care</td>\n",
       "      <td>Baby &amp; Kids Gifts</td>\n",
       "      <td>Stickers</td>\n",
       "      <td>Wallmantra Stickers</td>\n",
       "      <td>None</td>\n",
       "      <td>None</td>\n",
       "      <td>None</td>\n",
       "    </tr>\n",
       "    <tr>\n",
       "      <th>1047</th>\n",
       "      <td>Baby Care</td>\n",
       "      <td>Baby &amp; Kids Gifts</td>\n",
       "      <td>Stickers</td>\n",
       "      <td>Uberlyfe Stickers</td>\n",
       "      <td>None</td>\n",
       "      <td>None</td>\n",
       "      <td>None</td>\n",
       "    </tr>\n",
       "    <tr>\n",
       "      <th>1048</th>\n",
       "      <td>Baby Care</td>\n",
       "      <td>Baby &amp; Kids Gifts</td>\n",
       "      <td>Stickers</td>\n",
       "      <td>Wallmantra Stickers</td>\n",
       "      <td>None</td>\n",
       "      <td>None</td>\n",
       "      <td>None</td>\n",
       "    </tr>\n",
       "    <tr>\n",
       "      <th>1049</th>\n",
       "      <td>Baby Care</td>\n",
       "      <td>Baby &amp; Kids Gifts</td>\n",
       "      <td>Stickers</td>\n",
       "      <td>Uberlyfe Stickers</td>\n",
       "      <td>None</td>\n",
       "      <td>None</td>\n",
       "      <td>None</td>\n",
       "    </tr>\n",
       "  </tbody>\n",
       "</table>\n",
       "<p>1050 rows × 7 columns</p>\n",
       "</div>"
      ],
      "text/plain": [
       "                     1                         2                   3  \\\n",
       "0     Home Furnishing    Curtains & Accessories            Curtains    \n",
       "1           Baby Care          Baby Bath & Skin    Baby Bath Towels    \n",
       "2           Baby Care          Baby Bath & Skin    Baby Bath Towels    \n",
       "3     Home Furnishing                 Bed Linen           Bedsheets    \n",
       "4     Home Furnishing                 Bed Linen           Bedsheets    \n",
       "...                ...                       ...                 ...   \n",
       "1045        Baby Care         Baby & Kids Gifts            Stickers    \n",
       "1046        Baby Care         Baby & Kids Gifts            Stickers    \n",
       "1047        Baby Care         Baby & Kids Gifts            Stickers    \n",
       "1048        Baby Care         Baby & Kids Gifts            Stickers    \n",
       "1049        Baby Care         Baby & Kids Gifts            Stickers    \n",
       "\n",
       "                                                      4  \\\n",
       "0      Elegance Polyester Multicolor Abstract Eyelet...   \n",
       "1                            Sathiyas Baby Bath Towels    \n",
       "2                             Eurospa Baby Bath Towels    \n",
       "3                      SANTOSH ROYAL FASHION Bedsheets    \n",
       "4                               Jaipur Print Bedsheets    \n",
       "...                                                 ...   \n",
       "1045                              Oren Empower Stickers   \n",
       "1046                                Wallmantra Stickers   \n",
       "1047                                  Uberlyfe Stickers   \n",
       "1048                                Wallmantra Stickers   \n",
       "1049                                  Uberlyfe Stickers   \n",
       "\n",
       "                                                      5     6     7  \n",
       "0                                                  None  None  None  \n",
       "1      Sathiyas Cotton Bath Towel (3 Bath Towel, Red...  None  None  \n",
       "2      Eurospa Cotton Terry Face Towel Set (20 PIECE...  None  None  \n",
       "3      SANTOSH ROYAL FASHION Cotton Printed King siz...  None  None  \n",
       "4      Jaipur Print Cotton Floral King sized Double ...  None  None  \n",
       "...                                                 ...   ...   ...  \n",
       "1045                                               None  None  None  \n",
       "1046                                               None  None  None  \n",
       "1047                                               None  None  None  \n",
       "1048                                               None  None  None  \n",
       "1049                                               None  None  None  \n",
       "\n",
       "[1050 rows x 7 columns]"
      ]
     },
     "execution_count": 19,
     "metadata": {},
     "output_type": "execute_result"
    }
   ],
   "source": [
    "# Generate the columns names based on the max_size\n",
    "columns = list(range(1,max_size+1))\n",
    "# Create a dataframe from the list of categories\n",
    "categories_df = pd.DataFrame(categories_list.to_list(), columns=columns)\n",
    "categories_df"
   ]
  },
  {
   "cell_type": "markdown",
   "id": "cb0bf7f6-67e6-433b-aeb5-0fbcb57b1351",
   "metadata": {},
   "source": [
    "Analysons notre dataframe"
   ]
  },
  {
   "cell_type": "code",
   "execution_count": 20,
   "id": "6ea2152c-b931-46f2-9074-0d6a39ad3a4f",
   "metadata": {},
   "outputs": [
    {
     "data": {
      "text/html": [
       "<div>\n",
       "<style scoped>\n",
       "    .dataframe tbody tr th:only-of-type {\n",
       "        vertical-align: middle;\n",
       "    }\n",
       "\n",
       "    .dataframe tbody tr th {\n",
       "        vertical-align: top;\n",
       "    }\n",
       "\n",
       "    .dataframe thead th {\n",
       "        text-align: right;\n",
       "    }\n",
       "</style>\n",
       "<table border=\"1\" class=\"dataframe\">\n",
       "  <thead>\n",
       "    <tr style=\"text-align: right;\">\n",
       "      <th></th>\n",
       "      <th>1</th>\n",
       "      <th>2</th>\n",
       "      <th>3</th>\n",
       "      <th>4</th>\n",
       "      <th>5</th>\n",
       "      <th>6</th>\n",
       "      <th>7</th>\n",
       "    </tr>\n",
       "  </thead>\n",
       "  <tbody>\n",
       "    <tr>\n",
       "      <th>count</th>\n",
       "      <td>1050</td>\n",
       "      <td>1050</td>\n",
       "      <td>1047</td>\n",
       "      <td>679</td>\n",
       "      <td>405</td>\n",
       "      <td>127</td>\n",
       "      <td>57</td>\n",
       "    </tr>\n",
       "    <tr>\n",
       "      <th>unique</th>\n",
       "      <td>7</td>\n",
       "      <td>63</td>\n",
       "      <td>246</td>\n",
       "      <td>350</td>\n",
       "      <td>297</td>\n",
       "      <td>117</td>\n",
       "      <td>57</td>\n",
       "    </tr>\n",
       "    <tr>\n",
       "      <th>top</th>\n",
       "      <td>Home Furnishing</td>\n",
       "      <td>Wrist Watches</td>\n",
       "      <td>Deodorants</td>\n",
       "      <td>Combos</td>\n",
       "      <td>Dresses</td>\n",
       "      <td>Vitamins Shorts</td>\n",
       "      <td>Mom and Kid Baby Girl's Printed Green Top &amp; P...</td>\n",
       "    </tr>\n",
       "    <tr>\n",
       "      <th>freq</th>\n",
       "      <td>150</td>\n",
       "      <td>149</td>\n",
       "      <td>65</td>\n",
       "      <td>64</td>\n",
       "      <td>21</td>\n",
       "      <td>3</td>\n",
       "      <td>1</td>\n",
       "    </tr>\n",
       "  </tbody>\n",
       "</table>\n",
       "</div>"
      ],
      "text/plain": [
       "                       1                2             3         4          5  \\\n",
       "count               1050             1050          1047       679        405   \n",
       "unique                 7               63           246       350        297   \n",
       "top     Home Furnishing    Wrist Watches    Deodorants    Combos    Dresses    \n",
       "freq                 150              149            65        64         21   \n",
       "\n",
       "                        6                                                  7  \n",
       "count                 127                                                 57  \n",
       "unique                117                                                 57  \n",
       "top      Vitamins Shorts    Mom and Kid Baby Girl's Printed Green Top & P...  \n",
       "freq                    3                                                  1  "
      ]
     },
     "execution_count": 20,
     "metadata": {},
     "output_type": "execute_result"
    }
   ],
   "source": [
    "# Print the description of values in the dataframe\n",
    "categories_df.describe()"
   ]
  },
  {
   "cell_type": "markdown",
   "id": "612fd24d-38e1-42f2-943e-56ef0a22cfbc",
   "metadata": {},
   "source": [
    "La structure de la hierarchie, en plus de sa profondeur importante, semble complexe. Par exemple tous les produits non pas le même niveau d'arborescence.\n",
    "\n",
    "Choisissons donc de ne conserver que le premier niveau."
   ]
  },
  {
   "cell_type": "code",
   "execution_count": 21,
   "id": "1570102d-148b-4720-8f0b-6a759ff3bd12",
   "metadata": {},
   "outputs": [
    {
     "data": {
      "text/html": [
       "<div>\n",
       "<style scoped>\n",
       "    .dataframe tbody tr th:only-of-type {\n",
       "        vertical-align: middle;\n",
       "    }\n",
       "\n",
       "    .dataframe tbody tr th {\n",
       "        vertical-align: top;\n",
       "    }\n",
       "\n",
       "    .dataframe thead th {\n",
       "        text-align: right;\n",
       "    }\n",
       "</style>\n",
       "<table border=\"1\" class=\"dataframe\">\n",
       "  <thead>\n",
       "    <tr style=\"text-align: right;\">\n",
       "      <th></th>\n",
       "      <th>product_category_tree</th>\n",
       "      <th>image</th>\n",
       "      <th>description</th>\n",
       "      <th>category</th>\n",
       "    </tr>\n",
       "  </thead>\n",
       "  <tbody>\n",
       "    <tr>\n",
       "      <th>0</th>\n",
       "      <td>Home Furnishing &gt;&gt; Curtains &amp; Accessories &gt;&gt; C...</td>\n",
       "      <td>55b85ea15a1536d46b7190ad6fff8ce7.jpg</td>\n",
       "      <td>Key Features of Elegance Polyester Multicolor ...</td>\n",
       "      <td>Home Furnishing</td>\n",
       "    </tr>\n",
       "    <tr>\n",
       "      <th>1</th>\n",
       "      <td>Baby Care &gt;&gt; Baby Bath &amp; Skin &gt;&gt; Baby Bath Tow...</td>\n",
       "      <td>7b72c92c2f6c40268628ec5f14c6d590.jpg</td>\n",
       "      <td>Specifications of Sathiyas Cotton Bath Towel (...</td>\n",
       "      <td>Baby Care</td>\n",
       "    </tr>\n",
       "    <tr>\n",
       "      <th>2</th>\n",
       "      <td>Baby Care &gt;&gt; Baby Bath &amp; Skin &gt;&gt; Baby Bath Tow...</td>\n",
       "      <td>64d5d4a258243731dc7bbb1eef49ad74.jpg</td>\n",
       "      <td>Key Features of Eurospa Cotton Terry Face Towe...</td>\n",
       "      <td>Baby Care</td>\n",
       "    </tr>\n",
       "    <tr>\n",
       "      <th>3</th>\n",
       "      <td>Home Furnishing &gt;&gt; Bed Linen &gt;&gt; Bedsheets &gt;&gt; S...</td>\n",
       "      <td>d4684dcdc759dd9cdf41504698d737d8.jpg</td>\n",
       "      <td>Key Features of SANTOSH ROYAL FASHION Cotton P...</td>\n",
       "      <td>Home Furnishing</td>\n",
       "    </tr>\n",
       "    <tr>\n",
       "      <th>4</th>\n",
       "      <td>Home Furnishing &gt;&gt; Bed Linen &gt;&gt; Bedsheets &gt;&gt; J...</td>\n",
       "      <td>6325b6870c54cd47be6ebfbffa620ec7.jpg</td>\n",
       "      <td>Key Features of Jaipur Print Cotton Floral Kin...</td>\n",
       "      <td>Home Furnishing</td>\n",
       "    </tr>\n",
       "  </tbody>\n",
       "</table>\n",
       "</div>"
      ],
      "text/plain": [
       "                               product_category_tree  \\\n",
       "0  Home Furnishing >> Curtains & Accessories >> C...   \n",
       "1  Baby Care >> Baby Bath & Skin >> Baby Bath Tow...   \n",
       "2  Baby Care >> Baby Bath & Skin >> Baby Bath Tow...   \n",
       "3  Home Furnishing >> Bed Linen >> Bedsheets >> S...   \n",
       "4  Home Furnishing >> Bed Linen >> Bedsheets >> J...   \n",
       "\n",
       "                                  image  \\\n",
       "0  55b85ea15a1536d46b7190ad6fff8ce7.jpg   \n",
       "1  7b72c92c2f6c40268628ec5f14c6d590.jpg   \n",
       "2  64d5d4a258243731dc7bbb1eef49ad74.jpg   \n",
       "3  d4684dcdc759dd9cdf41504698d737d8.jpg   \n",
       "4  6325b6870c54cd47be6ebfbffa620ec7.jpg   \n",
       "\n",
       "                                         description          category  \n",
       "0  Key Features of Elegance Polyester Multicolor ...  Home Furnishing   \n",
       "1  Specifications of Sathiyas Cotton Bath Towel (...        Baby Care   \n",
       "2  Key Features of Eurospa Cotton Terry Face Towe...        Baby Care   \n",
       "3  Key Features of SANTOSH ROYAL FASHION Cotton P...  Home Furnishing   \n",
       "4  Key Features of Jaipur Print Cotton Floral Kin...  Home Furnishing   "
      ]
     },
     "execution_count": 21,
     "metadata": {},
     "output_type": "execute_result"
    }
   ],
   "source": [
    "# Get the first column of categories_df and set it in a new column in df\n",
    "df[\"category\"] = categories_df.iloc[:,0]\n",
    "df.head()"
   ]
  },
  {
   "cell_type": "markdown",
   "id": "891cd44f-79e2-44a8-91fa-062b93824ec5",
   "metadata": {},
   "source": [
    "Supprimons la colonne product_category_tree"
   ]
  },
  {
   "cell_type": "code",
   "execution_count": 22,
   "id": "e25d2e7d-010e-456d-89bf-2809ca596a7e",
   "metadata": {},
   "outputs": [
    {
     "data": {
      "text/html": [
       "<div>\n",
       "<style scoped>\n",
       "    .dataframe tbody tr th:only-of-type {\n",
       "        vertical-align: middle;\n",
       "    }\n",
       "\n",
       "    .dataframe tbody tr th {\n",
       "        vertical-align: top;\n",
       "    }\n",
       "\n",
       "    .dataframe thead th {\n",
       "        text-align: right;\n",
       "    }\n",
       "</style>\n",
       "<table border=\"1\" class=\"dataframe\">\n",
       "  <thead>\n",
       "    <tr style=\"text-align: right;\">\n",
       "      <th></th>\n",
       "      <th>image</th>\n",
       "      <th>description</th>\n",
       "      <th>category</th>\n",
       "    </tr>\n",
       "  </thead>\n",
       "  <tbody>\n",
       "    <tr>\n",
       "      <th>0</th>\n",
       "      <td>55b85ea15a1536d46b7190ad6fff8ce7.jpg</td>\n",
       "      <td>Key Features of Elegance Polyester Multicolor ...</td>\n",
       "      <td>Home Furnishing</td>\n",
       "    </tr>\n",
       "    <tr>\n",
       "      <th>1</th>\n",
       "      <td>7b72c92c2f6c40268628ec5f14c6d590.jpg</td>\n",
       "      <td>Specifications of Sathiyas Cotton Bath Towel (...</td>\n",
       "      <td>Baby Care</td>\n",
       "    </tr>\n",
       "    <tr>\n",
       "      <th>2</th>\n",
       "      <td>64d5d4a258243731dc7bbb1eef49ad74.jpg</td>\n",
       "      <td>Key Features of Eurospa Cotton Terry Face Towe...</td>\n",
       "      <td>Baby Care</td>\n",
       "    </tr>\n",
       "    <tr>\n",
       "      <th>3</th>\n",
       "      <td>d4684dcdc759dd9cdf41504698d737d8.jpg</td>\n",
       "      <td>Key Features of SANTOSH ROYAL FASHION Cotton P...</td>\n",
       "      <td>Home Furnishing</td>\n",
       "    </tr>\n",
       "    <tr>\n",
       "      <th>4</th>\n",
       "      <td>6325b6870c54cd47be6ebfbffa620ec7.jpg</td>\n",
       "      <td>Key Features of Jaipur Print Cotton Floral Kin...</td>\n",
       "      <td>Home Furnishing</td>\n",
       "    </tr>\n",
       "  </tbody>\n",
       "</table>\n",
       "</div>"
      ],
      "text/plain": [
       "                                  image  \\\n",
       "0  55b85ea15a1536d46b7190ad6fff8ce7.jpg   \n",
       "1  7b72c92c2f6c40268628ec5f14c6d590.jpg   \n",
       "2  64d5d4a258243731dc7bbb1eef49ad74.jpg   \n",
       "3  d4684dcdc759dd9cdf41504698d737d8.jpg   \n",
       "4  6325b6870c54cd47be6ebfbffa620ec7.jpg   \n",
       "\n",
       "                                         description          category  \n",
       "0  Key Features of Elegance Polyester Multicolor ...  Home Furnishing   \n",
       "1  Specifications of Sathiyas Cotton Bath Towel (...        Baby Care   \n",
       "2  Key Features of Eurospa Cotton Terry Face Towe...        Baby Care   \n",
       "3  Key Features of SANTOSH ROYAL FASHION Cotton P...  Home Furnishing   \n",
       "4  Key Features of Jaipur Print Cotton Floral Kin...  Home Furnishing   "
      ]
     },
     "execution_count": 22,
     "metadata": {},
     "output_type": "execute_result"
    }
   ],
   "source": [
    "df = df.drop(\"product_category_tree\", axis=1)\n",
    "df.head()"
   ]
  },
  {
   "cell_type": "markdown",
   "id": "75d18e7a-3adf-4d21-9925-0850befe6faf",
   "metadata": {},
   "source": [
    "# Text processing"
   ]
  },
  {
   "cell_type": "markdown",
   "id": "3adb45fe-fb5e-4e12-bdaa-d56f0ef273dc",
   "metadata": {},
   "source": [
    "## Lower"
   ]
  },
  {
   "cell_type": "code",
   "execution_count": 23,
   "id": "2159780b-0bd7-4b33-8bb0-bdc7bf34934e",
   "metadata": {},
   "outputs": [
    {
     "data": {
      "text/html": [
       "<div>\n",
       "<style scoped>\n",
       "    .dataframe tbody tr th:only-of-type {\n",
       "        vertical-align: middle;\n",
       "    }\n",
       "\n",
       "    .dataframe tbody tr th {\n",
       "        vertical-align: top;\n",
       "    }\n",
       "\n",
       "    .dataframe thead th {\n",
       "        text-align: right;\n",
       "    }\n",
       "</style>\n",
       "<table border=\"1\" class=\"dataframe\">\n",
       "  <thead>\n",
       "    <tr style=\"text-align: right;\">\n",
       "      <th></th>\n",
       "      <th>image</th>\n",
       "      <th>description</th>\n",
       "      <th>category</th>\n",
       "    </tr>\n",
       "  </thead>\n",
       "  <tbody>\n",
       "    <tr>\n",
       "      <th>0</th>\n",
       "      <td>55b85ea15a1536d46b7190ad6fff8ce7.jpg</td>\n",
       "      <td>key features of elegance polyester multicolor ...</td>\n",
       "      <td>home furnishing</td>\n",
       "    </tr>\n",
       "    <tr>\n",
       "      <th>1</th>\n",
       "      <td>7b72c92c2f6c40268628ec5f14c6d590.jpg</td>\n",
       "      <td>specifications of sathiyas cotton bath towel (...</td>\n",
       "      <td>baby care</td>\n",
       "    </tr>\n",
       "    <tr>\n",
       "      <th>2</th>\n",
       "      <td>64d5d4a258243731dc7bbb1eef49ad74.jpg</td>\n",
       "      <td>key features of eurospa cotton terry face towe...</td>\n",
       "      <td>baby care</td>\n",
       "    </tr>\n",
       "    <tr>\n",
       "      <th>3</th>\n",
       "      <td>d4684dcdc759dd9cdf41504698d737d8.jpg</td>\n",
       "      <td>key features of santosh royal fashion cotton p...</td>\n",
       "      <td>home furnishing</td>\n",
       "    </tr>\n",
       "    <tr>\n",
       "      <th>4</th>\n",
       "      <td>6325b6870c54cd47be6ebfbffa620ec7.jpg</td>\n",
       "      <td>key features of jaipur print cotton floral kin...</td>\n",
       "      <td>home furnishing</td>\n",
       "    </tr>\n",
       "  </tbody>\n",
       "</table>\n",
       "</div>"
      ],
      "text/plain": [
       "                                  image  \\\n",
       "0  55b85ea15a1536d46b7190ad6fff8ce7.jpg   \n",
       "1  7b72c92c2f6c40268628ec5f14c6d590.jpg   \n",
       "2  64d5d4a258243731dc7bbb1eef49ad74.jpg   \n",
       "3  d4684dcdc759dd9cdf41504698d737d8.jpg   \n",
       "4  6325b6870c54cd47be6ebfbffa620ec7.jpg   \n",
       "\n",
       "                                         description          category  \n",
       "0  key features of elegance polyester multicolor ...  home furnishing   \n",
       "1  specifications of sathiyas cotton bath towel (...        baby care   \n",
       "2  key features of eurospa cotton terry face towe...        baby care   \n",
       "3  key features of santosh royal fashion cotton p...  home furnishing   \n",
       "4  key features of jaipur print cotton floral kin...  home furnishing   "
      ]
     },
     "execution_count": 23,
     "metadata": {},
     "output_type": "execute_result"
    }
   ],
   "source": [
    "# Lower description and category\n",
    "df[\"description\"] = df[\"description\"].apply(lambda i : i.lower())\n",
    "df[\"category\"] = df[\"category\"].apply(lambda i : i.lower())\n",
    "df.head()"
   ]
  },
  {
   "cell_type": "markdown",
   "id": "19cb02c9-9ef3-436b-a9c8-abaaeaad22e1",
   "metadata": {},
   "source": [
    "## Tokenisation"
   ]
  },
  {
   "cell_type": "code",
   "execution_count": 24,
   "id": "f8eccd49-b1bf-46af-bddc-d11b252b4491",
   "metadata": {},
   "outputs": [
    {
     "name": "stdout",
     "output_type": "stream",
     "text": [
      "{'being', 'how', 'these', 'after', 'nor', 'few', 'the', 'll', \"shan't\", 'won', 'who', 'his', 'yours', 'some', 'further', 'now', 've', 'hadn', 'wouldn', 're', 'it', 'a', 'those', 'does', 'once', 'why', \"mightn't\", 'because', \"shouldn't\", 'at', 't', \"hadn't\", 'for', 'with', 'through', 'very', 'couldn', 'ourselves', 'mustn', 'itself', 'but', 'were', 'or', 'up', \"mustn't\", \"weren't\", 'ours', 'myself', \"doesn't\", 's', 'do', 'of', 'where', 'that', 'm', 'weren', 'my', 'all', 'out', 'shouldn', 'such', 'having', 'again', 'above', 'about', 'isn', 'an', 'while', 'is', 'under', 'yourself', 'he', 'doing', 'what', \"wouldn't\", 'ma', 'before', 'down', 'as', 'will', 'any', 'no', \"hasn't\", 'shan', 'until', \"it's\", 'have', 'so', 'they', 'when', 'theirs', \"you're\", \"couldn't\", 'mightn', 'himself', 'i', 'don', 'didn', \"haven't\", \"don't\", 'which', 'there', \"aren't\", 'off', 'your', \"that'll\", 'y', 'here', 'its', 'between', 'by', 'below', 'whom', 'we', 'from', \"should've\", \"won't\", 'them', 'over', 'herself', 'in', 'own', 'not', \"wasn't\", 'other', 'more', 'ain', 'our', 'did', 'both', 'this', 'only', 'hasn', 'are', 'should', 'too', 'doesn', 'yourselves', 'just', 'most', 'me', 'their', 'into', 'been', 'had', 'be', 'has', 'am', 'aren', \"isn't\", 'then', 'hers', 'during', \"you'd\", 'than', 'was', 'wasn', 'to', 'if', 'against', 'you', 'themselves', 'she', \"you've\", 'each', \"needn't\", \"didn't\", 'and', 'haven', 'same', 'o', 'her', 'd', 'on', \"she's\", 'can', \"you'll\", 'him', 'needn'}\n"
     ]
    }
   ],
   "source": [
    "# Define the stop words list from NLTK library\n",
    "stop_words = set(stopwords.words(\"english\"))\n",
    "print(stop_words)"
   ]
  },
  {
   "cell_type": "code",
   "execution_count": 25,
   "id": "b2f0f466-d8be-4c41-8445-608cf3849ebd",
   "metadata": {},
   "outputs": [],
   "source": [
    "def tokenize_text(text, force_is_alpha=False, rejoin=False):\n",
    "    \"\"\"Tokenize a text and remove stop words \n",
    "    --------------------\n",
    "    Arguments :\n",
    "        text : str : the text to process\n",
    "        force_is_alpha : optionnal, bool : if True, exclude all tokens with a numeric character\n",
    "        rejoin : optionnal, bool : if True, rejoin the list of tokens\n",
    "    --------------------\n",
    "    \"\"\"\n",
    "    # Instanciate a tokenizer\n",
    "    tokenizer = RegexpTokenizer(r\"\\w+\")\n",
    "    # Tokenize\n",
    "    tokens = tokenizer.tokenize(text)\n",
    "    # Remove stop words\n",
    "    tokens = [w for w in tokens if w not in stop_words]\n",
    "    # Remove not alpha characters\n",
    "    if force_is_alpha:\n",
    "        tokens = [w for w in tokens if w .isalpha()]\n",
    "    # Rejoin the tokens list if desired\n",
    "    if rejoin:\n",
    "        tokens = \" \".join(tokens)\n",
    "    # Return the cleaned text\n",
    "    return tokens"
   ]
  },
  {
   "cell_type": "markdown",
   "id": "637b9056-6269-4398-a8f6-f54d79618655",
   "metadata": {},
   "source": [
    "## Lemmatization"
   ]
  },
  {
   "cell_type": "code",
   "execution_count": 26,
   "id": "ce2da811-cced-4ad2-a7cb-bb28f086e2e1",
   "metadata": {},
   "outputs": [],
   "source": [
    "def lemmatize_text(tokens, force_is_alpha=False, rejoin=False):\n",
    "    \"\"\"Lemmatize a tokenized text \n",
    "    --------------------\n",
    "    Arguments :\n",
    "        tokens : list : the tokenized text to process\n",
    "        force_is_alpha : optionnal, bool : if True, exclude all tokens with a numeric character\n",
    "        rejoin : optionnal, bool : if True, rejoin the list of tokens\n",
    "    --------------------\n",
    "    \"\"\"\n",
    "    # Instanciate a lemmatizer\n",
    "    lemmatizer = WordNetLemmatizer()\n",
    "    # Lemmatize\n",
    "    transformed_text = [lemmatizer.lemmatize(w) for w in tokens]\n",
    "    # Remove not alpha characters\n",
    "    if force_is_alpha:\n",
    "        transformed_text = [w for w in transformed_text if w .isalpha()]\n",
    "    # Rejoin the tokens list if desired\n",
    "    if rejoin:\n",
    "        transformed_text = \" \".join(transformed_text)\n",
    "    # Return the cleaned text\n",
    "    return transformed_text"
   ]
  },
  {
   "cell_type": "markdown",
   "id": "0c2eaa82-5a90-47fd-889c-cbc642b2d879",
   "metadata": {},
   "source": [
    "## Stemming"
   ]
  },
  {
   "cell_type": "code",
   "execution_count": 27,
   "id": "46e33e48-7e2f-45c4-8ff3-4f78cec6b5e0",
   "metadata": {},
   "outputs": [],
   "source": [
    "def stemmatize_text(tokens, force_is_alpha=False, rejoin=False):\n",
    "    \"\"\"stemmatize a tokenized text \n",
    "    --------------------\n",
    "    Arguments :\n",
    "        tokens : list : the tokenized text to process\n",
    "        force_is_alpha : optionnal, bool : if True, exclude all tokens with a numeric character\n",
    "        rejoin : optionnal, bool : if True, rejoin the list of tokens\n",
    "    --------------------\n",
    "    \"\"\"\n",
    "    # Instanciate a lemmatizer\n",
    "    stemmer = PorterStemmer()\n",
    "    # Lemmatize\n",
    "    transformed_text = [stemmer.stem(w) for w in tokens]\n",
    "    # Remove not alpha characters\n",
    "    if force_is_alpha:\n",
    "        transformed_text = [w for w in transformed_text if w .isalpha()]\n",
    "    # Rejoin the tokens list if desired\n",
    "    if rejoin:\n",
    "        transformed_text = \" \".join(transformed_text)\n",
    "    # Return the cleaned text\n",
    "    return transformed_text"
   ]
  },
  {
   "cell_type": "markdown",
   "id": "b5304be1-78c3-4690-92bc-45583021917e",
   "metadata": {},
   "source": [
    "## Processing final"
   ]
  },
  {
   "cell_type": "code",
   "execution_count": 28,
   "id": "1f178941-ce41-4741-acdd-13edcd2d5da6",
   "metadata": {},
   "outputs": [],
   "source": [
    "def process_text(text, lem_or_stem=\"lem\", force_is_alpha=True, rejoin=True):\n",
    "    \"\"\"Perform the cleaning \n",
    "    --------------------\n",
    "    Arguments :\n",
    "        text : str : the text to clean\n",
    "        lem_or_stem : str : Choose between \"lem\" to lemmatize the text or \"stem\" to stemmatize it\n",
    "        force_is_alpha : optionnal, bool : if True, exclude all tokens with a numeric character\n",
    "        rejoin : optionnal, bool : if True, rejoin the list of tokens\n",
    "    --------------------\n",
    "    \"\"\"\n",
    "    # First tokenize the text and get a list of tokens\n",
    "    tokenized_text = tokenize_text(text, force_is_alpha)\n",
    "    # If \"lem\" is chosen, lemmatize the tokens get previously\n",
    "    if lem_or_stem == \"lem\":\n",
    "        final_text = lemmatize_text(tokenized_text, force_is_alpha, rejoin)\n",
    "        return final_text\n",
    "    # If \"stem\" is chosen, stemmatize the tokens get previously\n",
    "    elif lem_or_stem == \"stem\":\n",
    "        final_text = stemmatize_text(tokenized_text, force_is_alpha, rejoin)\n",
    "        return final_text\n",
    "    # Else print an error message, and return the original text\n",
    "    else:\n",
    "        print(\"Erreur : Veuillez sélectionner parmi les options disponibles 'lem' ou 'stem'\")\n",
    "        return text"
   ]
  },
  {
   "cell_type": "code",
   "execution_count": 29,
   "id": "99616389-e8c9-4e51-abc7-94ea9146f842",
   "metadata": {},
   "outputs": [
    {
     "data": {
      "text/html": [
       "<div>\n",
       "<style scoped>\n",
       "    .dataframe tbody tr th:only-of-type {\n",
       "        vertical-align: middle;\n",
       "    }\n",
       "\n",
       "    .dataframe tbody tr th {\n",
       "        vertical-align: top;\n",
       "    }\n",
       "\n",
       "    .dataframe thead th {\n",
       "        text-align: right;\n",
       "    }\n",
       "</style>\n",
       "<table border=\"1\" class=\"dataframe\">\n",
       "  <thead>\n",
       "    <tr style=\"text-align: right;\">\n",
       "      <th></th>\n",
       "      <th>image</th>\n",
       "      <th>description</th>\n",
       "      <th>category</th>\n",
       "      <th>cleaned_description</th>\n",
       "    </tr>\n",
       "  </thead>\n",
       "  <tbody>\n",
       "    <tr>\n",
       "      <th>0</th>\n",
       "      <td>55b85ea15a1536d46b7190ad6fff8ce7.jpg</td>\n",
       "      <td>key features of elegance polyester multicolor ...</td>\n",
       "      <td>home furnishing</td>\n",
       "      <td>key feature elegance polyester multicolor abst...</td>\n",
       "    </tr>\n",
       "    <tr>\n",
       "      <th>1</th>\n",
       "      <td>7b72c92c2f6c40268628ec5f14c6d590.jpg</td>\n",
       "      <td>specifications of sathiyas cotton bath towel (...</td>\n",
       "      <td>baby care</td>\n",
       "      <td>specification sathiyas cotton bath towel bath ...</td>\n",
       "    </tr>\n",
       "    <tr>\n",
       "      <th>2</th>\n",
       "      <td>64d5d4a258243731dc7bbb1eef49ad74.jpg</td>\n",
       "      <td>key features of eurospa cotton terry face towe...</td>\n",
       "      <td>baby care</td>\n",
       "      <td>key feature eurospa cotton terry face towel se...</td>\n",
       "    </tr>\n",
       "    <tr>\n",
       "      <th>3</th>\n",
       "      <td>d4684dcdc759dd9cdf41504698d737d8.jpg</td>\n",
       "      <td>key features of santosh royal fashion cotton p...</td>\n",
       "      <td>home furnishing</td>\n",
       "      <td>key feature santosh royal fashion cotton print...</td>\n",
       "    </tr>\n",
       "    <tr>\n",
       "      <th>4</th>\n",
       "      <td>6325b6870c54cd47be6ebfbffa620ec7.jpg</td>\n",
       "      <td>key features of jaipur print cotton floral kin...</td>\n",
       "      <td>home furnishing</td>\n",
       "      <td>key feature jaipur print cotton floral king si...</td>\n",
       "    </tr>\n",
       "  </tbody>\n",
       "</table>\n",
       "</div>"
      ],
      "text/plain": [
       "                                  image  \\\n",
       "0  55b85ea15a1536d46b7190ad6fff8ce7.jpg   \n",
       "1  7b72c92c2f6c40268628ec5f14c6d590.jpg   \n",
       "2  64d5d4a258243731dc7bbb1eef49ad74.jpg   \n",
       "3  d4684dcdc759dd9cdf41504698d737d8.jpg   \n",
       "4  6325b6870c54cd47be6ebfbffa620ec7.jpg   \n",
       "\n",
       "                                         description          category  \\\n",
       "0  key features of elegance polyester multicolor ...  home furnishing    \n",
       "1  specifications of sathiyas cotton bath towel (...        baby care    \n",
       "2  key features of eurospa cotton terry face towe...        baby care    \n",
       "3  key features of santosh royal fashion cotton p...  home furnishing    \n",
       "4  key features of jaipur print cotton floral kin...  home furnishing    \n",
       "\n",
       "                                 cleaned_description  \n",
       "0  key feature elegance polyester multicolor abst...  \n",
       "1  specification sathiyas cotton bath towel bath ...  \n",
       "2  key feature eurospa cotton terry face towel se...  \n",
       "3  key feature santosh royal fashion cotton print...  \n",
       "4  key feature jaipur print cotton floral king si...  "
      ]
     },
     "execution_count": 29,
     "metadata": {},
     "output_type": "execute_result"
    }
   ],
   "source": [
    "# Apply our full processing\n",
    "df[\"cleaned_description\"] = df[\"description\"].apply(process_text)\n",
    "df.head()"
   ]
  },
  {
   "cell_type": "markdown",
   "id": "cfdcc701-3b16-4e23-9468-331279f06eae",
   "metadata": {},
   "source": [
    "# Feature engineering"
   ]
  },
  {
   "cell_type": "markdown",
   "id": "7090e8c4-575d-4a7f-88f5-7f27019d58f6",
   "metadata": {},
   "source": [
    "## Bag of words"
   ]
  },
  {
   "cell_type": "code",
   "execution_count": null,
   "id": "737974ff-8946-4db7-9d4d-c5b08db513d9",
   "metadata": {},
   "outputs": [],
   "source": []
  }
 ],
 "metadata": {
  "kernelspec": {
   "display_name": "Python 3 (ipykernel)",
   "language": "python",
   "name": "python3"
  },
  "language_info": {
   "codemirror_mode": {
    "name": "ipython",
    "version": 3
   },
   "file_extension": ".py",
   "mimetype": "text/x-python",
   "name": "python",
   "nbconvert_exporter": "python",
   "pygments_lexer": "ipython3",
   "version": "3.12.3"
  }
 },
 "nbformat": 4,
 "nbformat_minor": 5
}
