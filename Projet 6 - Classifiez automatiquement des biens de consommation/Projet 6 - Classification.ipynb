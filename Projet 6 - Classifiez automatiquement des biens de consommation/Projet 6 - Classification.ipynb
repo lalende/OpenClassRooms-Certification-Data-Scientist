{
 "cells": [
  {
   "cell_type": "markdown",
   "id": "2cedb250-870e-4a7f-91c5-453557da60a3",
   "metadata": {},
   "source": [
    "# Introduction"
   ]
  },
  {
   "cell_type": "markdown",
   "id": "09ed9a89-4ab9-4287-ac59-3ba624e9a7c3",
   "metadata": {},
   "source": [
    "------------------------------\n",
    "## Mission - Réalisez une classification supervisée d'images\n",
    "------------------------------\n",
    "\n",
    "Vous continuez votre travail au sein de \"Place du marché\". Vous avez partagé le travail effectué lors de votre mission précédente avec Lead Data Scientist, Linda. Elle vous invite désormais à aller plus loin dans l’analyse d’images. \n",
    "\n",
    "Voici le mail qu’elle vous a envoyé.\n",
    "\n",
    "*Bonjour,*\n",
    "\n",
    "*Merci beaucoup pour ton travail ! Voici la suite de ta mission :*\n",
    "\n",
    "*Pourrais-tu réaliser une **classification supervisée à partir des images** ? Je souhaiterais que tu mettes en place une **data augmentation** afin d’optimiser le modèle.*\n",
    "\n",
    "*De plus, nous souhaitons élargir notre gamme de produits à l’épicerie fine.*\n",
    "\n",
    "*Pour cela, pourrais-tu tester la collecte de produits à base de “champagne” via l’[API disponible ici](https://developer.edamam.com/food-database-api) ou via l'API Openfood Facts en pièce jointe (ne nécessitant aucune inscription)?*\n",
    "\n",
    "*Pourrais-tu ensuite nous proposer un **script** ou **notebook Python** permettant une extraction des 10 premiers produits dans un fichier “.csv”, contenant pour chaque produit les données suivantes : foodId, label, category, foodContentsLabel, image.*\n",
    "\n",
    "*Enfin, pourrais-tu formaliser dans un **support de présentation** de 30 slides maximum au format PDF **l’ensemble de ta démarche** ainsi que les **résultats** d’analyse les plus pertinents ?*\n",
    "\n",
    "*Merci encore, bon courage !*\n",
    "\n",
    "*Linda*\n",
    "\n",
    "*PS : En pièce jointe, tu trouveras pour t’aider un **exemple** de mise en œuvre de classification supervisée sur un autre dataset.*"
   ]
  },
  {
   "cell_type": "markdown",
   "id": "f0d34b09-8150-4b20-bb1e-c017d811a3b5",
   "metadata": {},
   "source": [
    "# Import des librairies"
   ]
  },
  {
   "cell_type": "code",
   "execution_count": 1,
   "id": "99dbe94d-74ba-42a6-968e-fccd8b179ef4",
   "metadata": {},
   "outputs": [
    {
     "name": "stderr",
     "output_type": "stream",
     "text": [
      "2025-02-21 11:35:20.203398: I tensorflow/core/util/port.cc:153] oneDNN custom operations are on. You may see slightly different numerical results due to floating-point round-off errors from different computation orders. To turn them off, set the environment variable `TF_ENABLE_ONEDNN_OPTS=0`.\n",
      "2025-02-21 11:35:20.211315: E external/local_xla/xla/stream_executor/cuda/cuda_fft.cc:477] Unable to register cuFFT factory: Attempting to register factory for plugin cuFFT when one has already been registered\n",
      "WARNING: All log messages before absl::InitializeLog() is called are written to STDERR\n",
      "E0000 00:00:1740134120.220515 2020913 cuda_dnn.cc:8310] Unable to register cuDNN factory: Attempting to register factory for plugin cuDNN when one has already been registered\n",
      "E0000 00:00:1740134120.223094 2020913 cuda_blas.cc:1418] Unable to register cuBLAS factory: Attempting to register factory for plugin cuBLAS when one has already been registered\n",
      "2025-02-21 11:35:20.233042: I tensorflow/core/platform/cpu_feature_guard.cc:210] This TensorFlow binary is optimized to use available CPU instructions in performance-critical operations.\n",
      "To enable the following instructions: AVX2 AVX_VNNI FMA, in other operations, rebuild TensorFlow with the appropriate compiler flags.\n"
     ]
    }
   ],
   "source": [
    "## Global \n",
    "import os\n",
    "import time\n",
    "import pandas as pd\n",
    "import numpy as np\n",
    "\n",
    "# Classification and scoring\n",
    "from sklearn.manifold import TSNE\n",
    "from sklearn.cluster import KMeans, MiniBatchKMeans\n",
    "from sklearn.metrics import adjusted_rand_score\n",
    "from sklearn.model_selection import train_test_split\n",
    "from sklearn.preprocessing import LabelEncoder\n",
    "\n",
    "# Tensorflow\n",
    "import tensorflow as tf\n",
    "import tensorflow.keras\n",
    "from tensorflow.keras import backend as K\n",
    "from tensorflow.keras.preprocessing.text import Tokenizer\n",
    "from tensorflow.keras.preprocessing.sequence import pad_sequences\n",
    "from tensorflow.keras import metrics as kmetrics\n",
    "from tensorflow.keras.layers import *\n",
    "from tensorflow.keras.models import Model, Sequential\n",
    "from tensorflow.keras.callbacks import EarlyStopping, ModelCheckpoint\n",
    "from tensorflow.keras.applications.vgg16 import VGG16\n",
    "from tensorflow.keras.applications.vgg16 import preprocess_input\n",
    "from tensorflow.keras.preprocessing.image import load_img, img_to_array\n",
    "\n",
    "# Pillow\n",
    "import PIL\n",
    "from PIL import Image\n",
    "from PIL.ImageOps import *\n",
    "from PIL.ImageFilter import *\n",
    "\n",
    "# Keras\n",
    "from keras.preprocessing.image import load_img\n",
    "from keras.preprocessing.image import img_to_array\n",
    "from keras.applications.vgg16 import preprocess_input\n",
    "from keras.applications.vgg16 import decode_predictions\n",
    "from keras.applications.vgg16 import VGG16\n",
    "from keras.models import Model\n",
    "\n",
    "# Pickle\n",
    "from pickle import dump\n",
    "\n",
    "# Plotting\n",
    "import seaborn as sns\n",
    "import matplotlib.pyplot as plt\n",
    "from matplotlib.image import imread"
   ]
  },
  {
   "cell_type": "code",
   "execution_count": 2,
   "id": "707ce21e-e000-4d0c-a06e-e5d9bf413f81",
   "metadata": {},
   "outputs": [],
   "source": [
    "# Initialize sns\n",
    "sns.set()"
   ]
  },
  {
   "cell_type": "markdown",
   "id": "1c94fc30-1bb3-4899-a3c4-1e3734d119f1",
   "metadata": {},
   "source": [
    "# Lecture du dataset"
   ]
  },
  {
   "cell_type": "code",
   "execution_count": 3,
   "id": "1c735ca4-cee9-40bd-881f-db2ff3044c10",
   "metadata": {},
   "outputs": [],
   "source": [
    "# Read the dataset from the csv file \n",
    "df = pd.read_csv(\"./data/flipkart_com-ecommerce_sample_1050.csv\")"
   ]
  },
  {
   "cell_type": "code",
   "execution_count": 4,
   "id": "4225b2e2-a78d-4faa-8d5c-569fb6c0ce54",
   "metadata": {},
   "outputs": [
    {
     "data": {
      "text/html": [
       "<div>\n",
       "<style scoped>\n",
       "    .dataframe tbody tr th:only-of-type {\n",
       "        vertical-align: middle;\n",
       "    }\n",
       "\n",
       "    .dataframe tbody tr th {\n",
       "        vertical-align: top;\n",
       "    }\n",
       "\n",
       "    .dataframe thead th {\n",
       "        text-align: right;\n",
       "    }\n",
       "</style>\n",
       "<table border=\"1\" class=\"dataframe\">\n",
       "  <thead>\n",
       "    <tr style=\"text-align: right;\">\n",
       "      <th></th>\n",
       "      <th>product_category_tree</th>\n",
       "      <th>image</th>\n",
       "    </tr>\n",
       "  </thead>\n",
       "  <tbody>\n",
       "    <tr>\n",
       "      <th>0</th>\n",
       "      <td>[\"Home Furnishing &gt;&gt; Curtains &amp; Accessories &gt;&gt;...</td>\n",
       "      <td>55b85ea15a1536d46b7190ad6fff8ce7.jpg</td>\n",
       "    </tr>\n",
       "    <tr>\n",
       "      <th>1</th>\n",
       "      <td>[\"Baby Care &gt;&gt; Baby Bath &amp; Skin &gt;&gt; Baby Bath T...</td>\n",
       "      <td>7b72c92c2f6c40268628ec5f14c6d590.jpg</td>\n",
       "    </tr>\n",
       "    <tr>\n",
       "      <th>2</th>\n",
       "      <td>[\"Baby Care &gt;&gt; Baby Bath &amp; Skin &gt;&gt; Baby Bath T...</td>\n",
       "      <td>64d5d4a258243731dc7bbb1eef49ad74.jpg</td>\n",
       "    </tr>\n",
       "    <tr>\n",
       "      <th>3</th>\n",
       "      <td>[\"Home Furnishing &gt;&gt; Bed Linen &gt;&gt; Bedsheets &gt;&gt;...</td>\n",
       "      <td>d4684dcdc759dd9cdf41504698d737d8.jpg</td>\n",
       "    </tr>\n",
       "    <tr>\n",
       "      <th>4</th>\n",
       "      <td>[\"Home Furnishing &gt;&gt; Bed Linen &gt;&gt; Bedsheets &gt;&gt;...</td>\n",
       "      <td>6325b6870c54cd47be6ebfbffa620ec7.jpg</td>\n",
       "    </tr>\n",
       "  </tbody>\n",
       "</table>\n",
       "</div>"
      ],
      "text/plain": [
       "                               product_category_tree  \\\n",
       "0  [\"Home Furnishing >> Curtains & Accessories >>...   \n",
       "1  [\"Baby Care >> Baby Bath & Skin >> Baby Bath T...   \n",
       "2  [\"Baby Care >> Baby Bath & Skin >> Baby Bath T...   \n",
       "3  [\"Home Furnishing >> Bed Linen >> Bedsheets >>...   \n",
       "4  [\"Home Furnishing >> Bed Linen >> Bedsheets >>...   \n",
       "\n",
       "                                  image  \n",
       "0  55b85ea15a1536d46b7190ad6fff8ce7.jpg  \n",
       "1  7b72c92c2f6c40268628ec5f14c6d590.jpg  \n",
       "2  64d5d4a258243731dc7bbb1eef49ad74.jpg  \n",
       "3  d4684dcdc759dd9cdf41504698d737d8.jpg  \n",
       "4  6325b6870c54cd47be6ebfbffa620ec7.jpg  "
      ]
     },
     "execution_count": 4,
     "metadata": {},
     "output_type": "execute_result"
    }
   ],
   "source": [
    "# Define a list of columns to keep\n",
    "selected_columns = [\"product_category_tree\", \"image\"]\n",
    "# Filter the dataframe with the selected columns\n",
    "df = df[selected_columns]\n",
    "df.head()"
   ]
  },
  {
   "cell_type": "markdown",
   "id": "9c34ffc8-392b-46bd-8956-578c0d20684d",
   "metadata": {},
   "source": [
    "## Remaniement du champ image"
   ]
  },
  {
   "cell_type": "code",
   "execution_count": 5,
   "id": "47c63399-f664-4f01-8c77-c2d0099703ed",
   "metadata": {},
   "outputs": [],
   "source": [
    "# Define path to images\n",
    "path_to_images = \"./data/images/\""
   ]
  },
  {
   "cell_type": "code",
   "execution_count": 6,
   "id": "8dac51b3-0184-4247-8614-6c783a22b93a",
   "metadata": {},
   "outputs": [
    {
     "data": {
      "text/html": [
       "<div>\n",
       "<style scoped>\n",
       "    .dataframe tbody tr th:only-of-type {\n",
       "        vertical-align: middle;\n",
       "    }\n",
       "\n",
       "    .dataframe tbody tr th {\n",
       "        vertical-align: top;\n",
       "    }\n",
       "\n",
       "    .dataframe thead th {\n",
       "        text-align: right;\n",
       "    }\n",
       "</style>\n",
       "<table border=\"1\" class=\"dataframe\">\n",
       "  <thead>\n",
       "    <tr style=\"text-align: right;\">\n",
       "      <th></th>\n",
       "      <th>product_category_tree</th>\n",
       "      <th>image</th>\n",
       "    </tr>\n",
       "  </thead>\n",
       "  <tbody>\n",
       "    <tr>\n",
       "      <th>0</th>\n",
       "      <td>[\"Home Furnishing &gt;&gt; Curtains &amp; Accessories &gt;&gt;...</td>\n",
       "      <td>./data/images/55b85ea15a1536d46b7190ad6fff8ce7...</td>\n",
       "    </tr>\n",
       "    <tr>\n",
       "      <th>1</th>\n",
       "      <td>[\"Baby Care &gt;&gt; Baby Bath &amp; Skin &gt;&gt; Baby Bath T...</td>\n",
       "      <td>./data/images/7b72c92c2f6c40268628ec5f14c6d590...</td>\n",
       "    </tr>\n",
       "    <tr>\n",
       "      <th>2</th>\n",
       "      <td>[\"Baby Care &gt;&gt; Baby Bath &amp; Skin &gt;&gt; Baby Bath T...</td>\n",
       "      <td>./data/images/64d5d4a258243731dc7bbb1eef49ad74...</td>\n",
       "    </tr>\n",
       "    <tr>\n",
       "      <th>3</th>\n",
       "      <td>[\"Home Furnishing &gt;&gt; Bed Linen &gt;&gt; Bedsheets &gt;&gt;...</td>\n",
       "      <td>./data/images/d4684dcdc759dd9cdf41504698d737d8...</td>\n",
       "    </tr>\n",
       "    <tr>\n",
       "      <th>4</th>\n",
       "      <td>[\"Home Furnishing &gt;&gt; Bed Linen &gt;&gt; Bedsheets &gt;&gt;...</td>\n",
       "      <td>./data/images/6325b6870c54cd47be6ebfbffa620ec7...</td>\n",
       "    </tr>\n",
       "  </tbody>\n",
       "</table>\n",
       "</div>"
      ],
      "text/plain": [
       "                               product_category_tree  \\\n",
       "0  [\"Home Furnishing >> Curtains & Accessories >>...   \n",
       "1  [\"Baby Care >> Baby Bath & Skin >> Baby Bath T...   \n",
       "2  [\"Baby Care >> Baby Bath & Skin >> Baby Bath T...   \n",
       "3  [\"Home Furnishing >> Bed Linen >> Bedsheets >>...   \n",
       "4  [\"Home Furnishing >> Bed Linen >> Bedsheets >>...   \n",
       "\n",
       "                                               image  \n",
       "0  ./data/images/55b85ea15a1536d46b7190ad6fff8ce7...  \n",
       "1  ./data/images/7b72c92c2f6c40268628ec5f14c6d590...  \n",
       "2  ./data/images/64d5d4a258243731dc7bbb1eef49ad74...  \n",
       "3  ./data/images/d4684dcdc759dd9cdf41504698d737d8...  \n",
       "4  ./data/images/6325b6870c54cd47be6ebfbffa620ec7...  "
      ]
     },
     "execution_count": 6,
     "metadata": {},
     "output_type": "execute_result"
    }
   ],
   "source": [
    "# Concatenate the path to the name of the image\n",
    "df[\"image\"] = path_to_images + df[\"image\"]\n",
    "df.head()"
   ]
  },
  {
   "cell_type": "markdown",
   "id": "73bad859-fe9c-401e-8aa6-5d33e2abcaff",
   "metadata": {},
   "source": [
    "## Remaniement des catégories"
   ]
  },
  {
   "cell_type": "code",
   "execution_count": 7,
   "id": "7b0328b9-19a9-49aa-a5d1-b16f510384ef",
   "metadata": {},
   "outputs": [
    {
     "data": {
      "text/html": [
       "<div>\n",
       "<style scoped>\n",
       "    .dataframe tbody tr th:only-of-type {\n",
       "        vertical-align: middle;\n",
       "    }\n",
       "\n",
       "    .dataframe tbody tr th {\n",
       "        vertical-align: top;\n",
       "    }\n",
       "\n",
       "    .dataframe thead th {\n",
       "        text-align: right;\n",
       "    }\n",
       "</style>\n",
       "<table border=\"1\" class=\"dataframe\">\n",
       "  <thead>\n",
       "    <tr style=\"text-align: right;\">\n",
       "      <th></th>\n",
       "      <th>image</th>\n",
       "      <th>category</th>\n",
       "    </tr>\n",
       "  </thead>\n",
       "  <tbody>\n",
       "    <tr>\n",
       "      <th>0</th>\n",
       "      <td>./data/images/55b85ea15a1536d46b7190ad6fff8ce7...</td>\n",
       "      <td>Home Furnishing</td>\n",
       "    </tr>\n",
       "    <tr>\n",
       "      <th>1</th>\n",
       "      <td>./data/images/7b72c92c2f6c40268628ec5f14c6d590...</td>\n",
       "      <td>Baby Care</td>\n",
       "    </tr>\n",
       "    <tr>\n",
       "      <th>2</th>\n",
       "      <td>./data/images/64d5d4a258243731dc7bbb1eef49ad74...</td>\n",
       "      <td>Baby Care</td>\n",
       "    </tr>\n",
       "    <tr>\n",
       "      <th>3</th>\n",
       "      <td>./data/images/d4684dcdc759dd9cdf41504698d737d8...</td>\n",
       "      <td>Home Furnishing</td>\n",
       "    </tr>\n",
       "    <tr>\n",
       "      <th>4</th>\n",
       "      <td>./data/images/6325b6870c54cd47be6ebfbffa620ec7...</td>\n",
       "      <td>Home Furnishing</td>\n",
       "    </tr>\n",
       "  </tbody>\n",
       "</table>\n",
       "</div>"
      ],
      "text/plain": [
       "                                               image          category\n",
       "0  ./data/images/55b85ea15a1536d46b7190ad6fff8ce7...  Home Furnishing \n",
       "1  ./data/images/7b72c92c2f6c40268628ec5f14c6d590...        Baby Care \n",
       "2  ./data/images/64d5d4a258243731dc7bbb1eef49ad74...        Baby Care \n",
       "3  ./data/images/d4684dcdc759dd9cdf41504698d737d8...  Home Furnishing \n",
       "4  ./data/images/6325b6870c54cd47be6ebfbffa620ec7...  Home Furnishing "
      ]
     },
     "execution_count": 7,
     "metadata": {},
     "output_type": "execute_result"
    }
   ],
   "source": [
    "# Suppress the [\" and \"] characters\n",
    "df[\"product_category_tree\"] = df[\"product_category_tree\"].apply(lambda i : i.replace('[\"', ''))\n",
    "df[\"product_category_tree\"] = df[\"product_category_tree\"].apply(lambda i : i.replace('\"]', ''))\n",
    "# Get the values of the product_category_tree in a series\n",
    "product_category_tree = df[\"product_category_tree\"]\n",
    "# Split the product_category_tree and store it in a list\n",
    "categories_list = product_category_tree.apply(lambda i : i.split(\">>\"))\n",
    "# Go through categories_list and get the biggest list\n",
    "max_size = 0\n",
    "for i in range(len(categories_list)):\n",
    "    # Check if the size is greater than the max_size already found\n",
    "    if len(categories_list[i]) > max_size:\n",
    "        # Set the max_size to the new max size\n",
    "        max_size = len(categories_list[i])\n",
    "# Generate the columns names based on the max_size\n",
    "columns = list(range(1,max_size+1))\n",
    "# Create a dataframe from the list of categories\n",
    "categories_df = pd.DataFrame(categories_list.to_list(), columns=columns)\n",
    "# Get the first column of categories_df and set it in a new column in df\n",
    "df[\"category\"] = categories_df.iloc[:,0]\n",
    "df = df.drop(\"product_category_tree\", axis=1)\n",
    "df.head()"
   ]
  },
  {
   "cell_type": "markdown",
   "id": "c181d590-68d9-4f80-a383-849adc199fea",
   "metadata": {},
   "source": [
    "## Encodage de la catégorie"
   ]
  },
  {
   "cell_type": "code",
   "execution_count": 8,
   "id": "788041e3-1f45-4257-9b77-cdafcc3ba61d",
   "metadata": {},
   "outputs": [],
   "source": [
    "# Define a LabelEncoder\n",
    "le = LabelEncoder()\n",
    "# Train the LabelEconder with our categories\n",
    "le.fit(df[\"category\"])\n",
    "# Generate the labels\n",
    "df[\"label\"] = le.transform(df[\"category\"])"
   ]
  },
  {
   "cell_type": "markdown",
   "id": "575981c5-3a7d-42bb-b8cb-ffebbb9a3ffe",
   "metadata": {},
   "source": [
    "# Classification supervisée"
   ]
  },
  {
   "cell_type": "markdown",
   "id": "e226505d-6b96-4435-83a1-7ae8ce425aed",
   "metadata": {},
   "source": [
    "## Création d'un jeu de données de validation"
   ]
  },
  {
   "cell_type": "code",
   "execution_count": 14,
   "id": "3e01bb03-eff3-4ded-9e4b-ca5aa6507f5e",
   "metadata": {},
   "outputs": [],
   "source": [
    "# Split data and labels\n",
    "data = df[\"image\"]\n",
    "labels = df[\"label\"]\n",
    "# Split into work data and validation data\n",
    "X, X_val, y, y_val = train_test_split(data, labels, test_size=0.15, random_state=8)"
   ]
  },
  {
   "cell_type": "markdown",
   "id": "535ef195-7f23-4f5f-9fbf-e27745682946",
   "metadata": {},
   "source": [
    "## Création d'un jeu de données d'entrainement et de test"
   ]
  },
  {
   "cell_type": "code",
   "execution_count": 15,
   "id": "b9b8b70a-670f-44e2-bd71-c491d240cb87",
   "metadata": {},
   "outputs": [],
   "source": [
    "# Split into train data and test data\n",
    "X_train, X_test, y_train, y_test = train_test_split(data, labels, test_size=0.25, random_state=8)"
   ]
  },
  {
   "cell_type": "code",
   "execution_count": null,
   "id": "18f225d0-38c9-4927-a2bf-7bea7618ac57",
   "metadata": {},
   "outputs": [],
   "source": []
  },
  {
   "cell_type": "markdown",
   "id": "3a7cd625-9c43-43c9-81b4-44ad052913be",
   "metadata": {},
   "source": [
    "## Création du modèle de classification"
   ]
  },
  {
   "cell_type": "code",
   "execution_count": 9,
   "id": "83d399c0-7db8-428e-ae76-e1c818a9c90e",
   "metadata": {},
   "outputs": [],
   "source": [
    "def create_model():\n",
    "    # Implement the pretrained model\n",
    "    model0 = VGG16(include_top=False, weights=\"imagenet\", input_shape=(224, 224, 3))\n",
    "    \n",
    "    # Set layers to non trainable to keep the weights of the pretrained model\n",
    "    for layer in model0.layers:\n",
    "        layer.trainable = False\n",
    "\n",
    "    # Get the output layer of the model\n",
    "    output = model0.output\n",
    "    # Upgrade the model\n",
    "    output = GlobalAveragePooling2D()(output)\n",
    "    output = Dense(256, activation=\"relu\")(output)\n",
    "    output = Dropout(0.5)(output)\n",
    "    # Define the new output with 7 classes and a softmax function\n",
    "    predictions = Dense(7, activation=\"softmax\")(output)\n",
    "\n",
    "    # Redefine the whole model\n",
    "    model = Model(iputs=model0.input, outputs=predictions)\n",
    "    # Compile the new model\n",
    "    model.compile(loss=\"categorical_cross_enthropy\", optimizer=\"rmsprop\", metrics=[\"accuracy\"])\n",
    "\n",
    "    print(model.summary())\n",
    "\n",
    "    return model"
   ]
  },
  {
   "cell_type": "markdown",
   "id": "1f310417-d3a0-4151-b8c8-2313af73d541",
   "metadata": {},
   "source": [
    "## Première approche"
   ]
  },
  {
   "cell_type": "markdown",
   "id": "9722488e-fbfa-4ba4-88d1-adeb1139edbe",
   "metadata": {},
   "source": [
    "Pour la première approche, nous ferons une préparation initiale simple de l'ensemble des images avant une classification supervisée."
   ]
  },
  {
   "cell_type": "code",
   "execution_count": null,
   "id": "b479377e-ea30-4e3b-854a-1e4c7325ce93",
   "metadata": {},
   "outputs": [],
   "source": []
  }
 ],
 "metadata": {
  "kernelspec": {
   "display_name": "Python 3 (ipykernel)",
   "language": "python",
   "name": "python3"
  },
  "language_info": {
   "codemirror_mode": {
    "name": "ipython",
    "version": 3
   },
   "file_extension": ".py",
   "mimetype": "text/x-python",
   "name": "python",
   "nbconvert_exporter": "python",
   "pygments_lexer": "ipython3",
   "version": "3.12.3"
  }
 },
 "nbformat": 4,
 "nbformat_minor": 5
}
