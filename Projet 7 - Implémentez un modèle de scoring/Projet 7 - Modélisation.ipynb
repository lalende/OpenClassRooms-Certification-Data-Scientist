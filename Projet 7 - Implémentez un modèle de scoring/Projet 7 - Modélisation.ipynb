{
 "cells": [
  {
   "cell_type": "markdown",
   "id": "957f8924-a154-4fb4-866b-99e8dc343868",
   "metadata": {},
   "source": [
    "# Introduction"
   ]
  },
  {
   "cell_type": "markdown",
   "id": "45c4db80-3bd9-478f-ac84-323cb42d0195",
   "metadata": {
    "jp-MarkdownHeadingCollapsed": true
   },
   "source": [
    "------------------------------\n",
    "## Mission - Élaborez le modèle de scoring\n",
    "------------------------------\n",
    "\n",
    "Vous êtes Data Scientist au sein d'une société financière, nommée **\"Prêt à dépenser\"**, qui propose des crédits à la consommation pour des personnes ayant peu ou pas du tout d'historique de prêt.\n",
    "\n",
    "L’entreprise souhaite **mettre en œuvre un outil de “scoring crédit” pour calculer la probabilité** qu’un client rembourse son crédit, puis classifier la demande en crédit accordé ou refusé. Elle souhaite donc développer un **algorithme de classification** en s’appuyant sur des sources de données variées (données comportementales, données provenant d'autres institutions financières, etc.)\n",
    "\n",
    "**Votre mission :**\n",
    "* Construire un modèle de scoring qui donnera une prédiction sur la probabilité de faillite d'un client de façon automatique.\n",
    "* Analyser les features qui contribuent le plus au modèle, d’une manière générale (feature importance globale) et au niveau d’un client (feature importance locale), afin, dans un soucis de transparence, de permettre à un chargé d’études de mieux comprendre le score attribué par le modèle.\n",
    "* Mettre en production le modèle de scoring de prédiction à l’aide d’une API et réaliser une interface de test de cette API.\n",
    "* Mettre en œuvre une approche globale MLOps de bout en bout, du tracking des expérimentations à l’analyse en production du data drift.\n",
    "\n",
    "Michaël, votre manager, vous incite à sélectionner un ou des kernels Kaggle pour vous faciliter l’analyse exploratoire, la préparation des données et le feature engineering nécessaires à l’élaboration du modèle de scoring. \n",
    "\n",
    "Voici le mail qu’il vous a envoyé.\n",
    "\n",
    "*Bonjour,*\n",
    "\n",
    "*Afin de pouvoir faire évoluer régulièrement le modèle, je souhaite tester la mise en œuvre une démarche de type MLOps d’automatisation et d’industrialisation de la gestion du cycle de vie du modèle.*\n",
    "\n",
    "*Vous trouverez en pièce jointe **la liste d’outils à utiliser** pour créer une plateforme MLOps qui s’appuie sur des outils Open Source.* \n",
    "\n",
    "*Je souhaite que vous puissiez mettre en oeuvre au minimum **les étapes orientées MLOps** suivantes :* \n",
    "* *Dans le notebook d’entraînement des modèles, générer à l’aide de MLFlow un tracking d'expérimentations*\n",
    "* *Lancer l’interface web 'UI MLFlow\" d'affichage des résultats du tracking*\n",
    "* *Réaliser avec MLFlow un stockage centralisé des modèles dans un “model registry”*\n",
    "* *Tester le serving MLFlow*\n",
    "* *Gérer le code avec le logiciel de version Git*\n",
    "* *Partager le code sur Github pour assurer une intégration continue*\n",
    "* *Utiliser Github Actions pour le déploiement continu et automatisé du code de l’API sur le cloud*\n",
    "* *Concevoir des tests unitaires avec Pytest (ou Unittest) et les exécuter de manière automatisée lors du build réalisé par Github Actions*\n",
    " \n",
    "*J’ai également rassemblé des conseils pour vous aider à vous lancer dans ce projet !*\n",
    "\n",
    "*Concernant **l’élaboration du modèle** soyez vigilant sur deux points spécifiques au contexte métier :* \n",
    "* *Le déséquilibre entre le nombre de bons et de moins bons clients doit être pris en compte pour élaborer un modèle pertinent, avec une méthode au choix*\n",
    "* *Le déséquilibre du coût métier entre un faux négatif (FN - mauvais client prédit bon client : donc crédit accordé et perte en capital) et un faux positif (FP - bon client prédit mauvais : donc refus crédit et manque à gagner en marge)*\n",
    "    * *Vous pourrez supposer, par exemple, que le coût d’un FN est dix fois supérieur au coût d’un FP*\n",
    "    * *Vous créerez un score “métier” (minimisation du coût d’erreur de prédiction des FN et FP) pour comparer les modèles, afin de choisir le meilleur modèle et ses meilleurs hyperparamètres. Attention cette minimisation du coût métier doit passer par l’optimisation du seuil qui détermine, à partir d’une probabilité, la classe 0 ou 1 (un “predict” suppose un seuil à 0.5 qui n’est pas forcément l’optimum)*\n",
    "    * *En parallèle, maintenez pour comparaison et contrôle des mesures plus techniques, telles que l’AUC et l’accuracy*\n",
    " \n",
    "*D’autre part je souhaite que vous mettiez en œuvre une démarche d’élaboration des modèles avec **Cross-Validation et optimisation des hyperparamètres, via GridsearchCV ou équivalent.***\n",
    "\n",
    "*Un dernier conseil : si vous obtenez des scores supérieurs au 1er du challenge Kaggle (AUC > 0.82), posez-vous la question si vous n’avez pas de l’overfitting dans votre modèle !*\n",
    "\n",
    "*Vous exposerez votre **modèle de prédiction sous forme d’une API** qui permet de calculer la probabilité de défaut du client, ainsi que sa classe (accepté ou refusé) en fonction du seuil optimisé d’un point de vue métier.*\n",
    "\n",
    "***Le déploiement de l’API** sera réalisée sur une plateforme Cloud, de préférence une solution gratuite.*\n",
    "\n",
    "*Je vous propose d’utiliser un Notebook ou une application Streamlit pour réaliser en local  l’**interface de test de l’API**.*\n",
    "\n",
    "*Bon courage !*\n",
    "\n",
    "*Mickael*"
   ]
  },
  {
   "cell_type": "markdown",
   "id": "ba2395d9-9a2f-469e-aa27-517d22c74c61",
   "metadata": {},
   "source": [
    "# Import des librairies"
   ]
  },
  {
   "cell_type": "code",
   "execution_count": 1,
   "id": "d3ea2ece-8f2e-4665-bdf6-ecda225ed69b",
   "metadata": {},
   "outputs": [],
   "source": [
    "## Global \n",
    "import os\n",
    "import shutil\n",
    "import time\n",
    "from datetime import datetime\n",
    "import pandas as pd\n",
    "import numpy as np\n",
    "\n",
    "# Plotting\n",
    "import seaborn as sns\n",
    "import matplotlib.pyplot as plt\n",
    "\n",
    "# Imbalanced learn\n",
    "from imblearn.pipeline import Pipeline\n",
    "from imblearn.over_sampling import SMOTE\n",
    "from imblearn.under_sampling import RandomUnderSampler\n",
    "\n",
    "# Scipy\n",
    "from scipy.sparse import csr_matrix\n",
    "from scipy.stats import randint, uniform\n",
    "\n",
    "# Scikit-learn\n",
    "from sklearn.metrics import make_scorer, roc_auc_score, confusion_matrix\n",
    "from sklearn.model_selection import GridSearchCV, RandomizedSearchCV, StratifiedKFold, cross_validate\n",
    "from sklearn.preprocessing import StandardScaler, OneHotEncoder\n",
    "from sklearn.dummy import DummyClassifier\n",
    "from sklearn.linear_model import LogisticRegression\n",
    "from sklearn.impute import SimpleImputer\n",
    "\n",
    "# LGBM\n",
    "from lightgbm import LGBMClassifier\n",
    "\n",
    "# MLFlow\n",
    "import mlflow\n",
    "import mlflow.sklearn\n",
    "from mlflow.models import infer_signature\n",
    "from mlflow.transformers import generate_signature_output\n",
    "\n",
    "# SHAP\n",
    "import shap\n",
    "\n",
    "# Optuna\n",
    "import optuna"
   ]
  },
  {
   "cell_type": "code",
   "execution_count": 2,
   "id": "459a9a8f-417b-4bf4-a803-d1a9a357e2f1",
   "metadata": {},
   "outputs": [],
   "source": [
    "# Initialize sns\n",
    "sns.set()"
   ]
  },
  {
   "cell_type": "markdown",
   "id": "a7062543-4e5f-418e-a828-9b141682486d",
   "metadata": {
    "jp-MarkdownHeadingCollapsed": true
   },
   "source": [
    "# Lecture du dataset"
   ]
  },
  {
   "cell_type": "code",
   "execution_count": 3,
   "id": "a6a4c391-b439-4962-924b-9ac588817f79",
   "metadata": {},
   "outputs": [],
   "source": [
    "# Define the path to data\n",
    "path = \"./data/\"\n",
    "# List files in the data directory\n",
    "file_list = os.listdir(path)\n",
    "# Create an empty dict to store the file name as key and a DataFrame as value\n",
    "df_dict = {}\n",
    "# Create a list to store file names\n",
    "filenames_list = []\n",
    "# Go through the list and get the name of the file without extension\n",
    "for file in file_list:\n",
    "    # Get the name of the file and its extension\n",
    "    name, extension = os.path.splitext(file)\n",
    "    # Append the name of the file to the dedicated list\n",
    "    filenames_list.append(name)\n",
    "    # Exclude \"HomeCredit_columns_description.csv\" which is not usefull for our purpose\n",
    "    if file != \"HomeCredit_columns_description.csv\":\n",
    "        # Append the dataframe read to the list\n",
    "        df_dict[name] = pd.read_csv(path+file)"
   ]
  },
  {
   "cell_type": "markdown",
   "id": "f222b35f-a68a-4efe-a570-8996e59d8231",
   "metadata": {},
   "source": [
    "# Préparation des données"
   ]
  },
  {
   "cell_type": "markdown",
   "id": "e9fbf58a-ead0-4830-823d-3ba9e2ce91b2",
   "metadata": {},
   "source": [
    "Pour la préparation des données nous nous appuierons sur le kernel Kaggle suivant : <a href=\"https://www.kaggle.com/code/jsaguiar/lightgbm-with-simple-features/script\">LightGBM with Simple Features</a>"
   ]
  },
  {
   "cell_type": "markdown",
   "id": "0da37e8c-defc-458f-889b-584ac6fcf685",
   "metadata": {},
   "source": [
    "Au préalable, définissons une fonction nous permettant d'effectuer un OneHotEnconding sur les variables catégorielles.\n",
    "\n",
    "Celle-ci nous retournera le dataframe modifié après l'encoding et une liste des nouvelles colonnes créées."
   ]
  },
  {
   "cell_type": "code",
   "execution_count": 4,
   "id": "256e55c2-b6c1-4c4a-a957-57ee244fcd48",
   "metadata": {},
   "outputs": [],
   "source": [
    "# One-hot encoding for categorical columns with get_dummies\n",
    "def one_hot_encode(data, nan_as_category=True):\n",
    "    # Store the name of original columns\n",
    "    original_columns = list(data.columns)\n",
    "    # Retrieve categorical columns\n",
    "    categorical_columns = [col for col in data.columns if data[col].dtype == \"object\"]\n",
    "    # Proceed with OneHotEncoding\n",
    "    data = pd.get_dummies(data, columns=categorical_columns, dummy_na=nan_as_category)\n",
    "    # List new columns\n",
    "    new_columns = [c for c in data.columns if c not in original_columns]\n",
    "    # Return the dataframe and the list of new columns\n",
    "    return data, new_columns"
   ]
  },
  {
   "cell_type": "markdown",
   "id": "34cbae52-f957-42a6-82f4-03986dfdc980",
   "metadata": {},
   "source": [
    "Premièrement intéressons nous aux dataframes \"application\""
   ]
  },
  {
   "cell_type": "code",
   "execution_count": 5,
   "id": "8132309c-3ba0-4e0f-a6a3-16c8d49d0630",
   "metadata": {},
   "outputs": [],
   "source": [
    "# Merge train and test dataframes\n",
    "df = pd.concat([df_dict[\"application_train\"], df_dict[\"application_test\"]]).reset_index(drop=True)\n",
    "\n",
    "# Remove XNA gender\n",
    "df = df[df[\"CODE_GENDER\"] != \"XNA\"]\n",
    "\n",
    "# Binary encode two state categorical features\n",
    "for binary_features in [\"NAME_CONTRACT_TYPE\", \"CODE_GENDER\", \"FLAG_OWN_CAR\", \"FLAG_OWN_REALTY\"]:\n",
    "    df[binary_features], uniques = pd.factorize(df[binary_features])\n",
    "    \n",
    "# OneHot Encode categorical features\n",
    "df, applications_cat_cols = one_hot_encode(df, False)\n",
    "\n",
    "# Replace 365243 by NaN in DAYS_EMPLOYED column\n",
    "df.loc[df[\"DAYS_EMPLOYED\"]==365243, [\"DAYS_EMPLOYED\"]] = np.nan\n",
    "\n",
    "# Generate new features by calculating percentages\n",
    "df['DAYS_EMPLOYED_PERC'] = df['DAYS_EMPLOYED'] / df['DAYS_BIRTH']\n",
    "df['INCOME_CREDIT_PERC'] = df['AMT_INCOME_TOTAL'] / df['AMT_CREDIT']\n",
    "df['INCOME_PER_PERSON'] = df['AMT_INCOME_TOTAL'] / df['CNT_FAM_MEMBERS']\n",
    "df['ANNUITY_INCOME_PERC'] = df['AMT_ANNUITY'] / df['AMT_INCOME_TOTAL']\n",
    "df['PAYMENT_RATE'] = df['AMT_ANNUITY'] / df['AMT_CREDIT']\n",
    "\n",
    "# Delete unecessary variables to free up memory\n",
    "del applications_cat_cols"
   ]
  },
  {
   "cell_type": "markdown",
   "id": "c5a9e22d-5efb-4aeb-a5fc-215e259c953f",
   "metadata": {},
   "source": [
    "A présent, intéressons nous aux dataframes \"bureau\" et \"bureau_balance\""
   ]
  },
  {
   "cell_type": "code",
   "execution_count": 6,
   "id": "7fcf52a4-2fa0-4923-8546-aff38d38952e",
   "metadata": {},
   "outputs": [],
   "source": [
    "# OneHot Encode categorical features\n",
    "df_dict[\"bureau\"], bureau_cat_cols = one_hot_encode(df_dict[\"bureau\"], True)\n",
    "\n",
    "# OneHot Encode categorical features\n",
    "df_dict[\"bureau_balance\"], bureau_balance_cat_cols = one_hot_encode(df_dict[\"bureau_balance\"], True)\n",
    "\n",
    "# Aggregation of bureau_balance dataframe on SK_ID_BUREAU\n",
    "aggregations = {\n",
    "    \"MONTHS_BALANCE\": [\"min\", \"max\", \"size\"], \n",
    "}\n",
    "for col in bureau_balance_cat_cols:\n",
    "    aggregations[col] = [\"mean\"]\n",
    "# Groupby \"SK_ID_BUREAU\"\n",
    "bb_agg = df_dict[\"bureau_balance\"].groupby(\"SK_ID_BUREAU\").agg(aggregations)\n",
    "# Rename columns\n",
    "bb_agg.columns = pd.Index([e[0] + \"_\" + e[1].upper() for e in bb_agg.columns.tolist()])\n",
    "\n",
    "# Merge bureau and bureau_balance dataframes\n",
    "bureau = df_dict[\"bureau\"].join(bb_agg, how=\"left\", on=\"SK_ID_BUREAU\")\n",
    "# Drop SK_ID_BUREAU column, which is a reference between bureau and bureau_balance dataframes\n",
    "bureau.drop([\"SK_ID_BUREAU\"], axis=1, inplace= True)\n",
    "\n",
    "# Aggregation of bureau dataframe\n",
    "# Build numeric features in bureau dataframe\n",
    "num_aggregations = {\n",
    "    \"DAYS_CREDIT\": [\"min\", \"max\", \"mean\", \"var\"],\n",
    "    \"DAYS_CREDIT_ENDDATE\": [\"min\", \"max\", \"mean\"],\n",
    "    \"DAYS_CREDIT_UPDATE\": [\"mean\"],\n",
    "    \"CREDIT_DAY_OVERDUE\": [\"max\", \"mean\"],\n",
    "    \"AMT_CREDIT_MAX_OVERDUE\": [\"mean\"],\n",
    "    \"AMT_CREDIT_SUM\": [\"max\", \"mean\", \"sum\"],\n",
    "    \"AMT_CREDIT_SUM_DEBT\": [\"max\", \"mean\", \"sum\"],\n",
    "    \"AMT_CREDIT_SUM_OVERDUE\": [\"mean\"],\n",
    "    \"AMT_CREDIT_SUM_LIMIT\": [\"mean\", \"sum\"],\n",
    "    \"AMT_ANNUITY\": [\"max\", \"mean\"],\n",
    "    \"CNT_CREDIT_PROLONG\": [\"sum\"],\n",
    "    \"MONTHS_BALANCE_MIN\": [\"min\"],\n",
    "    \"MONTHS_BALANCE_MAX\": [\"max\"],\n",
    "    \"MONTHS_BALANCE_SIZE\": [\"mean\", \"sum\"],\n",
    "}\n",
    "# Build categorical features\n",
    "cat_aggregations = {}\n",
    "for cat in bureau_cat_cols: cat_aggregations[cat] = [\"mean\"]\n",
    "for cat in bureau_balance_cat_cols: cat_aggregations[cat + \"_MEAN\"] = [\"mean\"]\n",
    "# Groupby \"SK_ID_CURR\"\n",
    "bureau_agg = bureau.groupby(\"SK_ID_CURR\").agg({**num_aggregations, **cat_aggregations})\n",
    "# Rename columns\n",
    "bureau_agg.columns = pd.Index([\"BURO_\" + e[0] + \"_\" + e[1].upper() for e in bureau_agg.columns.tolist()])\n",
    "\n",
    "# Generate features for active credits\n",
    "# Get all active credits\n",
    "active = bureau[bureau[\"CREDIT_ACTIVE_Active\"] == 1]\n",
    "# Groupby \"SK_ID_CURR\" with the same aggregations params for numerical features only\n",
    "active_agg = active.groupby(\"SK_ID_CURR\").agg(num_aggregations)\n",
    "# Rename columns\n",
    "active_agg.columns = pd.Index([\"ACTIVE_\" + e[0] + \"_\" + e[1].upper() for e in active_agg.columns.tolist()])\n",
    "# Join bureau_agg and active_agg dataframes\n",
    "bureau_agg = bureau_agg.join(active_agg, how=\"left\", on=\"SK_ID_CURR\")\n",
    "\n",
    "# Generate features for closed credits\n",
    "# Get all closed credits\n",
    "closed = bureau[bureau[\"CREDIT_ACTIVE_Closed\"] == 1]\n",
    "# Groupby \"SK_ID_CURR\" with the same aggregations params for numerical features only\n",
    "closed_agg = closed.groupby(\"SK_ID_CURR\").agg(num_aggregations)\n",
    "# Rename columns\n",
    "closed_agg.columns = pd.Index([\"CLOSED_\" + e[0] + \"_\" + e[1].upper() for e in closed_agg.columns.tolist()])\n",
    "# Join bureau_agg and active_agg dataframes\n",
    "bureau_agg = bureau_agg.join(closed_agg, how=\"left\", on=\"SK_ID_CURR\")\n",
    "\n",
    "# Join df and new bureau_agg dataframes\n",
    "df = df.join(bureau_agg, how=\"left\", on=\"SK_ID_CURR\")\n",
    "\n",
    "# Delete unecessary variables to free up memory\n",
    "del bureau_cat_cols, bureau_balance_cat_cols, aggregations, bb_agg, \\\n",
    "    bureau, num_aggregations, cat_aggregations, bureau_agg, \\\n",
    "    closed, closed_agg"
   ]
  },
  {
   "cell_type": "markdown",
   "id": "6ae4a408-8fa0-4f82-8878-4b92f42318e0",
   "metadata": {},
   "source": [
    "Passons au dataframe \"previous_application\""
   ]
  },
  {
   "cell_type": "code",
   "execution_count": 7,
   "id": "c0b965e8-1651-4190-a29d-71d0d0ccf841",
   "metadata": {},
   "outputs": [],
   "source": [
    "# OneHot Encode categorical features\n",
    "df_dict[\"previous_application\"], prev_app_cat_cols = one_hot_encode(df_dict[\"previous_application\"], True)\n",
    "\n",
    "# Replace 365243 days by NaN \n",
    "df_dict[\"previous_application\"].loc[\n",
    "    df_dict[\"previous_application\"][\"DAYS_FIRST_DRAWING\"] == 365243, [\"DAYS_FIRST_DRAWING\"] \n",
    "] = np.nan\n",
    "df_dict[\"previous_application\"].loc[\n",
    "    df_dict[\"previous_application\"][\"DAYS_FIRST_DUE\"] == 365243, [\"DAYS_FIRST_DUE\"] \n",
    "] = np.nan\n",
    "df_dict[\"previous_application\"].loc[\n",
    "    df_dict[\"previous_application\"][\"DAYS_LAST_DUE_1ST_VERSION\"] == 365243, [\"DAYS_LAST_DUE_1ST_VERSION\"] \n",
    "] = np.nan\n",
    "df_dict[\"previous_application\"].loc[\n",
    "    df_dict[\"previous_application\"][\"DAYS_LAST_DUE\"] == 365243, [\"DAYS_LAST_DUE\"] \n",
    "] = np.nan\n",
    "df_dict[\"previous_application\"].loc[\n",
    "    df_dict[\"previous_application\"][\"DAYS_TERMINATION\"] == 365243, [\"DAYS_TERMINATION\"] \n",
    "] = np.nan\n",
    "\n",
    "# Add feature : value ask / value received percentage\n",
    "df_dict[\"previous_application\"][\"APP_CREDIT_PERC\"] = \\\n",
    "    df_dict[\"previous_application\"]['AMT_APPLICATION'] / df_dict[\"previous_application\"][\"AMT_CREDIT\"]\n",
    "\n",
    "# Aggregation of previous_application dataframe\n",
    "# Previous applications numeric features\n",
    "num_aggregations = {\n",
    "    \"AMT_ANNUITY\": ['min', 'max', 'mean'],\n",
    "    \"AMT_APPLICATION\": ['min', 'max', 'mean'],\n",
    "    \"AMT_CREDIT\": ['min', 'max', 'mean'],\n",
    "    \"APP_CREDIT_PERC\": ['min', 'max', 'mean', 'var'],\n",
    "    \"AMT_DOWN_PAYMENT\": ['min', 'max', 'mean'],\n",
    "    \"AMT_GOODS_PRICE\": ['min', 'max', 'mean'],\n",
    "    \"HOUR_APPR_PROCESS_START\": ['min', 'max', 'mean'],\n",
    "    \"RATE_DOWN_PAYMENT\": ['min', 'max', 'mean'],\n",
    "    \"DAYS_DECISION\": ['min', 'max', 'mean'],\n",
    "    \"CNT_PAYMENT\": ['mean', 'sum'],\n",
    "}\n",
    "# Previous applications categorical features\n",
    "cat_aggregations = {}\n",
    "for cat in prev_app_cat_cols:\n",
    "    cat_aggregations[cat] = [\"mean\"]\n",
    "# Groupby \"SK_ID_CURR\"\n",
    "prev_agg = df_dict[\"previous_application\"].groupby(\"SK_ID_CURR\").agg({**num_aggregations, **cat_aggregations})\n",
    "# Rename columns\n",
    "prev_agg.columns = pd.Index([\"PREV_\" + e[0] + \"_\" + e[1].upper() for e in prev_agg.columns.tolist()])\n",
    "\n",
    "# Generate features for approved applications\n",
    "# Get all approved applications\n",
    "approved = df_dict[\"previous_application\"][df_dict[\"previous_application\"][\"NAME_CONTRACT_STATUS_Approved\"] == 1]\n",
    "# Groupby \"SK_ID_CURR\" with the same aggregations params for numerical features only\n",
    "approved_agg = approved.groupby(\"SK_ID_CURR\").agg(num_aggregations)\n",
    "# Rename columns\n",
    "approved_agg.columns = pd.Index([\"APPROVED_\" + e[0] + \"_\" + e[1].upper() for e in approved_agg.columns.tolist()])\n",
    "# Join prev_agg and approved_agg dataframes\n",
    "prev_agg = prev_agg.join(approved_agg, how=\"left\", on=\"SK_ID_CURR\")\n",
    "\n",
    "# Generate features for refused applications\n",
    "# Get all refused applications\n",
    "refused = df_dict[\"previous_application\"][df_dict[\"previous_application\"][\"NAME_CONTRACT_STATUS_Refused\"] == 1]\n",
    "# Groupby \"SK_ID_CURR\" with the same aggregations params for numerical features only\n",
    "refused_agg = refused.groupby(\"SK_ID_CURR\").agg(num_aggregations)\n",
    "# Rename columns\n",
    "refused_agg.columns = pd.Index([\"REFUSED_\" + e[0] + \"_\" + e[1].upper() for e in refused_agg.columns.tolist()])\n",
    "# Join prev_agg and refused_agg dataframes\n",
    "prev_agg = prev_agg.join(refused_agg, how=\"left\", on=\"SK_ID_CURR\")\n",
    "\n",
    "# Join df and new bureau_agg dataframes\n",
    "df = df.join(prev_agg, how=\"left\", on=\"SK_ID_CURR\")\n",
    "\n",
    "# Delete unecessary variables to free up memory\n",
    "del prev_app_cat_cols, cat_aggregations, prev_agg, num_aggregations, \\\n",
    "    approved, approved_agg, refused, refused_agg"
   ]
  },
  {
   "cell_type": "markdown",
   "id": "471c7642-2387-4705-8fdc-49cbaaf36c42",
   "metadata": {},
   "source": [
    "Au tour du dataframe \"POS_CASH_balance\""
   ]
  },
  {
   "cell_type": "code",
   "execution_count": 8,
   "id": "813aa7c3-af9c-4bea-9f58-4b97fd296afb",
   "metadata": {},
   "outputs": [],
   "source": [
    "# OneHot Encode categorical features\n",
    "df_dict[\"POS_CASH_balance\"], pos_cat_cols = one_hot_encode(df_dict[\"POS_CASH_balance\"], True)\n",
    "\n",
    "# Aggregation of POS_CASH_balance dataframe\n",
    "# POS_CASH_balance numeric features\n",
    "aggregations = {\n",
    "    \"MONTHS_BALANCE\": [\"max\", \"mean\", \"size\"],\n",
    "    \"SK_DPD\": [\"max\", \"mean\"],\n",
    "    \"SK_DPD_DEF\": [\"max\", \"mean\"],\n",
    "}\n",
    "# POS_CASH_balance categorical features\n",
    "for cat in pos_cat_cols:\n",
    "    aggregations[cat] = [\"mean\"]\n",
    "# Groupby \"SK_ID_CURR\"\n",
    "pos_agg = df_dict[\"POS_CASH_balance\"].groupby(\"SK_ID_CURR\").agg(aggregations)\n",
    "# Rename columns\n",
    "pos_agg.columns = pd.Index([\"POS_\" + e[0] + \"_\" + e[1].upper() for e in pos_agg.columns.tolist()])\n",
    "# Count POS CASH accounts\n",
    "pos_agg[\"POS_COUNT\"] = df_dict[\"POS_CASH_balance\"].groupby(\"SK_ID_CURR\").size()\n",
    "\n",
    "# Join df and new pos_agg dataframes\n",
    "df = df.join(pos_agg, how=\"left\", on=\"SK_ID_CURR\")\n",
    "\n",
    "# Delete unecessary variables to free up memory\n",
    "del pos_cat_cols, aggregations, pos_agg"
   ]
  },
  {
   "cell_type": "markdown",
   "id": "8adf4d04-2963-4b73-b0a8-289254011c7d",
   "metadata": {},
   "source": [
    "Puis du dataframe \"installments_payments\""
   ]
  },
  {
   "cell_type": "code",
   "execution_count": 9,
   "id": "cf0e5d80-339d-400b-a0f3-8483d465b32c",
   "metadata": {},
   "outputs": [],
   "source": [
    "# OneHot Encode categorical features\n",
    "df_dict[\"installments_payments\"], install_cat_cols = one_hot_encode(df_dict[\"installments_payments\"], True)\n",
    "\n",
    "# Percentage and difference paid in each installment (amount paid and installment value)\n",
    "df_dict[\"installments_payments\"][\"PAYMENT_PERC\"] = \\\n",
    "    df_dict[\"installments_payments\"][\"AMT_PAYMENT\"] / df_dict[\"installments_payments\"][\"AMT_INSTALMENT\"]\n",
    "df_dict[\"installments_payments\"][\"PAYMENT_DIFF\"] = \\\n",
    "    df_dict[\"installments_payments\"][\"AMT_INSTALMENT\"] - df_dict[\"installments_payments\"][\"AMT_PAYMENT\"]\n",
    "# Days past due and days before due (no negative values)\n",
    "df_dict[\"installments_payments\"][\"DPD\"] = \\\n",
    "    df_dict[\"installments_payments\"][\"DAYS_ENTRY_PAYMENT\"] - df_dict[\"installments_payments\"][\"DAYS_INSTALMENT\"]\n",
    "df_dict[\"installments_payments\"][\"DBD\"] = \\\n",
    "    df_dict[\"installments_payments\"][\"DAYS_INSTALMENT\"] - df_dict[\"installments_payments\"][\"DAYS_ENTRY_PAYMENT\"]\n",
    "df_dict[\"installments_payments\"][\"DPD\"] = \\\n",
    "    df_dict[\"installments_payments\"][\"DPD\"].apply(lambda x: x if x > 0 else 0)\n",
    "df_dict[\"installments_payments\"][\"DBD\"] = \\\n",
    "    df_dict[\"installments_payments\"][\"DBD\"].apply(lambda x: x if x > 0 else 0)\n",
    "\n",
    "# Aggregation of installments_payments dataframe\n",
    "# installments_payments numeric features\n",
    "aggregations = {\n",
    "    \"NUM_INSTALMENT_VERSION\": [\"nunique\"],\n",
    "    \"DPD\": [\"max\", \"mean\", \"sum\"],\n",
    "    \"DBD\": [\"max\", \"mean\", \"sum\"],\n",
    "    \"PAYMENT_PERC\": [\"max\", \"mean\", \"sum\", \"var\"],\n",
    "    \"PAYMENT_DIFF\": [\"max\", \"mean\", \"sum\", \"var\"],\n",
    "    \"AMT_INSTALMENT\": [\"max\", \"mean\", \"sum\"],\n",
    "    \"AMT_PAYMENT\": [\"min\", \"max\", \"mean\", \"sum\"],\n",
    "    \"DAYS_ENTRY_PAYMENT\": [\"max\", \"mean\", \"sum\"],\n",
    "}\n",
    "# installments_payments categorical features\n",
    "for cat in install_cat_cols:\n",
    "    aggregations[cat] = [\"mean\"]\n",
    "# Groupby \"SK_ID_CURR\"\n",
    "ins_agg = df_dict[\"installments_payments\"].groupby(\"SK_ID_CURR\").agg(aggregations)\n",
    "# Rename columns\n",
    "ins_agg.columns = pd.Index([\"INSTAL_\" + e[0] + \"_\" + e[1].upper() for e in ins_agg.columns.tolist()])\n",
    "# Count POS CASH accounts\n",
    "ins_agg[\"INSTAL_COUNT\"] = df_dict[\"installments_payments\"].groupby(\"SK_ID_CURR\").size()\n",
    "\n",
    "# Join df and new ins_agg dataframes\n",
    "df = df.join(ins_agg, how=\"left\", on=\"SK_ID_CURR\")\n",
    "\n",
    "# Delete unecessary variables to free up memory\n",
    "del install_cat_cols, aggregations, ins_agg"
   ]
  },
  {
   "cell_type": "markdown",
   "id": "0d64c853-823e-40e7-a528-fd6892b88405",
   "metadata": {},
   "source": [
    "Et enfin du dataframe \"credit_card_balance\""
   ]
  },
  {
   "cell_type": "code",
   "execution_count": 10,
   "id": "527d6be2-5301-4139-8abd-355af4697742",
   "metadata": {},
   "outputs": [],
   "source": [
    "# OneHot Encode categorical features\n",
    "df_dict[\"credit_card_balance\"], credit_cat_cols = one_hot_encode(df_dict[\"credit_card_balance\"], True)\n",
    "\n",
    "# General aggregations\n",
    "df_dict[\"credit_card_balance\"].drop([\"SK_ID_PREV\"], axis= 1, inplace = True)\n",
    "cc_agg = df_dict[\"credit_card_balance\"].groupby(\"SK_ID_CURR\").agg([\"min\", \"max\", \"mean\", \"sum\", \"var\"])\n",
    "cc_agg.columns = pd.Index([\"CC_\" + e[0] + \"_\" + e[1].upper() for e in cc_agg.columns.tolist()])\n",
    "# Count credit card lines\n",
    "cc_agg[\"CC_COUNT\"] = df_dict[\"credit_card_balance\"].groupby(\"SK_ID_CURR\").size()\n",
    "\n",
    "# Join df and new cc_agg dataframes\n",
    "df = df.join(cc_agg, how=\"left\", on=\"SK_ID_CURR\")\n",
    "\n",
    "# Delete unecessary variables to free up memory\n",
    "del credit_cat_cols, cc_agg"
   ]
  },
  {
   "cell_type": "markdown",
   "id": "9570c01b-7b31-4ac9-8356-49a19848ddf6",
   "metadata": {},
   "source": [
    "Supprimons les valeurs infinies"
   ]
  },
  {
   "cell_type": "code",
   "execution_count": 11,
   "id": "e4ddef2c-b449-4e65-9b01-8932cac3e07e",
   "metadata": {},
   "outputs": [],
   "source": [
    "df = df.replace([np.inf, -np.inf], np.nan)"
   ]
  },
  {
   "cell_type": "markdown",
   "id": "68bfe75c-793e-4517-9aad-fdb43f542c74",
   "metadata": {},
   "source": [
    "Remplaçons les variables pour lesquelles le type a été mal défini, ie les variables binaires encodées en object"
   ]
  },
  {
   "cell_type": "code",
   "execution_count": 12,
   "id": "6217a243-770a-4ae1-afb9-dfc651e0705a",
   "metadata": {},
   "outputs": [],
   "source": [
    "for col in df.select_dtypes(include=[\"object\"]).columns.to_list():\n",
    "    df[col], uniques = pd.factorize(df[col])"
   ]
  },
  {
   "cell_type": "markdown",
   "id": "8b6a7bf5-76ca-409d-a1e9-ee1a6f49acea",
   "metadata": {},
   "source": [
    "Séparons à présent nos données en jeux d'entrainement et de test"
   ]
  },
  {
   "cell_type": "code",
   "execution_count": 13,
   "id": "8ea4b556-f748-4568-9cb7-cc2459dbc1cd",
   "metadata": {},
   "outputs": [],
   "source": [
    "# Divide in training/validation and test data\n",
    "train_df = pd.DataFrame(df[df['TARGET'].notnull()])\n",
    "test_df = pd.DataFrame(df[df['TARGET'].isnull()])"
   ]
  },
  {
   "cell_type": "markdown",
   "id": "3570d70f-f7ed-4afd-ab16-ca3e830ae9ff",
   "metadata": {},
   "source": [
    "# Vérification des correlations"
   ]
  },
  {
   "cell_type": "markdown",
   "id": "dddd37d7-9ecf-4250-b141-9fd799536d14",
   "metadata": {},
   "source": [
    "Vérifions qu'après la création de nos features, nous n'avons pas de correlations trop fortes avec notre cible, auquel cas ces variables seront analysées afin de se prémunir d'un data leakage éventuel."
   ]
  },
  {
   "cell_type": "code",
   "execution_count": 14,
   "id": "63edac67-23f0-47fe-8646-299f11dcec56",
   "metadata": {},
   "outputs": [],
   "source": [
    "# Compute pearson correlation matrix\n",
    "#pearson = train_df.corr(method=\"pearson\", numeric_only=True)"
   ]
  },
  {
   "cell_type": "code",
   "execution_count": 15,
   "id": "87b577c7-beb0-40a3-88fa-4c3bcb0b3a59",
   "metadata": {},
   "outputs": [],
   "source": [
    "# Look for correlations or anti correlations with the target of more than 70%\n",
    "#pearson[\"TARGET\"].loc[(pearson[\"TARGET\"] > 0.7) | (pearson[\"TARGET\"] < -0.7)]"
   ]
  },
  {
   "cell_type": "markdown",
   "id": "1d3142e6-db99-49e9-9335-7f7a51d091b7",
   "metadata": {},
   "source": [
    "Aucune correlation ne semble trop importante avec notre cible !"
   ]
  },
  {
   "cell_type": "markdown",
   "id": "82a0e3b7-96e8-4c6d-854b-b49f697bb194",
   "metadata": {},
   "source": [
    "# Métriques d'évaluation"
   ]
  },
  {
   "cell_type": "markdown",
   "id": "35aa0e9f-0c7d-44e4-a52b-6c062972d497",
   "metadata": {},
   "source": [
    "Afin de nous adapter au mieux à la problématique métier, nous allons définir une fonction afin de calculer un \"score métier\".\n",
    "\n",
    "En effet, il existe un déséquilibre du coût métier entre un faux négatif (un mauvais client prédit comme bon client : donc crédit accordé et perte de capital) et un faux positif (bon client prédit mauvais : refus de crédit et donc manque à gagner en marge). On suppose que le coût d'un faux négatif est 10 fois supérieur à celui d'un faux positif.\n",
    "\n",
    "Pour cela, nous calculerons un \"gain\" que fera la société comme suit :\n",
    "* les vrais positifs : les bons clients rapportent de l'argent et sont donc pondérés à 1\n",
    "* les faux positifs : bon client refusé à tort, la banque ne gagne pas l'argent qu'elle aurait pu. Nous appliquerons une pondération de -1\n",
    "* les faux négatifs : mauvais client : la banque perd l'argent du prêt, soit 10 fois plus que dans le cas d'un vrai positif. Nous appliquerons une pondération de -10\n",
    "* les vrais négatifs ne rapportent pas d'argent et n'en font pas perdre non plus donc sont ignorés\n",
    "\n",
    "Note : les coéfficients de pondération seront éventuellemnt à modifier selon les observations effectuées sur le comportement lors de l'entrainement des modèles."
   ]
  },
  {
   "cell_type": "code",
   "execution_count": 16,
   "id": "9cb0d4eb-32a6-477d-80b4-fb4f4160179b",
   "metadata": {},
   "outputs": [],
   "source": [
    "def compute_business_score(y_true, y_pred, tp_coeff = 1, fn_coeff=-1, fp_coeff=-10):\n",
    "    \"\"\"\n",
    "    Compute a business score to evaluate our models\n",
    "    Goal : penalize false negative compared to false positive\n",
    "    --------------------\n",
    "    Arguments :\n",
    "        y_true : array-like : correct values\n",
    "        y_pred : array-like : predicted values\n",
    "        tp_coeff : optionnal, float : coefficient to apply to true positive values\n",
    "        fn_coeff : optionnal, float : coefficient to apply to false negative values\n",
    "        fp_coeff : optionnal, float : coefficient to apply to false positive values\n",
    "    --------------------\n",
    "    \"\"\"\n",
    "    # Compute confusion matrix\n",
    "    tn, fp, fn, tp = confusion_matrix(y_true, y_pred).ravel()\n",
    "    \n",
    "    score = tp_coeff*tp + fp_coeff*fp + fn_coeff*fn\n",
    "    return score"
   ]
  },
  {
   "cell_type": "markdown",
   "id": "7b1697db-ea9e-42ff-a713-8b3b964e09d6",
   "metadata": {},
   "source": [
    "Testons notre fonction avec plusieurs listes de valeurs :\n",
    "* valeurs vraies : [0, 1, 1]\n",
    "* introduction d'un faux positif : [1, 1, 1]\n",
    "* introduction d'un faux négatif : [0, 1, 0]"
   ]
  },
  {
   "cell_type": "code",
   "execution_count": 17,
   "id": "36f72718-3f68-4ed2-81d3-4ae75c403cf7",
   "metadata": {},
   "outputs": [],
   "source": [
    "# Define list of values\n",
    "correct_values = [0, 1, 1]\n",
    "false_positive_values = [1, 1, 1]\n",
    "false_negative_values = [0, 1, 0]\n",
    "\n",
    "# Compute scores\n",
    "perfect_score = compute_business_score(correct_values, correct_values)\n",
    "fp_score = compute_business_score(correct_values, false_positive_values)\n",
    "fn_score = compute_business_score(correct_values, false_negative_values)"
   ]
  },
  {
   "cell_type": "code",
   "execution_count": 18,
   "id": "4d66c3fa-35bc-4864-9859-c05265a66275",
   "metadata": {},
   "outputs": [
    {
     "data": {
      "text/plain": [
       "2"
      ]
     },
     "execution_count": 18,
     "metadata": {},
     "output_type": "execute_result"
    }
   ],
   "source": [
    "perfect_score"
   ]
  },
  {
   "cell_type": "code",
   "execution_count": 19,
   "id": "ffcfb4aa-3aaa-4e46-896b-abf2eff58068",
   "metadata": {},
   "outputs": [
    {
     "data": {
      "text/plain": [
       "-8"
      ]
     },
     "execution_count": 19,
     "metadata": {},
     "output_type": "execute_result"
    }
   ],
   "source": [
    "fp_score"
   ]
  },
  {
   "cell_type": "code",
   "execution_count": 20,
   "id": "bad1e763-8c08-421e-aeb4-8892b2615be7",
   "metadata": {},
   "outputs": [
    {
     "data": {
      "text/plain": [
       "0"
      ]
     },
     "execution_count": 20,
     "metadata": {},
     "output_type": "execute_result"
    }
   ],
   "source": [
    "fn_score"
   ]
  },
  {
   "cell_type": "markdown",
   "id": "1f4dfb4f-2819-493b-b59c-63caf634ac0f",
   "metadata": {},
   "source": [
    "On constate bien que notre score diminue fortement en présence d'un faux négatif comme attendu, à l'inverse du score avec un faux positif qui diminue nettement moins."
   ]
  },
  {
   "cell_type": "markdown",
   "id": "0e75a953-6403-479f-b329-7259eed10c3e",
   "metadata": {},
   "source": [
    "Associé à notre fonction métier, nous mettrons également en oeuvre les métriques d'évalutation suivantes :\n",
    "* l'aire sous la courbe ROC\n",
    "* le temps d'entrainement"
   ]
  },
  {
   "cell_type": "code",
   "execution_count": 21,
   "id": "eb1e0ff9-481e-4e3c-861e-976429732605",
   "metadata": {},
   "outputs": [],
   "source": [
    "# Defining scoring dict to apply in the models training\n",
    "scoring = {\n",
    "    \"business\": make_scorer(compute_business_score),\n",
    "    \"rocauc\": make_scorer(roc_auc_score),\n",
    "}"
   ]
  },
  {
   "cell_type": "markdown",
   "id": "806d183f-dc63-48f1-bbce-0d2273a43d25",
   "metadata": {},
   "source": [
    "# Déséquilibre des classes"
   ]
  },
  {
   "cell_type": "markdown",
   "id": "606c72ce-e2be-4945-9b5c-e4b26ea4b9f5",
   "metadata": {},
   "source": [
    "Analysons le déséquilibre des classes."
   ]
  },
  {
   "cell_type": "code",
   "execution_count": 22,
   "id": "2e9607d5-ad69-45ac-a053-45d3d09ba9cb",
   "metadata": {},
   "outputs": [
    {
     "data": {
      "image/png": "[encoded data removed]",
      "text/plain": [
       "<Figure size 640x480 with 1 Axes>"
      ]
     },
     "metadata": {},
     "output_type": "display_data"
    }
   ],
   "source": [
    "# Create a plot of the target classes\n",
    "fig = plt.figure()\n",
    "# Calculate the percentage of each class and plot it into a pie\n",
    "plt.pie(train_df[\"TARGET\"].value_counts()/train_df.shape[0]*100,\n",
    "        autopct='%1.1f%%',\n",
    "        labels=[\"Bons clients\", \"Mauvais clients\"]\n",
    "       )\n",
    "plt.title('Pourcentage de prêts remboursés')\n",
    "plt.show()"
   ]
  },
  {
   "cell_type": "markdown",
   "id": "e05d141b-d5a8-4f81-820a-07dc1ac60122",
   "metadata": {},
   "source": [
    "Comme spécifié, nous sommes face à un déséquilibre important des classes, nous devrons mettre en oeuvre une méthode de rééquilibrage afin d'élaborer un modèle pertinent.\n",
    "\n",
    "Pour cela, nous allons utiliser une combinaison d'oversampling et d'undersampling. Pour l'oversampling, nous doublerons le nombre d'échantillons de la classe minoritaire pour atteindre une répartition de 80/20. Ensuite nous appliquerons l'undersampling pour avoir une répartition où le nombre d'échantillons de la classe minoritaire est deux fois moindre que celui de la classe majoritaire."
   ]
  },
  {
   "cell_type": "code",
   "execution_count": 23,
   "id": "127e50b7-22fc-40ad-a2ec-2d6b2d48df88",
   "metadata": {},
   "outputs": [],
   "source": [
    "# Define our oversampling and undersampling objects\n",
    "oversampler = SMOTE(sampling_strategy=0.2, k_neighbors=5, random_state=8)\n",
    "undersampler = RandomUnderSampler(sampling_strategy=0.5, random_state=8)\n",
    "\n",
    "# Create a pipeline to manage balancing\n",
    "balancer = Pipeline([\n",
    "    (\"imputer\", SimpleImputer()),\n",
    "    (\"oversampler\", oversampler),\n",
    "    (\"undersampler\", undersampler)\n",
    "])"
   ]
  },
  {
   "cell_type": "code",
   "execution_count": 24,
   "id": "eda5b81e-35eb-4cf7-9d37-3cbd235b54be",
   "metadata": {},
   "outputs": [],
   "source": [
    "# Split features and target\n",
    "X_test_smote = train_df.drop(\"TARGET\", axis=1)\n",
    "y_test_smote = train_df[\"TARGET\"]\n",
    "\n",
    "# Rebalance classes\n",
    "X_test_smote, y_test_smote = balancer.fit_resample(X_test_smote, y_test_smote)\n",
    "\n",
    "# Print number of values for each classes \n",
    "y_test_smote.value_counts()\n",
    "\n",
    "# Delete unecessary variables to free up memory\n",
    "del X_test_smote, y_test_smote"
   ]
  },
  {
   "cell_type": "markdown",
   "id": "c19ac406-9b86-476b-bb4f-3397395b6a92",
   "metadata": {},
   "source": [
    "Afin d'éviter tout risque de data leakage, nous implémenterons SMOTE dans un pipeline lors de la définition de nos modèles."
   ]
  },
  {
   "cell_type": "markdown",
   "id": "4fc9979d-c3d1-4d6f-97af-e5f38d6aa859",
   "metadata": {},
   "source": [
    "# Modélisation"
   ]
  },
  {
   "cell_type": "markdown",
   "id": "fac04ad4-152b-45f7-a998-fa38d6d81018",
   "metadata": {},
   "source": [
    "Pour trouver le modèle présentant le plus d'intérêt et donc celui à optimiser, nous allons en mettre 3 à l'épreuve :\n",
    "* tout d'abord un DummyClassifier afin d'avoir une baseline\n",
    "* un LogisticRegression\n",
    "* un LGBMClassifier\n",
    "\n",
    "Pour chacun de ces modèles, nous définirons un pipeline comme suit :\n",
    "* Rééquilibrage des classes\n",
    "* Modèle\n",
    "\n",
    "Le modèle sera évalué sur le scoring métier, néanmoins, nous calculerons l'aire sous la courbe ROC ainsi que le temps d'entrainement.\n",
    "\n",
    "Pour cela, nous utiliserons une fonction qui nous permettra de faire une cross validation à l'aide d'un StratifiedKFold afin d'avoir plusieurs échantillons d'entrainement et de test."
   ]
  },
  {
   "cell_type": "code",
   "execution_count": 25,
   "id": "582685fe-3d95-4d10-8485-888444e4f54a",
   "metadata": {},
   "outputs": [],
   "source": [
    "# Select a sample of our dataframe\n",
    "sampled_df = train_df.sample(n=50000)\n",
    "\n",
    "# Split target and features\n",
    "X = sampled_df.drop(\"TARGET\", axis=1)\n",
    "y = sampled_df[\"TARGET\"]"
   ]
  },
  {
   "cell_type": "code",
   "execution_count": 26,
   "id": "8fb34598-5104-479d-a207-eadc2b27fdd1",
   "metadata": {},
   "outputs": [
    {
     "name": "stderr",
     "output_type": "stream",
     "text": [
      "2025/04/04 22:29:57 INFO mlflow.tracking.fluent: Experiment with name 'Models optimizations' does not exist. Creating a new experiment.\n"
     ]
    },
    {
     "data": {
      "text/plain": [
       "<Experiment: artifact_location='mlflow-artifacts:/793816252497484758', creation_time=1743798597483, experiment_id='793816252497484758', last_update_time=1743798597483, lifecycle_stage='active', name='Models optimizations', tags={}>"
      ]
     },
     "execution_count": 26,
     "metadata": {},
     "output_type": "execute_result"
    }
   ],
   "source": [
    "# Set the MLflow tracking server URI\n",
    "mlflow.set_tracking_uri(uri=\"http://127.0.0.1:8080\")\n",
    "\n",
    "# Set the MLflow registry URI\n",
    "mlflow.set_registry_uri(\"file:./mlruns\")\n",
    "\n",
    "# Create a new MLflow experiment\n",
    "mlflow.set_experiment(\"Models optimizations\")"
   ]
  },
  {
   "cell_type": "code",
   "execution_count": 27,
   "id": "5e50484b-c01e-432c-a4a7-89c4ba85a115",
   "metadata": {},
   "outputs": [],
   "source": [
    "# Create a pipeline for each model we want to test\n",
    "dummy_model = Pipeline([\n",
    "    (\"imputer\", SimpleImputer()),\n",
    "    (\"oversampler\", oversampler),\n",
    "    (\"undersampler\", undersampler),\n",
    "    (\"scaler\", StandardScaler()),\n",
    "    (\"model\", DummyClassifier(random_state=8)),\n",
    "])\n",
    "log_reg_model = Pipeline([\n",
    "    (\"imputer\", SimpleImputer()),\n",
    "    (\"oversampler\", oversampler),\n",
    "    (\"undersampler\", undersampler),\n",
    "    (\"scaler\", StandardScaler()),\n",
    "    (\"model\", LogisticRegression(random_state=8, n_jobs=-1)),\n",
    "])\n",
    "lgbm_model = Pipeline([\n",
    "    (\"imputer\", SimpleImputer()),\n",
    "    (\"oversampler\", oversampler),\n",
    "    (\"undersampler\", undersampler),\n",
    "    (\"scaler\", StandardScaler()),\n",
    "    (\"model\", LGBMClassifier(random_state=8, n_jobs=-1, verbosity=-1)),\n",
    "])\n",
    "lgbm_model_sans_smote = Pipeline([\n",
    "    (\"scaler\", StandardScaler()),\n",
    "    (\"model\", LGBMClassifier(random_state=8, n_jobs=-1, verbosity=-1)),\n",
    "])"
   ]
  },
  {
   "cell_type": "code",
   "execution_count": 28,
   "id": "080187c6-94f0-4c0e-9492-f1f8918ca7c9",
   "metadata": {},
   "outputs": [],
   "source": [
    "# Create dict for each hyperparameters to optimize to each model\n",
    "dummy_params = {}\n",
    "log_reg_params = {\n",
    "    'model__C': lambda trial: trial.suggest_float('C', 1e-4, 10.0, log=True),\n",
    "    'model__penalty': lambda trial: trial.suggest_categorical('penalty', ['l2', 'l1', 'elasticnet']),\n",
    "    'model__l1_ratio': lambda trial: trial.suggest_float('l1_ratio', 0.0, 1.0),\n",
    "    'model__max_iter': lambda trial: 2000,\n",
    "    \"model__solver\": lambda trial: 'saga',\n",
    "}\n",
    "lgbm_params = {\n",
    "    'model__class_weight': lambda trial: \"balanced\",\n",
    "    'model__boosting_type': lambda trial: trial.suggest_categorical('boosting_type', ['gbdt', 'dart', 'rf']),\n",
    "    'model__learning_rate': lambda trial: trial.suggest_float('learning_rate', 0.01, 0.3),\n",
    "    'model__num_leaves': lambda trial: trial.suggest_int('num_leaves', 15, 100),\n",
    "    'model__max_depth': lambda trial: trial.suggest_int('max_depth', 3, 10),\n",
    "    'model__min_child_samples': lambda trial: trial.suggest_int('min_child_samples', 10, 50),\n",
    "    'model__subsample': lambda trial: trial.suggest_float('subsample', 0.5, 1.0),\n",
    "    'model__colsample_bytree': lambda trial: trial.suggest_float('colsample_bytree', 0.5, 1.0),\n",
    "    'model__reg_alpha': lambda trial: trial.suggest_float('reg_alpha', 0.0, 1.0),\n",
    "    'model__reg_lambda': lambda trial: trial.suggest_float('reg_lambda', 0.0, 1.0),\n",
    "}"
   ]
  },
  {
   "cell_type": "code",
   "execution_count": 29,
   "id": "81987ee9-34db-4f40-9741-5d0b0e9cb9f1",
   "metadata": {},
   "outputs": [],
   "source": [
    "# Create a dictionnary for all of our models\n",
    "models_dict = {\n",
    "    \"DummyClassifier\": {\n",
    "        \"model\": dummy_model,\n",
    "        \"params\": dummy_params,\n",
    "    },\n",
    "    \"LogisticRegression\": {\n",
    "        \"model\": log_reg_model,\n",
    "        \"params\": log_reg_params,\n",
    "    },\n",
    "    \"LGBMClassifier\": {\n",
    "        \"model\": lgbm_model,\n",
    "        \"params\": lgbm_params,\n",
    "    },\n",
    "    \"LGBMClassifier sans SMOTE\": {\n",
    "        \"model\": lgbm_model_sans_smote,\n",
    "        \"params\": lgbm_params,\n",
    "    },\n",
    "}"
   ]
  },
  {
   "cell_type": "code",
   "execution_count": 33,
   "id": "2ea8446d-061f-4db7-9fd3-423f9acc0cce",
   "metadata": {},
   "outputs": [],
   "source": [
    "# Create a dictionnary for all of our models\n",
    "models_dict = {\n",
    "    \"LGBMClassifier\": {\n",
    "        \"model\": lgbm_model,\n",
    "        \"params\": lgbm_params,\n",
    "    },\n",
    "    \"LGBMClassifier sans SMOTE\": {\n",
    "        \"model\": lgbm_model_sans_smote,\n",
    "        \"params\": lgbm_params,\n",
    "    },\n",
    "}"
   ]
  },
  {
   "cell_type": "markdown",
   "id": "fef072ef-344b-42ad-8e7e-1f7488a5a483",
   "metadata": {},
   "source": [
    "# Optuna "
   ]
  },
  {
   "cell_type": "markdown",
   "id": "b743f19c-d000-4f80-b789-1b31f30105a9",
   "metadata": {},
   "source": [
    "Pour mettre en place optuna, nous allons définir un certain nombre de mécanisme :\n",
    "* tout d'abord nous allons configurer optuna pour ne logguer que les erreurs afin de ne pas être submergé d'informations\n",
    "* ensuite nous définirons une fonction permettant de nous alerter lorsqu'un essai aura des résultats qui améliorent les résultats précédents"
   ]
  },
  {
   "cell_type": "code",
   "execution_count": 30,
   "id": "ff19b4b0-eb22-401c-a4eb-b87615e4be63",
   "metadata": {},
   "outputs": [],
   "source": [
    "# Override optuna's default logging to CRITICAL only\n",
    "optuna.logging.set_verbosity(optuna.logging.CRITICAL)\n",
    "\n",
    "# Define a logging callback that will report on only new challenger parameter configurations if a\n",
    "# trial has usurped the state of 'best conditions'\n",
    "def champion_callback(study, frozen_trial):\n",
    "  \"\"\"\n",
    "  Logging callback that will report when a new trial iteration improves upon existing\n",
    "  best trial values.\n",
    "  \"\"\"\n",
    "  winner = study.user_attrs.get(\"winner\", None)\n",
    "\n",
    "  if study.best_value and winner != study.best_value:\n",
    "      study.set_user_attr(\"winner\", study.best_value)\n",
    "      if winner:\n",
    "          improvement_percent = (abs(winner - study.best_value) / study.best_value) * 100\n",
    "          print(\n",
    "              f\"Trial {frozen_trial.number} achieved value: {frozen_trial.value} with \"\n",
    "              f\"{improvement_percent: .4f}% improvement\"\n",
    "          )\n",
    "      else:\n",
    "          print(f\"Initial trial {frozen_trial.number} achieved value: {frozen_trial.value}\")"
   ]
  },
  {
   "cell_type": "code",
   "execution_count": 31,
   "id": "5d4913b7-8f74-4f7f-98df-187844b80b79",
   "metadata": {},
   "outputs": [],
   "source": [
    "def compute_model_scores(model, param_grid, model_name, features, target, scoring):\n",
    "    \"\"\"\n",
    "    Create folds in the data to make a cross_validation when training the model\n",
    "    --------------------\n",
    "    Arguments :\n",
    "        model : Pipeline : pipeline of the model to train and evaluate\n",
    "        param_grid : dict : the list of parameters to apply to the model\n",
    "        model_name : str : the name of the model\n",
    "        features : array-like of shape (n_samples, n_features) : training data\n",
    "        target : array-like of shape (n_samples,) : target variable\n",
    "        scoring : dict: the scoring dict\n",
    "    --------------------\n",
    "    \"\"\"\n",
    "    def objective(trial):\n",
    "        # Train model with MLflow tracking\n",
    "        with mlflow.start_run(nested=True):\n",
    "            # Evaluate each lambda to obtain the different parameters\n",
    "            params = {param: param_fn(trial) for param, param_fn in param_grid.items()}\n",
    "        \n",
    "            # Implement the StratifiedKFold\n",
    "            skf = StratifiedKFold(n_splits=10, shuffle=True, random_state=8)\n",
    "            # Split the data\n",
    "            split = skf.split(features, target)\n",
    "            \n",
    "            # Use cross_validate to find best parameters\n",
    "            model.set_params(**params)\n",
    "            scores = cross_validate(\n",
    "                model, features, target, cv=skf, scoring=scoring, return_train_score=True\n",
    "            )\n",
    "    \n",
    "            # Infer the model signature\n",
    "            signature = infer_signature(\n",
    "                model_input=features, params=params,\n",
    "            )\n",
    "    \n",
    "            # Set tags of the model\n",
    "            mlflow.set_tag(\"model\", model_name)\n",
    "            mlflow.set_tag(\"mlflow.runName\", f\"{model_name}_{datetime.now().strftime(\"%Y%m%d%H%M%S\")}\")\n",
    "            mlflow.set_tag(\"search_method\", \"Optuna\")\n",
    "            \n",
    "            # Log the best params found\n",
    "            mlflow.log_params(params)\n",
    "    \n",
    "            # Get metrics\n",
    "            fit_time = scores[\"fit_time\"].mean()\n",
    "            train_business = scores[\"train_business\"].mean()\n",
    "            test_business = scores[\"test_business\"].mean()\n",
    "            train_rocauc = scores[\"train_rocauc\"].mean()\n",
    "            test_rocauc = scores[\"test_rocauc\"].mean()\n",
    "            \n",
    "            # Log metrics\n",
    "            mlflow.log_metric(\"fit_time\", fit_time)\n",
    "            mlflow.log_metric(\"train_business\", train_business)\n",
    "            mlflow.log_metric(\"test_business\", test_business)\n",
    "            mlflow.log_metric(\"train_ROCAUC\", train_rocauc)\n",
    "            mlflow.log_metric(\"test_ROCAUC\", test_rocauc)\n",
    "    \n",
    "            # Log the model\n",
    "            mlflow.sklearn.log_model(\n",
    "                sk_model=model, \n",
    "                artifact_path=model_name,\n",
    "                signature=signature,\n",
    "                registered_model_name=model_name\n",
    "            )\n",
    "\n",
    "        return test_business\n",
    "    return objective"
   ]
  },
  {
   "cell_type": "code",
   "execution_count": null,
   "id": "78d35f8e-0724-49bf-9ad6-bc3a9d478cdb",
   "metadata": {
    "scrolled": true
   },
   "outputs": [
    {
     "name": "stderr",
     "output_type": "stream",
     "text": [
      "/home/lalende/.local/share/pipx/venvs/notebook/lib/python3.12/site-packages/mlflow/types/utils.py:452: UserWarning: Hint: Inferred schema contains integer column(s). Integer columns in Python cannot represent missing values. If your input data contains missing values at inference time, it will be encoded as floats and will cause a schema enforcement error. The best way to avoid this problem is to infer the model schema based on a realistic data sample (training dataset) that includes missing values. Alternatively, you can declare integer columns as doubles (float64) whenever these columns may have missing values. See `Handling Integers With Missing Values <https://www.mlflow.org/docs/latest/models.html#handling-integers-with-missing-values>`_ for more details.\n",
      "  warnings.warn(\n",
      "Successfully registered model 'LGBMClassifier'.\n",
      "Created version '1' of model 'LGBMClassifier'.\n"
     ]
    },
    {
     "name": "stdout",
     "output_type": "stream",
     "text": [
      "🏃 View run LGBMClassifier_20250405084247 at: http://127.0.0.1:8080/#/experiments/793816252497484758/runs/75b6b60fe61e47268e0ee377dcb340aa\n",
      "🧪 View experiment at: http://127.0.0.1:8080/#/experiments/793816252497484758\n",
      "Initial trial 0 achieved value: -4841.8\n"
     ]
    },
    {
     "name": "stderr",
     "output_type": "stream",
     "text": [
      "/home/lalende/.local/share/pipx/venvs/notebook/lib/python3.12/site-packages/mlflow/types/utils.py:452: UserWarning: Hint: Inferred schema contains integer column(s). Integer columns in Python cannot represent missing values. If your input data contains missing values at inference time, it will be encoded as floats and will cause a schema enforcement error. The best way to avoid this problem is to infer the model schema based on a realistic data sample (training dataset) that includes missing values. Alternatively, you can declare integer columns as doubles (float64) whenever these columns may have missing values. See `Handling Integers With Missing Values <https://www.mlflow.org/docs/latest/models.html#handling-integers-with-missing-values>`_ for more details.\n",
      "  warnings.warn(\n",
      "Registered model 'LGBMClassifier' already exists. Creating a new version of this model...\n",
      "Created version '2' of model 'LGBMClassifier'.\n"
     ]
    },
    {
     "name": "stdout",
     "output_type": "stream",
     "text": [
      "🏃 View run LGBMClassifier_20250405084355 at: http://127.0.0.1:8080/#/experiments/793816252497484758/runs/a9347ad69e0d43caaaf182663e693476\n",
      "🧪 View experiment at: http://127.0.0.1:8080/#/experiments/793816252497484758\n"
     ]
    },
    {
     "name": "stderr",
     "output_type": "stream",
     "text": [
      "/home/lalende/.local/share/pipx/venvs/notebook/lib/python3.12/site-packages/mlflow/types/utils.py:452: UserWarning: Hint: Inferred schema contains integer column(s). Integer columns in Python cannot represent missing values. If your input data contains missing values at inference time, it will be encoded as floats and will cause a schema enforcement error. The best way to avoid this problem is to infer the model schema based on a realistic data sample (training dataset) that includes missing values. Alternatively, you can declare integer columns as doubles (float64) whenever these columns may have missing values. See `Handling Integers With Missing Values <https://www.mlflow.org/docs/latest/models.html#handling-integers-with-missing-values>`_ for more details.\n",
      "  warnings.warn(\n",
      "Registered model 'LGBMClassifier' already exists. Creating a new version of this model...\n",
      "Created version '3' of model 'LGBMClassifier'.\n"
     ]
    },
    {
     "name": "stdout",
     "output_type": "stream",
     "text": [
      "🏃 View run LGBMClassifier_20250405084505 at: http://127.0.0.1:8080/#/experiments/793816252497484758/runs/359ce033a966417f9e3b24aad3134de7\n",
      "🧪 View experiment at: http://127.0.0.1:8080/#/experiments/793816252497484758\n"
     ]
    },
    {
     "name": "stderr",
     "output_type": "stream",
     "text": [
      "/home/lalende/.local/share/pipx/venvs/notebook/lib/python3.12/site-packages/mlflow/types/utils.py:452: UserWarning: Hint: Inferred schema contains integer column(s). Integer columns in Python cannot represent missing values. If your input data contains missing values at inference time, it will be encoded as floats and will cause a schema enforcement error. The best way to avoid this problem is to infer the model schema based on a realistic data sample (training dataset) that includes missing values. Alternatively, you can declare integer columns as doubles (float64) whenever these columns may have missing values. See `Handling Integers With Missing Values <https://www.mlflow.org/docs/latest/models.html#handling-integers-with-missing-values>`_ for more details.\n",
      "  warnings.warn(\n",
      "Registered model 'LGBMClassifier' already exists. Creating a new version of this model...\n",
      "Created version '4' of model 'LGBMClassifier'.\n"
     ]
    },
    {
     "name": "stdout",
     "output_type": "stream",
     "text": [
      "🏃 View run LGBMClassifier_20250405084604 at: http://127.0.0.1:8080/#/experiments/793816252497484758/runs/65887e79c8d8497bb52280eacadc2843\n",
      "🧪 View experiment at: http://127.0.0.1:8080/#/experiments/793816252497484758\n"
     ]
    },
    {
     "name": "stderr",
     "output_type": "stream",
     "text": [
      "/home/lalende/.local/share/pipx/venvs/notebook/lib/python3.12/site-packages/mlflow/types/utils.py:452: UserWarning: Hint: Inferred schema contains integer column(s). Integer columns in Python cannot represent missing values. If your input data contains missing values at inference time, it will be encoded as floats and will cause a schema enforcement error. The best way to avoid this problem is to infer the model schema based on a realistic data sample (training dataset) that includes missing values. Alternatively, you can declare integer columns as doubles (float64) whenever these columns may have missing values. See `Handling Integers With Missing Values <https://www.mlflow.org/docs/latest/models.html#handling-integers-with-missing-values>`_ for more details.\n",
      "  warnings.warn(\n",
      "Registered model 'LGBMClassifier' already exists. Creating a new version of this model...\n",
      "Created version '5' of model 'LGBMClassifier'.\n"
     ]
    },
    {
     "name": "stdout",
     "output_type": "stream",
     "text": [
      "🏃 View run LGBMClassifier_20250405084723 at: http://127.0.0.1:8080/#/experiments/793816252497484758/runs/d3701a3f0e054f35b752ddd92b6064d2\n",
      "🧪 View experiment at: http://127.0.0.1:8080/#/experiments/793816252497484758\n",
      "Trial 4 achieved value: -3818.4 with -26.8018% improvement\n"
     ]
    },
    {
     "name": "stderr",
     "output_type": "stream",
     "text": [
      "/home/lalende/.local/share/pipx/venvs/notebook/lib/python3.12/site-packages/mlflow/types/utils.py:452: UserWarning: Hint: Inferred schema contains integer column(s). Integer columns in Python cannot represent missing values. If your input data contains missing values at inference time, it will be encoded as floats and will cause a schema enforcement error. The best way to avoid this problem is to infer the model schema based on a realistic data sample (training dataset) that includes missing values. Alternatively, you can declare integer columns as doubles (float64) whenever these columns may have missing values. See `Handling Integers With Missing Values <https://www.mlflow.org/docs/latest/models.html#handling-integers-with-missing-values>`_ for more details.\n",
      "  warnings.warn(\n",
      "Registered model 'LGBMClassifier' already exists. Creating a new version of this model...\n",
      "Created version '6' of model 'LGBMClassifier'.\n"
     ]
    },
    {
     "name": "stdout",
     "output_type": "stream",
     "text": [
      "🏃 View run LGBMClassifier_20250405084834 at: http://127.0.0.1:8080/#/experiments/793816252497484758/runs/414edb49a9984928b1bb854d4d385829\n",
      "🧪 View experiment at: http://127.0.0.1:8080/#/experiments/793816252497484758\n"
     ]
    },
    {
     "name": "stderr",
     "output_type": "stream",
     "text": [
      "/home/lalende/.local/share/pipx/venvs/notebook/lib/python3.12/site-packages/mlflow/types/utils.py:452: UserWarning: Hint: Inferred schema contains integer column(s). Integer columns in Python cannot represent missing values. If your input data contains missing values at inference time, it will be encoded as floats and will cause a schema enforcement error. The best way to avoid this problem is to infer the model schema based on a realistic data sample (training dataset) that includes missing values. Alternatively, you can declare integer columns as doubles (float64) whenever these columns may have missing values. See `Handling Integers With Missing Values <https://www.mlflow.org/docs/latest/models.html#handling-integers-with-missing-values>`_ for more details.\n",
      "  warnings.warn(\n",
      "Registered model 'LGBMClassifier' already exists. Creating a new version of this model...\n",
      "Created version '7' of model 'LGBMClassifier'.\n"
     ]
    },
    {
     "name": "stdout",
     "output_type": "stream",
     "text": [
      "🏃 View run LGBMClassifier_20250405084926 at: http://127.0.0.1:8080/#/experiments/793816252497484758/runs/623a1f99945c4a728f8f8ae831cadefa\n",
      "🧪 View experiment at: http://127.0.0.1:8080/#/experiments/793816252497484758\n"
     ]
    },
    {
     "name": "stderr",
     "output_type": "stream",
     "text": [
      "/home/lalende/.local/share/pipx/venvs/notebook/lib/python3.12/site-packages/mlflow/types/utils.py:452: UserWarning: Hint: Inferred schema contains integer column(s). Integer columns in Python cannot represent missing values. If your input data contains missing values at inference time, it will be encoded as floats and will cause a schema enforcement error. The best way to avoid this problem is to infer the model schema based on a realistic data sample (training dataset) that includes missing values. Alternatively, you can declare integer columns as doubles (float64) whenever these columns may have missing values. See `Handling Integers With Missing Values <https://www.mlflow.org/docs/latest/models.html#handling-integers-with-missing-values>`_ for more details.\n",
      "  warnings.warn(\n",
      "Registered model 'LGBMClassifier' already exists. Creating a new version of this model...\n",
      "Created version '8' of model 'LGBMClassifier'.\n"
     ]
    },
    {
     "name": "stdout",
     "output_type": "stream",
     "text": [
      "🏃 View run LGBMClassifier_20250405085023 at: http://127.0.0.1:8080/#/experiments/793816252497484758/runs/c54824e9b2e2436aad9bcb728ce6a46b\n",
      "🧪 View experiment at: http://127.0.0.1:8080/#/experiments/793816252497484758\n"
     ]
    },
    {
     "name": "stderr",
     "output_type": "stream",
     "text": [
      "/home/lalende/.local/share/pipx/venvs/notebook/lib/python3.12/site-packages/mlflow/types/utils.py:452: UserWarning: Hint: Inferred schema contains integer column(s). Integer columns in Python cannot represent missing values. If your input data contains missing values at inference time, it will be encoded as floats and will cause a schema enforcement error. The best way to avoid this problem is to infer the model schema based on a realistic data sample (training dataset) that includes missing values. Alternatively, you can declare integer columns as doubles (float64) whenever these columns may have missing values. See `Handling Integers With Missing Values <https://www.mlflow.org/docs/latest/models.html#handling-integers-with-missing-values>`_ for more details.\n",
      "  warnings.warn(\n",
      "Registered model 'LGBMClassifier' already exists. Creating a new version of this model...\n",
      "Created version '9' of model 'LGBMClassifier'.\n"
     ]
    },
    {
     "name": "stdout",
     "output_type": "stream",
     "text": [
      "🏃 View run LGBMClassifier_20250405085122 at: http://127.0.0.1:8080/#/experiments/793816252497484758/runs/8bfe71ec4e444c4e83a2c88154ae02ac\n",
      "🧪 View experiment at: http://127.0.0.1:8080/#/experiments/793816252497484758\n"
     ]
    },
    {
     "name": "stderr",
     "output_type": "stream",
     "text": [
      "/home/lalende/.local/share/pipx/venvs/notebook/lib/python3.12/site-packages/mlflow/types/utils.py:452: UserWarning: Hint: Inferred schema contains integer column(s). Integer columns in Python cannot represent missing values. If your input data contains missing values at inference time, it will be encoded as floats and will cause a schema enforcement error. The best way to avoid this problem is to infer the model schema based on a realistic data sample (training dataset) that includes missing values. Alternatively, you can declare integer columns as doubles (float64) whenever these columns may have missing values. See `Handling Integers With Missing Values <https://www.mlflow.org/docs/latest/models.html#handling-integers-with-missing-values>`_ for more details.\n",
      "  warnings.warn(\n",
      "Registered model 'LGBMClassifier' already exists. Creating a new version of this model...\n",
      "Created version '10' of model 'LGBMClassifier'.\n"
     ]
    },
    {
     "name": "stdout",
     "output_type": "stream",
     "text": [
      "🏃 View run LGBMClassifier_20250405085235 at: http://127.0.0.1:8080/#/experiments/793816252497484758/runs/5d93ca5bed49489cac7c31fbee31c7a3\n",
      "🧪 View experiment at: http://127.0.0.1:8080/#/experiments/793816252497484758\n",
      "Trial 9 achieved value: -3772.8 with -1.2087% improvement\n"
     ]
    },
    {
     "name": "stderr",
     "output_type": "stream",
     "text": [
      "/home/lalende/.local/share/pipx/venvs/notebook/lib/python3.12/site-packages/mlflow/types/utils.py:452: UserWarning: Hint: Inferred schema contains integer column(s). Integer columns in Python cannot represent missing values. If your input data contains missing values at inference time, it will be encoded as floats and will cause a schema enforcement error. The best way to avoid this problem is to infer the model schema based on a realistic data sample (training dataset) that includes missing values. Alternatively, you can declare integer columns as doubles (float64) whenever these columns may have missing values. See `Handling Integers With Missing Values <https://www.mlflow.org/docs/latest/models.html#handling-integers-with-missing-values>`_ for more details.\n",
      "  warnings.warn(\n",
      "Registered model 'LGBMClassifier' already exists. Creating a new version of this model...\n",
      "Created version '11' of model 'LGBMClassifier'.\n"
     ]
    },
    {
     "name": "stdout",
     "output_type": "stream",
     "text": [
      "🏃 View run LGBMClassifier_20250405085349 at: http://127.0.0.1:8080/#/experiments/793816252497484758/runs/e844ff43c82d4161bb60a285c25bb8a8\n",
      "🧪 View experiment at: http://127.0.0.1:8080/#/experiments/793816252497484758\n",
      "Trial 10 achieved value: -3686.0 with -2.3549% improvement\n"
     ]
    },
    {
     "name": "stderr",
     "output_type": "stream",
     "text": [
      "/home/lalende/.local/share/pipx/venvs/notebook/lib/python3.12/site-packages/mlflow/types/utils.py:452: UserWarning: Hint: Inferred schema contains integer column(s). Integer columns in Python cannot represent missing values. If your input data contains missing values at inference time, it will be encoded as floats and will cause a schema enforcement error. The best way to avoid this problem is to infer the model schema based on a realistic data sample (training dataset) that includes missing values. Alternatively, you can declare integer columns as doubles (float64) whenever these columns may have missing values. See `Handling Integers With Missing Values <https://www.mlflow.org/docs/latest/models.html#handling-integers-with-missing-values>`_ for more details.\n",
      "  warnings.warn(\n",
      "Registered model 'LGBMClassifier' already exists. Creating a new version of this model...\n",
      "Created version '12' of model 'LGBMClassifier'.\n"
     ]
    },
    {
     "name": "stdout",
     "output_type": "stream",
     "text": [
      "🏃 View run LGBMClassifier_20250405085503 at: http://127.0.0.1:8080/#/experiments/793816252497484758/runs/d915d2ab7cb6433cad18052491e5d8e3\n",
      "🧪 View experiment at: http://127.0.0.1:8080/#/experiments/793816252497484758\n"
     ]
    },
    {
     "name": "stderr",
     "output_type": "stream",
     "text": [
      "/home/lalende/.local/share/pipx/venvs/notebook/lib/python3.12/site-packages/mlflow/types/utils.py:452: UserWarning: Hint: Inferred schema contains integer column(s). Integer columns in Python cannot represent missing values. If your input data contains missing values at inference time, it will be encoded as floats and will cause a schema enforcement error. The best way to avoid this problem is to infer the model schema based on a realistic data sample (training dataset) that includes missing values. Alternatively, you can declare integer columns as doubles (float64) whenever these columns may have missing values. See `Handling Integers With Missing Values <https://www.mlflow.org/docs/latest/models.html#handling-integers-with-missing-values>`_ for more details.\n",
      "  warnings.warn(\n",
      "Registered model 'LGBMClassifier' already exists. Creating a new version of this model...\n",
      "Created version '13' of model 'LGBMClassifier'.\n"
     ]
    },
    {
     "name": "stdout",
     "output_type": "stream",
     "text": [
      "🏃 View run LGBMClassifier_20250405085618 at: http://127.0.0.1:8080/#/experiments/793816252497484758/runs/f65d24b923094f068e6f1e22439d1beb\n",
      "🧪 View experiment at: http://127.0.0.1:8080/#/experiments/793816252497484758\n"
     ]
    },
    {
     "name": "stderr",
     "output_type": "stream",
     "text": [
      "/home/lalende/.local/share/pipx/venvs/notebook/lib/python3.12/site-packages/mlflow/types/utils.py:452: UserWarning: Hint: Inferred schema contains integer column(s). Integer columns in Python cannot represent missing values. If your input data contains missing values at inference time, it will be encoded as floats and will cause a schema enforcement error. The best way to avoid this problem is to infer the model schema based on a realistic data sample (training dataset) that includes missing values. Alternatively, you can declare integer columns as doubles (float64) whenever these columns may have missing values. See `Handling Integers With Missing Values <https://www.mlflow.org/docs/latest/models.html#handling-integers-with-missing-values>`_ for more details.\n",
      "  warnings.warn(\n",
      "Registered model 'LGBMClassifier' already exists. Creating a new version of this model...\n",
      "Created version '14' of model 'LGBMClassifier'.\n"
     ]
    },
    {
     "name": "stdout",
     "output_type": "stream",
     "text": [
      "🏃 View run LGBMClassifier_20250405085729 at: http://127.0.0.1:8080/#/experiments/793816252497484758/runs/6530072dcaee47d593d47ab836c01187\n",
      "🧪 View experiment at: http://127.0.0.1:8080/#/experiments/793816252497484758\n"
     ]
    },
    {
     "name": "stderr",
     "output_type": "stream",
     "text": [
      "/home/lalende/.local/share/pipx/venvs/notebook/lib/python3.12/site-packages/mlflow/types/utils.py:452: UserWarning: Hint: Inferred schema contains integer column(s). Integer columns in Python cannot represent missing values. If your input data contains missing values at inference time, it will be encoded as floats and will cause a schema enforcement error. The best way to avoid this problem is to infer the model schema based on a realistic data sample (training dataset) that includes missing values. Alternatively, you can declare integer columns as doubles (float64) whenever these columns may have missing values. See `Handling Integers With Missing Values <https://www.mlflow.org/docs/latest/models.html#handling-integers-with-missing-values>`_ for more details.\n",
      "  warnings.warn(\n",
      "Registered model 'LGBMClassifier' already exists. Creating a new version of this model...\n",
      "Created version '15' of model 'LGBMClassifier'.\n"
     ]
    },
    {
     "name": "stdout",
     "output_type": "stream",
     "text": [
      "🏃 View run LGBMClassifier_20250405085816 at: http://127.0.0.1:8080/#/experiments/793816252497484758/runs/d93b07b969c24f9185587961e68a82c0\n",
      "🧪 View experiment at: http://127.0.0.1:8080/#/experiments/793816252497484758\n"
     ]
    },
    {
     "name": "stderr",
     "output_type": "stream",
     "text": [
      "/home/lalende/.local/share/pipx/venvs/notebook/lib/python3.12/site-packages/mlflow/types/utils.py:452: UserWarning: Hint: Inferred schema contains integer column(s). Integer columns in Python cannot represent missing values. If your input data contains missing values at inference time, it will be encoded as floats and will cause a schema enforcement error. The best way to avoid this problem is to infer the model schema based on a realistic data sample (training dataset) that includes missing values. Alternatively, you can declare integer columns as doubles (float64) whenever these columns may have missing values. See `Handling Integers With Missing Values <https://www.mlflow.org/docs/latest/models.html#handling-integers-with-missing-values>`_ for more details.\n",
      "  warnings.warn(\n",
      "Registered model 'LGBMClassifier' already exists. Creating a new version of this model...\n",
      "Created version '16' of model 'LGBMClassifier'.\n"
     ]
    },
    {
     "name": "stdout",
     "output_type": "stream",
     "text": [
      "🏃 View run LGBMClassifier_20250405085949 at: http://127.0.0.1:8080/#/experiments/793816252497484758/runs/c4c951f1f8634fd09910244202aa5266\n",
      "🧪 View experiment at: http://127.0.0.1:8080/#/experiments/793816252497484758\n"
     ]
    },
    {
     "name": "stderr",
     "output_type": "stream",
     "text": [
      "/home/lalende/.local/share/pipx/venvs/notebook/lib/python3.12/site-packages/mlflow/types/utils.py:452: UserWarning: Hint: Inferred schema contains integer column(s). Integer columns in Python cannot represent missing values. If your input data contains missing values at inference time, it will be encoded as floats and will cause a schema enforcement error. The best way to avoid this problem is to infer the model schema based on a realistic data sample (training dataset) that includes missing values. Alternatively, you can declare integer columns as doubles (float64) whenever these columns may have missing values. See `Handling Integers With Missing Values <https://www.mlflow.org/docs/latest/models.html#handling-integers-with-missing-values>`_ for more details.\n",
      "  warnings.warn(\n",
      "Registered model 'LGBMClassifier' already exists. Creating a new version of this model...\n",
      "Created version '17' of model 'LGBMClassifier'.\n"
     ]
    },
    {
     "name": "stdout",
     "output_type": "stream",
     "text": [
      "🏃 View run LGBMClassifier_20250405090107 at: http://127.0.0.1:8080/#/experiments/793816252497484758/runs/42286a272a8a42ee83d8f3c3779539e4\n",
      "🧪 View experiment at: http://127.0.0.1:8080/#/experiments/793816252497484758\n"
     ]
    },
    {
     "name": "stderr",
     "output_type": "stream",
     "text": [
      "/home/lalende/.local/share/pipx/venvs/notebook/lib/python3.12/site-packages/mlflow/types/utils.py:452: UserWarning: Hint: Inferred schema contains integer column(s). Integer columns in Python cannot represent missing values. If your input data contains missing values at inference time, it will be encoded as floats and will cause a schema enforcement error. The best way to avoid this problem is to infer the model schema based on a realistic data sample (training dataset) that includes missing values. Alternatively, you can declare integer columns as doubles (float64) whenever these columns may have missing values. See `Handling Integers With Missing Values <https://www.mlflow.org/docs/latest/models.html#handling-integers-with-missing-values>`_ for more details.\n",
      "  warnings.warn(\n",
      "Registered model 'LGBMClassifier' already exists. Creating a new version of this model...\n",
      "Created version '18' of model 'LGBMClassifier'.\n"
     ]
    },
    {
     "name": "stdout",
     "output_type": "stream",
     "text": [
      "🏃 View run LGBMClassifier_20250405090228 at: http://127.0.0.1:8080/#/experiments/793816252497484758/runs/7e52a8a098134e9d99df3431126bdf93\n",
      "🧪 View experiment at: http://127.0.0.1:8080/#/experiments/793816252497484758\n"
     ]
    },
    {
     "name": "stderr",
     "output_type": "stream",
     "text": [
      "/home/lalende/.local/share/pipx/venvs/notebook/lib/python3.12/site-packages/mlflow/types/utils.py:452: UserWarning: Hint: Inferred schema contains integer column(s). Integer columns in Python cannot represent missing values. If your input data contains missing values at inference time, it will be encoded as floats and will cause a schema enforcement error. The best way to avoid this problem is to infer the model schema based on a realistic data sample (training dataset) that includes missing values. Alternatively, you can declare integer columns as doubles (float64) whenever these columns may have missing values. See `Handling Integers With Missing Values <https://www.mlflow.org/docs/latest/models.html#handling-integers-with-missing-values>`_ for more details.\n",
      "  warnings.warn(\n",
      "Registered model 'LGBMClassifier' already exists. Creating a new version of this model...\n",
      "Created version '19' of model 'LGBMClassifier'.\n"
     ]
    },
    {
     "name": "stdout",
     "output_type": "stream",
     "text": [
      "🏃 View run LGBMClassifier_20250405090351 at: http://127.0.0.1:8080/#/experiments/793816252497484758/runs/ae1ecbd229744044b652f526f8648baf\n",
      "🧪 View experiment at: http://127.0.0.1:8080/#/experiments/793816252497484758\n",
      "Trial 18 achieved value: -3472.6 with -6.1453% improvement\n"
     ]
    },
    {
     "name": "stderr",
     "output_type": "stream",
     "text": [
      "/home/lalende/.local/share/pipx/venvs/notebook/lib/python3.12/site-packages/mlflow/types/utils.py:452: UserWarning: Hint: Inferred schema contains integer column(s). Integer columns in Python cannot represent missing values. If your input data contains missing values at inference time, it will be encoded as floats and will cause a schema enforcement error. The best way to avoid this problem is to infer the model schema based on a realistic data sample (training dataset) that includes missing values. Alternatively, you can declare integer columns as doubles (float64) whenever these columns may have missing values. See `Handling Integers With Missing Values <https://www.mlflow.org/docs/latest/models.html#handling-integers-with-missing-values>`_ for more details.\n",
      "  warnings.warn(\n",
      "Registered model 'LGBMClassifier' already exists. Creating a new version of this model...\n",
      "Created version '20' of model 'LGBMClassifier'.\n"
     ]
    },
    {
     "name": "stdout",
     "output_type": "stream",
     "text": [
      "🏃 View run LGBMClassifier_20250405090522 at: http://127.0.0.1:8080/#/experiments/793816252497484758/runs/2edf9e15f1544722a9d274795c68ccbf\n",
      "🧪 View experiment at: http://127.0.0.1:8080/#/experiments/793816252497484758\n"
     ]
    },
    {
     "name": "stderr",
     "output_type": "stream",
     "text": [
      "/home/lalende/.local/share/pipx/venvs/notebook/lib/python3.12/site-packages/mlflow/types/utils.py:452: UserWarning: Hint: Inferred schema contains integer column(s). Integer columns in Python cannot represent missing values. If your input data contains missing values at inference time, it will be encoded as floats and will cause a schema enforcement error. The best way to avoid this problem is to infer the model schema based on a realistic data sample (training dataset) that includes missing values. Alternatively, you can declare integer columns as doubles (float64) whenever these columns may have missing values. See `Handling Integers With Missing Values <https://www.mlflow.org/docs/latest/models.html#handling-integers-with-missing-values>`_ for more details.\n",
      "  warnings.warn(\n",
      "Registered model 'LGBMClassifier' already exists. Creating a new version of this model...\n",
      "Created version '21' of model 'LGBMClassifier'.\n"
     ]
    },
    {
     "name": "stdout",
     "output_type": "stream",
     "text": [
      "🏃 View run LGBMClassifier_20250405090638 at: http://127.0.0.1:8080/#/experiments/793816252497484758/runs/d324a77d38d6495bae09766cf861e5f0\n",
      "🧪 View experiment at: http://127.0.0.1:8080/#/experiments/793816252497484758\n"
     ]
    },
    {
     "name": "stderr",
     "output_type": "stream",
     "text": [
      "/home/lalende/.local/share/pipx/venvs/notebook/lib/python3.12/site-packages/mlflow/types/utils.py:452: UserWarning: Hint: Inferred schema contains integer column(s). Integer columns in Python cannot represent missing values. If your input data contains missing values at inference time, it will be encoded as floats and will cause a schema enforcement error. The best way to avoid this problem is to infer the model schema based on a realistic data sample (training dataset) that includes missing values. Alternatively, you can declare integer columns as doubles (float64) whenever these columns may have missing values. See `Handling Integers With Missing Values <https://www.mlflow.org/docs/latest/models.html#handling-integers-with-missing-values>`_ for more details.\n",
      "  warnings.warn(\n",
      "Registered model 'LGBMClassifier' already exists. Creating a new version of this model...\n",
      "Created version '22' of model 'LGBMClassifier'.\n"
     ]
    },
    {
     "name": "stdout",
     "output_type": "stream",
     "text": [
      "🏃 View run LGBMClassifier_20250405090813 at: http://127.0.0.1:8080/#/experiments/793816252497484758/runs/72a3efb6bf7e4a29b79b979ba828a1c8\n",
      "🧪 View experiment at: http://127.0.0.1:8080/#/experiments/793816252497484758\n"
     ]
    },
    {
     "name": "stderr",
     "output_type": "stream",
     "text": [
      "/home/lalende/.local/share/pipx/venvs/notebook/lib/python3.12/site-packages/mlflow/types/utils.py:452: UserWarning: Hint: Inferred schema contains integer column(s). Integer columns in Python cannot represent missing values. If your input data contains missing values at inference time, it will be encoded as floats and will cause a schema enforcement error. The best way to avoid this problem is to infer the model schema based on a realistic data sample (training dataset) that includes missing values. Alternatively, you can declare integer columns as doubles (float64) whenever these columns may have missing values. See `Handling Integers With Missing Values <https://www.mlflow.org/docs/latest/models.html#handling-integers-with-missing-values>`_ for more details.\n",
      "  warnings.warn(\n",
      "Registered model 'LGBMClassifier' already exists. Creating a new version of this model...\n",
      "Created version '23' of model 'LGBMClassifier'.\n"
     ]
    },
    {
     "name": "stdout",
     "output_type": "stream",
     "text": [
      "🏃 View run LGBMClassifier_20250405090944 at: http://127.0.0.1:8080/#/experiments/793816252497484758/runs/4e77e3cd7c61460fb32caf219fcfabda\n",
      "🧪 View experiment at: http://127.0.0.1:8080/#/experiments/793816252497484758\n"
     ]
    },
    {
     "name": "stderr",
     "output_type": "stream",
     "text": [
      "/home/lalende/.local/share/pipx/venvs/notebook/lib/python3.12/site-packages/mlflow/types/utils.py:452: UserWarning: Hint: Inferred schema contains integer column(s). Integer columns in Python cannot represent missing values. If your input data contains missing values at inference time, it will be encoded as floats and will cause a schema enforcement error. The best way to avoid this problem is to infer the model schema based on a realistic data sample (training dataset) that includes missing values. Alternatively, you can declare integer columns as doubles (float64) whenever these columns may have missing values. See `Handling Integers With Missing Values <https://www.mlflow.org/docs/latest/models.html#handling-integers-with-missing-values>`_ for more details.\n",
      "  warnings.warn(\n",
      "Registered model 'LGBMClassifier' already exists. Creating a new version of this model...\n",
      "Created version '24' of model 'LGBMClassifier'.\n"
     ]
    },
    {
     "name": "stdout",
     "output_type": "stream",
     "text": [
      "🏃 View run LGBMClassifier_20250405091111 at: http://127.0.0.1:8080/#/experiments/793816252497484758/runs/c344342d5d464a98ad7d1d9cf50653f1\n",
      "🧪 View experiment at: http://127.0.0.1:8080/#/experiments/793816252497484758\n"
     ]
    },
    {
     "name": "stderr",
     "output_type": "stream",
     "text": [
      "/home/lalende/.local/share/pipx/venvs/notebook/lib/python3.12/site-packages/mlflow/types/utils.py:452: UserWarning: Hint: Inferred schema contains integer column(s). Integer columns in Python cannot represent missing values. If your input data contains missing values at inference time, it will be encoded as floats and will cause a schema enforcement error. The best way to avoid this problem is to infer the model schema based on a realistic data sample (training dataset) that includes missing values. Alternatively, you can declare integer columns as doubles (float64) whenever these columns may have missing values. See `Handling Integers With Missing Values <https://www.mlflow.org/docs/latest/models.html#handling-integers-with-missing-values>`_ for more details.\n",
      "  warnings.warn(\n",
      "Registered model 'LGBMClassifier' already exists. Creating a new version of this model...\n",
      "Created version '25' of model 'LGBMClassifier'.\n"
     ]
    },
    {
     "name": "stdout",
     "output_type": "stream",
     "text": [
      "🏃 View run LGBMClassifier_20250405091218 at: http://127.0.0.1:8080/#/experiments/793816252497484758/runs/8dd8537c89174fe39d73713bbe1a236e\n",
      "🧪 View experiment at: http://127.0.0.1:8080/#/experiments/793816252497484758\n"
     ]
    },
    {
     "name": "stderr",
     "output_type": "stream",
     "text": [
      "/home/lalende/.local/share/pipx/venvs/notebook/lib/python3.12/site-packages/mlflow/types/utils.py:452: UserWarning: Hint: Inferred schema contains integer column(s). Integer columns in Python cannot represent missing values. If your input data contains missing values at inference time, it will be encoded as floats and will cause a schema enforcement error. The best way to avoid this problem is to infer the model schema based on a realistic data sample (training dataset) that includes missing values. Alternatively, you can declare integer columns as doubles (float64) whenever these columns may have missing values. See `Handling Integers With Missing Values <https://www.mlflow.org/docs/latest/models.html#handling-integers-with-missing-values>`_ for more details.\n",
      "  warnings.warn(\n",
      "Registered model 'LGBMClassifier' already exists. Creating a new version of this model...\n",
      "Created version '26' of model 'LGBMClassifier'.\n"
     ]
    },
    {
     "name": "stdout",
     "output_type": "stream",
     "text": [
      "🏃 View run LGBMClassifier_20250405091338 at: http://127.0.0.1:8080/#/experiments/793816252497484758/runs/eadca882a86e463f9c74874b6f77b3fe\n",
      "🧪 View experiment at: http://127.0.0.1:8080/#/experiments/793816252497484758\n"
     ]
    },
    {
     "name": "stderr",
     "output_type": "stream",
     "text": [
      "/home/lalende/.local/share/pipx/venvs/notebook/lib/python3.12/site-packages/mlflow/types/utils.py:452: UserWarning: Hint: Inferred schema contains integer column(s). Integer columns in Python cannot represent missing values. If your input data contains missing values at inference time, it will be encoded as floats and will cause a schema enforcement error. The best way to avoid this problem is to infer the model schema based on a realistic data sample (training dataset) that includes missing values. Alternatively, you can declare integer columns as doubles (float64) whenever these columns may have missing values. See `Handling Integers With Missing Values <https://www.mlflow.org/docs/latest/models.html#handling-integers-with-missing-values>`_ for more details.\n",
      "  warnings.warn(\n",
      "Registered model 'LGBMClassifier' already exists. Creating a new version of this model...\n",
      "Created version '27' of model 'LGBMClassifier'.\n"
     ]
    },
    {
     "name": "stdout",
     "output_type": "stream",
     "text": [
      "🏃 View run LGBMClassifier_20250405091512 at: http://127.0.0.1:8080/#/experiments/793816252497484758/runs/6cd17969705c4500a64d20b4612004ba\n",
      "🧪 View experiment at: http://127.0.0.1:8080/#/experiments/793816252497484758\n"
     ]
    },
    {
     "name": "stderr",
     "output_type": "stream",
     "text": [
      "/home/lalende/.local/share/pipx/venvs/notebook/lib/python3.12/site-packages/mlflow/types/utils.py:452: UserWarning: Hint: Inferred schema contains integer column(s). Integer columns in Python cannot represent missing values. If your input data contains missing values at inference time, it will be encoded as floats and will cause a schema enforcement error. The best way to avoid this problem is to infer the model schema based on a realistic data sample (training dataset) that includes missing values. Alternatively, you can declare integer columns as doubles (float64) whenever these columns may have missing values. See `Handling Integers With Missing Values <https://www.mlflow.org/docs/latest/models.html#handling-integers-with-missing-values>`_ for more details.\n",
      "  warnings.warn(\n",
      "Registered model 'LGBMClassifier' already exists. Creating a new version of this model...\n",
      "Created version '28' of model 'LGBMClassifier'.\n"
     ]
    },
    {
     "name": "stdout",
     "output_type": "stream",
     "text": [
      "🏃 View run LGBMClassifier_20250405091645 at: http://127.0.0.1:8080/#/experiments/793816252497484758/runs/4bfcd0a31e584061a814c3382e59f7cd\n",
      "🧪 View experiment at: http://127.0.0.1:8080/#/experiments/793816252497484758\n"
     ]
    },
    {
     "name": "stderr",
     "output_type": "stream",
     "text": [
      "/home/lalende/.local/share/pipx/venvs/notebook/lib/python3.12/site-packages/mlflow/types/utils.py:452: UserWarning: Hint: Inferred schema contains integer column(s). Integer columns in Python cannot represent missing values. If your input data contains missing values at inference time, it will be encoded as floats and will cause a schema enforcement error. The best way to avoid this problem is to infer the model schema based on a realistic data sample (training dataset) that includes missing values. Alternatively, you can declare integer columns as doubles (float64) whenever these columns may have missing values. See `Handling Integers With Missing Values <https://www.mlflow.org/docs/latest/models.html#handling-integers-with-missing-values>`_ for more details.\n",
      "  warnings.warn(\n",
      "Registered model 'LGBMClassifier' already exists. Creating a new version of this model...\n",
      "Created version '29' of model 'LGBMClassifier'.\n"
     ]
    },
    {
     "name": "stdout",
     "output_type": "stream",
     "text": [
      "🏃 View run LGBMClassifier_20250405091812 at: http://127.0.0.1:8080/#/experiments/793816252497484758/runs/b4177c53977e4f47952af298e362ecfc\n",
      "🧪 View experiment at: http://127.0.0.1:8080/#/experiments/793816252497484758\n"
     ]
    },
    {
     "name": "stderr",
     "output_type": "stream",
     "text": [
      "/home/lalende/.local/share/pipx/venvs/notebook/lib/python3.12/site-packages/mlflow/types/utils.py:452: UserWarning: Hint: Inferred schema contains integer column(s). Integer columns in Python cannot represent missing values. If your input data contains missing values at inference time, it will be encoded as floats and will cause a schema enforcement error. The best way to avoid this problem is to infer the model schema based on a realistic data sample (training dataset) that includes missing values. Alternatively, you can declare integer columns as doubles (float64) whenever these columns may have missing values. See `Handling Integers With Missing Values <https://www.mlflow.org/docs/latest/models.html#handling-integers-with-missing-values>`_ for more details.\n",
      "  warnings.warn(\n",
      "Registered model 'LGBMClassifier' already exists. Creating a new version of this model...\n",
      "Created version '30' of model 'LGBMClassifier'.\n"
     ]
    },
    {
     "name": "stdout",
     "output_type": "stream",
     "text": [
      "🏃 View run LGBMClassifier_20250405091929 at: http://127.0.0.1:8080/#/experiments/793816252497484758/runs/b5d3d25e78d14b189bdd32e8e3746eaa\n",
      "🧪 View experiment at: http://127.0.0.1:8080/#/experiments/793816252497484758\n"
     ]
    },
    {
     "name": "stderr",
     "output_type": "stream",
     "text": [
      "/home/lalende/.local/share/pipx/venvs/notebook/lib/python3.12/site-packages/mlflow/types/utils.py:452: UserWarning: Hint: Inferred schema contains integer column(s). Integer columns in Python cannot represent missing values. If your input data contains missing values at inference time, it will be encoded as floats and will cause a schema enforcement error. The best way to avoid this problem is to infer the model schema based on a realistic data sample (training dataset) that includes missing values. Alternatively, you can declare integer columns as doubles (float64) whenever these columns may have missing values. See `Handling Integers With Missing Values <https://www.mlflow.org/docs/latest/models.html#handling-integers-with-missing-values>`_ for more details.\n",
      "  warnings.warn(\n",
      "Registered model 'LGBMClassifier' already exists. Creating a new version of this model...\n",
      "Created version '31' of model 'LGBMClassifier'.\n"
     ]
    },
    {
     "name": "stdout",
     "output_type": "stream",
     "text": [
      "🏃 View run LGBMClassifier_20250405092100 at: http://127.0.0.1:8080/#/experiments/793816252497484758/runs/8524626b5267462c9ab4c4c3878b89c6\n",
      "🧪 View experiment at: http://127.0.0.1:8080/#/experiments/793816252497484758\n"
     ]
    },
    {
     "name": "stderr",
     "output_type": "stream",
     "text": [
      "/home/lalende/.local/share/pipx/venvs/notebook/lib/python3.12/site-packages/mlflow/types/utils.py:452: UserWarning: Hint: Inferred schema contains integer column(s). Integer columns in Python cannot represent missing values. If your input data contains missing values at inference time, it will be encoded as floats and will cause a schema enforcement error. The best way to avoid this problem is to infer the model schema based on a realistic data sample (training dataset) that includes missing values. Alternatively, you can declare integer columns as doubles (float64) whenever these columns may have missing values. See `Handling Integers With Missing Values <https://www.mlflow.org/docs/latest/models.html#handling-integers-with-missing-values>`_ for more details.\n",
      "  warnings.warn(\n",
      "Registered model 'LGBMClassifier' already exists. Creating a new version of this model...\n",
      "Created version '32' of model 'LGBMClassifier'.\n"
     ]
    },
    {
     "name": "stdout",
     "output_type": "stream",
     "text": [
      "🏃 View run LGBMClassifier_20250405092230 at: http://127.0.0.1:8080/#/experiments/793816252497484758/runs/d8397bde9c374b679eab51ca93293813\n",
      "🧪 View experiment at: http://127.0.0.1:8080/#/experiments/793816252497484758\n"
     ]
    },
    {
     "name": "stderr",
     "output_type": "stream",
     "text": [
      "/home/lalende/.local/share/pipx/venvs/notebook/lib/python3.12/site-packages/mlflow/types/utils.py:452: UserWarning: Hint: Inferred schema contains integer column(s). Integer columns in Python cannot represent missing values. If your input data contains missing values at inference time, it will be encoded as floats and will cause a schema enforcement error. The best way to avoid this problem is to infer the model schema based on a realistic data sample (training dataset) that includes missing values. Alternatively, you can declare integer columns as doubles (float64) whenever these columns may have missing values. See `Handling Integers With Missing Values <https://www.mlflow.org/docs/latest/models.html#handling-integers-with-missing-values>`_ for more details.\n",
      "  warnings.warn(\n",
      "Registered model 'LGBMClassifier' already exists. Creating a new version of this model...\n",
      "Created version '33' of model 'LGBMClassifier'.\n"
     ]
    },
    {
     "name": "stdout",
     "output_type": "stream",
     "text": [
      "🏃 View run LGBMClassifier_20250405092406 at: http://127.0.0.1:8080/#/experiments/793816252497484758/runs/656d42795cd54580ba23d703fa6de185\n",
      "🧪 View experiment at: http://127.0.0.1:8080/#/experiments/793816252497484758\n"
     ]
    },
    {
     "name": "stderr",
     "output_type": "stream",
     "text": [
      "/home/lalende/.local/share/pipx/venvs/notebook/lib/python3.12/site-packages/mlflow/types/utils.py:452: UserWarning: Hint: Inferred schema contains integer column(s). Integer columns in Python cannot represent missing values. If your input data contains missing values at inference time, it will be encoded as floats and will cause a schema enforcement error. The best way to avoid this problem is to infer the model schema based on a realistic data sample (training dataset) that includes missing values. Alternatively, you can declare integer columns as doubles (float64) whenever these columns may have missing values. See `Handling Integers With Missing Values <https://www.mlflow.org/docs/latest/models.html#handling-integers-with-missing-values>`_ for more details.\n",
      "  warnings.warn(\n",
      "Registered model 'LGBMClassifier' already exists. Creating a new version of this model...\n",
      "Created version '34' of model 'LGBMClassifier'.\n"
     ]
    },
    {
     "name": "stdout",
     "output_type": "stream",
     "text": [
      "🏃 View run LGBMClassifier_20250405092553 at: http://127.0.0.1:8080/#/experiments/793816252497484758/runs/7360cf2e15e54cc09fb913b70882a962\n",
      "🧪 View experiment at: http://127.0.0.1:8080/#/experiments/793816252497484758\n"
     ]
    },
    {
     "name": "stderr",
     "output_type": "stream",
     "text": [
      "/home/lalende/.local/share/pipx/venvs/notebook/lib/python3.12/site-packages/mlflow/types/utils.py:452: UserWarning: Hint: Inferred schema contains integer column(s). Integer columns in Python cannot represent missing values. If your input data contains missing values at inference time, it will be encoded as floats and will cause a schema enforcement error. The best way to avoid this problem is to infer the model schema based on a realistic data sample (training dataset) that includes missing values. Alternatively, you can declare integer columns as doubles (float64) whenever these columns may have missing values. See `Handling Integers With Missing Values <https://www.mlflow.org/docs/latest/models.html#handling-integers-with-missing-values>`_ for more details.\n",
      "  warnings.warn(\n",
      "Registered model 'LGBMClassifier' already exists. Creating a new version of this model...\n",
      "Created version '35' of model 'LGBMClassifier'.\n"
     ]
    },
    {
     "name": "stdout",
     "output_type": "stream",
     "text": [
      "🏃 View run LGBMClassifier_20250405092729 at: http://127.0.0.1:8080/#/experiments/793816252497484758/runs/761d4b77e3224103b705c622dd4bd9bf\n",
      "🧪 View experiment at: http://127.0.0.1:8080/#/experiments/793816252497484758\n"
     ]
    },
    {
     "name": "stderr",
     "output_type": "stream",
     "text": [
      "/home/lalende/.local/share/pipx/venvs/notebook/lib/python3.12/site-packages/mlflow/types/utils.py:452: UserWarning: Hint: Inferred schema contains integer column(s). Integer columns in Python cannot represent missing values. If your input data contains missing values at inference time, it will be encoded as floats and will cause a schema enforcement error. The best way to avoid this problem is to infer the model schema based on a realistic data sample (training dataset) that includes missing values. Alternatively, you can declare integer columns as doubles (float64) whenever these columns may have missing values. See `Handling Integers With Missing Values <https://www.mlflow.org/docs/latest/models.html#handling-integers-with-missing-values>`_ for more details.\n",
      "  warnings.warn(\n",
      "Registered model 'LGBMClassifier' already exists. Creating a new version of this model...\n",
      "Created version '36' of model 'LGBMClassifier'.\n"
     ]
    },
    {
     "name": "stdout",
     "output_type": "stream",
     "text": [
      "🏃 View run LGBMClassifier_20250405092911 at: http://127.0.0.1:8080/#/experiments/793816252497484758/runs/c754a64c66034552b1ef4e4935622d6e\n",
      "🧪 View experiment at: http://127.0.0.1:8080/#/experiments/793816252497484758\n"
     ]
    },
    {
     "name": "stderr",
     "output_type": "stream",
     "text": [
      "/home/lalende/.local/share/pipx/venvs/notebook/lib/python3.12/site-packages/mlflow/types/utils.py:452: UserWarning: Hint: Inferred schema contains integer column(s). Integer columns in Python cannot represent missing values. If your input data contains missing values at inference time, it will be encoded as floats and will cause a schema enforcement error. The best way to avoid this problem is to infer the model schema based on a realistic data sample (training dataset) that includes missing values. Alternatively, you can declare integer columns as doubles (float64) whenever these columns may have missing values. See `Handling Integers With Missing Values <https://www.mlflow.org/docs/latest/models.html#handling-integers-with-missing-values>`_ for more details.\n",
      "  warnings.warn(\n",
      "Registered model 'LGBMClassifier' already exists. Creating a new version of this model...\n",
      "Created version '37' of model 'LGBMClassifier'.\n"
     ]
    },
    {
     "name": "stdout",
     "output_type": "stream",
     "text": [
      "🏃 View run LGBMClassifier_20250405093021 at: http://127.0.0.1:8080/#/experiments/793816252497484758/runs/ec0baf05121243b7ac37886768e16b9f\n",
      "🧪 View experiment at: http://127.0.0.1:8080/#/experiments/793816252497484758\n"
     ]
    },
    {
     "name": "stderr",
     "output_type": "stream",
     "text": [
      "/home/lalende/.local/share/pipx/venvs/notebook/lib/python3.12/site-packages/mlflow/types/utils.py:452: UserWarning: Hint: Inferred schema contains integer column(s). Integer columns in Python cannot represent missing values. If your input data contains missing values at inference time, it will be encoded as floats and will cause a schema enforcement error. The best way to avoid this problem is to infer the model schema based on a realistic data sample (training dataset) that includes missing values. Alternatively, you can declare integer columns as doubles (float64) whenever these columns may have missing values. See `Handling Integers With Missing Values <https://www.mlflow.org/docs/latest/models.html#handling-integers-with-missing-values>`_ for more details.\n",
      "  warnings.warn(\n",
      "Registered model 'LGBMClassifier' already exists. Creating a new version of this model...\n",
      "Created version '38' of model 'LGBMClassifier'.\n"
     ]
    },
    {
     "name": "stdout",
     "output_type": "stream",
     "text": [
      "🏃 View run LGBMClassifier_20250405093204 at: http://127.0.0.1:8080/#/experiments/793816252497484758/runs/365927bb73c64941b7d1becf48934e58\n",
      "🧪 View experiment at: http://127.0.0.1:8080/#/experiments/793816252497484758\n"
     ]
    },
    {
     "name": "stderr",
     "output_type": "stream",
     "text": [
      "/home/lalende/.local/share/pipx/venvs/notebook/lib/python3.12/site-packages/mlflow/types/utils.py:452: UserWarning: Hint: Inferred schema contains integer column(s). Integer columns in Python cannot represent missing values. If your input data contains missing values at inference time, it will be encoded as floats and will cause a schema enforcement error. The best way to avoid this problem is to infer the model schema based on a realistic data sample (training dataset) that includes missing values. Alternatively, you can declare integer columns as doubles (float64) whenever these columns may have missing values. See `Handling Integers With Missing Values <https://www.mlflow.org/docs/latest/models.html#handling-integers-with-missing-values>`_ for more details.\n",
      "  warnings.warn(\n",
      "Registered model 'LGBMClassifier' already exists. Creating a new version of this model...\n",
      "Created version '39' of model 'LGBMClassifier'.\n"
     ]
    },
    {
     "name": "stdout",
     "output_type": "stream",
     "text": [
      "🏃 View run LGBMClassifier_20250405093305 at: http://127.0.0.1:8080/#/experiments/793816252497484758/runs/829870eea00c45658989cc32852a5ed8\n",
      "🧪 View experiment at: http://127.0.0.1:8080/#/experiments/793816252497484758\n"
     ]
    },
    {
     "name": "stderr",
     "output_type": "stream",
     "text": [
      "/home/lalende/.local/share/pipx/venvs/notebook/lib/python3.12/site-packages/mlflow/types/utils.py:452: UserWarning: Hint: Inferred schema contains integer column(s). Integer columns in Python cannot represent missing values. If your input data contains missing values at inference time, it will be encoded as floats and will cause a schema enforcement error. The best way to avoid this problem is to infer the model schema based on a realistic data sample (training dataset) that includes missing values. Alternatively, you can declare integer columns as doubles (float64) whenever these columns may have missing values. See `Handling Integers With Missing Values <https://www.mlflow.org/docs/latest/models.html#handling-integers-with-missing-values>`_ for more details.\n",
      "  warnings.warn(\n",
      "Registered model 'LGBMClassifier' already exists. Creating a new version of this model...\n",
      "Created version '40' of model 'LGBMClassifier'.\n"
     ]
    },
    {
     "name": "stdout",
     "output_type": "stream",
     "text": [
      "🏃 View run LGBMClassifier_20250405093430 at: http://127.0.0.1:8080/#/experiments/793816252497484758/runs/3def6c78670045809cc8c39c6e128059\n",
      "🧪 View experiment at: http://127.0.0.1:8080/#/experiments/793816252497484758\n"
     ]
    }
   ],
   "source": [
    "for name, infos in models_dict.items():\n",
    "    with mlflow.start_run(run_name=name, nested=True):\n",
    "        objective = compute_model_scores(infos[\"model\"], infos[\"params\"], name, X, y, scoring)\n",
    "        study = optuna.create_study(direction=\"maximize\")\n",
    "        if name == \"DummyClassifier\":\n",
    "            n_trials=1\n",
    "        else: n_trials=50\n",
    "        study.optimize(objective, n_trials=n_trials, callbacks=[champion_callback])\n",
    "\n",
    "        mlflow.log_params(study.best_params)\n",
    "        mlflow.log_metric(\"best_business\", study.best_value)"
   ]
  },
  {
   "cell_type": "markdown",
   "id": "cfdd5c5a-46c8-4274-a1a7-254091ed4dd2",
   "metadata": {},
   "source": [
    "# Feature importance"
   ]
  },
  {
   "cell_type": "code",
   "execution_count": null,
   "id": "dfe18a51-ac68-45a2-8cb8-1879ddd18f49",
   "metadata": {},
   "outputs": [],
   "source": []
  }
 ],
 "metadata": {
  "kernelspec": {
   "display_name": "Python 3 (ipykernel)",
   "language": "python",
   "name": "python3"
  },
  "language_info": {
   "codemirror_mode": {
    "name": "ipython",
    "version": 3
   },
   "file_extension": ".py",
   "mimetype": "text/x-python",
   "name": "python",
   "nbconvert_exporter": "python",
   "pygments_lexer": "ipython3",
   "version": "3.12.3"
  }
 },
 "nbformat": 4,
 "nbformat_minor": 5
}
